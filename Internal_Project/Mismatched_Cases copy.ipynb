{
 "cells": [
  {
   "cell_type": "code",
   "execution_count": 33,
   "metadata": {},
   "outputs": [],
   "source": [
    "import pandas as pd\n",
    "import numpy as np\n",
    "import matplotlib.pyplot as plt\n",
    "import seaborn as sns"
   ]
  },
  {
   "cell_type": "code",
   "execution_count": 34,
   "metadata": {},
   "outputs": [],
   "source": [
    "df = pd.read_csv('/Users/celestinesheum/Desktop/MY-DAC-Curriculum/Internal_Project/datasets/Heart_cleaned.csv')"
   ]
  },
  {
   "cell_type": "code",
   "execution_count": 35,
   "metadata": {},
   "outputs": [
    {
     "name": "stdout",
     "output_type": "stream",
     "text": [
      "States: ['alabama' 'alaska' 'arizona' 'arkansas' 'california' 'colorado'\n",
      " 'connecticut' 'delaware' 'district of columbia' 'florida' 'georgia'\n",
      " 'hawaii' 'idaho' 'illinois' 'indiana' 'iowa' 'kansas' 'kentucky'\n",
      " 'louisiana' 'maine' 'maryland' 'massachusetts' 'michigan' 'minnesota'\n",
      " 'mississippi' 'missouri' 'montana' 'nebraska' 'nevada' 'new hampshire'\n",
      " 'new jersey' 'new mexico' 'new york' 'north carolina' 'north dakota'\n",
      " 'ohio' 'oklahoma' 'oregon' 'pennsylvania' 'rhode island' 'south carolina'\n",
      " 'south dakota' 'tennessee' 'texas' 'utah' 'vermont' 'virginia'\n",
      " 'washington' 'west virginia' 'wisconsin' 'wyoming' 'guam' 'puerto rico'\n",
      " 'virgin islands']\n"
     ]
    }
   ],
   "source": [
    "state = df['State'].unique()\n",
    "\n",
    "print(\"States:\", state)"
   ]
  },
  {
   "cell_type": "code",
   "execution_count": 36,
   "metadata": {},
   "outputs": [],
   "source": [
    "# Columns categorization\n",
    "illness_columns = [\n",
    "    \"HadHeartAttack\", \"HadAngina\", \"HadStroke\", \"HadAsthma\", \n",
    "    \"HadSkinCancer\", \"HadCOPD\", \"HadDepressiveDisorder\",\n",
    "    \"HadKidneyDisease\", \"HadArthritis\", \"HadDiabetes\"\n",
    "]\n",
    "\n",
    "non_life_threatening_columns = [\n",
    "    \"DeafOrHardOfHearing\", \"BlindOrVisionDifficulty\",\n",
    "    \"DifficultyConcentrating\", \"DifficultyWalking\",\n",
    "    \"DifficultyDressingBathing\", \"DifficultyErrands\"\n",
    "]"
   ]
  },
  {
   "cell_type": "code",
   "execution_count": 44,
   "metadata": {},
   "outputs": [],
   "source": [
    "# Function to check for inconsistencies\n",
    "def find_inconsistencies(data, columns, category):\n",
    "    inconsistencies = []\n",
    "    for col in columns:\n",
    "        mismatch = data.groupby(col)[\"GeneralHealth\"].nunique()\n",
    "        mismatched_cases = mismatch[mismatch > 1]\n",
    "        if not mismatched_cases.empty:\n",
    "            inconsistencies.append((col, mismatched_cases.index.tolist()))\n",
    "    print(f\"Inconsistencies for {category}:\")\n",
    "    if inconsistencies:\n",
    "        for condition, statuses in inconsistencies:\n",
    "            print(f\" - '{condition}' has different GeneralHealth statuses: {statuses}\")\n",
    "    else:\n",
    "        print(\" - No inconsistencies found.\")\n",
    "    print()"
   ]
  },
  {
   "cell_type": "code",
   "execution_count": 45,
   "metadata": {},
   "outputs": [
    {
     "name": "stdout",
     "output_type": "stream",
     "text": [
      "Checking for inconsistencies in illness columns:\n",
      "Inconsistencies for Illness Columns:\n",
      " - 'HadHeartAttack' has different GeneralHealth statuses: ['no', 'yes']\n",
      " - 'HadAngina' has different GeneralHealth statuses: ['no', 'yes']\n",
      " - 'HadStroke' has different GeneralHealth statuses: ['no', 'yes']\n",
      " - 'HadAsthma' has different GeneralHealth statuses: ['no', 'yes']\n",
      " - 'HadSkinCancer' has different GeneralHealth statuses: ['no', 'yes']\n",
      " - 'HadCOPD' has different GeneralHealth statuses: ['no', 'yes']\n",
      " - 'HadDepressiveDisorder' has different GeneralHealth statuses: ['no', 'yes']\n",
      " - 'HadKidneyDisease' has different GeneralHealth statuses: ['no', 'yes']\n",
      " - 'HadArthritis' has different GeneralHealth statuses: ['no', 'yes']\n",
      " - 'HadDiabetes' has different GeneralHealth statuses: ['no', 'no, pre-diabetes or borderline diabetes', 'yes', 'yes, but only during pregnancy (female)']\n",
      " - 'DeafOrHardOfHearing' has different GeneralHealth statuses: ['no', 'yes']\n",
      " - 'BlindOrVisionDifficulty' has different GeneralHealth statuses: ['no', 'yes']\n",
      " - 'DifficultyConcentrating' has different GeneralHealth statuses: ['no', 'yes']\n",
      " - 'DifficultyWalking' has different GeneralHealth statuses: ['no', 'yes']\n",
      " - 'DifficultyDressingBathing' has different GeneralHealth statuses: ['no', 'yes']\n",
      " - 'DifficultyErrands' has different GeneralHealth statuses: ['no', 'yes']\n",
      "\n"
     ]
    }
   ],
   "source": [
    "# Check inconsistencies for both categories\n",
    "print(\"Checking for inconsistencies in illness columns:\")\n",
    "find_inconsistencies(df, illness_columns, \"Illness Columns\")"
   ]
  },
  {
   "cell_type": "code",
   "execution_count": 46,
   "metadata": {},
   "outputs": [
    {
     "name": "stdout",
     "output_type": "stream",
     "text": [
      "Checking for inconsistencies in non-life-threatening columns:\n",
      "Inconsistencies for Non-Life-Threatening Columns:\n",
      " - 'DeafOrHardOfHearing' has different GeneralHealth statuses: ['no', 'yes']\n",
      " - 'BlindOrVisionDifficulty' has different GeneralHealth statuses: ['no', 'yes']\n",
      " - 'DifficultyConcentrating' has different GeneralHealth statuses: ['no', 'yes']\n",
      " - 'DifficultyWalking' has different GeneralHealth statuses: ['no', 'yes']\n",
      " - 'DifficultyDressingBathing' has different GeneralHealth statuses: ['no', 'yes']\n",
      " - 'DifficultyErrands' has different GeneralHealth statuses: ['no', 'yes']\n",
      "\n"
     ]
    }
   ],
   "source": [
    "print(\"Checking for inconsistencies in non-life-threatening columns:\")\n",
    "find_inconsistencies(df, non_life_threatening_columns, \"Non-Life-Threatening Columns\")"
   ]
  },
  {
   "cell_type": "code",
   "execution_count": 47,
   "metadata": {},
   "outputs": [
    {
     "name": "stderr",
     "output_type": "stream",
     "text": [
      "/var/folders/t2/7w0w0yz54yz7771rglthy8wr0000gn/T/ipykernel_18656/2664021718.py:14: SettingWithCopyWarning: \n",
      "A value is trying to be set on a copy of a slice from a DataFrame.\n",
      "Try using .loc[row_indexer,col_indexer] = value instead\n",
      "\n",
      "See the caveats in the documentation: https://pandas.pydata.org/pandas-docs/stable/user_guide/indexing.html#returning-a-view-versus-a-copy\n",
      "  subset[\"IllnessCombination\"] = subset[illness_columns].apply(lambda x: tuple(x), axis=1)\n"
     ]
    },
    {
     "name": "stdout",
     "output_type": "stream",
     "text": [
      "Mismatched cases:\n",
      "       GeneralHealth HadHeartAttack HadAngina HadStroke HadAsthma  \\\n",
      "0          very good             no        no        no        no   \n",
      "1          excellent             no        no        no        no   \n",
      "2          very good             no        no        no        no   \n",
      "3          excellent             no        no        no       yes   \n",
      "4               fair             no        no        no        no   \n",
      "...              ...            ...       ...       ...       ...   \n",
      "444970          good             no        no        no       yes   \n",
      "444971     excellent             no        no        no        no   \n",
      "444972          poor             no        no        no        no   \n",
      "444973     very good            yes        no        no       yes   \n",
      "444974     very good             no        no        no        no   \n",
      "\n",
      "       HadSkinCancer HadCOPD HadDepressiveDisorder HadKidneyDisease  \\\n",
      "0                 no      no                    no               no   \n",
      "1                yes      no                    no               no   \n",
      "2                yes      no                    no               no   \n",
      "3                 no      no                    no               no   \n",
      "4                 no      no                    no               no   \n",
      "...              ...     ...                   ...              ...   \n",
      "444970            no      no                   yes               no   \n",
      "444971            no      no                    no               no   \n",
      "444972            no      no                    no               no   \n",
      "444973            no      no                    no               no   \n",
      "444974            no      no                    no               no   \n",
      "\n",
      "       HadArthritis HadDiabetes DeafOrHardOfHearing BlindOrVisionDifficulty  \\\n",
      "0                no         yes                  no                      no   \n",
      "1                no          no                  no                      no   \n",
      "2                no          no                  no                      no   \n",
      "3               yes          no                  no                      no   \n",
      "4                no          no                  no                      no   \n",
      "...             ...         ...                 ...                     ...   \n",
      "444970           no          no                  no                      no   \n",
      "444971           no          no                  no                      no   \n",
      "444972           no          no                  no                      no   \n",
      "444973           no          no                  no                      no   \n",
      "444974           no          no                  no                      no   \n",
      "\n",
      "       DifficultyConcentrating DifficultyWalking DifficultyDressingBathing  \\\n",
      "0                           no                no                        no   \n",
      "1                           no                no                        no   \n",
      "2                           no                no                        no   \n",
      "3                           no                no                        no   \n",
      "4                           no                no                        no   \n",
      "...                        ...               ...                       ...   \n",
      "444970                      no                no                        no   \n",
      "444971                      no                no                        no   \n",
      "444972                      no                no                        no   \n",
      "444973                      no                no                        no   \n",
      "444974                     yes               yes                        no   \n",
      "\n",
      "       DifficultyErrands                                 IllnessCombination  \n",
      "0                     no  (no, no, no, no, no, no, no, no, no, yes, no, ...  \n",
      "1                     no  (no, no, no, no, yes, no, no, no, no, no, no, ...  \n",
      "2                     no  (no, no, no, no, yes, no, no, no, no, no, no, ...  \n",
      "3                     no  (no, no, no, yes, no, no, no, no, yes, no, no,...  \n",
      "4                     no  (no, no, no, no, no, no, no, no, no, no, no, n...  \n",
      "...                  ...                                                ...  \n",
      "444970                no  (no, no, no, yes, no, no, yes, no, no, no, no,...  \n",
      "444971                no  (no, no, no, no, no, no, no, no, no, no, no, n...  \n",
      "444972                no  (no, no, no, no, no, no, no, no, no, no, no, n...  \n",
      "444973                no  (yes, no, no, yes, no, no, no, no, no, no, no,...  \n",
      "444974                no  (no, no, no, no, no, no, no, no, no, no, no, n...  \n",
      "\n",
      "[434408 rows x 18 columns]\n"
     ]
    }
   ],
   "source": [
    "# Define the relevant columns\n",
    "illness_columns = [\n",
    "    \"HadHeartAttack\", \"HadAngina\", \"HadStroke\", \"HadAsthma\", \n",
    "    \"HadSkinCancer\", \"HadCOPD\", \"HadDepressiveDisorder\",\n",
    "    \"HadKidneyDisease\", \"HadArthritis\", \"HadDiabetes\",\"DeafOrHardOfHearing\", \"BlindOrVisionDifficulty\",\n",
    "    \"DifficultyConcentrating\", \"DifficultyWalking\",\n",
    "    \"DifficultyDressingBathing\", \"DifficultyErrands\"\n",
    "]\n",
    "\n",
    "# Create a subset with relevant columns\n",
    "subset = df[[\"GeneralHealth\"] + illness_columns]\n",
    "\n",
    "# Group individuals by their illness combinations and check for mismatched GeneralHealth statuses\n",
    "subset[\"IllnessCombination\"] = subset[illness_columns].apply(lambda x: tuple(x), axis=1)\n",
    "\n",
    "# Identify groups with differing GeneralHealth statuses\n",
    "mismatch_groups = subset.groupby(\"IllnessCombination\")[\"GeneralHealth\"].nunique()\n",
    "mismatched_combinations = mismatch_groups[mismatch_groups > 1]\n",
    "\n",
    "# Extract mismatched records\n",
    "if not mismatched_combinations.empty:\n",
    "    mismatched_records = subset[subset[\"IllnessCombination\"].isin(mismatched_combinations.index)]\n",
    "    print(\"Mismatched cases:\")\n",
    "    print(mismatched_records)\n",
    "else:\n",
    "    print(\"No mismatched cases found.\")"
   ]
  },
  {
   "cell_type": "code",
   "execution_count": 48,
   "metadata": {},
   "outputs": [
    {
     "data": {
      "text/plain": [
       "6927"
      ]
     },
     "execution_count": 48,
     "metadata": {},
     "output_type": "execute_result"
    }
   ],
   "source": [
    "num_mismatched_combinations = mismatched_combinations.shape[0]\n",
    "num_mismatched_cases = len(mismatched_records)\n",
    "num_mismatched_combinations"
   ]
  },
  {
   "cell_type": "code",
   "execution_count": 42,
   "metadata": {},
   "outputs": [
    {
     "name": "stdout",
     "output_type": "stream",
     "text": [
      "       GeneralHealth                                 IllnessCombination\n",
      "0          very good  (no, no, no, no, no, no, no, no, no, yes, no, ...\n",
      "1          excellent  (no, no, no, no, yes, no, no, no, no, no, no, ...\n",
      "2          very good  (no, no, no, no, yes, no, no, no, no, no, no, ...\n",
      "3          excellent  (no, no, no, yes, no, no, no, no, yes, no, no,...\n",
      "4               fair  (no, no, no, no, no, no, no, no, no, no, no, n...\n",
      "...              ...                                                ...\n",
      "444970          good  (no, no, no, yes, no, no, yes, no, no, no, no,...\n",
      "444971     excellent  (no, no, no, no, no, no, no, no, no, no, no, n...\n",
      "444972          poor  (no, no, no, no, no, no, no, no, no, no, no, n...\n",
      "444973     very good  (yes, no, no, yes, no, no, no, no, no, no, no,...\n",
      "444974     very good  (no, no, no, no, no, no, no, no, no, no, no, n...\n",
      "\n",
      "[444975 rows x 2 columns]\n"
     ]
    }
   ],
   "source": [
    "selected_columns = subset[['GeneralHealth', 'IllnessCombination']]\n",
    "print(selected_columns)"
   ]
  },
  {
   "cell_type": "code",
   "execution_count": 43,
   "metadata": {},
   "outputs": [
    {
     "name": "stdout",
     "output_type": "stream",
     "text": [
      "Rows matching the specific illness combination:\n",
      "        GeneralHealth HadHeartAttack HadAngina HadStroke HadAsthma  \\\n",
      "66335      very good            yes        no       yes        no   \n",
      "77857           fair            yes        no       yes        no   \n",
      "81357      excellent            yes        no       yes        no   \n",
      "93183           good            yes        no       yes        no   \n",
      "166750     excellent            yes        no       yes        no   \n",
      "193178          good            yes        no       yes        no   \n",
      "196524          poor            yes        no       yes        no   \n",
      "241966          good            yes        no       yes        no   \n",
      "247081     very good            yes        no       yes        no   \n",
      "281258          good            yes        no       yes        no   \n",
      "303469          poor            yes        no       yes        no   \n",
      "316184          fair            yes        no       yes        no   \n",
      "344263          poor            yes        no       yes        no   \n",
      "362575     very good            yes        no       yes        no   \n",
      "379102          good            yes        no       yes        no   \n",
      "381954          fair            yes        no       yes        no   \n",
      "383261          good            yes        no       yes        no   \n",
      "389365          good            yes        no       yes        no   \n",
      "\n",
      "       HadSkinCancer HadCOPD HadDepressiveDisorder HadKidneyDisease  \\\n",
      "66335             no     yes                    no               no   \n",
      "77857             no     yes                    no               no   \n",
      "81357             no     yes                    no               no   \n",
      "93183             no     yes                    no               no   \n",
      "166750            no     yes                    no               no   \n",
      "193178            no     yes                    no               no   \n",
      "196524            no     yes                    no               no   \n",
      "241966            no     yes                    no               no   \n",
      "247081            no     yes                    no               no   \n",
      "281258            no     yes                    no               no   \n",
      "303469            no     yes                    no               no   \n",
      "316184            no     yes                    no               no   \n",
      "344263            no     yes                    no               no   \n",
      "362575            no     yes                    no               no   \n",
      "379102            no     yes                    no               no   \n",
      "381954            no     yes                    no               no   \n",
      "383261            no     yes                    no               no   \n",
      "389365            no     yes                    no               no   \n",
      "\n",
      "       HadArthritis HadDiabetes DeafOrHardOfHearing BlindOrVisionDifficulty  \\\n",
      "66335            no          no                  no                      no   \n",
      "77857            no          no                  no                      no   \n",
      "81357            no          no                  no                      no   \n",
      "93183            no          no                  no                      no   \n",
      "166750           no          no                  no                      no   \n",
      "193178           no          no                  no                      no   \n",
      "196524           no          no                  no                      no   \n",
      "241966           no          no                  no                      no   \n",
      "247081           no          no                  no                      no   \n",
      "281258           no          no                  no                      no   \n",
      "303469           no          no                  no                      no   \n",
      "316184           no          no                  no                      no   \n",
      "344263           no          no                  no                      no   \n",
      "362575           no          no                  no                      no   \n",
      "379102           no          no                  no                      no   \n",
      "381954           no          no                  no                      no   \n",
      "383261           no          no                  no                      no   \n",
      "389365           no          no                  no                      no   \n",
      "\n",
      "       DifficultyConcentrating DifficultyWalking DifficultyDressingBathing  \\\n",
      "66335                       no                no                        no   \n",
      "77857                       no                no                        no   \n",
      "81357                       no                no                        no   \n",
      "93183                       no                no                        no   \n",
      "166750                      no                no                        no   \n",
      "193178                      no                no                        no   \n",
      "196524                      no                no                        no   \n",
      "241966                      no                no                        no   \n",
      "247081                      no                no                        no   \n",
      "281258                      no                no                        no   \n",
      "303469                      no                no                        no   \n",
      "316184                      no                no                        no   \n",
      "344263                      no                no                        no   \n",
      "362575                      no                no                        no   \n",
      "379102                      no                no                        no   \n",
      "381954                      no                no                        no   \n",
      "383261                      no                no                        no   \n",
      "389365                      no                no                        no   \n",
      "\n",
      "       DifficultyErrands                                 IllnessCombination  \n",
      "66335                 no  (yes, no, yes, no, no, yes, no, no, no, no, no...  \n",
      "77857                 no  (yes, no, yes, no, no, yes, no, no, no, no, no...  \n",
      "81357                 no  (yes, no, yes, no, no, yes, no, no, no, no, no...  \n",
      "93183                 no  (yes, no, yes, no, no, yes, no, no, no, no, no...  \n",
      "166750                no  (yes, no, yes, no, no, yes, no, no, no, no, no...  \n",
      "193178                no  (yes, no, yes, no, no, yes, no, no, no, no, no...  \n",
      "196524                no  (yes, no, yes, no, no, yes, no, no, no, no, no...  \n",
      "241966                no  (yes, no, yes, no, no, yes, no, no, no, no, no...  \n",
      "247081                no  (yes, no, yes, no, no, yes, no, no, no, no, no...  \n",
      "281258                no  (yes, no, yes, no, no, yes, no, no, no, no, no...  \n",
      "303469                no  (yes, no, yes, no, no, yes, no, no, no, no, no...  \n",
      "316184                no  (yes, no, yes, no, no, yes, no, no, no, no, no...  \n",
      "344263                no  (yes, no, yes, no, no, yes, no, no, no, no, no...  \n",
      "362575                no  (yes, no, yes, no, no, yes, no, no, no, no, no...  \n",
      "379102                no  (yes, no, yes, no, no, yes, no, no, no, no, no...  \n",
      "381954                no  (yes, no, yes, no, no, yes, no, no, no, no, no...  \n",
      "383261                no  (yes, no, yes, no, no, yes, no, no, no, no, no...  \n",
      "389365                no  (yes, no, yes, no, no, yes, no, no, no, no, no...  \n"
     ]
    }
   ],
   "source": [
    "# Specific illness combination to match\n",
    "target_combination = ('yes', 'no', 'yes', 'no', 'no', 'yes', 'no', 'no', 'no', 'no', 'no', 'no', 'no', 'no', 'no', 'no')\n",
    "\n",
    "# Filter rows that exactly match the target combination\n",
    "matching_rows = subset[subset[illness_columns].apply(tuple, axis=1) == target_combination]\n",
    "\n",
    "# Display the results\n",
    "print(\"Rows matching the specific illness combination:\\n\", matching_rows)\n"
   ]
  }
 ],
 "metadata": {
  "kernelspec": {
   "display_name": ".venv",
   "language": "python",
   "name": "python3"
  },
  "language_info": {
   "codemirror_mode": {
    "name": "ipython",
    "version": 3
   },
   "file_extension": ".py",
   "mimetype": "text/x-python",
   "name": "python",
   "nbconvert_exporter": "python",
   "pygments_lexer": "ipython3",
   "version": "3.12.4"
  }
 },
 "nbformat": 4,
 "nbformat_minor": 2
}
