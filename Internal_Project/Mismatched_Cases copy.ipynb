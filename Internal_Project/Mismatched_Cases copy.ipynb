{
 "cells": [
  {
   "cell_type": "code",
   "execution_count": 1,
   "metadata": {},
   "outputs": [],
   "source": [
    "import pandas as pd\n",
    "import numpy as np\n",
    "import matplotlib.pyplot as plt\n",
    "import seaborn as sns"
   ]
  },
  {
   "cell_type": "code",
   "execution_count": 2,
   "metadata": {},
   "outputs": [],
   "source": [
    "df = pd.read_csv('/Users/celestinesheum/Desktop/MY-DAC-Curriculum/Heart_cleaned.csv')"
   ]
  },
  {
   "cell_type": "code",
   "execution_count": 3,
   "metadata": {},
   "outputs": [],
   "source": [
    "# Columns categorization\n",
    "illness_columns = [\n",
    "    \"HadHeartAttack\", \"HadAngina\", \"HadStroke\", \"HadAsthma\", \n",
    "    \"HadSkinCancer\", \"HadCOPD\", \"HadDepressiveDisorder\",\n",
    "    \"HadKidneyDisease\", \"HadArthritis\", \"HadDiabetes\"\n",
    "]\n",
    "\n",
    "non_life_threatening_columns = [\n",
    "    \"DeafOrHardOfHearing\", \"BlindOrVisionDifficulty\",\n",
    "    \"DifficultyConcentrating\", \"DifficultyWalking\",\n",
    "    \"DifficultyDressingBathing\", \"DifficultyErrands\"\n",
    "]"
   ]
  },
  {
   "cell_type": "code",
   "execution_count": 4,
   "metadata": {},
   "outputs": [],
   "source": [
    "# Function to check for inconsistencies\n",
    "def find_inconsistencies(data, columns, category):\n",
    "    inconsistencies = []\n",
    "    for col in columns:\n",
    "        mismatch = data.groupby(col)[\"GeneralHealth\"].nunique()\n",
    "        mismatched_cases = mismatch[mismatch > 1]\n",
    "        if not mismatched_cases.empty:\n",
    "            inconsistencies.append((col, mismatched_cases.index.tolist()))\n",
    "    print(f\"Inconsistencies for {category}:\")\n",
    "    if inconsistencies:\n",
    "        for condition, statuses in inconsistencies:\n",
    "            print(f\" - '{condition}' has different GeneralHealth statuses: {statuses}\")\n",
    "    else:\n",
    "        print(\" - No inconsistencies found.\")\n",
    "    print()"
   ]
  },
  {
   "cell_type": "code",
   "execution_count": 6,
   "metadata": {},
   "outputs": [
    {
     "name": "stdout",
     "output_type": "stream",
     "text": [
      "Checking for inconsistencies in illness columns:\n",
      "Inconsistencies for Illness Columns:\n",
      " - 'HadHeartAttack' has different GeneralHealth statuses: ['no', 'yes']\n",
      " - 'HadAngina' has different GeneralHealth statuses: ['no', 'yes']\n",
      " - 'HadStroke' has different GeneralHealth statuses: ['no', 'yes']\n",
      " - 'HadAsthma' has different GeneralHealth statuses: ['no', 'yes']\n",
      " - 'HadSkinCancer' has different GeneralHealth statuses: ['no', 'yes']\n",
      " - 'HadCOPD' has different GeneralHealth statuses: ['no', 'yes']\n",
      " - 'HadDepressiveDisorder' has different GeneralHealth statuses: ['no', 'yes']\n",
      " - 'HadKidneyDisease' has different GeneralHealth statuses: ['no', 'yes']\n",
      " - 'HadArthritis' has different GeneralHealth statuses: ['no', 'yes']\n",
      " - 'HadDiabetes' has different GeneralHealth statuses: ['no', 'no, pre-diabetes or borderline diabetes', 'yes', 'yes, but only during pregnancy (female)']\n",
      "\n"
     ]
    }
   ],
   "source": [
    "# Check inconsistencies for both categories\n",
    "print(\"Checking for inconsistencies in illness columns:\")\n",
    "find_inconsistencies(df, illness_columns, \"Illness Columns\")"
   ]
  },
  {
   "cell_type": "code",
   "execution_count": 8,
   "metadata": {},
   "outputs": [
    {
     "name": "stdout",
     "output_type": "stream",
     "text": [
      "Checking for inconsistencies in non-life-threatening columns:\n",
      "Inconsistencies for Non-Life-Threatening Columns:\n",
      " - 'DeafOrHardOfHearing' has different GeneralHealth statuses: ['no', 'yes']\n",
      " - 'BlindOrVisionDifficulty' has different GeneralHealth statuses: ['no', 'yes']\n",
      " - 'DifficultyConcentrating' has different GeneralHealth statuses: ['no', 'yes']\n",
      " - 'DifficultyWalking' has different GeneralHealth statuses: ['no', 'yes']\n",
      " - 'DifficultyDressingBathing' has different GeneralHealth statuses: ['no', 'yes']\n",
      " - 'DifficultyErrands' has different GeneralHealth statuses: ['no', 'yes']\n",
      "\n"
     ]
    }
   ],
   "source": [
    "print(\"Checking for inconsistencies in non-life-threatening columns:\")\n",
    "find_inconsistencies(df, non_life_threatening_columns, \"Non-Life-Threatening Columns\")"
   ]
  },
  {
   "cell_type": "code",
   "execution_count": 10,
   "metadata": {},
   "outputs": [
    {
     "name": "stdout",
     "output_type": "stream",
     "text": [
      "Mismatched cases:\n",
      "       GeneralHealth HadHeartAttack HadAngina HadStroke HadAsthma  \\\n",
      "0          very good             no        no        no        no   \n",
      "1          excellent             no        no        no        no   \n",
      "2          very good             no        no        no        no   \n",
      "3          excellent             no        no        no       yes   \n",
      "4               fair             no        no        no        no   \n",
      "...              ...            ...       ...       ...       ...   \n",
      "444757          good             no        no        no       yes   \n",
      "444758     excellent             no        no        no        no   \n",
      "444759          poor             no        no        no        no   \n",
      "444760     very good            yes        no        no       yes   \n",
      "444761     very good             no        no        no        no   \n",
      "\n",
      "       HadSkinCancer HadCOPD HadDepressiveDisorder HadKidneyDisease  \\\n",
      "0                 no      no                    no               no   \n",
      "1                yes      no                    no               no   \n",
      "2                yes      no                    no               no   \n",
      "3                 no      no                    no               no   \n",
      "4                 no      no                    no               no   \n",
      "...              ...     ...                   ...              ...   \n",
      "444757            no      no                   yes               no   \n",
      "444758            no      no                    no               no   \n",
      "444759            no      no                    no               no   \n",
      "444760            no      no                    no               no   \n",
      "444761            no      no                    no               no   \n",
      "\n",
      "       HadArthritis HadDiabetes                          IllnessCombination  \n",
      "0                no         yes   (no, no, no, no, no, no, no, no, no, yes)  \n",
      "1                no          no   (no, no, no, no, yes, no, no, no, no, no)  \n",
      "2                no          no   (no, no, no, no, yes, no, no, no, no, no)  \n",
      "3               yes          no  (no, no, no, yes, no, no, no, no, yes, no)  \n",
      "4                no          no    (no, no, no, no, no, no, no, no, no, no)  \n",
      "...             ...         ...                                         ...  \n",
      "444757           no          no  (no, no, no, yes, no, no, yes, no, no, no)  \n",
      "444758           no          no    (no, no, no, no, no, no, no, no, no, no)  \n",
      "444759           no          no    (no, no, no, no, no, no, no, no, no, no)  \n",
      "444760           no          no  (yes, no, no, yes, no, no, no, no, no, no)  \n",
      "444761           no          no    (no, no, no, no, no, no, no, no, no, no)  \n",
      "\n",
      "[444399 rows x 12 columns]\n"
     ]
    },
    {
     "name": "stderr",
     "output_type": "stream",
     "text": [
      "/var/folders/t2/7w0w0yz54yz7771rglthy8wr0000gn/T/ipykernel_93919/2741815547.py:12: SettingWithCopyWarning: \n",
      "A value is trying to be set on a copy of a slice from a DataFrame.\n",
      "Try using .loc[row_indexer,col_indexer] = value instead\n",
      "\n",
      "See the caveats in the documentation: https://pandas.pydata.org/pandas-docs/stable/user_guide/indexing.html#returning-a-view-versus-a-copy\n",
      "  subset[\"IllnessCombination\"] = subset[illness_columns].apply(lambda x: tuple(x), axis=1)\n"
     ]
    }
   ],
   "source": [
    "# Define the relevant columns\n",
    "illness_columns = [\n",
    "    \"HadHeartAttack\", \"HadAngina\", \"HadStroke\", \"HadAsthma\", \n",
    "    \"HadSkinCancer\", \"HadCOPD\", \"HadDepressiveDisorder\",\n",
    "    \"HadKidneyDisease\", \"HadArthritis\", \"HadDiabetes\"\n",
    "]\n",
    "\n",
    "# Create a subset with relevant columns\n",
    "subset = df[[\"GeneralHealth\"] + illness_columns]\n",
    "\n",
    "# Group individuals by their illness combinations and check for mismatched GeneralHealth statuses\n",
    "subset[\"IllnessCombination\"] = subset[illness_columns].apply(lambda x: tuple(x), axis=1)\n",
    "\n",
    "# Identify groups with differing GeneralHealth statuses\n",
    "mismatch_groups = subset.groupby(\"IllnessCombination\")[\"GeneralHealth\"].nunique()\n",
    "mismatched_combinations = mismatch_groups[mismatch_groups > 1]\n",
    "\n",
    "# Extract mismatched records\n",
    "if not mismatched_combinations.empty:\n",
    "    mismatched_records = subset[subset[\"IllnessCombination\"].isin(mismatched_combinations.index)]\n",
    "    print(\"Mismatched cases:\")\n",
    "    print(mismatched_records)\n",
    "else:\n",
    "    print(\"No mismatched cases found.\")"
   ]
  },
  {
   "cell_type": "code",
   "execution_count": 13,
   "metadata": {},
   "outputs": [
    {
     "name": "stdout",
     "output_type": "stream",
     "text": [
      "Number of mismatched illness combinations: 1161\n",
      "Number of cases with mismatched GeneralHealth: 444399\n",
      "Mismatched cases:\n",
      "       GeneralHealth HadHeartAttack HadAngina HadStroke HadAsthma  \\\n",
      "0          very good             no        no        no        no   \n",
      "1          excellent             no        no        no        no   \n",
      "2          very good             no        no        no        no   \n",
      "3          excellent             no        no        no       yes   \n",
      "4               fair             no        no        no        no   \n",
      "...              ...            ...       ...       ...       ...   \n",
      "444757          good             no        no        no       yes   \n",
      "444758     excellent             no        no        no        no   \n",
      "444759          poor             no        no        no        no   \n",
      "444760     very good            yes        no        no       yes   \n",
      "444761     very good             no        no        no        no   \n",
      "\n",
      "       HadSkinCancer HadCOPD HadDepressiveDisorder HadKidneyDisease  \\\n",
      "0                 no      no                    no               no   \n",
      "1                yes      no                    no               no   \n",
      "2                yes      no                    no               no   \n",
      "3                 no      no                    no               no   \n",
      "4                 no      no                    no               no   \n",
      "...              ...     ...                   ...              ...   \n",
      "444757            no      no                   yes               no   \n",
      "444758            no      no                    no               no   \n",
      "444759            no      no                    no               no   \n",
      "444760            no      no                    no               no   \n",
      "444761            no      no                    no               no   \n",
      "\n",
      "       HadArthritis HadDiabetes                          IllnessCombination  \n",
      "0                no         yes   (no, no, no, no, no, no, no, no, no, yes)  \n",
      "1                no          no   (no, no, no, no, yes, no, no, no, no, no)  \n",
      "2                no          no   (no, no, no, no, yes, no, no, no, no, no)  \n",
      "3               yes          no  (no, no, no, yes, no, no, no, no, yes, no)  \n",
      "4                no          no    (no, no, no, no, no, no, no, no, no, no)  \n",
      "...             ...         ...                                         ...  \n",
      "444757           no          no  (no, no, no, yes, no, no, yes, no, no, no)  \n",
      "444758           no          no    (no, no, no, no, no, no, no, no, no, no)  \n",
      "444759           no          no    (no, no, no, no, no, no, no, no, no, no)  \n",
      "444760           no          no  (yes, no, no, yes, no, no, no, no, no, no)  \n",
      "444761           no          no    (no, no, no, no, no, no, no, no, no, no)  \n",
      "\n",
      "[444399 rows x 12 columns]\n"
     ]
    }
   ],
   "source": [
    "# Count cases where the illness combination is identical but GeneralHealth differs\n",
    "if not mismatched_combinations.empty:\n",
    "    mismatched_records = subset[subset[\"IllnessCombination\"].isin(mismatched_combinations.index)]\n",
    "    num_mismatched_combinations = mismatched_combinations.shape[0]\n",
    "    num_mismatched_cases = len(mismatched_records)\n",
    "    \n",
    "    print(f\"Number of mismatched illness combinations: {num_mismatched_combinations}\")\n",
    "    print(f\"Number of cases with mismatched GeneralHealth: {num_mismatched_cases}\")\n",
    "    print(\"Mismatched cases:\")\n",
    "    print(mismatched_records)\n",
    "else:\n",
    "    print(\"No mismatched cases found.\")"
   ]
  },
  {
   "cell_type": "code",
   "execution_count": 18,
   "metadata": {},
   "outputs": [
    {
     "data": {
      "text/plain": [
       "1161"
      ]
     },
     "execution_count": 18,
     "metadata": {},
     "output_type": "execute_result"
    }
   ],
   "source": [
    "num_mismatched_combinations = mismatched_combinations.shape[0]\n",
    "num_mismatched_cases = len(mismatched_records)\n",
    "num_mismatched_combinations"
   ]
  }
 ],
 "metadata": {
  "kernelspec": {
   "display_name": ".venv",
   "language": "python",
   "name": "python3"
  },
  "language_info": {
   "codemirror_mode": {
    "name": "ipython",
    "version": 3
   },
   "file_extension": ".py",
   "mimetype": "text/x-python",
   "name": "python",
   "nbconvert_exporter": "python",
   "pygments_lexer": "ipython3",
   "version": "3.12.4"
  }
 },
 "nbformat": 4,
 "nbformat_minor": 2
}
