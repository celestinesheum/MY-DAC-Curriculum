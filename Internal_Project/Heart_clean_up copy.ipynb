{
 "cells": [
  {
   "cell_type": "code",
   "execution_count": 1,
   "metadata": {},
   "outputs": [],
   "source": [
    "import pandas as pd\n",
    "import numpy as np\n",
    "import matplotlib.pyplot as plt\n",
    "import seaborn as sns"
   ]
  },
  {
   "cell_type": "code",
   "execution_count": 2,
   "metadata": {},
   "outputs": [],
   "source": [
    "df = pd.read_csv('/Users/celestinesheum/Desktop/MY-DAC-Curriculum/Internal_Project/Heart.csv')"
   ]
  },
  {
   "cell_type": "code",
   "execution_count": 3,
   "metadata": {},
   "outputs": [
    {
     "data": {
      "text/plain": [
       "Index(['State', 'Sex', 'GeneralHealth', 'PhysicalHealthDays',\n",
       "       'MentalHealthDays', 'LastCheckupTime', 'PhysicalActivities',\n",
       "       'SleepHours', 'RemovedTeeth', 'HadHeartAttack', 'HadAngina',\n",
       "       'HadStroke', 'HadAsthma', 'HadSkinCancer', 'HadCOPD',\n",
       "       'HadDepressiveDisorder', 'HadKidneyDisease', 'HadArthritis',\n",
       "       'HadDiabetes', 'DeafOrHardOfHearing', 'BlindOrVisionDifficulty',\n",
       "       'DifficultyConcentrating', 'DifficultyWalking',\n",
       "       'DifficultyDressingBathing', 'DifficultyErrands', 'SmokerStatus',\n",
       "       'ECigaretteUsage', 'ChestScan', 'RaceEthnicityCategory', 'AgeCategory',\n",
       "       'HeightInMeters', 'WeightInKilograms', 'BMI', 'AlcoholDrinkers',\n",
       "       'HIVTesting', 'FluVaxLast12', 'PneumoVaxEver', 'TetanusLast10Tdap',\n",
       "       'HighRiskLastYear', 'CovidPos'],\n",
       "      dtype='object')"
      ]
     },
     "execution_count": 3,
     "metadata": {},
     "output_type": "execute_result"
    }
   ],
   "source": [
    "df.columns"
   ]
  },
  {
   "cell_type": "code",
   "execution_count": 4,
   "metadata": {},
   "outputs": [
    {
     "data": {
      "text/plain": [
       "(445132, 40)"
      ]
     },
     "execution_count": 4,
     "metadata": {},
     "output_type": "execute_result"
    }
   ],
   "source": [
    "df.shape"
   ]
  },
  {
   "cell_type": "code",
   "execution_count": 5,
   "metadata": {},
   "outputs": [
    {
     "data": {
      "text/plain": [
       "State                            0\n",
       "Sex                              0\n",
       "GeneralHealth                 1198\n",
       "PhysicalHealthDays           10927\n",
       "MentalHealthDays              9067\n",
       "LastCheckupTime               8308\n",
       "PhysicalActivities            1093\n",
       "SleepHours                    5453\n",
       "RemovedTeeth                 11360\n",
       "HadHeartAttack                3065\n",
       "HadAngina                     4405\n",
       "HadStroke                     1557\n",
       "HadAsthma                     1773\n",
       "HadSkinCancer                 3143\n",
       "HadCOPD                       2219\n",
       "HadDepressiveDisorder         2812\n",
       "HadKidneyDisease              1926\n",
       "HadArthritis                  2633\n",
       "HadDiabetes                   1087\n",
       "DeafOrHardOfHearing          20647\n",
       "BlindOrVisionDifficulty      21564\n",
       "DifficultyConcentrating      24240\n",
       "DifficultyWalking            24012\n",
       "DifficultyDressingBathing    23915\n",
       "DifficultyErrands            25656\n",
       "SmokerStatus                 35462\n",
       "ECigaretteUsage              35660\n",
       "ChestScan                    56046\n",
       "RaceEthnicityCategory        14057\n",
       "AgeCategory                   9079\n",
       "HeightInMeters               28652\n",
       "WeightInKilograms            42078\n",
       "BMI                          48806\n",
       "AlcoholDrinkers              46574\n",
       "HIVTesting                   66127\n",
       "FluVaxLast12                 47121\n",
       "PneumoVaxEver                77040\n",
       "TetanusLast10Tdap            82516\n",
       "HighRiskLastYear             50623\n",
       "CovidPos                     50764\n",
       "dtype: int64"
      ]
     },
     "execution_count": 5,
     "metadata": {},
     "output_type": "execute_result"
    }
   ],
   "source": [
    "df.isnull().sum()"
   ]
  },
  {
   "cell_type": "code",
   "execution_count": 6,
   "metadata": {},
   "outputs": [
    {
     "name": "stdout",
     "output_type": "stream",
     "text": [
      "(444975, 40)\n"
     ]
    }
   ],
   "source": [
    "# Removing duplicates\n",
    "df = df.drop_duplicates()\n",
    "print(df.shape)"
   ]
  },
  {
   "cell_type": "code",
   "execution_count": 7,
   "metadata": {},
   "outputs": [
    {
     "name": "stdout",
     "output_type": "stream",
     "text": [
      "Invalid BMI entries: 80\n",
      "Invalid Sleep Hours entries: 0\n",
      "Suspicious sleep hours to check again: 2773\n"
     ]
    }
   ],
   "source": [
    "# Logic checks\n",
    "invalid_bmi = df[(df['BMI'] < 10) | (df['BMI'] > 80)]  # BMI typically ranges from 10 to 50\n",
    "invalid_sleep = df[(df['SleepHours'] < 0) | (df['SleepHours'] > 24)]  # Sleep hours must be 0-24\n",
    "suspicious_sleep_values = df[(df['SleepHours'] < 3) | (df['SleepHours'] > 22)] #maybe cap as outliers (?)\n",
    "\n",
    "\n",
    "print(f\"Invalid BMI entries: {len(invalid_bmi)}\")\n",
    "print(f\"Invalid Sleep Hours entries: {len(invalid_sleep)}\")\n",
    "print(f\"Suspicious sleep hours to check again: {len(suspicious_sleep_values)}\")\n",
    "\n",
    "\n",
    "#Creating an Accurate Calculated BMI column\n",
    "df['CalculatedBMI'] = df['WeightInKilograms'] / (df['HeightInMeters'] ** 2)\n"
   ]
  },
  {
   "cell_type": "code",
   "execution_count": 8,
   "metadata": {},
   "outputs": [
    {
     "name": "stdout",
     "output_type": "stream",
     "text": [
      "Number of inconsistencies with Age Category logic (age 65+ but no major health conditions): 0\n"
     ]
    }
   ],
   "source": [
    "# If AgeCategory is '65 or older', they should likely report having at least one of the following: Heart Attack, Stroke, or Diabetes\n",
    "age_category_inconsistencies = df[\n",
    "    (df['AgeCategory'] == '65 or older') &\n",
    "    ~(df[['HadHeartAttack', 'HadStroke', 'HadDiabetes']].any(axis=1))\n",
    "]\n",
    "print(f\"Number of inconsistencies with Age Category logic (age 65+ but no major health conditions): {len(age_category_inconsistencies)}\")\n"
   ]
  },
  {
   "cell_type": "code",
   "execution_count": 9,
   "metadata": {},
   "outputs": [
    {
     "name": "stdout",
     "output_type": "stream",
     "text": [
      "Number of inconsistencies with Smoking status logic (smoker but no major related health conditions): 0\n"
     ]
    }
   ],
   "source": [
    "# If SmokerStatus is 'Yes', they should likely report at least one of these conditions\n",
    "smoker_inconsistencies = df[\n",
    "    (df['SmokerStatus'] == 'Yes') &\n",
    "    ~(df[['HadHeartAttack', 'HadCOPD', 'HadAsthma', 'HadStroke']].any(axis=1))  # None of these is True\n",
    "]\n",
    "print(f\"Number of inconsistencies with Smoking status logic (smoker but no major related health conditions): {len(smoker_inconsistencies)}\")"
   ]
  },
  {
   "cell_type": "code",
   "execution_count": 10,
   "metadata": {},
   "outputs": [
    {
     "name": "stdout",
     "output_type": "stream",
     "text": [
      "Number of inconsistencies with Walking Difficulty logic (difficulty walking but no related difficulties): 0\n"
     ]
    }
   ],
   "source": [
    "# If DifficultyWalking is True, then at least one of DifficultyDressingBathing or DifficultyErrands should also be True\n",
    "walking_inconsistencies = df[\n",
    "    (df['DifficultyWalking'] == True) &\n",
    "    ~(df[['DifficultyDressingBathing', 'DifficultyErrands']].any(axis=1))  # None of these is True\n",
    "]\n",
    "print(f\"Number of inconsistencies with Walking Difficulty logic (difficulty walking but no related difficulties): {len(walking_inconsistencies)}\")\n"
   ]
  },
  {
   "cell_type": "code",
   "execution_count": 11,
   "metadata": {},
   "outputs": [
    {
     "name": "stdout",
     "output_type": "stream",
     "text": [
      "Number of inconsistencies with COPD logic (COPD but no difficulties with daily activities): 0\n"
     ]
    }
   ],
   "source": [
    "# If HadCOPD is True, then at least one of these three difficulties should also be True\n",
    "copd_inconsistencies = df[\n",
    "    (df['HadCOPD'] == True) &\n",
    "    ~(df[['DifficultyWalking', 'DifficultyDressingBathing', 'DifficultyErrands']].any(axis=1))  # None of these is True\n",
    "]\n",
    "print(f\"Number of inconsistencies with COPD logic (COPD but no difficulties with daily activities): {len(copd_inconsistencies)}\")"
   ]
  },
  {
   "cell_type": "code",
   "execution_count": 12,
   "metadata": {},
   "outputs": [
    {
     "name": "stdout",
     "output_type": "stream",
     "text": [
      "Number of inconsistencies with Heart Attack logic (Heart Attack but no related conditions reported): 0\n"
     ]
    }
   ],
   "source": [
    "# If HadHeartAttack is True, then at least one of Stroke, Angina, or ChestScan should be True\n",
    "heart_attack_inconsistencies = df[\n",
    "    (df['HadHeartAttack'] == True) &\n",
    "    ~(df[['HadStroke', 'HadAngina', 'ChestScan']].any(axis=1))  # None of these is True\n",
    "]\n",
    "print(f\"Number of inconsistencies with Heart Attack logic (Heart Attack but no related conditions reported): {len(heart_attack_inconsistencies)}\")\n",
    "\n",
    "\n"
   ]
  },
  {
   "cell_type": "code",
   "execution_count": 13,
   "metadata": {},
   "outputs": [
    {
     "name": "stdout",
     "output_type": "stream",
     "text": [
      "Number of inconsistencies with Sleep Hours logic (abnormal sleep but no related health conditions): 4\n"
     ]
    }
   ],
   "source": [
    "# If SleepHours is less than 4 or more than 12, we expect at least one of the health conditions to be True\n",
    "sleep_hours_inconsistencies = df[\n",
    "    ((df['SleepHours'] < 5) | (df['SleepHours'] > 12)) &\n",
    "    ~(df[['HadDepressiveDisorder', 'HadHeartAttack', 'HadAngina', 'HadStroke', 'HadSkinCancer', 'HadAsthma', 'HadCOPD', 'HadDepressiveDisorder', 'HadKidneyDisease', 'HadArthritis', 'HadDiabetes', 'DifficultyConcentrating', 'HighRiskLastYear']].any(axis=1))  # None of these is True\n",
    "]\n",
    "print(f\"Number of inconsistencies with Sleep Hours logic (abnormal sleep but no related health conditions): {len(sleep_hours_inconsistencies)}\")"
   ]
  },
  {
   "cell_type": "code",
   "execution_count": 14,
   "metadata": {},
   "outputs": [],
   "source": [
    "# If PhysicalHealthDays is 0, they should not report significant limitations in daily activities\n",
    "physical_health_inconsistencies = df[\n",
    "    (df['PhysicalHealthDays'] == 0) &\n",
    "    ~(df[['DifficultyWalking', 'DifficultyDressingBathing', 'DifficultyErrands']].any(axis=1))  # No difficulty reported\n",
    "]\n"
   ]
  },
  {
   "cell_type": "code",
   "execution_count": 15,
   "metadata": {},
   "outputs": [
    {
     "name": "stdout",
     "output_type": "stream",
     "text": [
      "Number of inconsistencies with Physical Health Days logic (0 health days but activity limitations): 14233\n"
     ]
    }
   ],
   "source": [
    "print(f\"Number of inconsistencies with Physical Health Days logic (0 health days but activity limitations): {len(physical_health_inconsistencies)}\")\n"
   ]
  },
  {
   "cell_type": "code",
   "execution_count": 16,
   "metadata": {},
   "outputs": [],
   "source": [
    "# Fill in missing values for numerical + object columns\n",
    "df.fillna({col: df[col].median() for col in df.select_dtypes('float64')}, inplace=True)\n",
    "df.fillna({col: df[col].mode().iloc[0] for col in df.select_dtypes('object')}, inplace=True)\n",
    "\n",
    "\n",
    "# print(df.isnull().sum()) #to check\n"
   ]
  },
  {
   "cell_type": "code",
   "execution_count": 17,
   "metadata": {},
   "outputs": [
    {
     "data": {
      "image/png": "[encoded data removed]",
      "text/plain": [
       "<Figure size 640x480 with 1 Axes>"
      ]
     },
     "metadata": {},
     "output_type": "display_data"
    }
   ],
   "source": [
    "def cap_outliers(df, columns, lower_percentile=0.05, upper_percentile=0.95):\n",
    "    for column in columns:\n",
    "        lower_bound = df[column].quantile(lower_percentile)\n",
    "        upper_bound = df[column].quantile(upper_percentile)\n",
    "       \n",
    "        # Apply capping\n",
    "        df[column] = df[column].apply(lambda x: min(max(x, lower_bound), upper_bound))\n",
    "   \n",
    "    return df\n",
    "\n",
    "\n",
    "# List of columns to cap\n",
    "columns_to_cap = ['WeightInKilograms', 'HeightInMeters', 'BMI', 'CalculatedBMI', 'SleepHours']\n",
    "\n",
    "\n",
    "# Apply the capping\n",
    "df_cleaned = cap_outliers(df, columns_to_cap)\n",
    "\n",
    "\n",
    "# Verification of capping\n",
    "sns.boxplot(data=df[columns_to_cap])\n",
    "plt.title(\"After Capping\")\n",
    "plt.show()\n"
   ]
  },
  {
   "cell_type": "code",
   "execution_count": 18,
   "metadata": {},
   "outputs": [],
   "source": [
    "for col in df.select_dtypes(include=['category', 'object']).columns:\n",
    "    df[col] = df[col].str.strip().str.lower()\n"
   ]
  },
  {
   "cell_type": "code",
   "execution_count": 19,
   "metadata": {},
   "outputs": [],
   "source": [
    "df_2ndremove_duplicates = df.drop_duplicates()\n"
   ]
  },
  {
   "cell_type": "code",
   "execution_count": 20,
   "metadata": {},
   "outputs": [],
   "source": [
    "df_2ndremove_duplicates.to_csv('Heart_cleaned.csv', index=False)\n"
   ]
  },
  {
   "cell_type": "code",
   "execution_count": null,
   "metadata": {},
   "outputs": [],
   "source": []
  }
 ],
 "metadata": {
  "kernelspec": {
   "display_name": ".venv",
   "language": "python",
   "name": "python3"
  },
  "language_info": {
   "codemirror_mode": {
    "name": "ipython",
    "version": 3
   },
   "file_extension": ".py",
   "mimetype": "text/x-python",
   "name": "python",
   "nbconvert_exporter": "python",
   "pygments_lexer": "ipython3",
   "version": "3.12.4"
  }
 },
 "nbformat": 4,
 "nbformat_minor": 2
}
