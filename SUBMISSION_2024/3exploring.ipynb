{
 "cells": [
  {
   "cell_type": "code",
   "execution_count": 1,
   "metadata": {},
   "outputs": [],
   "source": [
    "import pandas as pd\n",
    "import numpy as np\n",
    "import seaborn as sns\n",
    "import matplotlib.pyplot as plt\n",
    "import plotly.express as px\n",
    "import plotly.graph_objects as go\n",
    "from sklearn.preprocessing import LabelEncoder\n",
    "import missingno as msno"
   ]
  },
  {
   "cell_type": "code",
   "execution_count": 2,
   "metadata": {},
   "outputs": [],
   "source": [
    "df = pd.read_csv('./dataset/Heart_preprocessed.csv')"
   ]
  },
  {
   "cell_type": "code",
   "execution_count": 3,
   "metadata": {},
   "outputs": [],
   "source": [
    "pd.set_option('display.max_columns', None)  # Show all columns without truncating\n",
    "pd.set_option('display.max_rows', 50)      # Show up to 50 rows (adjust as necessary)\n",
    "pd.set_option('display.width', 1000)       # Set the display width to prevent wrapping\n",
    "pd.set_option('display.max_colwidth', None) # Allow full column width (no truncation)\n",
    "pd.set_option('display.float_format', '{:,.2f}'.format)  # Display floats with two decimals"
   ]
  },
  {
   "cell_type": "code",
   "execution_count": 4,
   "metadata": {},
   "outputs": [
    {
     "data": {
      "text/html": [
       "<div>\n",
       "<style scoped>\n",
       "    .dataframe tbody tr th:only-of-type {\n",
       "        vertical-align: middle;\n",
       "    }\n",
       "\n",
       "    .dataframe tbody tr th {\n",
       "        vertical-align: top;\n",
       "    }\n",
       "\n",
       "    .dataframe thead th {\n",
       "        text-align: right;\n",
       "    }\n",
       "</style>\n",
       "<table border=\"1\" class=\"dataframe\">\n",
       "  <thead>\n",
       "    <tr style=\"text-align: right;\">\n",
       "      <th></th>\n",
       "      <th>State</th>\n",
       "      <th>Sex</th>\n",
       "      <th>GeneralHealth</th>\n",
       "      <th>PhysicalHealthDays</th>\n",
       "      <th>MentalHealthDays</th>\n",
       "      <th>LastCheckupTime</th>\n",
       "      <th>PhysicalActivities</th>\n",
       "      <th>SleepHours</th>\n",
       "      <th>RemovedTeeth</th>\n",
       "      <th>HadHeartAttack</th>\n",
       "      <th>HadAngina</th>\n",
       "      <th>HadStroke</th>\n",
       "      <th>HadAsthma</th>\n",
       "      <th>HadSkinCancer</th>\n",
       "      <th>HadCOPD</th>\n",
       "      <th>HadDepressiveDisorder</th>\n",
       "      <th>HadKidneyDisease</th>\n",
       "      <th>HadArthritis</th>\n",
       "      <th>HadDiabetes</th>\n",
       "      <th>DeafOrHardOfHearing</th>\n",
       "      <th>BlindOrVisionDifficulty</th>\n",
       "      <th>DifficultyConcentrating</th>\n",
       "      <th>DifficultyWalking</th>\n",
       "      <th>DifficultyDressingBathing</th>\n",
       "      <th>DifficultyErrands</th>\n",
       "      <th>SmokerStatus</th>\n",
       "      <th>ECigaretteUsage</th>\n",
       "      <th>ChestScan</th>\n",
       "      <th>RaceEthnicityCategory</th>\n",
       "      <th>AgeCategory</th>\n",
       "      <th>HeightInMeters</th>\n",
       "      <th>WeightInKilograms</th>\n",
       "      <th>AlcoholDrinkers</th>\n",
       "      <th>HIVTesting</th>\n",
       "      <th>FluVaxLast12</th>\n",
       "      <th>PneumoVaxEver</th>\n",
       "      <th>TetanusLast10Tdap</th>\n",
       "      <th>HighRiskLastYear</th>\n",
       "      <th>CovidPos</th>\n",
       "      <th>CalculatedBMI</th>\n",
       "      <th>GeneralHealth_missing_indicator</th>\n",
       "      <th>LastCheckupTime_missing_indicator</th>\n",
       "      <th>PhysicalActivities_missing_indicator</th>\n",
       "      <th>RemovedTeeth_missing_indicator</th>\n",
       "      <th>HadHeartAttack_missing_indicator</th>\n",
       "      <th>HadAngina_missing_indicator</th>\n",
       "      <th>HadStroke_missing_indicator</th>\n",
       "      <th>HadAsthma_missing_indicator</th>\n",
       "      <th>HadSkinCancer_missing_indicator</th>\n",
       "      <th>HadCOPD_missing_indicator</th>\n",
       "      <th>HadDepressiveDisorder_missing_indicator</th>\n",
       "      <th>HadKidneyDisease_missing_indicator</th>\n",
       "      <th>HadArthritis_missing_indicator</th>\n",
       "      <th>HadDiabetes_missing_indicator</th>\n",
       "      <th>DeafOrHardOfHearing_missing_indicator</th>\n",
       "      <th>BlindOrVisionDifficulty_missing_indicator</th>\n",
       "      <th>DifficultyConcentrating_missing_indicator</th>\n",
       "      <th>DifficultyWalking_missing_indicator</th>\n",
       "      <th>DifficultyDressingBathing_missing_indicator</th>\n",
       "      <th>DifficultyErrands_missing_indicator</th>\n",
       "      <th>SmokerStatus_missing_indicator</th>\n",
       "      <th>ECigaretteUsage_missing_indicator</th>\n",
       "      <th>RaceEthnicityCategory_missing_indicator</th>\n",
       "      <th>AgeCategory_missing_indicator</th>\n",
       "      <th>ChestScan_missing_indicator</th>\n",
       "      <th>AlcoholDrinkers_missing_indicator</th>\n",
       "      <th>HIVTesting_missing_indicator</th>\n",
       "      <th>FluVaxLast12_missing_indicator</th>\n",
       "      <th>PneumoVaxEver_missing_indicator</th>\n",
       "      <th>TetanusLast10Tdap_missing_indicator</th>\n",
       "      <th>HighRiskLastYear_missing_indicator</th>\n",
       "      <th>CovidPos_missing_indicator</th>\n",
       "      <th>ChronicConditionCount</th>\n",
       "      <th>ImpairmentCount</th>\n",
       "      <th>ComorbidityCount</th>\n",
       "      <th>AgeCategory_numeric</th>\n",
       "      <th>AgeCategory_Classification</th>\n",
       "      <th>AgeCategory_Classification_numeric</th>\n",
       "      <th>Sex_numeric</th>\n",
       "      <th>RaceEthnicityCategory_numeric</th>\n",
       "      <th>CalculatedBMI_Classification</th>\n",
       "      <th>CalculatedBMI_Classification_numeric</th>\n",
       "      <th>PhysicalHealthDays_Classification</th>\n",
       "      <th>PhysicalHealthDays_Classification_numeric</th>\n",
       "      <th>MentalHealthDays_Classification</th>\n",
       "      <th>MentalHealthDays_Classification_numeric</th>\n",
       "      <th>SleepHours_Classification</th>\n",
       "      <th>SleepHours_Classification_numeric</th>\n",
       "      <th>GeneralHealth_numeric</th>\n",
       "      <th>GeneralHealth_Classification</th>\n",
       "      <th>GeneralHealth_Classification_numeric</th>\n",
       "    </tr>\n",
       "  </thead>\n",
       "  <tbody>\n",
       "    <tr>\n",
       "      <th>0</th>\n",
       "      <td>alabama</td>\n",
       "      <td>female</td>\n",
       "      <td>very good</td>\n",
       "      <td>0.00</td>\n",
       "      <td>0.00</td>\n",
       "      <td>0</td>\n",
       "      <td>0</td>\n",
       "      <td>8.00</td>\n",
       "      <td>0</td>\n",
       "      <td>0</td>\n",
       "      <td>0</td>\n",
       "      <td>0</td>\n",
       "      <td>0</td>\n",
       "      <td>0</td>\n",
       "      <td>0</td>\n",
       "      <td>0</td>\n",
       "      <td>0</td>\n",
       "      <td>0</td>\n",
       "      <td>1</td>\n",
       "      <td>0</td>\n",
       "      <td>0</td>\n",
       "      <td>0</td>\n",
       "      <td>0</td>\n",
       "      <td>0</td>\n",
       "      <td>0</td>\n",
       "      <td>0</td>\n",
       "      <td>1</td>\n",
       "      <td>0</td>\n",
       "      <td>white</td>\n",
       "      <td>age 80 or older</td>\n",
       "      <td>1.70</td>\n",
       "      <td>80.74</td>\n",
       "      <td>0</td>\n",
       "      <td>0</td>\n",
       "      <td>1</td>\n",
       "      <td>0</td>\n",
       "      <td>1</td>\n",
       "      <td>0</td>\n",
       "      <td>0</td>\n",
       "      <td>27.35</td>\n",
       "      <td>0</td>\n",
       "      <td>0</td>\n",
       "      <td>0</td>\n",
       "      <td>1</td>\n",
       "      <td>0</td>\n",
       "      <td>0</td>\n",
       "      <td>0</td>\n",
       "      <td>0</td>\n",
       "      <td>0</td>\n",
       "      <td>0</td>\n",
       "      <td>0</td>\n",
       "      <td>0</td>\n",
       "      <td>0</td>\n",
       "      <td>0</td>\n",
       "      <td>0</td>\n",
       "      <td>0</td>\n",
       "      <td>0</td>\n",
       "      <td>0</td>\n",
       "      <td>0</td>\n",
       "      <td>0</td>\n",
       "      <td>0</td>\n",
       "      <td>0</td>\n",
       "      <td>0</td>\n",
       "      <td>0</td>\n",
       "      <td>0</td>\n",
       "      <td>0</td>\n",
       "      <td>0</td>\n",
       "      <td>0</td>\n",
       "      <td>0</td>\n",
       "      <td>0</td>\n",
       "      <td>0</td>\n",
       "      <td>0</td>\n",
       "      <td>1</td>\n",
       "      <td>0</td>\n",
       "      <td>1</td>\n",
       "      <td>13</td>\n",
       "      <td>older-adult</td>\n",
       "      <td>3</td>\n",
       "      <td>2</td>\n",
       "      <td>1</td>\n",
       "      <td>overweight</td>\n",
       "      <td>3</td>\n",
       "      <td>excellent</td>\n",
       "      <td>0</td>\n",
       "      <td>excellent</td>\n",
       "      <td>0</td>\n",
       "      <td>optimal</td>\n",
       "      <td>2</td>\n",
       "      <td>4</td>\n",
       "      <td>above average</td>\n",
       "      <td>1</td>\n",
       "    </tr>\n",
       "    <tr>\n",
       "      <th>1</th>\n",
       "      <td>alabama</td>\n",
       "      <td>female</td>\n",
       "      <td>excellent</td>\n",
       "      <td>0.00</td>\n",
       "      <td>0.00</td>\n",
       "      <td>0</td>\n",
       "      <td>0</td>\n",
       "      <td>6.00</td>\n",
       "      <td>0</td>\n",
       "      <td>0</td>\n",
       "      <td>0</td>\n",
       "      <td>0</td>\n",
       "      <td>0</td>\n",
       "      <td>1</td>\n",
       "      <td>0</td>\n",
       "      <td>0</td>\n",
       "      <td>0</td>\n",
       "      <td>0</td>\n",
       "      <td>0</td>\n",
       "      <td>0</td>\n",
       "      <td>0</td>\n",
       "      <td>0</td>\n",
       "      <td>0</td>\n",
       "      <td>0</td>\n",
       "      <td>0</td>\n",
       "      <td>0</td>\n",
       "      <td>0</td>\n",
       "      <td>0</td>\n",
       "      <td>white</td>\n",
       "      <td>age 80 or older</td>\n",
       "      <td>1.60</td>\n",
       "      <td>68.04</td>\n",
       "      <td>0</td>\n",
       "      <td>0</td>\n",
       "      <td>0</td>\n",
       "      <td>0</td>\n",
       "      <td>0</td>\n",
       "      <td>0</td>\n",
       "      <td>0</td>\n",
       "      <td>26.58</td>\n",
       "      <td>0</td>\n",
       "      <td>1</td>\n",
       "      <td>0</td>\n",
       "      <td>1</td>\n",
       "      <td>0</td>\n",
       "      <td>0</td>\n",
       "      <td>0</td>\n",
       "      <td>0</td>\n",
       "      <td>0</td>\n",
       "      <td>0</td>\n",
       "      <td>0</td>\n",
       "      <td>0</td>\n",
       "      <td>0</td>\n",
       "      <td>0</td>\n",
       "      <td>0</td>\n",
       "      <td>0</td>\n",
       "      <td>0</td>\n",
       "      <td>0</td>\n",
       "      <td>0</td>\n",
       "      <td>0</td>\n",
       "      <td>0</td>\n",
       "      <td>0</td>\n",
       "      <td>0</td>\n",
       "      <td>0</td>\n",
       "      <td>0</td>\n",
       "      <td>0</td>\n",
       "      <td>0</td>\n",
       "      <td>0</td>\n",
       "      <td>0</td>\n",
       "      <td>0</td>\n",
       "      <td>0</td>\n",
       "      <td>0</td>\n",
       "      <td>1</td>\n",
       "      <td>0</td>\n",
       "      <td>1</td>\n",
       "      <td>13</td>\n",
       "      <td>older-adult</td>\n",
       "      <td>3</td>\n",
       "      <td>2</td>\n",
       "      <td>1</td>\n",
       "      <td>overweight</td>\n",
       "      <td>3</td>\n",
       "      <td>excellent</td>\n",
       "      <td>0</td>\n",
       "      <td>excellent</td>\n",
       "      <td>0</td>\n",
       "      <td>low</td>\n",
       "      <td>1</td>\n",
       "      <td>5</td>\n",
       "      <td>above average</td>\n",
       "      <td>1</td>\n",
       "    </tr>\n",
       "    <tr>\n",
       "      <th>2</th>\n",
       "      <td>alabama</td>\n",
       "      <td>female</td>\n",
       "      <td>very good</td>\n",
       "      <td>2.00</td>\n",
       "      <td>3.00</td>\n",
       "      <td>0</td>\n",
       "      <td>1</td>\n",
       "      <td>5.00</td>\n",
       "      <td>0</td>\n",
       "      <td>0</td>\n",
       "      <td>0</td>\n",
       "      <td>0</td>\n",
       "      <td>0</td>\n",
       "      <td>1</td>\n",
       "      <td>0</td>\n",
       "      <td>0</td>\n",
       "      <td>0</td>\n",
       "      <td>0</td>\n",
       "      <td>0</td>\n",
       "      <td>0</td>\n",
       "      <td>0</td>\n",
       "      <td>0</td>\n",
       "      <td>0</td>\n",
       "      <td>0</td>\n",
       "      <td>0</td>\n",
       "      <td>0</td>\n",
       "      <td>0</td>\n",
       "      <td>0</td>\n",
       "      <td>white</td>\n",
       "      <td>age 55 to 59</td>\n",
       "      <td>1.57</td>\n",
       "      <td>63.50</td>\n",
       "      <td>0</td>\n",
       "      <td>0</td>\n",
       "      <td>0</td>\n",
       "      <td>0</td>\n",
       "      <td>0</td>\n",
       "      <td>0</td>\n",
       "      <td>1</td>\n",
       "      <td>25.76</td>\n",
       "      <td>0</td>\n",
       "      <td>0</td>\n",
       "      <td>0</td>\n",
       "      <td>1</td>\n",
       "      <td>0</td>\n",
       "      <td>0</td>\n",
       "      <td>0</td>\n",
       "      <td>0</td>\n",
       "      <td>0</td>\n",
       "      <td>0</td>\n",
       "      <td>0</td>\n",
       "      <td>0</td>\n",
       "      <td>0</td>\n",
       "      <td>0</td>\n",
       "      <td>0</td>\n",
       "      <td>0</td>\n",
       "      <td>0</td>\n",
       "      <td>0</td>\n",
       "      <td>0</td>\n",
       "      <td>0</td>\n",
       "      <td>0</td>\n",
       "      <td>0</td>\n",
       "      <td>0</td>\n",
       "      <td>0</td>\n",
       "      <td>0</td>\n",
       "      <td>0</td>\n",
       "      <td>0</td>\n",
       "      <td>0</td>\n",
       "      <td>0</td>\n",
       "      <td>1</td>\n",
       "      <td>0</td>\n",
       "      <td>0</td>\n",
       "      <td>1</td>\n",
       "      <td>0</td>\n",
       "      <td>1</td>\n",
       "      <td>8</td>\n",
       "      <td>older-adult</td>\n",
       "      <td>3</td>\n",
       "      <td>2</td>\n",
       "      <td>1</td>\n",
       "      <td>overweight</td>\n",
       "      <td>3</td>\n",
       "      <td>good</td>\n",
       "      <td>1</td>\n",
       "      <td>good</td>\n",
       "      <td>1</td>\n",
       "      <td>low</td>\n",
       "      <td>1</td>\n",
       "      <td>4</td>\n",
       "      <td>above average</td>\n",
       "      <td>1</td>\n",
       "    </tr>\n",
       "    <tr>\n",
       "      <th>3</th>\n",
       "      <td>alabama</td>\n",
       "      <td>female</td>\n",
       "      <td>excellent</td>\n",
       "      <td>0.00</td>\n",
       "      <td>0.00</td>\n",
       "      <td>0</td>\n",
       "      <td>1</td>\n",
       "      <td>7.00</td>\n",
       "      <td>0</td>\n",
       "      <td>0</td>\n",
       "      <td>0</td>\n",
       "      <td>0</td>\n",
       "      <td>1</td>\n",
       "      <td>0</td>\n",
       "      <td>0</td>\n",
       "      <td>0</td>\n",
       "      <td>0</td>\n",
       "      <td>1</td>\n",
       "      <td>0</td>\n",
       "      <td>0</td>\n",
       "      <td>0</td>\n",
       "      <td>0</td>\n",
       "      <td>0</td>\n",
       "      <td>0</td>\n",
       "      <td>0</td>\n",
       "      <td>2</td>\n",
       "      <td>0</td>\n",
       "      <td>1</td>\n",
       "      <td>white</td>\n",
       "      <td>age 65 to 69</td>\n",
       "      <td>1.65</td>\n",
       "      <td>63.50</td>\n",
       "      <td>0</td>\n",
       "      <td>0</td>\n",
       "      <td>1</td>\n",
       "      <td>1</td>\n",
       "      <td>0</td>\n",
       "      <td>0</td>\n",
       "      <td>0</td>\n",
       "      <td>23.32</td>\n",
       "      <td>0</td>\n",
       "      <td>0</td>\n",
       "      <td>0</td>\n",
       "      <td>1</td>\n",
       "      <td>0</td>\n",
       "      <td>0</td>\n",
       "      <td>0</td>\n",
       "      <td>0</td>\n",
       "      <td>0</td>\n",
       "      <td>0</td>\n",
       "      <td>0</td>\n",
       "      <td>0</td>\n",
       "      <td>0</td>\n",
       "      <td>0</td>\n",
       "      <td>0</td>\n",
       "      <td>0</td>\n",
       "      <td>0</td>\n",
       "      <td>0</td>\n",
       "      <td>0</td>\n",
       "      <td>0</td>\n",
       "      <td>0</td>\n",
       "      <td>0</td>\n",
       "      <td>0</td>\n",
       "      <td>1</td>\n",
       "      <td>0</td>\n",
       "      <td>0</td>\n",
       "      <td>0</td>\n",
       "      <td>0</td>\n",
       "      <td>0</td>\n",
       "      <td>0</td>\n",
       "      <td>0</td>\n",
       "      <td>0</td>\n",
       "      <td>2</td>\n",
       "      <td>0</td>\n",
       "      <td>2</td>\n",
       "      <td>10</td>\n",
       "      <td>older-adult</td>\n",
       "      <td>3</td>\n",
       "      <td>2</td>\n",
       "      <td>1</td>\n",
       "      <td>normal weight</td>\n",
       "      <td>2</td>\n",
       "      <td>excellent</td>\n",
       "      <td>0</td>\n",
       "      <td>excellent</td>\n",
       "      <td>0</td>\n",
       "      <td>optimal</td>\n",
       "      <td>2</td>\n",
       "      <td>5</td>\n",
       "      <td>above average</td>\n",
       "      <td>1</td>\n",
       "    </tr>\n",
       "    <tr>\n",
       "      <th>4</th>\n",
       "      <td>alabama</td>\n",
       "      <td>female</td>\n",
       "      <td>fair</td>\n",
       "      <td>2.00</td>\n",
       "      <td>0.00</td>\n",
       "      <td>0</td>\n",
       "      <td>1</td>\n",
       "      <td>9.00</td>\n",
       "      <td>0</td>\n",
       "      <td>0</td>\n",
       "      <td>0</td>\n",
       "      <td>0</td>\n",
       "      <td>0</td>\n",
       "      <td>0</td>\n",
       "      <td>0</td>\n",
       "      <td>0</td>\n",
       "      <td>0</td>\n",
       "      <td>0</td>\n",
       "      <td>0</td>\n",
       "      <td>0</td>\n",
       "      <td>0</td>\n",
       "      <td>0</td>\n",
       "      <td>0</td>\n",
       "      <td>0</td>\n",
       "      <td>0</td>\n",
       "      <td>0</td>\n",
       "      <td>0</td>\n",
       "      <td>1</td>\n",
       "      <td>white</td>\n",
       "      <td>age 40 to 44</td>\n",
       "      <td>1.57</td>\n",
       "      <td>54.43</td>\n",
       "      <td>1</td>\n",
       "      <td>0</td>\n",
       "      <td>0</td>\n",
       "      <td>1</td>\n",
       "      <td>0</td>\n",
       "      <td>0</td>\n",
       "      <td>0</td>\n",
       "      <td>21.90</td>\n",
       "      <td>0</td>\n",
       "      <td>0</td>\n",
       "      <td>0</td>\n",
       "      <td>1</td>\n",
       "      <td>0</td>\n",
       "      <td>0</td>\n",
       "      <td>0</td>\n",
       "      <td>0</td>\n",
       "      <td>0</td>\n",
       "      <td>0</td>\n",
       "      <td>0</td>\n",
       "      <td>0</td>\n",
       "      <td>0</td>\n",
       "      <td>0</td>\n",
       "      <td>0</td>\n",
       "      <td>0</td>\n",
       "      <td>0</td>\n",
       "      <td>0</td>\n",
       "      <td>0</td>\n",
       "      <td>0</td>\n",
       "      <td>0</td>\n",
       "      <td>0</td>\n",
       "      <td>0</td>\n",
       "      <td>0</td>\n",
       "      <td>0</td>\n",
       "      <td>0</td>\n",
       "      <td>0</td>\n",
       "      <td>0</td>\n",
       "      <td>0</td>\n",
       "      <td>0</td>\n",
       "      <td>0</td>\n",
       "      <td>0</td>\n",
       "      <td>0</td>\n",
       "      <td>0</td>\n",
       "      <td>0</td>\n",
       "      <td>5</td>\n",
       "      <td>middle-aged</td>\n",
       "      <td>2</td>\n",
       "      <td>2</td>\n",
       "      <td>1</td>\n",
       "      <td>normal weight</td>\n",
       "      <td>2</td>\n",
       "      <td>good</td>\n",
       "      <td>1</td>\n",
       "      <td>excellent</td>\n",
       "      <td>0</td>\n",
       "      <td>optimal</td>\n",
       "      <td>2</td>\n",
       "      <td>2</td>\n",
       "      <td>below average</td>\n",
       "      <td>0</td>\n",
       "    </tr>\n",
       "  </tbody>\n",
       "</table>\n",
       "</div>"
      ],
      "text/plain": [
       "     State     Sex GeneralHealth  PhysicalHealthDays  MentalHealthDays  LastCheckupTime  PhysicalActivities  SleepHours  RemovedTeeth  HadHeartAttack  HadAngina  HadStroke  HadAsthma  HadSkinCancer  HadCOPD  HadDepressiveDisorder  HadKidneyDisease  HadArthritis  HadDiabetes  DeafOrHardOfHearing  BlindOrVisionDifficulty  DifficultyConcentrating  DifficultyWalking  DifficultyDressingBathing  DifficultyErrands  SmokerStatus  ECigaretteUsage  ChestScan RaceEthnicityCategory      AgeCategory  HeightInMeters  WeightInKilograms  AlcoholDrinkers  HIVTesting  FluVaxLast12  PneumoVaxEver  TetanusLast10Tdap  HighRiskLastYear  CovidPos  CalculatedBMI  GeneralHealth_missing_indicator  LastCheckupTime_missing_indicator  PhysicalActivities_missing_indicator  RemovedTeeth_missing_indicator  HadHeartAttack_missing_indicator  HadAngina_missing_indicator  HadStroke_missing_indicator  HadAsthma_missing_indicator  HadSkinCancer_missing_indicator  HadCOPD_missing_indicator  \\\n",
       "0  alabama  female     very good                0.00              0.00                0                   0        8.00             0               0          0          0          0              0        0                      0                 0             0            1                    0                        0                        0                  0                          0                  0             0                1          0                 white  age 80 or older            1.70              80.74                0           0             1              0                  1                 0         0          27.35                                0                                  0                                     0                               1                                 0                            0                            0                            0                                0                          0   \n",
       "1  alabama  female     excellent                0.00              0.00                0                   0        6.00             0               0          0          0          0              1        0                      0                 0             0            0                    0                        0                        0                  0                          0                  0             0                0          0                 white  age 80 or older            1.60              68.04                0           0             0              0                  0                 0         0          26.58                                0                                  1                                     0                               1                                 0                            0                            0                            0                                0                          0   \n",
       "2  alabama  female     very good                2.00              3.00                0                   1        5.00             0               0          0          0          0              1        0                      0                 0             0            0                    0                        0                        0                  0                          0                  0             0                0          0                 white     age 55 to 59            1.57              63.50                0           0             0              0                  0                 0         1          25.76                                0                                  0                                     0                               1                                 0                            0                            0                            0                                0                          0   \n",
       "3  alabama  female     excellent                0.00              0.00                0                   1        7.00             0               0          0          0          1              0        0                      0                 0             1            0                    0                        0                        0                  0                          0                  0             2                0          1                 white     age 65 to 69            1.65              63.50                0           0             1              1                  0                 0         0          23.32                                0                                  0                                     0                               1                                 0                            0                            0                            0                                0                          0   \n",
       "4  alabama  female          fair                2.00              0.00                0                   1        9.00             0               0          0          0          0              0        0                      0                 0             0            0                    0                        0                        0                  0                          0                  0             0                0          1                 white     age 40 to 44            1.57              54.43                1           0             0              1                  0                 0         0          21.90                                0                                  0                                     0                               1                                 0                            0                            0                            0                                0                          0   \n",
       "\n",
       "   HadDepressiveDisorder_missing_indicator  HadKidneyDisease_missing_indicator  HadArthritis_missing_indicator  HadDiabetes_missing_indicator  DeafOrHardOfHearing_missing_indicator  BlindOrVisionDifficulty_missing_indicator  DifficultyConcentrating_missing_indicator  DifficultyWalking_missing_indicator  DifficultyDressingBathing_missing_indicator  DifficultyErrands_missing_indicator  SmokerStatus_missing_indicator  ECigaretteUsage_missing_indicator  RaceEthnicityCategory_missing_indicator  AgeCategory_missing_indicator  ChestScan_missing_indicator  AlcoholDrinkers_missing_indicator  HIVTesting_missing_indicator  FluVaxLast12_missing_indicator  PneumoVaxEver_missing_indicator  TetanusLast10Tdap_missing_indicator  HighRiskLastYear_missing_indicator  CovidPos_missing_indicator  ChronicConditionCount  ImpairmentCount  ComorbidityCount  AgeCategory_numeric AgeCategory_Classification  AgeCategory_Classification_numeric  Sex_numeric  RaceEthnicityCategory_numeric  \\\n",
       "0                                        0                                   0                               0                              0                                      0                                          0                                          0                                    0                                            0                                    0                               0                                  0                                        0                              0                            0                                  0                             0                               0                                0                                    0                                   0                           0                      1                0                 1                   13                older-adult                                   3            2                              1   \n",
       "1                                        0                                   0                               0                              0                                      0                                          0                                          0                                    0                                            0                                    0                               0                                  0                                        0                              0                            0                                  0                             0                               0                                0                                    0                                   0                           0                      1                0                 1                   13                older-adult                                   3            2                              1   \n",
       "2                                        0                                   0                               0                              0                                      0                                          0                                          0                                    0                                            0                                    0                               0                                  0                                        0                              0                            0                                  0                             0                               0                                0                                    1                                   0                           0                      1                0                 1                    8                older-adult                                   3            2                              1   \n",
       "3                                        0                                   0                               0                              0                                      0                                          0                                          0                                    0                                            0                                    0                               0                                  0                                        0                              1                            0                                  0                             0                               0                                0                                    0                                   0                           0                      2                0                 2                   10                older-adult                                   3            2                              1   \n",
       "4                                        0                                   0                               0                              0                                      0                                          0                                          0                                    0                                            0                                    0                               0                                  0                                        0                              0                            0                                  0                             0                               0                                0                                    0                                   0                           0                      0                0                 0                    5                middle-aged                                   2            2                              1   \n",
       "\n",
       "  CalculatedBMI_Classification  CalculatedBMI_Classification_numeric PhysicalHealthDays_Classification  PhysicalHealthDays_Classification_numeric MentalHealthDays_Classification  MentalHealthDays_Classification_numeric SleepHours_Classification  SleepHours_Classification_numeric  GeneralHealth_numeric GeneralHealth_Classification  GeneralHealth_Classification_numeric  \n",
       "0                   overweight                                     3                         excellent                                          0                       excellent                                        0                   optimal                                  2                      4                above average                                     1  \n",
       "1                   overweight                                     3                         excellent                                          0                       excellent                                        0                       low                                  1                      5                above average                                     1  \n",
       "2                   overweight                                     3                              good                                          1                            good                                        1                       low                                  1                      4                above average                                     1  \n",
       "3                normal weight                                     2                         excellent                                          0                       excellent                                        0                   optimal                                  2                      5                above average                                     1  \n",
       "4                normal weight                                     2                              good                                          1                       excellent                                        0                   optimal                                  2                      2                below average                                     0  "
      ]
     },
     "execution_count": 4,
     "metadata": {},
     "output_type": "execute_result"
    }
   ],
   "source": [
    "df.head()"
   ]
  },
  {
   "cell_type": "code",
   "execution_count": 5,
   "metadata": {},
   "outputs": [
    {
     "data": {
      "text/plain": [
       "Index(['State', 'Sex', 'GeneralHealth', 'PhysicalHealthDays', 'MentalHealthDays', 'LastCheckupTime', 'PhysicalActivities', 'SleepHours', 'RemovedTeeth', 'HadHeartAttack', 'HadAngina', 'HadStroke', 'HadAsthma', 'HadSkinCancer', 'HadCOPD', 'HadDepressiveDisorder', 'HadKidneyDisease', 'HadArthritis', 'HadDiabetes', 'DeafOrHardOfHearing', 'BlindOrVisionDifficulty', 'DifficultyConcentrating', 'DifficultyWalking', 'DifficultyDressingBathing', 'DifficultyErrands', 'SmokerStatus', 'ECigaretteUsage', 'ChestScan', 'RaceEthnicityCategory', 'AgeCategory', 'HeightInMeters', 'WeightInKilograms', 'AlcoholDrinkers', 'HIVTesting', 'FluVaxLast12', 'PneumoVaxEver', 'TetanusLast10Tdap', 'HighRiskLastYear', 'CovidPos', 'CalculatedBMI', 'GeneralHealth_missing_indicator', 'LastCheckupTime_missing_indicator', 'PhysicalActivities_missing_indicator', 'RemovedTeeth_missing_indicator', 'HadHeartAttack_missing_indicator', 'HadAngina_missing_indicator', 'HadStroke_missing_indicator', 'HadAsthma_missing_indicator',\n",
       "       'HadSkinCancer_missing_indicator', 'HadCOPD_missing_indicator', 'HadDepressiveDisorder_missing_indicator', 'HadKidneyDisease_missing_indicator', 'HadArthritis_missing_indicator', 'HadDiabetes_missing_indicator', 'DeafOrHardOfHearing_missing_indicator', 'BlindOrVisionDifficulty_missing_indicator', 'DifficultyConcentrating_missing_indicator', 'DifficultyWalking_missing_indicator', 'DifficultyDressingBathing_missing_indicator', 'DifficultyErrands_missing_indicator', 'SmokerStatus_missing_indicator', 'ECigaretteUsage_missing_indicator', 'RaceEthnicityCategory_missing_indicator', 'AgeCategory_missing_indicator', 'ChestScan_missing_indicator', 'AlcoholDrinkers_missing_indicator', 'HIVTesting_missing_indicator', 'FluVaxLast12_missing_indicator', 'PneumoVaxEver_missing_indicator', 'TetanusLast10Tdap_missing_indicator', 'HighRiskLastYear_missing_indicator', 'CovidPos_missing_indicator', 'ChronicConditionCount', 'ImpairmentCount', 'ComorbidityCount', 'AgeCategory_numeric',\n",
       "       'AgeCategory_Classification', 'AgeCategory_Classification_numeric', 'Sex_numeric', 'RaceEthnicityCategory_numeric', 'CalculatedBMI_Classification', 'CalculatedBMI_Classification_numeric', 'PhysicalHealthDays_Classification', 'PhysicalHealthDays_Classification_numeric', 'MentalHealthDays_Classification', 'MentalHealthDays_Classification_numeric', 'SleepHours_Classification', 'SleepHours_Classification_numeric', 'GeneralHealth_numeric', 'GeneralHealth_Classification', 'GeneralHealth_Classification_numeric'],\n",
       "      dtype='object')"
      ]
     },
     "execution_count": 5,
     "metadata": {},
     "output_type": "execute_result"
    }
   ],
   "source": [
    "df.columns"
   ]
  },
  {
   "cell_type": "markdown",
   "metadata": {},
   "source": [
    "## Risk Score Feature"
   ]
  },
  {
   "cell_type": "code",
   "execution_count": 6,
   "metadata": {},
   "outputs": [
    {
     "data": {
      "text/html": [
       "<div>\n",
       "<style scoped>\n",
       "    .dataframe tbody tr th:only-of-type {\n",
       "        vertical-align: middle;\n",
       "    }\n",
       "\n",
       "    .dataframe tbody tr th {\n",
       "        vertical-align: top;\n",
       "    }\n",
       "\n",
       "    .dataframe thead th {\n",
       "        text-align: right;\n",
       "    }\n",
       "</style>\n",
       "<table border=\"1\" class=\"dataframe\">\n",
       "  <thead>\n",
       "    <tr style=\"text-align: right;\">\n",
       "      <th></th>\n",
       "      <th>State</th>\n",
       "      <th>Sex</th>\n",
       "      <th>GeneralHealth</th>\n",
       "      <th>PhysicalHealthDays</th>\n",
       "      <th>MentalHealthDays</th>\n",
       "      <th>LastCheckupTime</th>\n",
       "      <th>PhysicalActivities</th>\n",
       "      <th>SleepHours</th>\n",
       "      <th>RemovedTeeth</th>\n",
       "      <th>HadHeartAttack</th>\n",
       "      <th>HadAngina</th>\n",
       "      <th>HadStroke</th>\n",
       "      <th>HadAsthma</th>\n",
       "      <th>HadSkinCancer</th>\n",
       "      <th>HadCOPD</th>\n",
       "      <th>HadDepressiveDisorder</th>\n",
       "      <th>HadKidneyDisease</th>\n",
       "      <th>HadArthritis</th>\n",
       "      <th>HadDiabetes</th>\n",
       "      <th>DeafOrHardOfHearing</th>\n",
       "      <th>BlindOrVisionDifficulty</th>\n",
       "      <th>DifficultyConcentrating</th>\n",
       "      <th>DifficultyWalking</th>\n",
       "      <th>DifficultyDressingBathing</th>\n",
       "      <th>DifficultyErrands</th>\n",
       "      <th>SmokerStatus</th>\n",
       "      <th>ECigaretteUsage</th>\n",
       "      <th>ChestScan</th>\n",
       "      <th>RaceEthnicityCategory</th>\n",
       "      <th>AgeCategory</th>\n",
       "      <th>HeightInMeters</th>\n",
       "      <th>WeightInKilograms</th>\n",
       "      <th>AlcoholDrinkers</th>\n",
       "      <th>HIVTesting</th>\n",
       "      <th>FluVaxLast12</th>\n",
       "      <th>PneumoVaxEver</th>\n",
       "      <th>TetanusLast10Tdap</th>\n",
       "      <th>HighRiskLastYear</th>\n",
       "      <th>CovidPos</th>\n",
       "      <th>CalculatedBMI</th>\n",
       "      <th>GeneralHealth_missing_indicator</th>\n",
       "      <th>LastCheckupTime_missing_indicator</th>\n",
       "      <th>PhysicalActivities_missing_indicator</th>\n",
       "      <th>RemovedTeeth_missing_indicator</th>\n",
       "      <th>HadHeartAttack_missing_indicator</th>\n",
       "      <th>HadAngina_missing_indicator</th>\n",
       "      <th>HadStroke_missing_indicator</th>\n",
       "      <th>HadAsthma_missing_indicator</th>\n",
       "      <th>HadSkinCancer_missing_indicator</th>\n",
       "      <th>HadCOPD_missing_indicator</th>\n",
       "      <th>HadDepressiveDisorder_missing_indicator</th>\n",
       "      <th>HadKidneyDisease_missing_indicator</th>\n",
       "      <th>HadArthritis_missing_indicator</th>\n",
       "      <th>HadDiabetes_missing_indicator</th>\n",
       "      <th>DeafOrHardOfHearing_missing_indicator</th>\n",
       "      <th>BlindOrVisionDifficulty_missing_indicator</th>\n",
       "      <th>DifficultyConcentrating_missing_indicator</th>\n",
       "      <th>DifficultyWalking_missing_indicator</th>\n",
       "      <th>DifficultyDressingBathing_missing_indicator</th>\n",
       "      <th>DifficultyErrands_missing_indicator</th>\n",
       "      <th>SmokerStatus_missing_indicator</th>\n",
       "      <th>ECigaretteUsage_missing_indicator</th>\n",
       "      <th>RaceEthnicityCategory_missing_indicator</th>\n",
       "      <th>AgeCategory_missing_indicator</th>\n",
       "      <th>ChestScan_missing_indicator</th>\n",
       "      <th>AlcoholDrinkers_missing_indicator</th>\n",
       "      <th>HIVTesting_missing_indicator</th>\n",
       "      <th>FluVaxLast12_missing_indicator</th>\n",
       "      <th>PneumoVaxEver_missing_indicator</th>\n",
       "      <th>TetanusLast10Tdap_missing_indicator</th>\n",
       "      <th>HighRiskLastYear_missing_indicator</th>\n",
       "      <th>CovidPos_missing_indicator</th>\n",
       "      <th>ChronicConditionCount</th>\n",
       "      <th>ImpairmentCount</th>\n",
       "      <th>ComorbidityCount</th>\n",
       "      <th>AgeCategory_numeric</th>\n",
       "      <th>AgeCategory_Classification</th>\n",
       "      <th>AgeCategory_Classification_numeric</th>\n",
       "      <th>Sex_numeric</th>\n",
       "      <th>RaceEthnicityCategory_numeric</th>\n",
       "      <th>CalculatedBMI_Classification</th>\n",
       "      <th>CalculatedBMI_Classification_numeric</th>\n",
       "      <th>PhysicalHealthDays_Classification</th>\n",
       "      <th>PhysicalHealthDays_Classification_numeric</th>\n",
       "      <th>MentalHealthDays_Classification</th>\n",
       "      <th>MentalHealthDays_Classification_numeric</th>\n",
       "      <th>SleepHours_Classification</th>\n",
       "      <th>SleepHours_Classification_numeric</th>\n",
       "      <th>GeneralHealth_numeric</th>\n",
       "      <th>GeneralHealth_Classification</th>\n",
       "      <th>GeneralHealth_Classification_numeric</th>\n",
       "    </tr>\n",
       "  </thead>\n",
       "  <tbody>\n",
       "    <tr>\n",
       "      <th>0</th>\n",
       "      <td>alabama</td>\n",
       "      <td>female</td>\n",
       "      <td>very good</td>\n",
       "      <td>0.00</td>\n",
       "      <td>0.00</td>\n",
       "      <td>0</td>\n",
       "      <td>0</td>\n",
       "      <td>8.00</td>\n",
       "      <td>0</td>\n",
       "      <td>0</td>\n",
       "      <td>0</td>\n",
       "      <td>0</td>\n",
       "      <td>0</td>\n",
       "      <td>0</td>\n",
       "      <td>0</td>\n",
       "      <td>0</td>\n",
       "      <td>0</td>\n",
       "      <td>0</td>\n",
       "      <td>1</td>\n",
       "      <td>0</td>\n",
       "      <td>0</td>\n",
       "      <td>0</td>\n",
       "      <td>0</td>\n",
       "      <td>0</td>\n",
       "      <td>0</td>\n",
       "      <td>0</td>\n",
       "      <td>1</td>\n",
       "      <td>0</td>\n",
       "      <td>white</td>\n",
       "      <td>age 80 or older</td>\n",
       "      <td>1.70</td>\n",
       "      <td>80.74</td>\n",
       "      <td>0</td>\n",
       "      <td>0</td>\n",
       "      <td>1</td>\n",
       "      <td>0</td>\n",
       "      <td>1</td>\n",
       "      <td>0</td>\n",
       "      <td>0</td>\n",
       "      <td>27.35</td>\n",
       "      <td>0</td>\n",
       "      <td>0</td>\n",
       "      <td>0</td>\n",
       "      <td>1</td>\n",
       "      <td>0</td>\n",
       "      <td>0</td>\n",
       "      <td>0</td>\n",
       "      <td>0</td>\n",
       "      <td>0</td>\n",
       "      <td>0</td>\n",
       "      <td>0</td>\n",
       "      <td>0</td>\n",
       "      <td>0</td>\n",
       "      <td>0</td>\n",
       "      <td>0</td>\n",
       "      <td>0</td>\n",
       "      <td>0</td>\n",
       "      <td>0</td>\n",
       "      <td>0</td>\n",
       "      <td>0</td>\n",
       "      <td>0</td>\n",
       "      <td>0</td>\n",
       "      <td>0</td>\n",
       "      <td>0</td>\n",
       "      <td>0</td>\n",
       "      <td>0</td>\n",
       "      <td>0</td>\n",
       "      <td>0</td>\n",
       "      <td>0</td>\n",
       "      <td>0</td>\n",
       "      <td>0</td>\n",
       "      <td>0</td>\n",
       "      <td>1</td>\n",
       "      <td>0</td>\n",
       "      <td>1</td>\n",
       "      <td>13</td>\n",
       "      <td>older-adult</td>\n",
       "      <td>3</td>\n",
       "      <td>2</td>\n",
       "      <td>1</td>\n",
       "      <td>overweight</td>\n",
       "      <td>3</td>\n",
       "      <td>excellent</td>\n",
       "      <td>0</td>\n",
       "      <td>excellent</td>\n",
       "      <td>0</td>\n",
       "      <td>optimal</td>\n",
       "      <td>2</td>\n",
       "      <td>4</td>\n",
       "      <td>above average</td>\n",
       "      <td>1</td>\n",
       "    </tr>\n",
       "    <tr>\n",
       "      <th>1</th>\n",
       "      <td>alabama</td>\n",
       "      <td>female</td>\n",
       "      <td>excellent</td>\n",
       "      <td>0.00</td>\n",
       "      <td>0.00</td>\n",
       "      <td>0</td>\n",
       "      <td>0</td>\n",
       "      <td>6.00</td>\n",
       "      <td>0</td>\n",
       "      <td>0</td>\n",
       "      <td>0</td>\n",
       "      <td>0</td>\n",
       "      <td>0</td>\n",
       "      <td>1</td>\n",
       "      <td>0</td>\n",
       "      <td>0</td>\n",
       "      <td>0</td>\n",
       "      <td>0</td>\n",
       "      <td>0</td>\n",
       "      <td>0</td>\n",
       "      <td>0</td>\n",
       "      <td>0</td>\n",
       "      <td>0</td>\n",
       "      <td>0</td>\n",
       "      <td>0</td>\n",
       "      <td>0</td>\n",
       "      <td>0</td>\n",
       "      <td>0</td>\n",
       "      <td>white</td>\n",
       "      <td>age 80 or older</td>\n",
       "      <td>1.60</td>\n",
       "      <td>68.04</td>\n",
       "      <td>0</td>\n",
       "      <td>0</td>\n",
       "      <td>0</td>\n",
       "      <td>0</td>\n",
       "      <td>0</td>\n",
       "      <td>0</td>\n",
       "      <td>0</td>\n",
       "      <td>26.58</td>\n",
       "      <td>0</td>\n",
       "      <td>1</td>\n",
       "      <td>0</td>\n",
       "      <td>1</td>\n",
       "      <td>0</td>\n",
       "      <td>0</td>\n",
       "      <td>0</td>\n",
       "      <td>0</td>\n",
       "      <td>0</td>\n",
       "      <td>0</td>\n",
       "      <td>0</td>\n",
       "      <td>0</td>\n",
       "      <td>0</td>\n",
       "      <td>0</td>\n",
       "      <td>0</td>\n",
       "      <td>0</td>\n",
       "      <td>0</td>\n",
       "      <td>0</td>\n",
       "      <td>0</td>\n",
       "      <td>0</td>\n",
       "      <td>0</td>\n",
       "      <td>0</td>\n",
       "      <td>0</td>\n",
       "      <td>0</td>\n",
       "      <td>0</td>\n",
       "      <td>0</td>\n",
       "      <td>0</td>\n",
       "      <td>0</td>\n",
       "      <td>0</td>\n",
       "      <td>0</td>\n",
       "      <td>0</td>\n",
       "      <td>0</td>\n",
       "      <td>1</td>\n",
       "      <td>0</td>\n",
       "      <td>1</td>\n",
       "      <td>13</td>\n",
       "      <td>older-adult</td>\n",
       "      <td>3</td>\n",
       "      <td>2</td>\n",
       "      <td>1</td>\n",
       "      <td>overweight</td>\n",
       "      <td>3</td>\n",
       "      <td>excellent</td>\n",
       "      <td>0</td>\n",
       "      <td>excellent</td>\n",
       "      <td>0</td>\n",
       "      <td>low</td>\n",
       "      <td>1</td>\n",
       "      <td>5</td>\n",
       "      <td>above average</td>\n",
       "      <td>1</td>\n",
       "    </tr>\n",
       "    <tr>\n",
       "      <th>2</th>\n",
       "      <td>alabama</td>\n",
       "      <td>female</td>\n",
       "      <td>very good</td>\n",
       "      <td>2.00</td>\n",
       "      <td>3.00</td>\n",
       "      <td>0</td>\n",
       "      <td>1</td>\n",
       "      <td>5.00</td>\n",
       "      <td>0</td>\n",
       "      <td>0</td>\n",
       "      <td>0</td>\n",
       "      <td>0</td>\n",
       "      <td>0</td>\n",
       "      <td>1</td>\n",
       "      <td>0</td>\n",
       "      <td>0</td>\n",
       "      <td>0</td>\n",
       "      <td>0</td>\n",
       "      <td>0</td>\n",
       "      <td>0</td>\n",
       "      <td>0</td>\n",
       "      <td>0</td>\n",
       "      <td>0</td>\n",
       "      <td>0</td>\n",
       "      <td>0</td>\n",
       "      <td>0</td>\n",
       "      <td>0</td>\n",
       "      <td>0</td>\n",
       "      <td>white</td>\n",
       "      <td>age 55 to 59</td>\n",
       "      <td>1.57</td>\n",
       "      <td>63.50</td>\n",
       "      <td>0</td>\n",
       "      <td>0</td>\n",
       "      <td>0</td>\n",
       "      <td>0</td>\n",
       "      <td>0</td>\n",
       "      <td>0</td>\n",
       "      <td>1</td>\n",
       "      <td>25.76</td>\n",
       "      <td>0</td>\n",
       "      <td>0</td>\n",
       "      <td>0</td>\n",
       "      <td>1</td>\n",
       "      <td>0</td>\n",
       "      <td>0</td>\n",
       "      <td>0</td>\n",
       "      <td>0</td>\n",
       "      <td>0</td>\n",
       "      <td>0</td>\n",
       "      <td>0</td>\n",
       "      <td>0</td>\n",
       "      <td>0</td>\n",
       "      <td>0</td>\n",
       "      <td>0</td>\n",
       "      <td>0</td>\n",
       "      <td>0</td>\n",
       "      <td>0</td>\n",
       "      <td>0</td>\n",
       "      <td>0</td>\n",
       "      <td>0</td>\n",
       "      <td>0</td>\n",
       "      <td>0</td>\n",
       "      <td>0</td>\n",
       "      <td>0</td>\n",
       "      <td>0</td>\n",
       "      <td>0</td>\n",
       "      <td>0</td>\n",
       "      <td>0</td>\n",
       "      <td>1</td>\n",
       "      <td>0</td>\n",
       "      <td>0</td>\n",
       "      <td>1</td>\n",
       "      <td>0</td>\n",
       "      <td>1</td>\n",
       "      <td>8</td>\n",
       "      <td>older-adult</td>\n",
       "      <td>3</td>\n",
       "      <td>2</td>\n",
       "      <td>1</td>\n",
       "      <td>overweight</td>\n",
       "      <td>3</td>\n",
       "      <td>good</td>\n",
       "      <td>1</td>\n",
       "      <td>good</td>\n",
       "      <td>1</td>\n",
       "      <td>low</td>\n",
       "      <td>1</td>\n",
       "      <td>4</td>\n",
       "      <td>above average</td>\n",
       "      <td>1</td>\n",
       "    </tr>\n",
       "    <tr>\n",
       "      <th>3</th>\n",
       "      <td>alabama</td>\n",
       "      <td>female</td>\n",
       "      <td>excellent</td>\n",
       "      <td>0.00</td>\n",
       "      <td>0.00</td>\n",
       "      <td>0</td>\n",
       "      <td>1</td>\n",
       "      <td>7.00</td>\n",
       "      <td>0</td>\n",
       "      <td>0</td>\n",
       "      <td>0</td>\n",
       "      <td>0</td>\n",
       "      <td>1</td>\n",
       "      <td>0</td>\n",
       "      <td>0</td>\n",
       "      <td>0</td>\n",
       "      <td>0</td>\n",
       "      <td>1</td>\n",
       "      <td>0</td>\n",
       "      <td>0</td>\n",
       "      <td>0</td>\n",
       "      <td>0</td>\n",
       "      <td>0</td>\n",
       "      <td>0</td>\n",
       "      <td>0</td>\n",
       "      <td>2</td>\n",
       "      <td>0</td>\n",
       "      <td>1</td>\n",
       "      <td>white</td>\n",
       "      <td>age 65 to 69</td>\n",
       "      <td>1.65</td>\n",
       "      <td>63.50</td>\n",
       "      <td>0</td>\n",
       "      <td>0</td>\n",
       "      <td>1</td>\n",
       "      <td>1</td>\n",
       "      <td>0</td>\n",
       "      <td>0</td>\n",
       "      <td>0</td>\n",
       "      <td>23.32</td>\n",
       "      <td>0</td>\n",
       "      <td>0</td>\n",
       "      <td>0</td>\n",
       "      <td>1</td>\n",
       "      <td>0</td>\n",
       "      <td>0</td>\n",
       "      <td>0</td>\n",
       "      <td>0</td>\n",
       "      <td>0</td>\n",
       "      <td>0</td>\n",
       "      <td>0</td>\n",
       "      <td>0</td>\n",
       "      <td>0</td>\n",
       "      <td>0</td>\n",
       "      <td>0</td>\n",
       "      <td>0</td>\n",
       "      <td>0</td>\n",
       "      <td>0</td>\n",
       "      <td>0</td>\n",
       "      <td>0</td>\n",
       "      <td>0</td>\n",
       "      <td>0</td>\n",
       "      <td>0</td>\n",
       "      <td>1</td>\n",
       "      <td>0</td>\n",
       "      <td>0</td>\n",
       "      <td>0</td>\n",
       "      <td>0</td>\n",
       "      <td>0</td>\n",
       "      <td>0</td>\n",
       "      <td>0</td>\n",
       "      <td>0</td>\n",
       "      <td>2</td>\n",
       "      <td>0</td>\n",
       "      <td>2</td>\n",
       "      <td>10</td>\n",
       "      <td>older-adult</td>\n",
       "      <td>3</td>\n",
       "      <td>2</td>\n",
       "      <td>1</td>\n",
       "      <td>normal weight</td>\n",
       "      <td>2</td>\n",
       "      <td>excellent</td>\n",
       "      <td>0</td>\n",
       "      <td>excellent</td>\n",
       "      <td>0</td>\n",
       "      <td>optimal</td>\n",
       "      <td>2</td>\n",
       "      <td>5</td>\n",
       "      <td>above average</td>\n",
       "      <td>1</td>\n",
       "    </tr>\n",
       "    <tr>\n",
       "      <th>4</th>\n",
       "      <td>alabama</td>\n",
       "      <td>female</td>\n",
       "      <td>fair</td>\n",
       "      <td>2.00</td>\n",
       "      <td>0.00</td>\n",
       "      <td>0</td>\n",
       "      <td>1</td>\n",
       "      <td>9.00</td>\n",
       "      <td>0</td>\n",
       "      <td>0</td>\n",
       "      <td>0</td>\n",
       "      <td>0</td>\n",
       "      <td>0</td>\n",
       "      <td>0</td>\n",
       "      <td>0</td>\n",
       "      <td>0</td>\n",
       "      <td>0</td>\n",
       "      <td>0</td>\n",
       "      <td>0</td>\n",
       "      <td>0</td>\n",
       "      <td>0</td>\n",
       "      <td>0</td>\n",
       "      <td>0</td>\n",
       "      <td>0</td>\n",
       "      <td>0</td>\n",
       "      <td>0</td>\n",
       "      <td>0</td>\n",
       "      <td>1</td>\n",
       "      <td>white</td>\n",
       "      <td>age 40 to 44</td>\n",
       "      <td>1.57</td>\n",
       "      <td>54.43</td>\n",
       "      <td>1</td>\n",
       "      <td>0</td>\n",
       "      <td>0</td>\n",
       "      <td>1</td>\n",
       "      <td>0</td>\n",
       "      <td>0</td>\n",
       "      <td>0</td>\n",
       "      <td>21.90</td>\n",
       "      <td>0</td>\n",
       "      <td>0</td>\n",
       "      <td>0</td>\n",
       "      <td>1</td>\n",
       "      <td>0</td>\n",
       "      <td>0</td>\n",
       "      <td>0</td>\n",
       "      <td>0</td>\n",
       "      <td>0</td>\n",
       "      <td>0</td>\n",
       "      <td>0</td>\n",
       "      <td>0</td>\n",
       "      <td>0</td>\n",
       "      <td>0</td>\n",
       "      <td>0</td>\n",
       "      <td>0</td>\n",
       "      <td>0</td>\n",
       "      <td>0</td>\n",
       "      <td>0</td>\n",
       "      <td>0</td>\n",
       "      <td>0</td>\n",
       "      <td>0</td>\n",
       "      <td>0</td>\n",
       "      <td>0</td>\n",
       "      <td>0</td>\n",
       "      <td>0</td>\n",
       "      <td>0</td>\n",
       "      <td>0</td>\n",
       "      <td>0</td>\n",
       "      <td>0</td>\n",
       "      <td>0</td>\n",
       "      <td>0</td>\n",
       "      <td>0</td>\n",
       "      <td>0</td>\n",
       "      <td>0</td>\n",
       "      <td>5</td>\n",
       "      <td>middle-aged</td>\n",
       "      <td>2</td>\n",
       "      <td>2</td>\n",
       "      <td>1</td>\n",
       "      <td>normal weight</td>\n",
       "      <td>2</td>\n",
       "      <td>good</td>\n",
       "      <td>1</td>\n",
       "      <td>excellent</td>\n",
       "      <td>0</td>\n",
       "      <td>optimal</td>\n",
       "      <td>2</td>\n",
       "      <td>2</td>\n",
       "      <td>below average</td>\n",
       "      <td>0</td>\n",
       "    </tr>\n",
       "  </tbody>\n",
       "</table>\n",
       "</div>"
      ],
      "text/plain": [
       "     State     Sex GeneralHealth  PhysicalHealthDays  MentalHealthDays  LastCheckupTime  PhysicalActivities  SleepHours  RemovedTeeth  HadHeartAttack  HadAngina  HadStroke  HadAsthma  HadSkinCancer  HadCOPD  HadDepressiveDisorder  HadKidneyDisease  HadArthritis  HadDiabetes  DeafOrHardOfHearing  BlindOrVisionDifficulty  DifficultyConcentrating  DifficultyWalking  DifficultyDressingBathing  DifficultyErrands  SmokerStatus  ECigaretteUsage  ChestScan RaceEthnicityCategory      AgeCategory  HeightInMeters  WeightInKilograms  AlcoholDrinkers  HIVTesting  FluVaxLast12  PneumoVaxEver  TetanusLast10Tdap  HighRiskLastYear  CovidPos  CalculatedBMI  GeneralHealth_missing_indicator  LastCheckupTime_missing_indicator  PhysicalActivities_missing_indicator  RemovedTeeth_missing_indicator  HadHeartAttack_missing_indicator  HadAngina_missing_indicator  HadStroke_missing_indicator  HadAsthma_missing_indicator  HadSkinCancer_missing_indicator  HadCOPD_missing_indicator  \\\n",
       "0  alabama  female     very good                0.00              0.00                0                   0        8.00             0               0          0          0          0              0        0                      0                 0             0            1                    0                        0                        0                  0                          0                  0             0                1          0                 white  age 80 or older            1.70              80.74                0           0             1              0                  1                 0         0          27.35                                0                                  0                                     0                               1                                 0                            0                            0                            0                                0                          0   \n",
       "1  alabama  female     excellent                0.00              0.00                0                   0        6.00             0               0          0          0          0              1        0                      0                 0             0            0                    0                        0                        0                  0                          0                  0             0                0          0                 white  age 80 or older            1.60              68.04                0           0             0              0                  0                 0         0          26.58                                0                                  1                                     0                               1                                 0                            0                            0                            0                                0                          0   \n",
       "2  alabama  female     very good                2.00              3.00                0                   1        5.00             0               0          0          0          0              1        0                      0                 0             0            0                    0                        0                        0                  0                          0                  0             0                0          0                 white     age 55 to 59            1.57              63.50                0           0             0              0                  0                 0         1          25.76                                0                                  0                                     0                               1                                 0                            0                            0                            0                                0                          0   \n",
       "3  alabama  female     excellent                0.00              0.00                0                   1        7.00             0               0          0          0          1              0        0                      0                 0             1            0                    0                        0                        0                  0                          0                  0             2                0          1                 white     age 65 to 69            1.65              63.50                0           0             1              1                  0                 0         0          23.32                                0                                  0                                     0                               1                                 0                            0                            0                            0                                0                          0   \n",
       "4  alabama  female          fair                2.00              0.00                0                   1        9.00             0               0          0          0          0              0        0                      0                 0             0            0                    0                        0                        0                  0                          0                  0             0                0          1                 white     age 40 to 44            1.57              54.43                1           0             0              1                  0                 0         0          21.90                                0                                  0                                     0                               1                                 0                            0                            0                            0                                0                          0   \n",
       "\n",
       "   HadDepressiveDisorder_missing_indicator  HadKidneyDisease_missing_indicator  HadArthritis_missing_indicator  HadDiabetes_missing_indicator  DeafOrHardOfHearing_missing_indicator  BlindOrVisionDifficulty_missing_indicator  DifficultyConcentrating_missing_indicator  DifficultyWalking_missing_indicator  DifficultyDressingBathing_missing_indicator  DifficultyErrands_missing_indicator  SmokerStatus_missing_indicator  ECigaretteUsage_missing_indicator  RaceEthnicityCategory_missing_indicator  AgeCategory_missing_indicator  ChestScan_missing_indicator  AlcoholDrinkers_missing_indicator  HIVTesting_missing_indicator  FluVaxLast12_missing_indicator  PneumoVaxEver_missing_indicator  TetanusLast10Tdap_missing_indicator  HighRiskLastYear_missing_indicator  CovidPos_missing_indicator  ChronicConditionCount  ImpairmentCount  ComorbidityCount  AgeCategory_numeric AgeCategory_Classification  AgeCategory_Classification_numeric  Sex_numeric  RaceEthnicityCategory_numeric  \\\n",
       "0                                        0                                   0                               0                              0                                      0                                          0                                          0                                    0                                            0                                    0                               0                                  0                                        0                              0                            0                                  0                             0                               0                                0                                    0                                   0                           0                      1                0                 1                   13                older-adult                                   3            2                              1   \n",
       "1                                        0                                   0                               0                              0                                      0                                          0                                          0                                    0                                            0                                    0                               0                                  0                                        0                              0                            0                                  0                             0                               0                                0                                    0                                   0                           0                      1                0                 1                   13                older-adult                                   3            2                              1   \n",
       "2                                        0                                   0                               0                              0                                      0                                          0                                          0                                    0                                            0                                    0                               0                                  0                                        0                              0                            0                                  0                             0                               0                                0                                    1                                   0                           0                      1                0                 1                    8                older-adult                                   3            2                              1   \n",
       "3                                        0                                   0                               0                              0                                      0                                          0                                          0                                    0                                            0                                    0                               0                                  0                                        0                              1                            0                                  0                             0                               0                                0                                    0                                   0                           0                      2                0                 2                   10                older-adult                                   3            2                              1   \n",
       "4                                        0                                   0                               0                              0                                      0                                          0                                          0                                    0                                            0                                    0                               0                                  0                                        0                              0                            0                                  0                             0                               0                                0                                    0                                   0                           0                      0                0                 0                    5                middle-aged                                   2            2                              1   \n",
       "\n",
       "  CalculatedBMI_Classification  CalculatedBMI_Classification_numeric PhysicalHealthDays_Classification  PhysicalHealthDays_Classification_numeric MentalHealthDays_Classification  MentalHealthDays_Classification_numeric SleepHours_Classification  SleepHours_Classification_numeric  GeneralHealth_numeric GeneralHealth_Classification  GeneralHealth_Classification_numeric  \n",
       "0                   overweight                                     3                         excellent                                          0                       excellent                                        0                   optimal                                  2                      4                above average                                     1  \n",
       "1                   overweight                                     3                         excellent                                          0                       excellent                                        0                       low                                  1                      5                above average                                     1  \n",
       "2                   overweight                                     3                              good                                          1                            good                                        1                       low                                  1                      4                above average                                     1  \n",
       "3                normal weight                                     2                         excellent                                          0                       excellent                                        0                   optimal                                  2                      5                above average                                     1  \n",
       "4                normal weight                                     2                              good                                          1                       excellent                                        0                   optimal                                  2                      2                below average                                     0  "
      ]
     },
     "execution_count": 6,
     "metadata": {},
     "output_type": "execute_result"
    }
   ],
   "source": [
    "df.head()"
   ]
  },
  {
   "cell_type": "markdown",
   "metadata": {},
   "source": [
    "observe discrepancies between various demographics eg. state, sex, agecategroy, raceecthnicitycategory. then update risk score accordingly. "
   ]
  },
  {
   "cell_type": "code",
   "execution_count": 7,
   "metadata": {},
   "outputs": [],
   "source": [
    "# ------------------------------ CalculatedBMI_penalty ------------------------------\n",
    "def calculate_bmi_penalty(bmi_class):\n",
    "    if bmi_class == 'anorexic':\n",
    "        return 10\n",
    "    elif bmi_class == 'underweight':\n",
    "        return 1\n",
    "    elif bmi_class == 'normal weight':\n",
    "        return 0\n",
    "    elif bmi_class == 'overweight':\n",
    "        return 1\n",
    "    elif bmi_class == 'morbid obesity':\n",
    "        return 10\n",
    "    return 0  # Default penalty if classification is missing\n",
    "\n",
    "df['CalculatedBMI_penalty'] = df['CalculatedBMI_Classification'].apply(calculate_bmi_penalty)\n",
    "\n",
    "\n",
    "\n",
    "# ------------------------------ PhysicalHealthDays_penalty ------------------------------\n",
    "def calculate_physicalhealthdays_penalty(physicalhealthdays):\n",
    "    if physicalhealthdays == 'excellent':\n",
    "        return 0\n",
    "    elif physicalhealthdays == 'good':\n",
    "        return 0\n",
    "    elif physicalhealthdays == 'fair':\n",
    "        return 1\n",
    "    elif physicalhealthdays == 'poor':\n",
    "        return 5\n",
    "    elif physicalhealthdays == 'very poor':\n",
    "        return 10\n",
    "    return 0  # Default penalty if classification is missing\n",
    "\n",
    "df['PhysicalHealthDays_penalty'] = df['PhysicalHealthDays_Classification'].apply(calculate_physicalhealthdays_penalty)\n",
    "\n",
    "\n",
    "\n",
    "# ------------------------------ MentalHealthDays_penalty ------------------------------\n",
    "def calculate_mentalhealthdays_penalty(mentalhealthdays):\n",
    "    if mentalhealthdays == 'excellent':\n",
    "        return 0\n",
    "    elif mentalhealthdays == 'good':\n",
    "        return 0\n",
    "    elif mentalhealthdays == 'fair':\n",
    "        return 1\n",
    "    elif mentalhealthdays == 'poor':\n",
    "        return 5\n",
    "    elif mentalhealthdays == 'very poor':\n",
    "        return 10\n",
    "    return 0  # Default penalty if classification is missing\n",
    "\n",
    "df['MentalHealthDays_penalty'] = df['MentalHealthDays_Classification'].apply(calculate_mentalhealthdays_penalty)\n",
    "\n",
    "\n",
    "\n",
    "# ------------------------------ SleepHours_Classification_numeric_penalty ------------------------------\n",
    "def calculate_sleephours_classification_numeric_penalty(sleephours_classification_numeric):\n",
    "    if sleephours_classification_numeric == 0:\n",
    "        return 50\n",
    "    elif sleephours_classification_numeric == 1:\n",
    "        return 1\n",
    "    elif sleephours_classification_numeric == 2:\n",
    "        return 0\n",
    "    elif sleephours_classification_numeric == 3:\n",
    "        return 1\n",
    "    return 0  # Default penalty\n",
    "\n",
    "df['SleepHours_Classification_numeric_penalty'] = df['SleepHours_Classification_numeric'].apply(calculate_sleephours_classification_numeric_penalty)\n",
    "\n",
    "\n",
    "\n",
    "\n",
    "# ------------------------------ All other penalties ------------------------------\n",
    "df['LastCheckupTime_penalty'] = df['LastCheckupTime'].apply(lambda x: 0 if x == 0\n",
    "                                                    else 1 if x == 1\n",
    "                                                    else 2 if x == 2\n",
    "                                                    else 10)\n",
    "\n",
    "df['RemovedTeeth_penalty'] = df['RemovedTeeth'].apply(lambda x: 0 if x == 0 else 1 if x == 1 else 2 if x == 2 else 3)\n",
    "df['SmokerStatus_penalty'] = df['SmokerStatus'].apply(lambda x: 0 if x == 0\n",
    "                                              else 1 if x == 1\n",
    "                                              else 2 if x == 2\n",
    "                                              else 10)\n",
    "\n",
    "df['ECigaretteUsage_penalty'] = df['ECigaretteUsage'].apply(lambda x: 0 if x == 0 else 1 if x == 1 else 2 if x == 2 else 10)\n",
    "df['TetanusLast10Tdap_penalty'] = df['TetanusLast10Tdap'].apply(lambda x: 3 if x == 0 else 2 if x == 1 else 1 if x == 2 else 0)\n",
    "df['PhysicalActivities_penalty'] = df['PhysicalActivities'].apply(lambda x: 3 if x == 0 else 0)\n",
    "df['AlcoholDrinkers_penalty'] = df['AlcoholDrinkers'].apply(lambda x: 1 if x == 1 else 0)\n",
    "df['HIVTesting_penalty'] = df['HIVTesting'].apply(lambda x: 5 if x == 1 else 0)\n",
    "df['FluVaxLast12_penalty'] = df['FluVaxLast12'].apply(lambda x: 0 if x == 1 else 1)\n",
    "df['PneumoVaxEver_penalty'] = df['PneumoVaxEver'].apply(lambda x: 0 if x == 1 else 1)\n",
    "df['HighRiskLastYear_penalty'] = df['HighRiskLastYear'].apply(lambda x: 8 if x == 1 else 0)\n",
    "df['ChestScan_penalty'] = df['ChestScan'].apply(lambda x: 0 if x == 1 else 1)\n",
    "\n",
    "\n",
    "# Computing RiskScore\n",
    "df['RiskScore'] = (\n",
    "    (df['ComorbidityCount'] * 2) +\n",
    "    df['CalculatedBMI_penalty'] +\n",
    "    df['SleepHours_Classification_numeric_penalty'] +\n",
    "    df['LastCheckupTime_penalty'] +\n",
    "    df['RemovedTeeth_penalty'] +\n",
    "    df['SmokerStatus_penalty'] +\n",
    "    df['ECigaretteUsage_penalty'] +\n",
    "    df['TetanusLast10Tdap_penalty'] +\n",
    "    df['PhysicalActivities_penalty'] +\n",
    "    df['AlcoholDrinkers_penalty'] +\n",
    "    df['HIVTesting_penalty'] +\n",
    "    df['FluVaxLast12_penalty'] +\n",
    "    df['PneumoVaxEver_penalty'] +\n",
    "    df['HighRiskLastYear_penalty'] +\n",
    "    df['ChestScan_penalty']\n",
    ")\n",
    "\n",
    "\n",
    "\n",
    "def classify_risk(score):\n",
    "    if score['RiskScore'] >= 20: \n",
    "        return 'High'\n",
    "    elif 10 <= score['RiskScore'] < 20:\n",
    "        return 'Moderate'\n",
    "    else:\n",
    "        return 'Low'\n",
    "\n",
    "\n",
    "# Apply classification function to populate RiskClassification\n",
    "df['RiskClassification'] = df.apply(classify_risk, axis=1)\n",
    "\n",
    "\n"
   ]
  },
  {
   "cell_type": "markdown",
   "metadata": {},
   "source": [
    "Note: df['CovidPos'].apply(lambda x: 1 if x == 'yes' else 0) is not included in risk score. Because if someone was Covid Positive it will be hard to determine whether it increases their risk or strengthens immunity thus lowering risk."
   ]
  },
  {
   "cell_type": "code",
   "execution_count": 8,
   "metadata": {},
   "outputs": [
    {
     "data": {
      "text/html": [
       "<div>\n",
       "<style scoped>\n",
       "    .dataframe tbody tr th:only-of-type {\n",
       "        vertical-align: middle;\n",
       "    }\n",
       "\n",
       "    .dataframe tbody tr th {\n",
       "        vertical-align: top;\n",
       "    }\n",
       "\n",
       "    .dataframe thead th {\n",
       "        text-align: right;\n",
       "    }\n",
       "</style>\n",
       "<table border=\"1\" class=\"dataframe\">\n",
       "  <thead>\n",
       "    <tr style=\"text-align: right;\">\n",
       "      <th></th>\n",
       "      <th>State</th>\n",
       "      <th>Sex</th>\n",
       "      <th>GeneralHealth</th>\n",
       "      <th>PhysicalHealthDays</th>\n",
       "      <th>MentalHealthDays</th>\n",
       "      <th>LastCheckupTime</th>\n",
       "      <th>PhysicalActivities</th>\n",
       "      <th>SleepHours</th>\n",
       "      <th>RemovedTeeth</th>\n",
       "      <th>HadHeartAttack</th>\n",
       "      <th>HadAngina</th>\n",
       "      <th>HadStroke</th>\n",
       "      <th>HadAsthma</th>\n",
       "      <th>HadSkinCancer</th>\n",
       "      <th>HadCOPD</th>\n",
       "      <th>HadDepressiveDisorder</th>\n",
       "      <th>HadKidneyDisease</th>\n",
       "      <th>HadArthritis</th>\n",
       "      <th>HadDiabetes</th>\n",
       "      <th>DeafOrHardOfHearing</th>\n",
       "      <th>BlindOrVisionDifficulty</th>\n",
       "      <th>DifficultyConcentrating</th>\n",
       "      <th>DifficultyWalking</th>\n",
       "      <th>DifficultyDressingBathing</th>\n",
       "      <th>DifficultyErrands</th>\n",
       "      <th>SmokerStatus</th>\n",
       "      <th>ECigaretteUsage</th>\n",
       "      <th>ChestScan</th>\n",
       "      <th>RaceEthnicityCategory</th>\n",
       "      <th>AgeCategory</th>\n",
       "      <th>HeightInMeters</th>\n",
       "      <th>WeightInKilograms</th>\n",
       "      <th>AlcoholDrinkers</th>\n",
       "      <th>HIVTesting</th>\n",
       "      <th>FluVaxLast12</th>\n",
       "      <th>PneumoVaxEver</th>\n",
       "      <th>TetanusLast10Tdap</th>\n",
       "      <th>HighRiskLastYear</th>\n",
       "      <th>CovidPos</th>\n",
       "      <th>CalculatedBMI</th>\n",
       "      <th>GeneralHealth_missing_indicator</th>\n",
       "      <th>LastCheckupTime_missing_indicator</th>\n",
       "      <th>PhysicalActivities_missing_indicator</th>\n",
       "      <th>RemovedTeeth_missing_indicator</th>\n",
       "      <th>HadHeartAttack_missing_indicator</th>\n",
       "      <th>HadAngina_missing_indicator</th>\n",
       "      <th>HadStroke_missing_indicator</th>\n",
       "      <th>HadAsthma_missing_indicator</th>\n",
       "      <th>HadSkinCancer_missing_indicator</th>\n",
       "      <th>HadCOPD_missing_indicator</th>\n",
       "      <th>HadDepressiveDisorder_missing_indicator</th>\n",
       "      <th>HadKidneyDisease_missing_indicator</th>\n",
       "      <th>HadArthritis_missing_indicator</th>\n",
       "      <th>HadDiabetes_missing_indicator</th>\n",
       "      <th>DeafOrHardOfHearing_missing_indicator</th>\n",
       "      <th>BlindOrVisionDifficulty_missing_indicator</th>\n",
       "      <th>DifficultyConcentrating_missing_indicator</th>\n",
       "      <th>DifficultyWalking_missing_indicator</th>\n",
       "      <th>DifficultyDressingBathing_missing_indicator</th>\n",
       "      <th>DifficultyErrands_missing_indicator</th>\n",
       "      <th>SmokerStatus_missing_indicator</th>\n",
       "      <th>ECigaretteUsage_missing_indicator</th>\n",
       "      <th>RaceEthnicityCategory_missing_indicator</th>\n",
       "      <th>AgeCategory_missing_indicator</th>\n",
       "      <th>ChestScan_missing_indicator</th>\n",
       "      <th>AlcoholDrinkers_missing_indicator</th>\n",
       "      <th>HIVTesting_missing_indicator</th>\n",
       "      <th>FluVaxLast12_missing_indicator</th>\n",
       "      <th>PneumoVaxEver_missing_indicator</th>\n",
       "      <th>TetanusLast10Tdap_missing_indicator</th>\n",
       "      <th>HighRiskLastYear_missing_indicator</th>\n",
       "      <th>CovidPos_missing_indicator</th>\n",
       "      <th>ChronicConditionCount</th>\n",
       "      <th>ImpairmentCount</th>\n",
       "      <th>ComorbidityCount</th>\n",
       "      <th>AgeCategory_numeric</th>\n",
       "      <th>AgeCategory_Classification</th>\n",
       "      <th>AgeCategory_Classification_numeric</th>\n",
       "      <th>Sex_numeric</th>\n",
       "      <th>RaceEthnicityCategory_numeric</th>\n",
       "      <th>CalculatedBMI_Classification</th>\n",
       "      <th>CalculatedBMI_Classification_numeric</th>\n",
       "      <th>PhysicalHealthDays_Classification</th>\n",
       "      <th>PhysicalHealthDays_Classification_numeric</th>\n",
       "      <th>MentalHealthDays_Classification</th>\n",
       "      <th>MentalHealthDays_Classification_numeric</th>\n",
       "      <th>SleepHours_Classification</th>\n",
       "      <th>SleepHours_Classification_numeric</th>\n",
       "      <th>GeneralHealth_numeric</th>\n",
       "      <th>GeneralHealth_Classification</th>\n",
       "      <th>GeneralHealth_Classification_numeric</th>\n",
       "      <th>CalculatedBMI_penalty</th>\n",
       "      <th>PhysicalHealthDays_penalty</th>\n",
       "      <th>MentalHealthDays_penalty</th>\n",
       "      <th>SleepHours_Classification_numeric_penalty</th>\n",
       "      <th>LastCheckupTime_penalty</th>\n",
       "      <th>RemovedTeeth_penalty</th>\n",
       "      <th>SmokerStatus_penalty</th>\n",
       "      <th>ECigaretteUsage_penalty</th>\n",
       "      <th>TetanusLast10Tdap_penalty</th>\n",
       "      <th>PhysicalActivities_penalty</th>\n",
       "      <th>AlcoholDrinkers_penalty</th>\n",
       "      <th>HIVTesting_penalty</th>\n",
       "      <th>FluVaxLast12_penalty</th>\n",
       "      <th>PneumoVaxEver_penalty</th>\n",
       "      <th>HighRiskLastYear_penalty</th>\n",
       "      <th>ChestScan_penalty</th>\n",
       "      <th>RiskScore</th>\n",
       "      <th>RiskClassification</th>\n",
       "    </tr>\n",
       "  </thead>\n",
       "  <tbody>\n",
       "    <tr>\n",
       "      <th>0</th>\n",
       "      <td>alabama</td>\n",
       "      <td>female</td>\n",
       "      <td>very good</td>\n",
       "      <td>0.00</td>\n",
       "      <td>0.00</td>\n",
       "      <td>0</td>\n",
       "      <td>0</td>\n",
       "      <td>8.00</td>\n",
       "      <td>0</td>\n",
       "      <td>0</td>\n",
       "      <td>0</td>\n",
       "      <td>0</td>\n",
       "      <td>0</td>\n",
       "      <td>0</td>\n",
       "      <td>0</td>\n",
       "      <td>0</td>\n",
       "      <td>0</td>\n",
       "      <td>0</td>\n",
       "      <td>1</td>\n",
       "      <td>0</td>\n",
       "      <td>0</td>\n",
       "      <td>0</td>\n",
       "      <td>0</td>\n",
       "      <td>0</td>\n",
       "      <td>0</td>\n",
       "      <td>0</td>\n",
       "      <td>1</td>\n",
       "      <td>0</td>\n",
       "      <td>white</td>\n",
       "      <td>age 80 or older</td>\n",
       "      <td>1.70</td>\n",
       "      <td>80.74</td>\n",
       "      <td>0</td>\n",
       "      <td>0</td>\n",
       "      <td>1</td>\n",
       "      <td>0</td>\n",
       "      <td>1</td>\n",
       "      <td>0</td>\n",
       "      <td>0</td>\n",
       "      <td>27.35</td>\n",
       "      <td>0</td>\n",
       "      <td>0</td>\n",
       "      <td>0</td>\n",
       "      <td>1</td>\n",
       "      <td>0</td>\n",
       "      <td>0</td>\n",
       "      <td>0</td>\n",
       "      <td>0</td>\n",
       "      <td>0</td>\n",
       "      <td>0</td>\n",
       "      <td>0</td>\n",
       "      <td>0</td>\n",
       "      <td>0</td>\n",
       "      <td>0</td>\n",
       "      <td>0</td>\n",
       "      <td>0</td>\n",
       "      <td>0</td>\n",
       "      <td>0</td>\n",
       "      <td>0</td>\n",
       "      <td>0</td>\n",
       "      <td>0</td>\n",
       "      <td>0</td>\n",
       "      <td>0</td>\n",
       "      <td>0</td>\n",
       "      <td>0</td>\n",
       "      <td>0</td>\n",
       "      <td>0</td>\n",
       "      <td>0</td>\n",
       "      <td>0</td>\n",
       "      <td>0</td>\n",
       "      <td>0</td>\n",
       "      <td>0</td>\n",
       "      <td>1</td>\n",
       "      <td>0</td>\n",
       "      <td>1</td>\n",
       "      <td>13</td>\n",
       "      <td>older-adult</td>\n",
       "      <td>3</td>\n",
       "      <td>2</td>\n",
       "      <td>1</td>\n",
       "      <td>overweight</td>\n",
       "      <td>3</td>\n",
       "      <td>excellent</td>\n",
       "      <td>0</td>\n",
       "      <td>excellent</td>\n",
       "      <td>0</td>\n",
       "      <td>optimal</td>\n",
       "      <td>2</td>\n",
       "      <td>4</td>\n",
       "      <td>above average</td>\n",
       "      <td>1</td>\n",
       "      <td>1</td>\n",
       "      <td>0</td>\n",
       "      <td>0</td>\n",
       "      <td>0</td>\n",
       "      <td>0</td>\n",
       "      <td>0</td>\n",
       "      <td>0</td>\n",
       "      <td>1</td>\n",
       "      <td>2</td>\n",
       "      <td>3</td>\n",
       "      <td>0</td>\n",
       "      <td>0</td>\n",
       "      <td>0</td>\n",
       "      <td>1</td>\n",
       "      <td>0</td>\n",
       "      <td>1</td>\n",
       "      <td>11</td>\n",
       "      <td>Moderate</td>\n",
       "    </tr>\n",
       "    <tr>\n",
       "      <th>1</th>\n",
       "      <td>alabama</td>\n",
       "      <td>female</td>\n",
       "      <td>excellent</td>\n",
       "      <td>0.00</td>\n",
       "      <td>0.00</td>\n",
       "      <td>0</td>\n",
       "      <td>0</td>\n",
       "      <td>6.00</td>\n",
       "      <td>0</td>\n",
       "      <td>0</td>\n",
       "      <td>0</td>\n",
       "      <td>0</td>\n",
       "      <td>0</td>\n",
       "      <td>1</td>\n",
       "      <td>0</td>\n",
       "      <td>0</td>\n",
       "      <td>0</td>\n",
       "      <td>0</td>\n",
       "      <td>0</td>\n",
       "      <td>0</td>\n",
       "      <td>0</td>\n",
       "      <td>0</td>\n",
       "      <td>0</td>\n",
       "      <td>0</td>\n",
       "      <td>0</td>\n",
       "      <td>0</td>\n",
       "      <td>0</td>\n",
       "      <td>0</td>\n",
       "      <td>white</td>\n",
       "      <td>age 80 or older</td>\n",
       "      <td>1.60</td>\n",
       "      <td>68.04</td>\n",
       "      <td>0</td>\n",
       "      <td>0</td>\n",
       "      <td>0</td>\n",
       "      <td>0</td>\n",
       "      <td>0</td>\n",
       "      <td>0</td>\n",
       "      <td>0</td>\n",
       "      <td>26.58</td>\n",
       "      <td>0</td>\n",
       "      <td>1</td>\n",
       "      <td>0</td>\n",
       "      <td>1</td>\n",
       "      <td>0</td>\n",
       "      <td>0</td>\n",
       "      <td>0</td>\n",
       "      <td>0</td>\n",
       "      <td>0</td>\n",
       "      <td>0</td>\n",
       "      <td>0</td>\n",
       "      <td>0</td>\n",
       "      <td>0</td>\n",
       "      <td>0</td>\n",
       "      <td>0</td>\n",
       "      <td>0</td>\n",
       "      <td>0</td>\n",
       "      <td>0</td>\n",
       "      <td>0</td>\n",
       "      <td>0</td>\n",
       "      <td>0</td>\n",
       "      <td>0</td>\n",
       "      <td>0</td>\n",
       "      <td>0</td>\n",
       "      <td>0</td>\n",
       "      <td>0</td>\n",
       "      <td>0</td>\n",
       "      <td>0</td>\n",
       "      <td>0</td>\n",
       "      <td>0</td>\n",
       "      <td>0</td>\n",
       "      <td>0</td>\n",
       "      <td>1</td>\n",
       "      <td>0</td>\n",
       "      <td>1</td>\n",
       "      <td>13</td>\n",
       "      <td>older-adult</td>\n",
       "      <td>3</td>\n",
       "      <td>2</td>\n",
       "      <td>1</td>\n",
       "      <td>overweight</td>\n",
       "      <td>3</td>\n",
       "      <td>excellent</td>\n",
       "      <td>0</td>\n",
       "      <td>excellent</td>\n",
       "      <td>0</td>\n",
       "      <td>low</td>\n",
       "      <td>1</td>\n",
       "      <td>5</td>\n",
       "      <td>above average</td>\n",
       "      <td>1</td>\n",
       "      <td>1</td>\n",
       "      <td>0</td>\n",
       "      <td>0</td>\n",
       "      <td>1</td>\n",
       "      <td>0</td>\n",
       "      <td>0</td>\n",
       "      <td>0</td>\n",
       "      <td>0</td>\n",
       "      <td>3</td>\n",
       "      <td>3</td>\n",
       "      <td>0</td>\n",
       "      <td>0</td>\n",
       "      <td>1</td>\n",
       "      <td>1</td>\n",
       "      <td>0</td>\n",
       "      <td>1</td>\n",
       "      <td>13</td>\n",
       "      <td>Moderate</td>\n",
       "    </tr>\n",
       "    <tr>\n",
       "      <th>2</th>\n",
       "      <td>alabama</td>\n",
       "      <td>female</td>\n",
       "      <td>very good</td>\n",
       "      <td>2.00</td>\n",
       "      <td>3.00</td>\n",
       "      <td>0</td>\n",
       "      <td>1</td>\n",
       "      <td>5.00</td>\n",
       "      <td>0</td>\n",
       "      <td>0</td>\n",
       "      <td>0</td>\n",
       "      <td>0</td>\n",
       "      <td>0</td>\n",
       "      <td>1</td>\n",
       "      <td>0</td>\n",
       "      <td>0</td>\n",
       "      <td>0</td>\n",
       "      <td>0</td>\n",
       "      <td>0</td>\n",
       "      <td>0</td>\n",
       "      <td>0</td>\n",
       "      <td>0</td>\n",
       "      <td>0</td>\n",
       "      <td>0</td>\n",
       "      <td>0</td>\n",
       "      <td>0</td>\n",
       "      <td>0</td>\n",
       "      <td>0</td>\n",
       "      <td>white</td>\n",
       "      <td>age 55 to 59</td>\n",
       "      <td>1.57</td>\n",
       "      <td>63.50</td>\n",
       "      <td>0</td>\n",
       "      <td>0</td>\n",
       "      <td>0</td>\n",
       "      <td>0</td>\n",
       "      <td>0</td>\n",
       "      <td>0</td>\n",
       "      <td>1</td>\n",
       "      <td>25.76</td>\n",
       "      <td>0</td>\n",
       "      <td>0</td>\n",
       "      <td>0</td>\n",
       "      <td>1</td>\n",
       "      <td>0</td>\n",
       "      <td>0</td>\n",
       "      <td>0</td>\n",
       "      <td>0</td>\n",
       "      <td>0</td>\n",
       "      <td>0</td>\n",
       "      <td>0</td>\n",
       "      <td>0</td>\n",
       "      <td>0</td>\n",
       "      <td>0</td>\n",
       "      <td>0</td>\n",
       "      <td>0</td>\n",
       "      <td>0</td>\n",
       "      <td>0</td>\n",
       "      <td>0</td>\n",
       "      <td>0</td>\n",
       "      <td>0</td>\n",
       "      <td>0</td>\n",
       "      <td>0</td>\n",
       "      <td>0</td>\n",
       "      <td>0</td>\n",
       "      <td>0</td>\n",
       "      <td>0</td>\n",
       "      <td>0</td>\n",
       "      <td>0</td>\n",
       "      <td>1</td>\n",
       "      <td>0</td>\n",
       "      <td>0</td>\n",
       "      <td>1</td>\n",
       "      <td>0</td>\n",
       "      <td>1</td>\n",
       "      <td>8</td>\n",
       "      <td>older-adult</td>\n",
       "      <td>3</td>\n",
       "      <td>2</td>\n",
       "      <td>1</td>\n",
       "      <td>overweight</td>\n",
       "      <td>3</td>\n",
       "      <td>good</td>\n",
       "      <td>1</td>\n",
       "      <td>good</td>\n",
       "      <td>1</td>\n",
       "      <td>low</td>\n",
       "      <td>1</td>\n",
       "      <td>4</td>\n",
       "      <td>above average</td>\n",
       "      <td>1</td>\n",
       "      <td>1</td>\n",
       "      <td>0</td>\n",
       "      <td>0</td>\n",
       "      <td>1</td>\n",
       "      <td>0</td>\n",
       "      <td>0</td>\n",
       "      <td>0</td>\n",
       "      <td>0</td>\n",
       "      <td>3</td>\n",
       "      <td>0</td>\n",
       "      <td>0</td>\n",
       "      <td>0</td>\n",
       "      <td>1</td>\n",
       "      <td>1</td>\n",
       "      <td>0</td>\n",
       "      <td>1</td>\n",
       "      <td>10</td>\n",
       "      <td>Moderate</td>\n",
       "    </tr>\n",
       "    <tr>\n",
       "      <th>3</th>\n",
       "      <td>alabama</td>\n",
       "      <td>female</td>\n",
       "      <td>excellent</td>\n",
       "      <td>0.00</td>\n",
       "      <td>0.00</td>\n",
       "      <td>0</td>\n",
       "      <td>1</td>\n",
       "      <td>7.00</td>\n",
       "      <td>0</td>\n",
       "      <td>0</td>\n",
       "      <td>0</td>\n",
       "      <td>0</td>\n",
       "      <td>1</td>\n",
       "      <td>0</td>\n",
       "      <td>0</td>\n",
       "      <td>0</td>\n",
       "      <td>0</td>\n",
       "      <td>1</td>\n",
       "      <td>0</td>\n",
       "      <td>0</td>\n",
       "      <td>0</td>\n",
       "      <td>0</td>\n",
       "      <td>0</td>\n",
       "      <td>0</td>\n",
       "      <td>0</td>\n",
       "      <td>2</td>\n",
       "      <td>0</td>\n",
       "      <td>1</td>\n",
       "      <td>white</td>\n",
       "      <td>age 65 to 69</td>\n",
       "      <td>1.65</td>\n",
       "      <td>63.50</td>\n",
       "      <td>0</td>\n",
       "      <td>0</td>\n",
       "      <td>1</td>\n",
       "      <td>1</td>\n",
       "      <td>0</td>\n",
       "      <td>0</td>\n",
       "      <td>0</td>\n",
       "      <td>23.32</td>\n",
       "      <td>0</td>\n",
       "      <td>0</td>\n",
       "      <td>0</td>\n",
       "      <td>1</td>\n",
       "      <td>0</td>\n",
       "      <td>0</td>\n",
       "      <td>0</td>\n",
       "      <td>0</td>\n",
       "      <td>0</td>\n",
       "      <td>0</td>\n",
       "      <td>0</td>\n",
       "      <td>0</td>\n",
       "      <td>0</td>\n",
       "      <td>0</td>\n",
       "      <td>0</td>\n",
       "      <td>0</td>\n",
       "      <td>0</td>\n",
       "      <td>0</td>\n",
       "      <td>0</td>\n",
       "      <td>0</td>\n",
       "      <td>0</td>\n",
       "      <td>0</td>\n",
       "      <td>0</td>\n",
       "      <td>1</td>\n",
       "      <td>0</td>\n",
       "      <td>0</td>\n",
       "      <td>0</td>\n",
       "      <td>0</td>\n",
       "      <td>0</td>\n",
       "      <td>0</td>\n",
       "      <td>0</td>\n",
       "      <td>0</td>\n",
       "      <td>2</td>\n",
       "      <td>0</td>\n",
       "      <td>2</td>\n",
       "      <td>10</td>\n",
       "      <td>older-adult</td>\n",
       "      <td>3</td>\n",
       "      <td>2</td>\n",
       "      <td>1</td>\n",
       "      <td>normal weight</td>\n",
       "      <td>2</td>\n",
       "      <td>excellent</td>\n",
       "      <td>0</td>\n",
       "      <td>excellent</td>\n",
       "      <td>0</td>\n",
       "      <td>optimal</td>\n",
       "      <td>2</td>\n",
       "      <td>5</td>\n",
       "      <td>above average</td>\n",
       "      <td>1</td>\n",
       "      <td>0</td>\n",
       "      <td>0</td>\n",
       "      <td>0</td>\n",
       "      <td>0</td>\n",
       "      <td>0</td>\n",
       "      <td>0</td>\n",
       "      <td>2</td>\n",
       "      <td>0</td>\n",
       "      <td>3</td>\n",
       "      <td>0</td>\n",
       "      <td>0</td>\n",
       "      <td>0</td>\n",
       "      <td>0</td>\n",
       "      <td>0</td>\n",
       "      <td>0</td>\n",
       "      <td>0</td>\n",
       "      <td>9</td>\n",
       "      <td>Low</td>\n",
       "    </tr>\n",
       "    <tr>\n",
       "      <th>4</th>\n",
       "      <td>alabama</td>\n",
       "      <td>female</td>\n",
       "      <td>fair</td>\n",
       "      <td>2.00</td>\n",
       "      <td>0.00</td>\n",
       "      <td>0</td>\n",
       "      <td>1</td>\n",
       "      <td>9.00</td>\n",
       "      <td>0</td>\n",
       "      <td>0</td>\n",
       "      <td>0</td>\n",
       "      <td>0</td>\n",
       "      <td>0</td>\n",
       "      <td>0</td>\n",
       "      <td>0</td>\n",
       "      <td>0</td>\n",
       "      <td>0</td>\n",
       "      <td>0</td>\n",
       "      <td>0</td>\n",
       "      <td>0</td>\n",
       "      <td>0</td>\n",
       "      <td>0</td>\n",
       "      <td>0</td>\n",
       "      <td>0</td>\n",
       "      <td>0</td>\n",
       "      <td>0</td>\n",
       "      <td>0</td>\n",
       "      <td>1</td>\n",
       "      <td>white</td>\n",
       "      <td>age 40 to 44</td>\n",
       "      <td>1.57</td>\n",
       "      <td>54.43</td>\n",
       "      <td>1</td>\n",
       "      <td>0</td>\n",
       "      <td>0</td>\n",
       "      <td>1</td>\n",
       "      <td>0</td>\n",
       "      <td>0</td>\n",
       "      <td>0</td>\n",
       "      <td>21.90</td>\n",
       "      <td>0</td>\n",
       "      <td>0</td>\n",
       "      <td>0</td>\n",
       "      <td>1</td>\n",
       "      <td>0</td>\n",
       "      <td>0</td>\n",
       "      <td>0</td>\n",
       "      <td>0</td>\n",
       "      <td>0</td>\n",
       "      <td>0</td>\n",
       "      <td>0</td>\n",
       "      <td>0</td>\n",
       "      <td>0</td>\n",
       "      <td>0</td>\n",
       "      <td>0</td>\n",
       "      <td>0</td>\n",
       "      <td>0</td>\n",
       "      <td>0</td>\n",
       "      <td>0</td>\n",
       "      <td>0</td>\n",
       "      <td>0</td>\n",
       "      <td>0</td>\n",
       "      <td>0</td>\n",
       "      <td>0</td>\n",
       "      <td>0</td>\n",
       "      <td>0</td>\n",
       "      <td>0</td>\n",
       "      <td>0</td>\n",
       "      <td>0</td>\n",
       "      <td>0</td>\n",
       "      <td>0</td>\n",
       "      <td>0</td>\n",
       "      <td>0</td>\n",
       "      <td>0</td>\n",
       "      <td>0</td>\n",
       "      <td>5</td>\n",
       "      <td>middle-aged</td>\n",
       "      <td>2</td>\n",
       "      <td>2</td>\n",
       "      <td>1</td>\n",
       "      <td>normal weight</td>\n",
       "      <td>2</td>\n",
       "      <td>good</td>\n",
       "      <td>1</td>\n",
       "      <td>excellent</td>\n",
       "      <td>0</td>\n",
       "      <td>optimal</td>\n",
       "      <td>2</td>\n",
       "      <td>2</td>\n",
       "      <td>below average</td>\n",
       "      <td>0</td>\n",
       "      <td>0</td>\n",
       "      <td>0</td>\n",
       "      <td>0</td>\n",
       "      <td>0</td>\n",
       "      <td>0</td>\n",
       "      <td>0</td>\n",
       "      <td>0</td>\n",
       "      <td>0</td>\n",
       "      <td>3</td>\n",
       "      <td>0</td>\n",
       "      <td>1</td>\n",
       "      <td>0</td>\n",
       "      <td>1</td>\n",
       "      <td>0</td>\n",
       "      <td>0</td>\n",
       "      <td>0</td>\n",
       "      <td>5</td>\n",
       "      <td>Low</td>\n",
       "    </tr>\n",
       "  </tbody>\n",
       "</table>\n",
       "</div>"
      ],
      "text/plain": [
       "     State     Sex GeneralHealth  PhysicalHealthDays  MentalHealthDays  LastCheckupTime  PhysicalActivities  SleepHours  RemovedTeeth  HadHeartAttack  HadAngina  HadStroke  HadAsthma  HadSkinCancer  HadCOPD  HadDepressiveDisorder  HadKidneyDisease  HadArthritis  HadDiabetes  DeafOrHardOfHearing  BlindOrVisionDifficulty  DifficultyConcentrating  DifficultyWalking  DifficultyDressingBathing  DifficultyErrands  SmokerStatus  ECigaretteUsage  ChestScan RaceEthnicityCategory      AgeCategory  HeightInMeters  WeightInKilograms  AlcoholDrinkers  HIVTesting  FluVaxLast12  PneumoVaxEver  TetanusLast10Tdap  HighRiskLastYear  CovidPos  CalculatedBMI  GeneralHealth_missing_indicator  LastCheckupTime_missing_indicator  PhysicalActivities_missing_indicator  RemovedTeeth_missing_indicator  HadHeartAttack_missing_indicator  HadAngina_missing_indicator  HadStroke_missing_indicator  HadAsthma_missing_indicator  HadSkinCancer_missing_indicator  HadCOPD_missing_indicator  \\\n",
       "0  alabama  female     very good                0.00              0.00                0                   0        8.00             0               0          0          0          0              0        0                      0                 0             0            1                    0                        0                        0                  0                          0                  0             0                1          0                 white  age 80 or older            1.70              80.74                0           0             1              0                  1                 0         0          27.35                                0                                  0                                     0                               1                                 0                            0                            0                            0                                0                          0   \n",
       "1  alabama  female     excellent                0.00              0.00                0                   0        6.00             0               0          0          0          0              1        0                      0                 0             0            0                    0                        0                        0                  0                          0                  0             0                0          0                 white  age 80 or older            1.60              68.04                0           0             0              0                  0                 0         0          26.58                                0                                  1                                     0                               1                                 0                            0                            0                            0                                0                          0   \n",
       "2  alabama  female     very good                2.00              3.00                0                   1        5.00             0               0          0          0          0              1        0                      0                 0             0            0                    0                        0                        0                  0                          0                  0             0                0          0                 white     age 55 to 59            1.57              63.50                0           0             0              0                  0                 0         1          25.76                                0                                  0                                     0                               1                                 0                            0                            0                            0                                0                          0   \n",
       "3  alabama  female     excellent                0.00              0.00                0                   1        7.00             0               0          0          0          1              0        0                      0                 0             1            0                    0                        0                        0                  0                          0                  0             2                0          1                 white     age 65 to 69            1.65              63.50                0           0             1              1                  0                 0         0          23.32                                0                                  0                                     0                               1                                 0                            0                            0                            0                                0                          0   \n",
       "4  alabama  female          fair                2.00              0.00                0                   1        9.00             0               0          0          0          0              0        0                      0                 0             0            0                    0                        0                        0                  0                          0                  0             0                0          1                 white     age 40 to 44            1.57              54.43                1           0             0              1                  0                 0         0          21.90                                0                                  0                                     0                               1                                 0                            0                            0                            0                                0                          0   \n",
       "\n",
       "   HadDepressiveDisorder_missing_indicator  HadKidneyDisease_missing_indicator  HadArthritis_missing_indicator  HadDiabetes_missing_indicator  DeafOrHardOfHearing_missing_indicator  BlindOrVisionDifficulty_missing_indicator  DifficultyConcentrating_missing_indicator  DifficultyWalking_missing_indicator  DifficultyDressingBathing_missing_indicator  DifficultyErrands_missing_indicator  SmokerStatus_missing_indicator  ECigaretteUsage_missing_indicator  RaceEthnicityCategory_missing_indicator  AgeCategory_missing_indicator  ChestScan_missing_indicator  AlcoholDrinkers_missing_indicator  HIVTesting_missing_indicator  FluVaxLast12_missing_indicator  PneumoVaxEver_missing_indicator  TetanusLast10Tdap_missing_indicator  HighRiskLastYear_missing_indicator  CovidPos_missing_indicator  ChronicConditionCount  ImpairmentCount  ComorbidityCount  AgeCategory_numeric AgeCategory_Classification  AgeCategory_Classification_numeric  Sex_numeric  RaceEthnicityCategory_numeric  \\\n",
       "0                                        0                                   0                               0                              0                                      0                                          0                                          0                                    0                                            0                                    0                               0                                  0                                        0                              0                            0                                  0                             0                               0                                0                                    0                                   0                           0                      1                0                 1                   13                older-adult                                   3            2                              1   \n",
       "1                                        0                                   0                               0                              0                                      0                                          0                                          0                                    0                                            0                                    0                               0                                  0                                        0                              0                            0                                  0                             0                               0                                0                                    0                                   0                           0                      1                0                 1                   13                older-adult                                   3            2                              1   \n",
       "2                                        0                                   0                               0                              0                                      0                                          0                                          0                                    0                                            0                                    0                               0                                  0                                        0                              0                            0                                  0                             0                               0                                0                                    1                                   0                           0                      1                0                 1                    8                older-adult                                   3            2                              1   \n",
       "3                                        0                                   0                               0                              0                                      0                                          0                                          0                                    0                                            0                                    0                               0                                  0                                        0                              1                            0                                  0                             0                               0                                0                                    0                                   0                           0                      2                0                 2                   10                older-adult                                   3            2                              1   \n",
       "4                                        0                                   0                               0                              0                                      0                                          0                                          0                                    0                                            0                                    0                               0                                  0                                        0                              0                            0                                  0                             0                               0                                0                                    0                                   0                           0                      0                0                 0                    5                middle-aged                                   2            2                              1   \n",
       "\n",
       "  CalculatedBMI_Classification  CalculatedBMI_Classification_numeric PhysicalHealthDays_Classification  PhysicalHealthDays_Classification_numeric MentalHealthDays_Classification  MentalHealthDays_Classification_numeric SleepHours_Classification  SleepHours_Classification_numeric  GeneralHealth_numeric GeneralHealth_Classification  GeneralHealth_Classification_numeric  CalculatedBMI_penalty  PhysicalHealthDays_penalty  MentalHealthDays_penalty  SleepHours_Classification_numeric_penalty  LastCheckupTime_penalty  RemovedTeeth_penalty  SmokerStatus_penalty  ECigaretteUsage_penalty  TetanusLast10Tdap_penalty  PhysicalActivities_penalty  AlcoholDrinkers_penalty  HIVTesting_penalty  FluVaxLast12_penalty  PneumoVaxEver_penalty  HighRiskLastYear_penalty  ChestScan_penalty  RiskScore RiskClassification  \n",
       "0                   overweight                                     3                         excellent                                          0                       excellent                                        0                   optimal                                  2                      4                above average                                     1                      1                           0                         0                                          0                        0                     0                     0                        1                          2                           3                        0                   0                     0                      1                         0                  1         11           Moderate  \n",
       "1                   overweight                                     3                         excellent                                          0                       excellent                                        0                       low                                  1                      5                above average                                     1                      1                           0                         0                                          1                        0                     0                     0                        0                          3                           3                        0                   0                     1                      1                         0                  1         13           Moderate  \n",
       "2                   overweight                                     3                              good                                          1                            good                                        1                       low                                  1                      4                above average                                     1                      1                           0                         0                                          1                        0                     0                     0                        0                          3                           0                        0                   0                     1                      1                         0                  1         10           Moderate  \n",
       "3                normal weight                                     2                         excellent                                          0                       excellent                                        0                   optimal                                  2                      5                above average                                     1                      0                           0                         0                                          0                        0                     0                     2                        0                          3                           0                        0                   0                     0                      0                         0                  0          9                Low  \n",
       "4                normal weight                                     2                              good                                          1                       excellent                                        0                   optimal                                  2                      2                below average                                     0                      0                           0                         0                                          0                        0                     0                     0                        0                          3                           0                        1                   0                     1                      0                         0                  0          5                Low  "
      ]
     },
     "execution_count": 8,
     "metadata": {},
     "output_type": "execute_result"
    }
   ],
   "source": [
    "df.head()"
   ]
  },
  {
   "cell_type": "markdown",
   "metadata": {},
   "source": [
    "## Exploring relationships"
   ]
  },
  {
   "cell_type": "code",
   "execution_count": 9,
   "metadata": {},
   "outputs": [
    {
     "data": {
      "text/plain": [
       "State                        object\n",
       "Sex                          object\n",
       "GeneralHealth                object\n",
       "PhysicalHealthDays          float64\n",
       "MentalHealthDays            float64\n",
       "                             ...   \n",
       "PneumoVaxEver_penalty         int64\n",
       "HighRiskLastYear_penalty      int64\n",
       "ChestScan_penalty             int64\n",
       "RiskScore                     int64\n",
       "RiskClassification           object\n",
       "Length: 109, dtype: object"
      ]
     },
     "execution_count": 9,
     "metadata": {},
     "output_type": "execute_result"
    }
   ],
   "source": [
    "df.dtypes"
   ]
  },
  {
   "cell_type": "markdown",
   "metadata": {},
   "source": [
    "#### Risk proportions"
   ]
  },
  {
   "cell_type": "code",
   "execution_count": 10,
   "metadata": {},
   "outputs": [
    {
     "name": "stdout",
     "output_type": "stream",
     "text": [
      "\n",
      " RiskClassification      High  Moderate     Low\n",
      "RaceEthnicityCategory                         \n",
      "black                  12153     16824    6462\n",
      "hispanic               12397     21074    9436\n",
      "multiracial             3727      3917    1934\n",
      "others                  5327      9282    8100\n",
      "white                  84867    147197  102278\n",
      "\n",
      " RiskClassification     High  Moderate  Low\n",
      "RaceEthnicityCategory                     \n",
      "black                  0.34      0.47 0.18\n",
      "hispanic               0.29      0.49 0.22\n",
      "multiracial            0.39      0.41 0.20\n",
      "others                 0.23      0.41 0.36\n",
      "white                  0.25      0.44 0.31\n",
      "\n",
      " RaceEthnicityCategory\n",
      "black         0.82\n",
      "hispanic      0.78\n",
      "multiracial   0.80\n",
      "others        0.64\n",
      "white         0.69\n",
      "dtype: float64\n"
     ]
    },
    {
     "data": {
      "image/png": "[encoded data removed]",
      "text/plain": [
       "<Figure size 1000x600 with 1 Axes>"
      ]
     },
     "metadata": {},
     "output_type": "display_data"
    }
   ],
   "source": [
    "risk_order = ['High', 'Moderate', 'Low']\n",
    "race_risk_group = df.groupby(['RaceEthnicityCategory', 'RiskClassification']).size().unstack(fill_value=0)\n",
    "race_risk_group = race_risk_group.reindex(columns=risk_order, fill_value=0)\n",
    "print('\\n', race_risk_group)\n",
    "\n",
    "\n",
    "race_risk_proportions = race_risk_group.div(race_risk_group.sum(axis=1), axis=0)\n",
    "print('\\n', race_risk_proportions)\n",
    "race_risk_proportions = race_risk_proportions.fillna(0)\n",
    "\n",
    "\n",
    "\n",
    "high_moderate_columns = ['High', 'Moderate']\n",
    "race_risk_total_high_moderate = race_risk_proportions[high_moderate_columns].sum(axis=1)\n",
    "print('\\n', race_risk_total_high_moderate)\n",
    "\n",
    "\n",
    "\n",
    "\n",
    "race_risk_proportions.plot(kind='bar', stacked=True, figsize=(10, 6), colormap='Pastel1')\n",
    "\n",
    "plt.title('Proportions of Risk Classification by Race/Ethnicity Category', fontsize=16)\n",
    "plt.xlabel('Race/Ethnicity Category', fontsize=12)\n",
    "plt.ylabel('Proportion', fontsize=12)\n",
    "plt.xticks(rotation=45, ha='right')\n",
    "plt.tight_layout()\n",
    "plt.show()"
   ]
  },
  {
   "cell_type": "markdown",
   "metadata": {},
   "source": [
    "### Conclusion\n",
    "\n",
    "High risk: Multiracial > Black > Hispanic > White > Others\n",
    "\n",
    "Moderate risk: Hispanic > Black > White > Multiracial|Others\n",
    "\n",
    "Low risk: Others > White > Hispanic > Multiracial > Black "
   ]
  },
  {
   "cell_type": "code",
   "execution_count": 11,
   "metadata": {},
   "outputs": [
    {
     "name": "stdout",
     "output_type": "stream",
     "text": [
      "\n",
      " RiskClassification   High  Moderate    Low\n",
      "Sex                                       \n",
      "female              61984    103532  70307\n",
      "male                56487     94762  57903\n",
      "\n",
      " RiskClassification  High  Moderate  Low\n",
      "Sex                                    \n",
      "female              0.26      0.44 0.30\n",
      "male                0.27      0.45 0.28\n",
      "\n",
      " Sex\n",
      "female   0.70\n",
      "male     0.72\n",
      "dtype: float64\n"
     ]
    },
    {
     "data": {
      "image/png": "[encoded data removed]",
      "text/plain": [
       "<Figure size 1000x600 with 1 Axes>"
      ]
     },
     "metadata": {},
     "output_type": "display_data"
    }
   ],
   "source": [
    "risk_order = ['High', 'Moderate', 'Low']\n",
    "sex_risk_group = df.groupby(['Sex', 'RiskClassification']).size().unstack(fill_value=0)\n",
    "sex_risk_group = sex_risk_group.reindex(columns=risk_order, fill_value=0)\n",
    "print('\\n', sex_risk_group)\n",
    "\n",
    "\n",
    "sex_risk_proportions = sex_risk_group.div(sex_risk_group.sum(axis=1), axis=0)\n",
    "print('\\n', sex_risk_proportions)\n",
    "sex_risk_proportions = sex_risk_proportions.fillna(0)\n",
    "\n",
    "\n",
    "\n",
    "high_moderate_columns = ['High', 'Moderate']\n",
    "sex_risk_total_high_moderate = sex_risk_proportions[high_moderate_columns].sum(axis=1)\n",
    "print('\\n', sex_risk_total_high_moderate)\n",
    "\n",
    "\n",
    "\n",
    "sex_risk_proportions.plot(kind='bar', stacked=True, figsize=(10, 6), colormap='Set2')\n",
    "plt.title('Proportions of Risk Classification by Gender', fontsize=16)\n",
    "plt.xlabel('Gender', fontsize=12)\n",
    "plt.ylabel('Proportion', fontsize=12)\n",
    "plt.xticks(rotation=45, ha='right')\n",
    "plt.tight_layout()\n",
    "plt.show()"
   ]
  },
  {
   "cell_type": "markdown",
   "metadata": {},
   "source": [
    "### Conclusion\n",
    "\n",
    "Men have higher (moderate + high) risk than women marginally by 0.02%"
   ]
  },
  {
   "cell_type": "code",
   "execution_count": 12,
   "metadata": {},
   "outputs": [
    {
     "name": "stdout",
     "output_type": "stream",
     "text": [
      "\n",
      " RiskClassification           High  Moderate    Low\n",
      "AgeCategory_Classification                        \n",
      "middle-aged                 33810     48639  30308\n",
      "older-adult                 72668    129767  80858\n",
      "young                       11993     19888  17044\n",
      "\n",
      " RiskClassification          High  Moderate  Low\n",
      "AgeCategory_Classification                     \n",
      "middle-aged                 0.30      0.43 0.27\n",
      "older-adult                 0.26      0.46 0.29\n",
      "young                       0.25      0.41 0.35\n",
      "\n",
      " AgeCategory_Classification\n",
      "middle-aged   0.73\n",
      "older-adult   0.71\n",
      "young         0.65\n",
      "dtype: float64\n"
     ]
    },
    {
     "data": {
      "image/png": "[encoded data removed]",
      "text/plain": [
       "<Figure size 1000x600 with 1 Axes>"
      ]
     },
     "metadata": {},
     "output_type": "display_data"
    }
   ],
   "source": [
    "risk_order = ['High', 'Moderate', 'Low']\n",
    "age_risk_group = df.groupby(['AgeCategory_Classification', 'RiskClassification']).size().unstack(fill_value=0)\n",
    "age_risk_group = age_risk_group.reindex(columns=risk_order, fill_value=0)\n",
    "print('\\n', age_risk_group)\n",
    "\n",
    "\n",
    "age_risk_proportions = age_risk_group.div(age_risk_group.sum(axis=1), axis=0)\n",
    "print('\\n', age_risk_proportions)\n",
    "age_risk_proportions = age_risk_proportions.fillna(0)\n",
    "\n",
    "\n",
    "\n",
    "high_moderate_columns = ['High', 'Moderate']\n",
    "age_risk_total_high_moderate = age_risk_proportions[high_moderate_columns].sum(axis=1)\n",
    "print('\\n', age_risk_total_high_moderate)\n",
    "\n",
    "\n",
    "\n",
    "age_risk_proportions.plot(kind='bar', stacked=True, figsize=(10, 6), colormap='Set2')\n",
    "plt.title('Proportions of Risk Classification by Age', fontsize=16)\n",
    "plt.xlabel('Age', fontsize=12)\n",
    "plt.ylabel('Proportion', fontsize=12)\n",
    "plt.xticks(rotation=45, ha='right')\n",
    "plt.tight_layout()\n",
    "plt.show()"
   ]
  },
  {
   "cell_type": "markdown",
   "metadata": {},
   "source": [
    "### Conclusion\n",
    "\n",
    "Middle-aged appear to have highest risk relative to young and older-adults. \n",
    "\n",
    "Potential reasons:\n",
    "- this transitional period in lifespan is when ppl begin experiencing chronic conditions and age-related health changes. because young typically are healthier with fewer health issues whereas older-adults might already be receiving treatment and management for conditions that prevent further prgoression of health risks. \n",
    "- often experience combination of risk factors that were accumulated over their lives at this point (eg. smoking, lack of exercise)\n",
    "- many chronic diseases have a long latency period ie they will take decades to develop\n",
    "- while interventions are commonly for the older-adult, middle-aged people typically are not targeted for preventive care as much as they should. Unmanaged conditions which increase mortality risk are always detected until later stages. There will also be a lot of masking of early health deterioriation as the middle-aged demographic is also typically people who are actively working or involved in family care. "
   ]
  },
  {
   "cell_type": "markdown",
   "metadata": {},
   "source": [
    "#### Misreportings"
   ]
  },
  {
   "cell_type": "code",
   "execution_count": 13,
   "metadata": {},
   "outputs": [
    {
     "name": "stdout",
     "output_type": "stream",
     "text": [
      "Count of misreporters (by type):\n",
      "MisreportingFlag\n",
      "Under-reporter    242391\n",
      "None              196945\n",
      "Over-reporter       5639\n",
      "Name: count, dtype: int64\n",
      "\n",
      "Total number of mis-reporters: 248030\n"
     ]
    }
   ],
   "source": [
    "# New column 'MisreportingFlag' with default value 'None' (for those who aren't misreporting)\n",
    "df['MisreportingFlag'] = 'None'\n",
    "\n",
    "# Flagging Under-reporters\n",
    "df.loc[\n",
    "    ((df['RiskClassification'] == 'High') | (df['RiskClassification'] == 'Moderate')) & \n",
    "    (df['GeneralHealth_numeric'].isin([3, 4, 5])), \n",
    "    'MisreportingFlag'\n",
    "] = 'Under-reporter'\n",
    "\n",
    "# Flagging Over-reporters\n",
    "df.loc[\n",
    "    (df['RiskClassification'] == 'Low') & \n",
    "    (df['GeneralHealth_numeric'].isin([1, 2])), \n",
    "    'MisreportingFlag'\n",
    "] = 'Over-reporter'\n",
    "\n",
    "# Count how many over-reporters and under-reporters there are\n",
    "misreport_count = df['MisreportingFlag'].value_counts()\n",
    "print(\"Count of misreporters (by type):\")\n",
    "print(misreport_count)\n",
    "\n",
    "\n",
    "\n",
    "# Calculate total number of misreporters (Under-reporters + Over-reporters)\n",
    "total_misreporters = misreport_count.get('Under-reporter', 0) + misreport_count.get('Over-reporter', 0)\n",
    "print(f\"\\nTotal number of mis-reporters: {total_misreporters}\")\n",
    "\n",
    "\n",
    "df['MisreportingFlag_numeric'] = df['MisreportingFlag'].map({'None': 0, 'Under-reporter': 2, 'Over-reporter': 1})\n",
    "\n",
    "\n",
    "# df.head(10)"
   ]
  },
  {
   "cell_type": "code",
   "execution_count": 14,
   "metadata": {},
   "outputs": [
    {
     "name": "stdout",
     "output_type": "stream",
     "text": [
      "Proportions of misreporters by Race/Ethnicity category:\n",
      "MisreportingFlag       None  Over-reporter  Under-reporter\n",
      "RaceEthnicityCategory                                     \n",
      "black                  0.39           0.01            0.60\n",
      "hispanic               0.42           0.02            0.56\n",
      "multiracial            0.41           0.01            0.58\n",
      "others                 0.49           0.02            0.49\n",
      "white                  0.45           0.01            0.54\n"
     ]
    },
    {
     "data": {
      "image/png": "[encoded data removed]",
      "text/plain": [
       "<Figure size 1000x600 with 1 Axes>"
      ]
     },
     "metadata": {},
     "output_type": "display_data"
    }
   ],
   "source": [
    "# Group by RaceEthnicityCategory and MisreportingFlag and count occurrences\n",
    "race_misreport_group = df.groupby(['RaceEthnicityCategory', 'MisreportingFlag']).size().unstack(fill_value=0)\n",
    "\n",
    "# Normalize the counts to calculate proportions\n",
    "race_misreport_proportions = race_misreport_group.div(race_misreport_group.sum(axis=1), axis=0)\n",
    "\n",
    "# Print the proportions to check if the calculations are correct\n",
    "print(\"Proportions of misreporters by Race/Ethnicity category:\")\n",
    "print(race_misreport_proportions)\n",
    "\n",
    "# Plot a stacked bar chart of proportions\n",
    "race_misreport_proportions.plot(kind='bar', stacked=True, figsize=(10, 6), colormap='Set2')\n",
    "\n",
    "# Add a title and labels for clarity\n",
    "plt.title('Proportion of Misreporters Across Race/Ethnicity Categories', fontsize=16)\n",
    "plt.xlabel('Race/Ethnicity Category', fontsize=12)\n",
    "plt.ylabel('Proportion of Misreporters', fontsize=12)\n",
    "\n",
    "# Rotate x-axis labels for better readability\n",
    "plt.xticks(rotation=45, ha='right')\n",
    "\n",
    "plt.legend(title='Misreporting Flag')\n",
    "\n",
    "# Show the plot\n",
    "plt.tight_layout()\n",
    "plt.show()"
   ]
  },
  {
   "cell_type": "markdown",
   "metadata": {},
   "source": [
    "### Conclusion\n",
    "Under-reporter: black > multiracial > hispanic > white > others"
   ]
  },
  {
   "cell_type": "markdown",
   "metadata": {},
   "source": [
    "#### Missing data & their implications"
   ]
  },
  {
   "cell_type": "code",
   "execution_count": 15,
   "metadata": {},
   "outputs": [
    {
     "name": "stdout",
     "output_type": "stream",
     "text": [
      "Percentage of Missing Data (by indicator):\n",
      "\n",
      " TetanusLast10Tdap_missing_indicator           18.51\n",
      "PneumoVaxEver_missing_indicator               17.28\n",
      "HIVTesting_missing_indicator                  14.83\n",
      "ChestScan_missing_indicator                   12.56\n",
      "CovidPos_missing_indicator                    11.38\n",
      "HighRiskLastYear_missing_indicator            11.34\n",
      "FluVaxLast12_missing_indicator                10.56\n",
      "AlcoholDrinkers_missing_indicator             10.43\n",
      "ECigaretteUsage_missing_indicator              7.98\n",
      "SmokerStatus_missing_indicator                 7.94\n",
      "DifficultyErrands_missing_indicator            5.73\n",
      "DifficultyConcentrating_missing_indicator      5.41\n",
      "DifficultyWalking_missing_indicator            5.36\n",
      "DifficultyDressingBathing_missing_indicator    5.34\n",
      "BlindOrVisionDifficulty_missing_indicator      4.81\n",
      "DeafOrHardOfHearing_missing_indicator          4.61\n",
      "RaceEthnicityCategory_missing_indicator        3.16\n",
      "RemovedTeeth_missing_indicator                 2.55\n",
      "AgeCategory_missing_indicator                  2.04\n",
      "LastCheckupTime_missing_indicator              1.87\n",
      "HadAngina_missing_indicator                    0.99\n",
      "HadSkinCancer_missing_indicator                0.71\n",
      "HadHeartAttack_missing_indicator               0.69\n",
      "HadDepressiveDisorder_missing_indicator        0.63\n",
      "HadArthritis_missing_indicator                 0.59\n",
      "HadCOPD_missing_indicator                      0.50\n",
      "HadKidneyDisease_missing_indicator             0.43\n",
      "HadAsthma_missing_indicator                    0.40\n",
      "HadStroke_missing_indicator                    0.35\n",
      "GeneralHealth_missing_indicator                0.27\n",
      "PhysicalActivities_missing_indicator           0.24\n",
      "HadDiabetes_missing_indicator                  0.24\n",
      "dtype: float64\n"
     ]
    }
   ],
   "source": [
    "# Extract missing indicator columns\n",
    "missing_indicator_cols = [col for col in df.columns if '_missing_indicator' in col]\n",
    "\n",
    "# Calculate the percentage of missing data for each indicator column\n",
    "missing_data_percentage = df[missing_indicator_cols].mean() * 100\n",
    "\n",
    "# Sort the indicator columns by the percentage of missing values\n",
    "missing_data_percentage_sorted = missing_data_percentage.sort_values(ascending=False)\n",
    "print(\"Percentage of Missing Data (by indicator):\")\n",
    "print('\\n', missing_data_percentage_sorted)\n"
   ]
  },
  {
   "cell_type": "markdown",
   "metadata": {},
   "source": [
    "#### Implications\n",
    " HIVtesting_missing_indicator high percentage might be due to privacy concerns, lack of testing, lack of reporting in dataset. An unwilligness to disclose sensitive information about lifestyle choices. Same goes for AlcoholDrinkers_missing_indicator and SmokerStatus_missing_indicator\n",
    "\n",
    " Lack of reporting on disability-related indicators like DifficultyErrands_missing_indicator and DifficultyConcentrating_missing_indicator suggest there might be inconsistencies in how respondents interpret the features. Indicates an underreporting of disabilities / functional impairments and/or a need for clearer definitions and increassed awareness about these measures during data collection; unclear survey questions  "
   ]
  },
  {
   "cell_type": "code",
   "execution_count": 16,
   "metadata": {},
   "outputs": [
    {
     "data": {
      "image/png": "[encoded data removed]",
      "text/plain": [
       "<Figure size 1200x800 with 1 Axes>"
      ]
     },
     "metadata": {},
     "output_type": "display_data"
    }
   ],
   "source": [
    "plt.figure(figsize=(12, 8))\n",
    "missing_data_percentage_sorted.plot(kind='bar', color='lightcoral')\n",
    "plt.title('Percentage of Missing Data per Column', fontsize=16)\n",
    "plt.xlabel('Columns', fontsize=12)\n",
    "plt.ylabel('Percentage Missing', fontsize=12)\n",
    "plt.xticks(rotation=90)\n",
    "plt.show()\n"
   ]
  },
  {
   "cell_type": "code",
   "execution_count": 17,
   "metadata": {},
   "outputs": [
    {
     "name": "stdout",
     "output_type": "stream",
     "text": [
      "Proportion of Missing Data by Race/Ethnicity Category:\n",
      "                       GeneralHealth_missing_indicator  LastCheckupTime_missing_indicator  PhysicalActivities_missing_indicator  RemovedTeeth_missing_indicator  HadHeartAttack_missing_indicator  HadAngina_missing_indicator  HadStroke_missing_indicator  HadAsthma_missing_indicator  HadSkinCancer_missing_indicator  HadCOPD_missing_indicator  HadDepressiveDisorder_missing_indicator  HadKidneyDisease_missing_indicator  HadArthritis_missing_indicator  HadDiabetes_missing_indicator  DeafOrHardOfHearing_missing_indicator  BlindOrVisionDifficulty_missing_indicator  DifficultyConcentrating_missing_indicator  DifficultyWalking_missing_indicator  DifficultyDressingBathing_missing_indicator  DifficultyErrands_missing_indicator  SmokerStatus_missing_indicator  ECigaretteUsage_missing_indicator  RaceEthnicityCategory_missing_indicator  AgeCategory_missing_indicator  ChestScan_missing_indicator  AlcoholDrinkers_missing_indicator  HIVTesting_missing_indicator  FluVaxLast12_missing_indicator  \\\n",
      "RaceEthnicityCategory                                                                                                                                                                                                                                                                                                                                                                                                                                                                                                                                                                                                                                                                                                                                                                                                                                                                                                                                                                                                           \n",
      "black                                             0.00                               0.01                                  0.00                            0.04                              0.01                         0.01                         0.00                         0.00                             0.00                       0.00                                     0.01                                0.00                            0.00                           0.00                                   0.07                                       0.07                                       0.08                                 0.08                                         0.08                                 0.08                            0.11                               0.11                                     0.00                           0.02                         0.16                               0.15                          0.17                            0.15   \n",
      "hispanic                                          0.00                               0.03                                  0.00                            0.02                              0.01                         0.01                         0.00                         0.00                             0.00                       0.00                                     0.01                                0.00                            0.01                           0.00                                   0.06                                       0.06                                       0.07                                 0.07                                         0.07                                 0.07                            0.09                               0.09                                     0.00                           0.01                         0.13                               0.12                          0.15                            0.12   \n",
      "multiracial                                       0.00                               0.02                                  0.00                            0.02                              0.01                         0.01                         0.01                         0.01                             0.01                       0.01                                     0.01                                0.00                            0.01                           0.00                                   0.04                                       0.04                                       0.05                                 0.05                                         0.05                                 0.05                            0.07                               0.06                                     0.00                           0.01                         0.11                               0.09                          0.13                            0.09   \n",
      "others                                            0.00                               0.03                                  0.00                            0.02                              0.01                         0.01                         0.00                         0.00                             0.00                       0.01                                     0.01                                0.00                            0.01                           0.00                                   0.06                                       0.07                                       0.07                                 0.07                                         0.07                                 0.08                            0.10                               0.10                                     0.00                           0.02                         0.14                               0.13                          0.16                            0.13   \n",
      "white                                             0.00                               0.02                                  0.00                            0.03                              0.01                         0.01                         0.00                         0.00                             0.01                       0.00                                     0.01                                0.00                            0.01                           0.00                                   0.04                                       0.04                                       0.05                                 0.05                                         0.05                                 0.05                            0.07                               0.07                                     0.04                           0.02                         0.12                               0.10                          0.15                            0.10   \n",
      "\n",
      "                       PneumoVaxEver_missing_indicator  TetanusLast10Tdap_missing_indicator  HighRiskLastYear_missing_indicator  CovidPos_missing_indicator  \n",
      "RaceEthnicityCategory                                                                                                                                        \n",
      "black                                             0.19                                 0.22                                0.16                        0.16  \n",
      "hispanic                                          0.20                                 0.21                                0.13                        0.13  \n",
      "multiracial                                       0.18                                 0.16                                0.10                        0.10  \n",
      "others                                            0.22                                 0.22                                0.14                        0.14  \n",
      "white                                             0.16                                 0.18                                0.11                        0.11  \n"
     ]
    }
   ],
   "source": [
    "# Calculate the proportion of missing data by Race/Ethnicity Category for each indicator column\n",
    "missing_by_race = df.groupby('RaceEthnicityCategory')[missing_indicator_cols].mean()\n",
    "\n",
    "# Print the proportion of missing data by Race/Ethnicity Category\n",
    "print(\"Proportion of Missing Data by Race/Ethnicity Category:\")\n",
    "print(missing_by_race)"
   ]
  },
  {
   "cell_type": "code",
   "execution_count": 18,
   "metadata": {},
   "outputs": [
    {
     "name": "stdout",
     "output_type": "stream",
     "text": [
      "Proportion of Missing Data by Race/Ethnicity Category:\n",
      "                       GeneralHealth_missing_indicator  LastCheckupTime_missing_indicator  PhysicalActivities_missing_indicator  RemovedTeeth_missing_indicator  HadHeartAttack_missing_indicator  HadAngina_missing_indicator  HadStroke_missing_indicator  HadAsthma_missing_indicator  HadSkinCancer_missing_indicator  HadCOPD_missing_indicator  HadDepressiveDisorder_missing_indicator  HadKidneyDisease_missing_indicator  HadArthritis_missing_indicator  HadDiabetes_missing_indicator  DeafOrHardOfHearing_missing_indicator  BlindOrVisionDifficulty_missing_indicator  DifficultyConcentrating_missing_indicator  DifficultyWalking_missing_indicator  DifficultyDressingBathing_missing_indicator  DifficultyErrands_missing_indicator  SmokerStatus_missing_indicator  ECigaretteUsage_missing_indicator  RaceEthnicityCategory_missing_indicator  AgeCategory_missing_indicator  ChestScan_missing_indicator  AlcoholDrinkers_missing_indicator  HIVTesting_missing_indicator  FluVaxLast12_missing_indicator  \\\n",
      "RaceEthnicityCategory                                                                                                                                                                                                                                                                                                                                                                                                                                                                                                                                                                                                                                                                                                                                                                                                                                                                                                                                                                                                           \n",
      "black                                             0.00                               0.01                                  0.00                            0.04                              0.01                         0.01                         0.00                         0.00                             0.00                       0.00                                     0.01                                0.00                            0.00                           0.00                                   0.07                                       0.07                                       0.08                                 0.08                                         0.08                                 0.08                            0.11                               0.11                                     0.00                           0.02                         0.16                               0.15                          0.17                            0.15   \n",
      "hispanic                                          0.00                               0.03                                  0.00                            0.02                              0.01                         0.01                         0.00                         0.00                             0.00                       0.00                                     0.01                                0.00                            0.01                           0.00                                   0.06                                       0.06                                       0.07                                 0.07                                         0.07                                 0.07                            0.09                               0.09                                     0.00                           0.01                         0.13                               0.12                          0.15                            0.12   \n",
      "multiracial                                       0.00                               0.02                                  0.00                            0.02                              0.01                         0.01                         0.01                         0.01                             0.01                       0.01                                     0.01                                0.00                            0.01                           0.00                                   0.04                                       0.04                                       0.05                                 0.05                                         0.05                                 0.05                            0.07                               0.06                                     0.00                           0.01                         0.11                               0.09                          0.13                            0.09   \n",
      "others                                            0.00                               0.03                                  0.00                            0.02                              0.01                         0.01                         0.00                         0.00                             0.00                       0.01                                     0.01                                0.00                            0.01                           0.00                                   0.06                                       0.07                                       0.07                                 0.07                                         0.07                                 0.08                            0.10                               0.10                                     0.00                           0.02                         0.14                               0.13                          0.16                            0.13   \n",
      "white                                             0.00                               0.02                                  0.00                            0.03                              0.01                         0.01                         0.00                         0.00                             0.01                       0.00                                     0.01                                0.00                            0.01                           0.00                                   0.04                                       0.04                                       0.05                                 0.05                                         0.05                                 0.05                            0.07                               0.07                                     0.04                           0.02                         0.12                               0.10                          0.15                            0.10   \n",
      "\n",
      "                       PneumoVaxEver_missing_indicator  TetanusLast10Tdap_missing_indicator  HighRiskLastYear_missing_indicator  CovidPos_missing_indicator  \n",
      "RaceEthnicityCategory                                                                                                                                        \n",
      "black                                             0.19                                 0.22                                0.16                        0.16  \n",
      "hispanic                                          0.20                                 0.21                                0.13                        0.13  \n",
      "multiracial                                       0.18                                 0.16                                0.10                        0.10  \n",
      "others                                            0.22                                 0.22                                0.14                        0.14  \n",
      "white                                             0.16                                 0.18                                0.11                        0.11  \n"
     ]
    },
    {
     "data": {
      "application/vnd.plotly.v1+json": {
       "config": {
        "plotlyServerURL": "https://plot.ly"
       },
       "data": [
        {
         "coloraxis": "coloraxis",
         "hovertemplate": "Features: %{x}<br>Race/Ethnicity Category: %{y}<br>Proportion of Missing Data: %{z}<extra></extra>",
         "name": "0",
         "type": "heatmap",
         "x": [
          "GeneralHealth_missing_indicator",
          "LastCheckupTime_missing_indicator",
          "PhysicalActivities_missing_indicator",
          "RemovedTeeth_missing_indicator",
          "HadHeartAttack_missing_indicator",
          "HadAngina_missing_indicator",
          "HadStroke_missing_indicator",
          "HadAsthma_missing_indicator",
          "HadSkinCancer_missing_indicator",
          "HadCOPD_missing_indicator",
          "HadDepressiveDisorder_missing_indicator",
          "HadKidneyDisease_missing_indicator",
          "HadArthritis_missing_indicator",
          "HadDiabetes_missing_indicator",
          "DeafOrHardOfHearing_missing_indicator",
          "BlindOrVisionDifficulty_missing_indicator",
          "DifficultyConcentrating_missing_indicator",
          "DifficultyWalking_missing_indicator",
          "DifficultyDressingBathing_missing_indicator",
          "DifficultyErrands_missing_indicator",
          "SmokerStatus_missing_indicator",
          "ECigaretteUsage_missing_indicator",
          "RaceEthnicityCategory_missing_indicator",
          "AgeCategory_missing_indicator",
          "ChestScan_missing_indicator",
          "AlcoholDrinkers_missing_indicator",
          "HIVTesting_missing_indicator",
          "FluVaxLast12_missing_indicator",
          "PneumoVaxEver_missing_indicator",
          "TetanusLast10Tdap_missing_indicator",
          "HighRiskLastYear_missing_indicator",
          "CovidPos_missing_indicator"
         ],
         "xaxis": "x",
         "y": [
          "black",
          "hispanic",
          "multiracial",
          "others",
          "white"
         ],
         "yaxis": "y",
         "z": [
          [
           0.0033578825587629447,
           0.014616665255791642,
           0.002172747538023082,
           0.03727531815231807,
           0.009311775162956065,
           0.010891955190609216,
           0.002849967549874432,
           0.003188577555800107,
           0.0033014475577753323,
           0.004853410084934676,
           0.006066762606168345,
           0.004345495076046164,
           0.004712322582465645,
           0.002398487541973532,
           0.06656508366488896,
           0.07155958125229267,
           0.07816247636784333,
           0.0779931713648805,
           0.07855752137475662,
           0.0838624114675922,
           0.11264426197127458,
           0.11436552950139676,
           0,
           0.022150737887637915,
           0.15807443776630267,
           0.14718248257569344,
           0.17209853551172438,
           0.1469003075707554,
           0.1924997883687463,
           0.21992719884872597,
           0.1587234402776602,
           0.15861057027568498
          ],
          [
           0.0029831962150698023,
           0.03391055072598877,
           0.002447153145174447,
           0.01754958398396532,
           0.009159344629081502,
           0.007691052741976834,
           0.00370568904840702,
           0.0031929521989418974,
           0.003565851725825623,
           0.004637937865616333,
           0.006269373295732631,
           0.004521406763465169,
           0.006712191483907055,
           0.003822220150558184,
           0.05987368028526814,
           0.06288018272076817,
           0.06821730719929149,
           0.06665579043046589,
           0.06784440767240776,
           0.07208613979071014,
           0.09145360896823362,
           0.09466986738760576,
           0,
           0.011233598247372224,
           0.1307712028340364,
           0.1186286619898851,
           0.14955601650080405,
           0.12065630316731536,
           0.2025543617591535,
           0.20649311301186288,
           0.12944274826951313,
           0.1299088726781178
          ],
          [
           0.0034453956984756735,
           0.02213405721444978,
           0.0021925245353936105,
           0.01774900814366256,
           0.007621632908749217,
           0.01336395907287534,
           0.0059511380246398,
           0.005533514303612445,
           0.007726038839006056,
           0.006473167675923992,
           0.00897891000208812,
           0.003758613489246189,
           0.006577573606180831,
           0.0034453956984756735,
           0.040405095009396534,
           0.04291083733556066,
           0.05063687617456671,
           0.04740029233660472,
           0.04750469826686156,
           0.05157652954687826,
           0.06577573606180831,
           0.0649404886197536,
           0,
           0.013885988724159533,
           0.1052411776988933,
           0.08749216955523073,
           0.1290457297974525,
           0.08905825850908332,
           0.17581958655251617,
           0.162351221549384,
           0.09667989141783254,
           0.09751513885988725
          ],
          [
           0.002906336694702541,
           0.028050552644326036,
           0.0021136994143291206,
           0.022678233299572855,
           0.011933594610066493,
           0.008498833061781673,
           0.003214584525958871,
           0.004843894491170901,
           0.004711788277775331,
           0.007530054163547492,
           0.008278656039455722,
           0.0044035404465190015,
           0.007133735523360782,
           0.003919150997401911,
           0.061165176802148925,
           0.06521643401294641,
           0.07199788630058566,
           0.07133735523360782,
           0.0727905235809591,
           0.0771500286230129,
           0.09868334140649082,
           0.10106125324761107,
           0,
           0.019992073627196266,
           0.14060504645735172,
           0.126998106477608,
           0.15984851820863974,
           0.12990444317231054,
           0.22281914659386146,
           0.22334757144744374,
           0.14038486943502576,
           0.14051697564842133
          ],
          [
           0.0025333341309198365,
           0.016387411692219345,
           0.002503424637048292,
           0.02571020093197983,
           0.00596096212859886,
           0.010058562789000485,
           0.0034754831878734947,
           0.004052736419594308,
           0.008036681003284063,
           0.0048154285133186975,
           0.00612845529427951,
           0.004297994269340974,
           0.005826369406176909,
           0.0021265650142668286,
           0.04126911964395739,
           0.04274963959059885,
           0.04868667412410047,
           0.04836066064090064,
           0.04775648886469543,
           0.051444329459056894,
           0.073364997517512,
           0.07322442289631576,
           0.042016856990746004,
           0.021579699828319504,
           0.1210915768883359,
           0.09690676014380485,
           0.14535714926632012,
           0.09807023945540794,
           0.1634165016659588,
           0.1767322083375705,
           0.1052335632376429,
           0.1055745314677785
          ]
         ]
        }
       ],
       "layout": {
        "coloraxis": {
         "colorbar": {
          "title": {
           "text": "Proportion of Missing Data"
          }
         },
         "colorscale": [
          [
           0,
           "#440154"
          ],
          [
           0.1111111111111111,
           "#482878"
          ],
          [
           0.2222222222222222,
           "#3e4989"
          ],
          [
           0.3333333333333333,
           "#31688e"
          ],
          [
           0.4444444444444444,
           "#26828e"
          ],
          [
           0.5555555555555556,
           "#1f9e89"
          ],
          [
           0.6666666666666666,
           "#35b779"
          ],
          [
           0.7777777777777778,
           "#6ece58"
          ],
          [
           0.8888888888888888,
           "#b5de2b"
          ],
          [
           1,
           "#fde725"
          ]
         ]
        },
        "height": 600,
        "margin": {
         "t": 60
        },
        "template": {
         "data": {
          "bar": [
           {
            "error_x": {
             "color": "#2a3f5f"
            },
            "error_y": {
             "color": "#2a3f5f"
            },
            "marker": {
             "line": {
              "color": "#E5ECF6",
              "width": 0.5
             },
             "pattern": {
              "fillmode": "overlay",
              "size": 10,
              "solidity": 0.2
             }
            },
            "type": "bar"
           }
          ],
          "barpolar": [
           {
            "marker": {
             "line": {
              "color": "#E5ECF6",
              "width": 0.5
             },
             "pattern": {
              "fillmode": "overlay",
              "size": 10,
              "solidity": 0.2
             }
            },
            "type": "barpolar"
           }
          ],
          "carpet": [
           {
            "aaxis": {
             "endlinecolor": "#2a3f5f",
             "gridcolor": "white",
             "linecolor": "white",
             "minorgridcolor": "white",
             "startlinecolor": "#2a3f5f"
            },
            "baxis": {
             "endlinecolor": "#2a3f5f",
             "gridcolor": "white",
             "linecolor": "white",
             "minorgridcolor": "white",
             "startlinecolor": "#2a3f5f"
            },
            "type": "carpet"
           }
          ],
          "choropleth": [
           {
            "colorbar": {
             "outlinewidth": 0,
             "ticks": ""
            },
            "type": "choropleth"
           }
          ],
          "contour": [
           {
            "colorbar": {
             "outlinewidth": 0,
             "ticks": ""
            },
            "colorscale": [
             [
              0,
              "#0d0887"
             ],
             [
              0.1111111111111111,
              "#46039f"
             ],
             [
              0.2222222222222222,
              "#7201a8"
             ],
             [
              0.3333333333333333,
              "#9c179e"
             ],
             [
              0.4444444444444444,
              "#bd3786"
             ],
             [
              0.5555555555555556,
              "#d8576b"
             ],
             [
              0.6666666666666666,
              "#ed7953"
             ],
             [
              0.7777777777777778,
              "#fb9f3a"
             ],
             [
              0.8888888888888888,
              "#fdca26"
             ],
             [
              1,
              "#f0f921"
             ]
            ],
            "type": "contour"
           }
          ],
          "contourcarpet": [
           {
            "colorbar": {
             "outlinewidth": 0,
             "ticks": ""
            },
            "type": "contourcarpet"
           }
          ],
          "heatmap": [
           {
            "colorbar": {
             "outlinewidth": 0,
             "ticks": ""
            },
            "colorscale": [
             [
              0,
              "#0d0887"
             ],
             [
              0.1111111111111111,
              "#46039f"
             ],
             [
              0.2222222222222222,
              "#7201a8"
             ],
             [
              0.3333333333333333,
              "#9c179e"
             ],
             [
              0.4444444444444444,
              "#bd3786"
             ],
             [
              0.5555555555555556,
              "#d8576b"
             ],
             [
              0.6666666666666666,
              "#ed7953"
             ],
             [
              0.7777777777777778,
              "#fb9f3a"
             ],
             [
              0.8888888888888888,
              "#fdca26"
             ],
             [
              1,
              "#f0f921"
             ]
            ],
            "type": "heatmap"
           }
          ],
          "heatmapgl": [
           {
            "colorbar": {
             "outlinewidth": 0,
             "ticks": ""
            },
            "colorscale": [
             [
              0,
              "#0d0887"
             ],
             [
              0.1111111111111111,
              "#46039f"
             ],
             [
              0.2222222222222222,
              "#7201a8"
             ],
             [
              0.3333333333333333,
              "#9c179e"
             ],
             [
              0.4444444444444444,
              "#bd3786"
             ],
             [
              0.5555555555555556,
              "#d8576b"
             ],
             [
              0.6666666666666666,
              "#ed7953"
             ],
             [
              0.7777777777777778,
              "#fb9f3a"
             ],
             [
              0.8888888888888888,
              "#fdca26"
             ],
             [
              1,
              "#f0f921"
             ]
            ],
            "type": "heatmapgl"
           }
          ],
          "histogram": [
           {
            "marker": {
             "pattern": {
              "fillmode": "overlay",
              "size": 10,
              "solidity": 0.2
             }
            },
            "type": "histogram"
           }
          ],
          "histogram2d": [
           {
            "colorbar": {
             "outlinewidth": 0,
             "ticks": ""
            },
            "colorscale": [
             [
              0,
              "#0d0887"
             ],
             [
              0.1111111111111111,
              "#46039f"
             ],
             [
              0.2222222222222222,
              "#7201a8"
             ],
             [
              0.3333333333333333,
              "#9c179e"
             ],
             [
              0.4444444444444444,
              "#bd3786"
             ],
             [
              0.5555555555555556,
              "#d8576b"
             ],
             [
              0.6666666666666666,
              "#ed7953"
             ],
             [
              0.7777777777777778,
              "#fb9f3a"
             ],
             [
              0.8888888888888888,
              "#fdca26"
             ],
             [
              1,
              "#f0f921"
             ]
            ],
            "type": "histogram2d"
           }
          ],
          "histogram2dcontour": [
           {
            "colorbar": {
             "outlinewidth": 0,
             "ticks": ""
            },
            "colorscale": [
             [
              0,
              "#0d0887"
             ],
             [
              0.1111111111111111,
              "#46039f"
             ],
             [
              0.2222222222222222,
              "#7201a8"
             ],
             [
              0.3333333333333333,
              "#9c179e"
             ],
             [
              0.4444444444444444,
              "#bd3786"
             ],
             [
              0.5555555555555556,
              "#d8576b"
             ],
             [
              0.6666666666666666,
              "#ed7953"
             ],
             [
              0.7777777777777778,
              "#fb9f3a"
             ],
             [
              0.8888888888888888,
              "#fdca26"
             ],
             [
              1,
              "#f0f921"
             ]
            ],
            "type": "histogram2dcontour"
           }
          ],
          "mesh3d": [
           {
            "colorbar": {
             "outlinewidth": 0,
             "ticks": ""
            },
            "type": "mesh3d"
           }
          ],
          "parcoords": [
           {
            "line": {
             "colorbar": {
              "outlinewidth": 0,
              "ticks": ""
             }
            },
            "type": "parcoords"
           }
          ],
          "pie": [
           {
            "automargin": true,
            "type": "pie"
           }
          ],
          "scatter": [
           {
            "fillpattern": {
             "fillmode": "overlay",
             "size": 10,
             "solidity": 0.2
            },
            "type": "scatter"
           }
          ],
          "scatter3d": [
           {
            "line": {
             "colorbar": {
              "outlinewidth": 0,
              "ticks": ""
             }
            },
            "marker": {
             "colorbar": {
              "outlinewidth": 0,
              "ticks": ""
             }
            },
            "type": "scatter3d"
           }
          ],
          "scattercarpet": [
           {
            "marker": {
             "colorbar": {
              "outlinewidth": 0,
              "ticks": ""
             }
            },
            "type": "scattercarpet"
           }
          ],
          "scattergeo": [
           {
            "marker": {
             "colorbar": {
              "outlinewidth": 0,
              "ticks": ""
             }
            },
            "type": "scattergeo"
           }
          ],
          "scattergl": [
           {
            "marker": {
             "colorbar": {
              "outlinewidth": 0,
              "ticks": ""
             }
            },
            "type": "scattergl"
           }
          ],
          "scattermapbox": [
           {
            "marker": {
             "colorbar": {
              "outlinewidth": 0,
              "ticks": ""
             }
            },
            "type": "scattermapbox"
           }
          ],
          "scatterpolar": [
           {
            "marker": {
             "colorbar": {
              "outlinewidth": 0,
              "ticks": ""
             }
            },
            "type": "scatterpolar"
           }
          ],
          "scatterpolargl": [
           {
            "marker": {
             "colorbar": {
              "outlinewidth": 0,
              "ticks": ""
             }
            },
            "type": "scatterpolargl"
           }
          ],
          "scatterternary": [
           {
            "marker": {
             "colorbar": {
              "outlinewidth": 0,
              "ticks": ""
             }
            },
            "type": "scatterternary"
           }
          ],
          "surface": [
           {
            "colorbar": {
             "outlinewidth": 0,
             "ticks": ""
            },
            "colorscale": [
             [
              0,
              "#0d0887"
             ],
             [
              0.1111111111111111,
              "#46039f"
             ],
             [
              0.2222222222222222,
              "#7201a8"
             ],
             [
              0.3333333333333333,
              "#9c179e"
             ],
             [
              0.4444444444444444,
              "#bd3786"
             ],
             [
              0.5555555555555556,
              "#d8576b"
             ],
             [
              0.6666666666666666,
              "#ed7953"
             ],
             [
              0.7777777777777778,
              "#fb9f3a"
             ],
             [
              0.8888888888888888,
              "#fdca26"
             ],
             [
              1,
              "#f0f921"
             ]
            ],
            "type": "surface"
           }
          ],
          "table": [
           {
            "cells": {
             "fill": {
              "color": "#EBF0F8"
             },
             "line": {
              "color": "white"
             }
            },
            "header": {
             "fill": {
              "color": "#C8D4E3"
             },
             "line": {
              "color": "white"
             }
            },
            "type": "table"
           }
          ]
         },
         "layout": {
          "annotationdefaults": {
           "arrowcolor": "#2a3f5f",
           "arrowhead": 0,
           "arrowwidth": 1
          },
          "autotypenumbers": "strict",
          "coloraxis": {
           "colorbar": {
            "outlinewidth": 0,
            "ticks": ""
           }
          },
          "colorscale": {
           "diverging": [
            [
             0,
             "#8e0152"
            ],
            [
             0.1,
             "#c51b7d"
            ],
            [
             0.2,
             "#de77ae"
            ],
            [
             0.3,
             "#f1b6da"
            ],
            [
             0.4,
             "#fde0ef"
            ],
            [
             0.5,
             "#f7f7f7"
            ],
            [
             0.6,
             "#e6f5d0"
            ],
            [
             0.7,
             "#b8e186"
            ],
            [
             0.8,
             "#7fbc41"
            ],
            [
             0.9,
             "#4d9221"
            ],
            [
             1,
             "#276419"
            ]
           ],
           "sequential": [
            [
             0,
             "#0d0887"
            ],
            [
             0.1111111111111111,
             "#46039f"
            ],
            [
             0.2222222222222222,
             "#7201a8"
            ],
            [
             0.3333333333333333,
             "#9c179e"
            ],
            [
             0.4444444444444444,
             "#bd3786"
            ],
            [
             0.5555555555555556,
             "#d8576b"
            ],
            [
             0.6666666666666666,
             "#ed7953"
            ],
            [
             0.7777777777777778,
             "#fb9f3a"
            ],
            [
             0.8888888888888888,
             "#fdca26"
            ],
            [
             1,
             "#f0f921"
            ]
           ],
           "sequentialminus": [
            [
             0,
             "#0d0887"
            ],
            [
             0.1111111111111111,
             "#46039f"
            ],
            [
             0.2222222222222222,
             "#7201a8"
            ],
            [
             0.3333333333333333,
             "#9c179e"
            ],
            [
             0.4444444444444444,
             "#bd3786"
            ],
            [
             0.5555555555555556,
             "#d8576b"
            ],
            [
             0.6666666666666666,
             "#ed7953"
            ],
            [
             0.7777777777777778,
             "#fb9f3a"
            ],
            [
             0.8888888888888888,
             "#fdca26"
            ],
            [
             1,
             "#f0f921"
            ]
           ]
          },
          "colorway": [
           "#636efa",
           "#EF553B",
           "#00cc96",
           "#ab63fa",
           "#FFA15A",
           "#19d3f3",
           "#FF6692",
           "#B6E880",
           "#FF97FF",
           "#FECB52"
          ],
          "font": {
           "color": "#2a3f5f"
          },
          "geo": {
           "bgcolor": "white",
           "lakecolor": "white",
           "landcolor": "#E5ECF6",
           "showlakes": true,
           "showland": true,
           "subunitcolor": "white"
          },
          "hoverlabel": {
           "align": "left"
          },
          "hovermode": "closest",
          "mapbox": {
           "style": "light"
          },
          "paper_bgcolor": "white",
          "plot_bgcolor": "#E5ECF6",
          "polar": {
           "angularaxis": {
            "gridcolor": "white",
            "linecolor": "white",
            "ticks": ""
           },
           "bgcolor": "#E5ECF6",
           "radialaxis": {
            "gridcolor": "white",
            "linecolor": "white",
            "ticks": ""
           }
          },
          "scene": {
           "xaxis": {
            "backgroundcolor": "#E5ECF6",
            "gridcolor": "white",
            "gridwidth": 2,
            "linecolor": "white",
            "showbackground": true,
            "ticks": "",
            "zerolinecolor": "white"
           },
           "yaxis": {
            "backgroundcolor": "#E5ECF6",
            "gridcolor": "white",
            "gridwidth": 2,
            "linecolor": "white",
            "showbackground": true,
            "ticks": "",
            "zerolinecolor": "white"
           },
           "zaxis": {
            "backgroundcolor": "#E5ECF6",
            "gridcolor": "white",
            "gridwidth": 2,
            "linecolor": "white",
            "showbackground": true,
            "ticks": "",
            "zerolinecolor": "white"
           }
          },
          "shapedefaults": {
           "line": {
            "color": "#2a3f5f"
           }
          },
          "ternary": {
           "aaxis": {
            "gridcolor": "white",
            "linecolor": "white",
            "ticks": ""
           },
           "baxis": {
            "gridcolor": "white",
            "linecolor": "white",
            "ticks": ""
           },
           "bgcolor": "#E5ECF6",
           "caxis": {
            "gridcolor": "white",
            "linecolor": "white",
            "ticks": ""
           }
          },
          "title": {
           "x": 0.05
          },
          "xaxis": {
           "automargin": true,
           "gridcolor": "white",
           "linecolor": "white",
           "ticks": "",
           "title": {
            "standoff": 15
           },
           "zerolinecolor": "white",
           "zerolinewidth": 2
          },
          "yaxis": {
           "automargin": true,
           "gridcolor": "white",
           "linecolor": "white",
           "ticks": "",
           "title": {
            "standoff": 15
           },
           "zerolinecolor": "white",
           "zerolinewidth": 2
          }
         }
        },
        "title": {
         "text": "Proportion of Missing Data by Race/Ethnicity Category",
         "x": 0.5,
         "y": 0.95
        },
        "width": 800,
        "xaxis": {
         "anchor": "y",
         "constrain": "domain",
         "domain": [
          0,
          1
         ],
         "scaleanchor": "y",
         "title": {
          "text": "Features"
         }
        },
        "yaxis": {
         "anchor": "x",
         "autorange": "reversed",
         "constrain": "domain",
         "domain": [
          0,
          1
         ],
         "title": {
          "text": "Race/Ethnicity Category"
         }
        }
       }
      }
     },
     "metadata": {},
     "output_type": "display_data"
    }
   ],
   "source": [
    "# Calculate the proportion of missing data for each indicator column by RaceEthnicityCategory\n",
    "missing_by_race_proportion = df.groupby('RaceEthnicityCategory')[missing_indicator_cols].mean()\n",
    "\n",
    "# Print the proportions of missing data by Race/Ethnicity category\n",
    "print(\"Proportion of Missing Data by Race/Ethnicity Category:\")\n",
    "print(missing_by_race_proportion)\n",
    "\n",
    "# Plot using Plotly for better readability\n",
    "fig = px.imshow(missing_by_race_proportion,\n",
    "                labels=dict(x=\"Features\", y=\"Race/Ethnicity Category\", color=\"Proportion of Missing Data\"),\n",
    "                x=missing_by_race_proportion.columns,\n",
    "                y=missing_by_race_proportion.index,\n",
    "                color_continuous_scale=\"Viridis\")\n",
    "\n",
    "fig.update_layout(title='Proportion of Missing Data by Race/Ethnicity Category',\n",
    "                  title_x=0.5, title_y=0.95,\n",
    "                  width=800, height=600)\n",
    "\n",
    "fig.show()"
   ]
  },
  {
   "cell_type": "code",
   "execution_count": 19,
   "metadata": {},
   "outputs": [
    {
     "data": {
      "application/vnd.plotly.v1+json": {
       "config": {
        "plotlyServerURL": "https://plot.ly"
       },
       "data": [
        {
         "coloraxis": "coloraxis",
         "hovertemplate": "Features: %{x}<br>Missing Features: %{y}<br>Proportion of Missing Features: %{z}<extra></extra>",
         "name": "0",
         "type": "heatmap",
         "x": [
          "GeneralHealth_missing_indicator",
          "LastCheckupTime_missing_indicator",
          "PhysicalActivities_missing_indicator",
          "RemovedTeeth_missing_indicator",
          "HadHeartAttack_missing_indicator",
          "HadAngina_missing_indicator",
          "HadStroke_missing_indicator",
          "HadAsthma_missing_indicator",
          "HadSkinCancer_missing_indicator",
          "HadCOPD_missing_indicator",
          "HadDepressiveDisorder_missing_indicator",
          "HadKidneyDisease_missing_indicator",
          "HadArthritis_missing_indicator",
          "HadDiabetes_missing_indicator",
          "DeafOrHardOfHearing_missing_indicator",
          "BlindOrVisionDifficulty_missing_indicator",
          "DifficultyConcentrating_missing_indicator",
          "DifficultyWalking_missing_indicator",
          "DifficultyDressingBathing_missing_indicator",
          "DifficultyErrands_missing_indicator",
          "SmokerStatus_missing_indicator",
          "ECigaretteUsage_missing_indicator",
          "RaceEthnicityCategory_missing_indicator",
          "AgeCategory_missing_indicator",
          "ChestScan_missing_indicator",
          "AlcoholDrinkers_missing_indicator",
          "HIVTesting_missing_indicator",
          "FluVaxLast12_missing_indicator",
          "PneumoVaxEver_missing_indicator",
          "TetanusLast10Tdap_missing_indicator",
          "HighRiskLastYear_missing_indicator",
          "CovidPos_missing_indicator"
         ],
         "xaxis": "x",
         "y": [
          "GeneralHealth_missing_indicator",
          "LastCheckupTime_missing_indicator",
          "PhysicalActivities_missing_indicator",
          "RemovedTeeth_missing_indicator",
          "HadHeartAttack_missing_indicator",
          "HadAngina_missing_indicator",
          "HadStroke_missing_indicator",
          "HadAsthma_missing_indicator",
          "HadSkinCancer_missing_indicator",
          "HadCOPD_missing_indicator",
          "HadDepressiveDisorder_missing_indicator",
          "HadKidneyDisease_missing_indicator",
          "HadArthritis_missing_indicator",
          "HadDiabetes_missing_indicator",
          "DeafOrHardOfHearing_missing_indicator",
          "BlindOrVisionDifficulty_missing_indicator",
          "DifficultyConcentrating_missing_indicator",
          "DifficultyWalking_missing_indicator",
          "DifficultyDressingBathing_missing_indicator",
          "DifficultyErrands_missing_indicator",
          "SmokerStatus_missing_indicator",
          "ECigaretteUsage_missing_indicator",
          "RaceEthnicityCategory_missing_indicator",
          "AgeCategory_missing_indicator",
          "ChestScan_missing_indicator",
          "AlcoholDrinkers_missing_indicator",
          "HIVTesting_missing_indicator",
          "FluVaxLast12_missing_indicator",
          "PneumoVaxEver_missing_indicator",
          "TetanusLast10Tdap_missing_indicator",
          "HighRiskLastYear_missing_indicator",
          "CovidPos_missing_indicator"
         ],
         "yaxis": "y",
         "z": [
          [
           1,
           0.048741618109544325,
           0.05199272260907594,
           0.039013301494404504,
           0.04722341599405994,
           0.04313409899284139,
           0.04927261346370415,
           0.04784846399188895,
           0.03769910916083927,
           0.05254164426517979,
           0.041978910615630666,
           0.04563947205272231,
           0.045350034046147125,
           0.04862082344822281,
           0.01742039119679179,
           0.018186972716098496,
           0.01947270904919154,
           0.016977501362150524,
           0.01590077778780693,
           0.016938135985998068,
           0.015003407977157112,
           0.014559269176799668,
           0.03289284763565491,
           0.02635494256409236,
           0.016670696697831913,
           0.01400695892391455,
           0.012853297627906045,
           0.0120301004117919,
           0.00975282840401289,
           0.013781791898051721,
           0.010507013158586556,
           0.010442500846006042
          ],
          [
           0.048741618109544325,
           1,
           0.050346894317545306,
           0.04478255642957277,
           0.041184804850079644,
           0.03120880304875576,
           0.04058283724558992,
           0.03564831066291264,
           0.027482779829697133,
           0.036753688393272095,
           0.0399926870603094,
           0.03778880089244778,
           0.03641173861578345,
           0.0468140623622434,
           0.025711707245808065,
           0.025562216670100384,
           0.029467520386996595,
           0.024458068815756084,
           0.023456941017488398,
           0.026656154999495817,
           0.025941382276831237,
           0.0251585205161278,
           0.03495051179532654,
           0.036771159242238144,
           0.028725340607796686,
           0.02830121817199245,
           0.023327923194018604,
           0.026360508754935213,
           0.03503712154078356,
           0.031149697679763003,
           0.02269676268642989,
           0.02232233894237877
          ],
          [
           0.05199272260907594,
           0.050346894317545306,
           1,
           0.0499890789691024,
           0.05975260636390463,
           0.04793910644295305,
           0.07348366512907208,
           0.06269672703642414,
           0.055100312524427146,
           0.07087105162589413,
           0.06272500970172813,
           0.06961564578317313,
           0.06804215203282409,
           0.0816320049549622,
           0.02840567025544305,
           0.02649405119262167,
           0.02736245451225675,
           0.025982221627050054,
           0.025270739604170013,
           0.02458922658806781,
           0.026370416877604188,
           0.02622187034656419,
           0.03374064595863139,
           0.03279182808103404,
           0.023933681429199907,
           0.024185467609257293,
           0.022493635522365673,
           0.02327036296410737,
           0.017931561205066806,
           0.021041980933142038,
           0.021606380815224275,
           0.019667637360448728
          ],
          [
           0.039013301494404504,
           0.04478255642957277,
           0.0499890789691024,
           1,
           0.046028701578445096,
           0.047489304055310766,
           0.04360722058551482,
           0.03984450788231743,
           0.03983858860681837,
           0.04162277538908991,
           0.04218663235544702,
           0.04433856383980183,
           0.040534610904014126,
           0.04380559082601539,
           0.028266618893536228,
           0.02779134603648403,
           0.030109046805191584,
           0.02909424562884934,
           0.02765928439582036,
           0.029118743001115274,
           0.03589281174978689,
           0.03458899250094358,
           0.03973469829206449,
           0.0538153852846332,
           0.048225288844654955,
           0.03954347344854424,
           0.03738584068778509,
           0.03437904669858135,
           0.019856952153566112,
           0.0365486109703667,
           0.03176760200168509,
           0.029772146730940266
          ],
          [
           0.04722341599405994,
           0.041184804850079644,
           0.05975260636390463,
           0.046028701578445096,
           1,
           0.2148487227215114,
           0.21740677954945362,
           0.13782766205860145,
           0.11452738385138247,
           0.139433848831127,
           0.12594990466215125,
           0.12185688071072104,
           0.10538096098525025,
           0.14441853501027938,
           0.028927484958945333,
           0.028166182736988326,
           0.032960563083498345,
           0.0288319783590434,
           0.02824249118552706,
           0.028608221184987282,
           0.02747847604571395,
           0.026870378682458042,
           0.0400309839503544,
           0.039382928857342146,
           0.030242900185007148,
           0.02781874110121855,
           0.027414556324232075,
           0.027961887402452233,
           0.021305718294857716,
           0.025945447152829107,
           0.024514355391032912,
           0.024315873158047004
          ],
          [
           0.04313409899284139,
           0.03120880304875576,
           0.04793910644295305,
           0.047489304055310766,
           0.2148487227215114,
           1,
           0.17554121970834963,
           0.12366246328440669,
           0.11724552352959468,
           0.13883626143608813,
           0.11194908217128711,
           0.13545323975259746,
           0.10315769198426779,
           0.13249017239133587,
           0.020288480675157858,
           0.01859046111701563,
           0.024461919181000845,
           0.021875615001730662,
           0.017974403823184004,
           0.020003025801133844,
           0.015022487632461466,
           0.013814371906787972,
           0.029497787873819955,
           0.029145962197423405,
           0.02777151930473412,
           0.014406937461214872,
           0.024450130080910695,
           0.014302431087896873,
           0.011753763388977774,
           0.022310178682746918,
           0.010948698036182966,
           0.011550982600563984
          ],
          [
           0.04927261346370415,
           0.04058283724558992,
           0.07348366512907208,
           0.04360722058551482,
           0.21740677954945362,
           0.17554121970834963,
           1,
           0.20107424382412606,
           0.14807447859220024,
           0.1762226610717163,
           0.14935545136796544,
           0.1670413748537334,
           0.14866761706124268,
           0.20605283605242256,
           0.026818042443965937,
           0.026052670162787603,
           0.03064893252291218,
           0.02753730788217357,
           0.027139053732280524,
           0.026403059204337925,
           0.02324357667102947,
           0.021399220124900146,
           0.044474167725084994,
           0.048929088864455204,
           0.02795232053623893,
           0.0220794299609916,
           0.0217605998463539,
           0.021604854772408776,
           0.017927093492951823,
           0.020385913441330773,
           0.020427656349952514,
           0.019743510665005414
          ],
          [
           0.04784846399188895,
           0.03564831066291264,
           0.06269672703642414,
           0.03984450788231743,
           0.13782766205860145,
           0.12366246328440669,
           0.20107424382412606,
           1,
           0.14281414637248283,
           0.19709554551020456,
           0.1515367176178884,
           0.15494548623644364,
           0.14245936696306383,
           0.19997542931461348,
           0.023947978554889626,
           0.021845662704858663,
           0.02703432924529777,
           0.023493980613751093,
           0.023282654285319792,
           0.023301765645510907,
           0.021631717585405545,
           0.019890988731972644,
           0.04171604379980371,
           0.048027739685801984,
           0.02941467732859593,
           0.019577310941516473,
           0.02330531256653183,
           0.019456207837301686,
           0.023100281099038035,
           0.021957540768217116,
           0.016045741610885726,
           0.01663827456291371
          ],
          [
           0.03769910916083927,
           0.027482779829697133,
           0.055100312524427146,
           0.03983858860681837,
           0.11452738385138247,
           0.11724552352959468,
           0.14807447859220024,
           0.14281414637248283,
           1,
           0.14175257280249087,
           0.11913069955053728,
           0.13618092529604425,
           0.11863159682175474,
           0.15669899762852255,
           0.01939693444243405,
           0.01906461228635973,
           0.02220051616749181,
           0.019154278617088544,
           0.01819792953988036,
           0.018147949831471503,
           0.016586857166979208,
           0.014820585076086594,
           0.032243960689816005,
           0.03612082622990551,
           0.023320034089690914,
           0.015601162488694758,
           0.021439103786827486,
           0.01474658756368879,
           0.011843846790915609,
           0.02151318247029519,
           0.010927142905530367,
           0.012605993372621496
          ],
          [
           0.05254164426517979,
           0.036753688393272095,
           0.07087105162589413,
           0.04162277538908991,
           0.139433848831127,
           0.13883626143608813,
           0.1762226610717163,
           0.19709554551020456,
           0.14175257280249087,
           1,
           0.1545197999253479,
           0.1673105972875833,
           0.16128494257956053,
           0.2020829680294486,
           0.02818316186776893,
           0.02722072749534461,
           0.03205259341674795,
           0.02640333444835087,
           0.025670436535051803,
           0.028036704266599762,
           0.025555696462131416,
           0.022545837188248288,
           0.04349291193264796,
           0.04811871389912772,
           0.03323457683097436,
           0.021313324949735667,
           0.026576569358490964,
           0.022063888355319687,
           0.023941878798565845,
           0.027151211579248463,
           0.01942269656776634,
           0.019127337538542687
          ],
          [
           0.041978910615630666,
           0.0399926870603094,
           0.06272500970172813,
           0.04218663235544702,
           0.12594990466215125,
           0.11194908217128711,
           0.14935545136796544,
           0.1515367176178884,
           0.11913069955053728,
           0.1545197999253479,
           1,
           0.14671588036729405,
           0.14870572769306922,
           0.1816431620909025,
           0.024190593409625604,
           0.023986477680233962,
           0.04063757417585246,
           0.026134921544474773,
           0.025252583600630277,
           0.03151003497230074,
           0.023754870497437873,
           0.02262079647162893,
           0.049411814533597456,
           0.0527903707415252,
           0.0301785076015576,
           0.024709942809430733,
           0.023863977433464644,
           0.021769711637190565,
           0.029725389737132592,
           0.02619253756575459,
           0.018669137124141984,
           0.018298743070399727
          ],
          [
           0.04563947205272231,
           0.03778880089244778,
           0.06961564578317313,
           0.04433856383980183,
           0.12185688071072104,
           0.13545323975259746,
           0.1670413748537334,
           0.15494548623644364,
           0.13618092529604425,
           0.1673105972875833,
           0.14671588036729405,
           1,
           0.1671551608875324,
           0.21806766637911285,
           0.02754843095321551,
           0.0273083054249852,
           0.03346979824482623,
           0.027532128245860446,
           0.02688673275923442,
           0.028437369861586227,
           0.024668897961298286,
           0.021968172693134357,
           0.04319707186484201,
           0.046539886613770565,
           0.028304472093887645,
           0.02192839510616153,
           0.025478544445424987,
           0.02054795719835334,
           0.017682839175486326,
           0.023511353829387058,
           0.01989733921545969,
           0.020131312751370034
          ],
          [
           0.045350034046147125,
           0.03641173861578345,
           0.06804215203282409,
           0.040534610904014126,
           0.10538096098525025,
           0.10315769198426779,
           0.14866761706124268,
           0.14245936696306383,
           0.11863159682175474,
           0.16128494257956053,
           0.14870572769306922,
           0.1671551608875324,
           1,
           0.20224080042405895,
           0.026149610399502195,
           0.022814019902559057,
           0.029379398788874456,
           0.024349300034173876,
           0.022905673484229994,
           0.022372815096654328,
           0.02098737208725389,
           0.019183882722738407,
           0.04194015156831927,
           0.04430359030150744,
           0.030075687360654895,
           0.018401659030750767,
           0.022887387714571886,
           0.019621038424981016,
           0.023339917337067927,
           0.027301128490496537,
           0.016081822694022804,
           0.015061628812595002
          ],
          [
           0.04862082344822281,
           0.0468140623622434,
           0.0816320049549622,
           0.04380559082601539,
           0.14441853501027938,
           0.13249017239133587,
           0.20605283605242256,
           0.19997542931461348,
           0.15669899762852255,
           0.2020829680294486,
           0.1816431620909025,
           0.21806766637911285,
           0.20224080042405895,
           1,
           0.03311495712843721,
           0.03238440785028555,
           0.03577008264590674,
           0.0332076775417414,
           0.03352231309910385,
           0.03394972867621021,
           0.0309125727414114,
           0.029910793294677017,
           0.054760060013959465,
           0.0642459782518104,
           0.03236415938993286,
           0.029719191301127025,
           0.0269071205851677,
           0.028922958609005314,
           0.02570958038349881,
           0.027927215582275164,
           0.02536109955360724,
           0.026861812743729212
          ],
          [
           0.01742039119679179,
           0.025711707245808065,
           0.02840567025544305,
           0.028266618893536228,
           0.028927484958945333,
           0.020288480675157858,
           0.026818042443965937,
           0.023947978554889626,
           0.01939693444243405,
           0.02818316186776893,
           0.024190593409625604,
           0.02754843095321551,
           0.026149610399502195,
           0.03311495712843721,
           1,
           0.9058392306274041,
           0.8491759729578934,
           0.8513501405651585,
           0.8523422000842327,
           0.8213505071289049,
           0.6896216209779633,
           0.6882139176575881,
           0.04958099142649902,
           0.06487521746236202,
           0.5365963101779316,
           0.5952353678741995,
           0.4875371406644942,
           0.5903799194454146,
           0.4437807574695441,
           0.4267764008061175,
           0.5663975348129098,
           0.5656249360048297
          ],
          [
           0.018186972716098496,
           0.025562216670100384,
           0.02649405119262167,
           0.02779134603648403,
           0.028166182736988326,
           0.01859046111701563,
           0.026052670162787603,
           0.021845662704858663,
           0.01906461228635973,
           0.02722072749534461,
           0.023986477680233962,
           0.0273083054249852,
           0.022814019902559057,
           0.03238440785028555,
           0.9058392306274041,
           1,
           0.8843222632894079,
           0.8862906220847051,
           0.8870923412405389,
           0.8554071706452328,
           0.7168015185405566,
           0.7150690111399847,
           0.050785162714896366,
           0.06438037867199116,
           0.5577940976174077,
           0.6181979496019456,
           0.5059239003801502,
           0.6135640156963822,
           0.46151461851902714,
           0.44359873531187793,
           0.5890043472277517,
           0.5879980054015113
          ],
          [
           0.01947270904919154,
           0.029467520386996595,
           0.02736245451225675,
           0.030109046805191584,
           0.032960563083498345,
           0.024461919181000845,
           0.03064893252291218,
           0.02703432924529777,
           0.02220051616749181,
           0.03205259341674795,
           0.04063757417585246,
           0.03346979824482623,
           0.029379398788874456,
           0.03577008264590674,
           0.8491759729578934,
           0.8843222632894079,
           1,
           0.8862096582221795,
           0.8854519448500984,
           0.8569342978986768,
           0.7153180754611314,
           0.7126244713072599,
           0.054140162662297944,
           0.06668793470470442,
           0.5595118590928136,
           0.6176407410556621,
           0.5071641027626855,
           0.6122707694188354,
           0.463266370893435,
           0.444999026805452,
           0.5869521290353693,
           0.5859687763223516
          ],
          [
           0.016977501362150524,
           0.024458068815756084,
           0.025982221627050054,
           0.02909424562884934,
           0.0288319783590434,
           0.021875615001730662,
           0.02753730788217357,
           0.023493980613751093,
           0.019154278617088544,
           0.02640333444835087,
           0.026134921544474773,
           0.027532128245860446,
           0.024349300034173876,
           0.0332076775417414,
           0.8513501405651585,
           0.8862906220847051,
           0.8862096582221795,
           1,
           0.9425356462734858,
           0.9074276229839298,
           0.7585736060794847,
           0.7562111970209894,
           0.05017325661629944,
           0.06611551829133916,
           0.5905466019135652,
           0.6533973749933834,
           0.5355969858954304,
           0.6481019991625826,
           0.4875463967417778,
           0.4695786979948309,
           0.6222024806047405,
           0.6214286694326441
          ],
          [
           0.01590077778780693,
           0.023456941017488398,
           0.025270739604170013,
           0.02765928439582036,
           0.02824249118552706,
           0.017974403823184004,
           0.027139053732280524,
           0.023282654285319792,
           0.01819792953988036,
           0.025670436535051803,
           0.025252583600630277,
           0.02688673275923442,
           0.022905673484229994,
           0.03352231309910385,
           0.8523422000842327,
           0.8870923412405389,
           0.8854519448500984,
           0.9425356462734858,
           1,
           0.9406220399452894,
           0.785236292591571,
           0.7836548465477716,
           0.05027329791045265,
           0.06673612665857981,
           0.6101121557631993,
           0.6766923184881904,
           0.553960922826953,
           0.6717973782511818,
           0.5049193222876104,
           0.4853535963019735,
           0.6449862046792706,
           0.6441226874265363
          ],
          [
           0.016938135985998068,
           0.026656154999495817,
           0.02458922658806781,
           0.029118743001115274,
           0.028608221184987282,
           0.020003025801133844,
           0.026403059204337925,
           0.023301765645510907,
           0.018147949831471503,
           0.028036704266599762,
           0.03151003497230074,
           0.028437369861586227,
           0.022372815096654328,
           0.03394972867621021,
           0.8213505071289049,
           0.8554071706452328,
           0.8569342978986768,
           0.9074276229839298,
           0.9406220399452894,
           1,
           0.7936152738741656,
           0.7921137229822973,
           0.05205786662339245,
           0.06855563230262657,
           0.6181268160419312,
           0.6842524066043364,
           0.5602287646056071,
           0.678982561538201,
           0.5116673161342415,
           0.49136688315401794,
           0.6521524330957417,
           0.6507788863626208
          ],
          [
           0.015003407977157112,
           0.025941382276831237,
           0.026370416877604188,
           0.03589281174978689,
           0.02747847604571395,
           0.015022487632461466,
           0.02324357667102947,
           0.021631717585405545,
           0.016586857166979208,
           0.025555696462131416,
           0.023754870497437873,
           0.024668897961298286,
           0.02098737208725389,
           0.0309125727414114,
           0.6896216209779633,
           0.7168015185405566,
           0.7153180754611314,
           0.7585736060794847,
           0.785236292591571,
           0.7936152738741656,
           1,
           0.91054643171819,
           0.056679844598291604,
           0.08197557960984835,
           0.7078372915288828,
           0.786873768686459,
           0.6425834237769014,
           0.7774210390355736,
           0.5857681261827643,
           0.5643414085854102,
           0.7458721119554315,
           0.7443846442807833
          ],
          [
           0.014559269176799668,
           0.0251585205161278,
           0.02622187034656419,
           0.03458899250094358,
           0.026870378682458042,
           0.013814371906787972,
           0.021399220124900146,
           0.019890988731972644,
           0.014820585076086594,
           0.022545837188248288,
           0.02262079647162893,
           0.021968172693134357,
           0.019183882722738407,
           0.029910793294677017,
           0.6882139176575881,
           0.7150690111399847,
           0.7126244713072599,
           0.7562111970209894,
           0.7836548465477716,
           0.7921137229822973,
           0.91054643171819,
           1,
           0.0564285321704061,
           0.0771280300468304,
           0.7417152813268404,
           0.8257020833558111,
           0.6728581521648155,
           0.8164341510481016,
           0.6140553727180903,
           0.5912642855790449,
           0.7845414963286016,
           0.7816487668965741
          ],
          [
           0.03289284763565491,
           0.03495051179532654,
           0.03374064595863139,
           0.03973469829206449,
           0.0400309839503544,
           0.029497787873819955,
           0.044474167725084994,
           0.04171604379980371,
           0.032243960689816005,
           0.04349291193264796,
           0.049411814533597456,
           0.04319707186484201,
           0.04194015156831927,
           0.054760060013959465,
           0.04958099142649902,
           0.050785162714896366,
           0.054140162662297944,
           0.05017325661629944,
           0.05027329791045265,
           0.05205786662339245,
           0.056679844598291604,
           0.0564285321704061,
           1,
           0.1647002309032963,
           0.05080986060629226,
           0.06021665747684448,
           0.050558640386131254,
           0.057385318941200025,
           0.045873270322747406,
           0.047273911532760025,
           0.053514464057541775,
           0.055009836920506386
          ],
          [
           0.02635494256409236,
           0.036771159242238144,
           0.03279182808103404,
           0.0538153852846332,
           0.039382928857342146,
           0.029145962197423405,
           0.048929088864455204,
           0.048027739685801984,
           0.03612082622990551,
           0.04811871389912772,
           0.0527903707415252,
           0.046539886613770565,
           0.04430359030150744,
           0.0642459782518104,
           0.06487521746236202,
           0.06438037867199116,
           0.06668793470470442,
           0.06611551829133916,
           0.06673612665857981,
           0.06855563230262657,
           0.08197557960984835,
           0.0771280300468304,
           0.1647002309032963,
           1,
           0.07254448751827107,
           0.08520764534428307,
           0.06915628282666993,
           0.08025758597157402,
           0.06115824895074479,
           0.06397366820419914,
           0.07554091995215874,
           0.07720864008799116
          ],
          [
           0.016670696697831913,
           0.028725340607796686,
           0.023933681429199907,
           0.048225288844654955,
           0.030242900185007148,
           0.02777151930473412,
           0.02795232053623893,
           0.02941467732859593,
           0.023320034089690914,
           0.03323457683097436,
           0.0301785076015576,
           0.028304472093887645,
           0.030075687360654895,
           0.03236415938993286,
           0.5365963101779316,
           0.5577940976174077,
           0.5595118590928136,
           0.5905466019135652,
           0.6101121557631993,
           0.6181268160419312,
           0.7078372915288828,
           0.7417152813268404,
           0.05080986060629226,
           0.07254448751827107,
           1,
           0.7387081879785082,
           0.621107684993935,
           0.7355232615204382,
           0.5671537075650567,
           0.5531308121795048,
           0.7008696549525215,
           0.7003443867102898
          ],
          [
           0.01400695892391455,
           0.02830121817199245,
           0.024185467609257293,
           0.03954347344854424,
           0.02781874110121855,
           0.014406937461214872,
           0.0220794299609916,
           0.019577310941516473,
           0.015601162488694758,
           0.021313324949735667,
           0.024709942809430733,
           0.02192839510616153,
           0.018401659030750767,
           0.029719191301127025,
           0.5952353678741995,
           0.6181979496019456,
           0.6176407410556621,
           0.6533973749933834,
           0.6766923184881904,
           0.6842524066043364,
           0.786873768686459,
           0.8257020833558111,
           0.06021665747684448,
           0.08520764534428307,
           0.7387081879785082,
           1,
           0.7211748472514546,
           0.8726149870082832,
           0.6563551498571429,
           0.6332668821269162,
           0.8390753430183174,
           0.8368120658573817
          ],
          [
           0.012853297627906045,
           0.023327923194018604,
           0.022493635522365673,
           0.03738584068778509,
           0.027414556324232075,
           0.024450130080910695,
           0.0217605998463539,
           0.02330531256653183,
           0.021439103786827486,
           0.026576569358490964,
           0.023863977433464644,
           0.025478544445424987,
           0.022887387714571886,
           0.0269071205851677,
           0.4875371406644942,
           0.5059239003801502,
           0.5071641027626855,
           0.5355969858954304,
           0.553960922826953,
           0.5602287646056071,
           0.6425834237769014,
           0.6728581521648155,
           0.050558640386131254,
           0.06915628282666993,
           0.621107684993935,
           0.7211748472514546,
           1,
           0.7715575003692695,
           0.6133447178362045,
           0.601770124147878,
           0.7869855913004395,
           0.7851348075152671
          ],
          [
           0.0120301004117919,
           0.026360508754935213,
           0.02327036296410737,
           0.03437904669858135,
           0.027961887402452233,
           0.014302431087896873,
           0.021604854772408776,
           0.019456207837301686,
           0.01474658756368879,
           0.022063888355319687,
           0.021769711637190565,
           0.02054795719835334,
           0.019621038424981016,
           0.028922958609005314,
           0.5903799194454146,
           0.6135640156963822,
           0.6122707694188354,
           0.6481019991625826,
           0.6717973782511818,
           0.678982561538201,
           0.7774210390355736,
           0.8164341510481016,
           0.057385318941200025,
           0.08025758597157402,
           0.7355232615204382,
           0.8726149870082832,
           0.7715575003692695,
           1,
           0.7122107947526825,
           0.679501800465609,
           0.892678623495519,
           0.8944986881759888
          ],
          [
           0.00975282840401289,
           0.03503712154078356,
           0.017931561205066806,
           0.019856952153566112,
           0.021305718294857716,
           0.011753763388977774,
           0.017927093492951823,
           0.023100281099038035,
           0.011843846790915609,
           0.023941878798565845,
           0.029725389737132592,
           0.017682839175486326,
           0.023339917337067927,
           0.02570958038349881,
           0.4437807574695441,
           0.46151461851902714,
           0.463266370893435,
           0.4875463967417778,
           0.5049193222876104,
           0.5116673161342415,
           0.5857681261827643,
           0.6140553727180903,
           0.045873270322747406,
           0.06115824895074479,
           0.5671537075650567,
           0.6563551498571429,
           0.6133447178362045,
           0.7122107947526825,
           1,
           0.5607383754396561,
           0.6900443281231166,
           0.6909773686940152
          ],
          [
           0.013781791898051721,
           0.031149697679763003,
           0.021041980933142038,
           0.0365486109703667,
           0.025945447152829107,
           0.022310178682746918,
           0.020385913441330773,
           0.021957540768217116,
           0.02151318247029519,
           0.027151211579248463,
           0.02619253756575459,
           0.023511353829387058,
           0.027301128490496537,
           0.027927215582275164,
           0.4267764008061175,
           0.44359873531187793,
           0.444999026805452,
           0.4695786979948309,
           0.4853535963019735,
           0.49136688315401794,
           0.5643414085854102,
           0.5912642855790449,
           0.047273911532760025,
           0.06397366820419914,
           0.5531308121795048,
           0.6332668821269162,
           0.601770124147878,
           0.679501800465609,
           0.5607383754396561,
           1,
           0.6739871636747938,
           0.6737494243829099
          ],
          [
           0.010507013158586556,
           0.02269676268642989,
           0.021606380815224275,
           0.03176760200168509,
           0.024514355391032912,
           0.010948698036182966,
           0.020427656349952514,
           0.016045741610885726,
           0.010927142905530367,
           0.01942269656776634,
           0.018669137124141984,
           0.01989733921545969,
           0.016081822694022804,
           0.02536109955360724,
           0.5663975348129098,
           0.5890043472277517,
           0.5869521290353693,
           0.6222024806047405,
           0.6449862046792706,
           0.6521524330957417,
           0.7458721119554315,
           0.7845414963286016,
           0.053514464057541775,
           0.07554091995215874,
           0.7008696549525215,
           0.8390753430183174,
           0.7869855913004395,
           0.892678623495519,
           0.6900443281231166,
           0.6739871636747938,
           1,
           0.964704191205908
          ],
          [
           0.010442500846006042,
           0.02232233894237877,
           0.019667637360448728,
           0.029772146730940266,
           0.024315873158047004,
           0.011550982600563984,
           0.019743510665005414,
           0.01663827456291371,
           0.012605993372621496,
           0.019127337538542687,
           0.018298743070399727,
           0.020131312751370034,
           0.015061628812595002,
           0.026861812743729212,
           0.5656249360048297,
           0.5879980054015113,
           0.5859687763223516,
           0.6214286694326441,
           0.6441226874265363,
           0.6507788863626208,
           0.7443846442807833,
           0.7816487668965741,
           0.055009836920506386,
           0.07720864008799116,
           0.7003443867102898,
           0.8368120658573817,
           0.7851348075152671,
           0.8944986881759888,
           0.6909773686940152,
           0.6737494243829099,
           0.964704191205908,
           1
          ]
         ]
        }
       ],
       "layout": {
        "coloraxis": {
         "colorbar": {
          "title": {
           "text": "Proportion of Missing Features"
          }
         },
         "colorscale": [
          [
           0,
           "#440154"
          ],
          [
           0.1111111111111111,
           "#482878"
          ],
          [
           0.2222222222222222,
           "#3e4989"
          ],
          [
           0.3333333333333333,
           "#31688e"
          ],
          [
           0.4444444444444444,
           "#26828e"
          ],
          [
           0.5555555555555556,
           "#1f9e89"
          ],
          [
           0.6666666666666666,
           "#35b779"
          ],
          [
           0.7777777777777778,
           "#6ece58"
          ],
          [
           0.8888888888888888,
           "#b5de2b"
          ],
          [
           1,
           "#fde725"
          ]
         ]
        },
        "height": 600,
        "margin": {
         "t": 60
        },
        "template": {
         "data": {
          "bar": [
           {
            "error_x": {
             "color": "#2a3f5f"
            },
            "error_y": {
             "color": "#2a3f5f"
            },
            "marker": {
             "line": {
              "color": "#E5ECF6",
              "width": 0.5
             },
             "pattern": {
              "fillmode": "overlay",
              "size": 10,
              "solidity": 0.2
             }
            },
            "type": "bar"
           }
          ],
          "barpolar": [
           {
            "marker": {
             "line": {
              "color": "#E5ECF6",
              "width": 0.5
             },
             "pattern": {
              "fillmode": "overlay",
              "size": 10,
              "solidity": 0.2
             }
            },
            "type": "barpolar"
           }
          ],
          "carpet": [
           {
            "aaxis": {
             "endlinecolor": "#2a3f5f",
             "gridcolor": "white",
             "linecolor": "white",
             "minorgridcolor": "white",
             "startlinecolor": "#2a3f5f"
            },
            "baxis": {
             "endlinecolor": "#2a3f5f",
             "gridcolor": "white",
             "linecolor": "white",
             "minorgridcolor": "white",
             "startlinecolor": "#2a3f5f"
            },
            "type": "carpet"
           }
          ],
          "choropleth": [
           {
            "colorbar": {
             "outlinewidth": 0,
             "ticks": ""
            },
            "type": "choropleth"
           }
          ],
          "contour": [
           {
            "colorbar": {
             "outlinewidth": 0,
             "ticks": ""
            },
            "colorscale": [
             [
              0,
              "#0d0887"
             ],
             [
              0.1111111111111111,
              "#46039f"
             ],
             [
              0.2222222222222222,
              "#7201a8"
             ],
             [
              0.3333333333333333,
              "#9c179e"
             ],
             [
              0.4444444444444444,
              "#bd3786"
             ],
             [
              0.5555555555555556,
              "#d8576b"
             ],
             [
              0.6666666666666666,
              "#ed7953"
             ],
             [
              0.7777777777777778,
              "#fb9f3a"
             ],
             [
              0.8888888888888888,
              "#fdca26"
             ],
             [
              1,
              "#f0f921"
             ]
            ],
            "type": "contour"
           }
          ],
          "contourcarpet": [
           {
            "colorbar": {
             "outlinewidth": 0,
             "ticks": ""
            },
            "type": "contourcarpet"
           }
          ],
          "heatmap": [
           {
            "colorbar": {
             "outlinewidth": 0,
             "ticks": ""
            },
            "colorscale": [
             [
              0,
              "#0d0887"
             ],
             [
              0.1111111111111111,
              "#46039f"
             ],
             [
              0.2222222222222222,
              "#7201a8"
             ],
             [
              0.3333333333333333,
              "#9c179e"
             ],
             [
              0.4444444444444444,
              "#bd3786"
             ],
             [
              0.5555555555555556,
              "#d8576b"
             ],
             [
              0.6666666666666666,
              "#ed7953"
             ],
             [
              0.7777777777777778,
              "#fb9f3a"
             ],
             [
              0.8888888888888888,
              "#fdca26"
             ],
             [
              1,
              "#f0f921"
             ]
            ],
            "type": "heatmap"
           }
          ],
          "heatmapgl": [
           {
            "colorbar": {
             "outlinewidth": 0,
             "ticks": ""
            },
            "colorscale": [
             [
              0,
              "#0d0887"
             ],
             [
              0.1111111111111111,
              "#46039f"
             ],
             [
              0.2222222222222222,
              "#7201a8"
             ],
             [
              0.3333333333333333,
              "#9c179e"
             ],
             [
              0.4444444444444444,
              "#bd3786"
             ],
             [
              0.5555555555555556,
              "#d8576b"
             ],
             [
              0.6666666666666666,
              "#ed7953"
             ],
             [
              0.7777777777777778,
              "#fb9f3a"
             ],
             [
              0.8888888888888888,
              "#fdca26"
             ],
             [
              1,
              "#f0f921"
             ]
            ],
            "type": "heatmapgl"
           }
          ],
          "histogram": [
           {
            "marker": {
             "pattern": {
              "fillmode": "overlay",
              "size": 10,
              "solidity": 0.2
             }
            },
            "type": "histogram"
           }
          ],
          "histogram2d": [
           {
            "colorbar": {
             "outlinewidth": 0,
             "ticks": ""
            },
            "colorscale": [
             [
              0,
              "#0d0887"
             ],
             [
              0.1111111111111111,
              "#46039f"
             ],
             [
              0.2222222222222222,
              "#7201a8"
             ],
             [
              0.3333333333333333,
              "#9c179e"
             ],
             [
              0.4444444444444444,
              "#bd3786"
             ],
             [
              0.5555555555555556,
              "#d8576b"
             ],
             [
              0.6666666666666666,
              "#ed7953"
             ],
             [
              0.7777777777777778,
              "#fb9f3a"
             ],
             [
              0.8888888888888888,
              "#fdca26"
             ],
             [
              1,
              "#f0f921"
             ]
            ],
            "type": "histogram2d"
           }
          ],
          "histogram2dcontour": [
           {
            "colorbar": {
             "outlinewidth": 0,
             "ticks": ""
            },
            "colorscale": [
             [
              0,
              "#0d0887"
             ],
             [
              0.1111111111111111,
              "#46039f"
             ],
             [
              0.2222222222222222,
              "#7201a8"
             ],
             [
              0.3333333333333333,
              "#9c179e"
             ],
             [
              0.4444444444444444,
              "#bd3786"
             ],
             [
              0.5555555555555556,
              "#d8576b"
             ],
             [
              0.6666666666666666,
              "#ed7953"
             ],
             [
              0.7777777777777778,
              "#fb9f3a"
             ],
             [
              0.8888888888888888,
              "#fdca26"
             ],
             [
              1,
              "#f0f921"
             ]
            ],
            "type": "histogram2dcontour"
           }
          ],
          "mesh3d": [
           {
            "colorbar": {
             "outlinewidth": 0,
             "ticks": ""
            },
            "type": "mesh3d"
           }
          ],
          "parcoords": [
           {
            "line": {
             "colorbar": {
              "outlinewidth": 0,
              "ticks": ""
             }
            },
            "type": "parcoords"
           }
          ],
          "pie": [
           {
            "automargin": true,
            "type": "pie"
           }
          ],
          "scatter": [
           {
            "fillpattern": {
             "fillmode": "overlay",
             "size": 10,
             "solidity": 0.2
            },
            "type": "scatter"
           }
          ],
          "scatter3d": [
           {
            "line": {
             "colorbar": {
              "outlinewidth": 0,
              "ticks": ""
             }
            },
            "marker": {
             "colorbar": {
              "outlinewidth": 0,
              "ticks": ""
             }
            },
            "type": "scatter3d"
           }
          ],
          "scattercarpet": [
           {
            "marker": {
             "colorbar": {
              "outlinewidth": 0,
              "ticks": ""
             }
            },
            "type": "scattercarpet"
           }
          ],
          "scattergeo": [
           {
            "marker": {
             "colorbar": {
              "outlinewidth": 0,
              "ticks": ""
             }
            },
            "type": "scattergeo"
           }
          ],
          "scattergl": [
           {
            "marker": {
             "colorbar": {
              "outlinewidth": 0,
              "ticks": ""
             }
            },
            "type": "scattergl"
           }
          ],
          "scattermapbox": [
           {
            "marker": {
             "colorbar": {
              "outlinewidth": 0,
              "ticks": ""
             }
            },
            "type": "scattermapbox"
           }
          ],
          "scatterpolar": [
           {
            "marker": {
             "colorbar": {
              "outlinewidth": 0,
              "ticks": ""
             }
            },
            "type": "scatterpolar"
           }
          ],
          "scatterpolargl": [
           {
            "marker": {
             "colorbar": {
              "outlinewidth": 0,
              "ticks": ""
             }
            },
            "type": "scatterpolargl"
           }
          ],
          "scatterternary": [
           {
            "marker": {
             "colorbar": {
              "outlinewidth": 0,
              "ticks": ""
             }
            },
            "type": "scatterternary"
           }
          ],
          "surface": [
           {
            "colorbar": {
             "outlinewidth": 0,
             "ticks": ""
            },
            "colorscale": [
             [
              0,
              "#0d0887"
             ],
             [
              0.1111111111111111,
              "#46039f"
             ],
             [
              0.2222222222222222,
              "#7201a8"
             ],
             [
              0.3333333333333333,
              "#9c179e"
             ],
             [
              0.4444444444444444,
              "#bd3786"
             ],
             [
              0.5555555555555556,
              "#d8576b"
             ],
             [
              0.6666666666666666,
              "#ed7953"
             ],
             [
              0.7777777777777778,
              "#fb9f3a"
             ],
             [
              0.8888888888888888,
              "#fdca26"
             ],
             [
              1,
              "#f0f921"
             ]
            ],
            "type": "surface"
           }
          ],
          "table": [
           {
            "cells": {
             "fill": {
              "color": "#EBF0F8"
             },
             "line": {
              "color": "white"
             }
            },
            "header": {
             "fill": {
              "color": "#C8D4E3"
             },
             "line": {
              "color": "white"
             }
            },
            "type": "table"
           }
          ]
         },
         "layout": {
          "annotationdefaults": {
           "arrowcolor": "#2a3f5f",
           "arrowhead": 0,
           "arrowwidth": 1
          },
          "autotypenumbers": "strict",
          "coloraxis": {
           "colorbar": {
            "outlinewidth": 0,
            "ticks": ""
           }
          },
          "colorscale": {
           "diverging": [
            [
             0,
             "#8e0152"
            ],
            [
             0.1,
             "#c51b7d"
            ],
            [
             0.2,
             "#de77ae"
            ],
            [
             0.3,
             "#f1b6da"
            ],
            [
             0.4,
             "#fde0ef"
            ],
            [
             0.5,
             "#f7f7f7"
            ],
            [
             0.6,
             "#e6f5d0"
            ],
            [
             0.7,
             "#b8e186"
            ],
            [
             0.8,
             "#7fbc41"
            ],
            [
             0.9,
             "#4d9221"
            ],
            [
             1,
             "#276419"
            ]
           ],
           "sequential": [
            [
             0,
             "#0d0887"
            ],
            [
             0.1111111111111111,
             "#46039f"
            ],
            [
             0.2222222222222222,
             "#7201a8"
            ],
            [
             0.3333333333333333,
             "#9c179e"
            ],
            [
             0.4444444444444444,
             "#bd3786"
            ],
            [
             0.5555555555555556,
             "#d8576b"
            ],
            [
             0.6666666666666666,
             "#ed7953"
            ],
            [
             0.7777777777777778,
             "#fb9f3a"
            ],
            [
             0.8888888888888888,
             "#fdca26"
            ],
            [
             1,
             "#f0f921"
            ]
           ],
           "sequentialminus": [
            [
             0,
             "#0d0887"
            ],
            [
             0.1111111111111111,
             "#46039f"
            ],
            [
             0.2222222222222222,
             "#7201a8"
            ],
            [
             0.3333333333333333,
             "#9c179e"
            ],
            [
             0.4444444444444444,
             "#bd3786"
            ],
            [
             0.5555555555555556,
             "#d8576b"
            ],
            [
             0.6666666666666666,
             "#ed7953"
            ],
            [
             0.7777777777777778,
             "#fb9f3a"
            ],
            [
             0.8888888888888888,
             "#fdca26"
            ],
            [
             1,
             "#f0f921"
            ]
           ]
          },
          "colorway": [
           "#636efa",
           "#EF553B",
           "#00cc96",
           "#ab63fa",
           "#FFA15A",
           "#19d3f3",
           "#FF6692",
           "#B6E880",
           "#FF97FF",
           "#FECB52"
          ],
          "font": {
           "color": "#2a3f5f"
          },
          "geo": {
           "bgcolor": "white",
           "lakecolor": "white",
           "landcolor": "#E5ECF6",
           "showlakes": true,
           "showland": true,
           "subunitcolor": "white"
          },
          "hoverlabel": {
           "align": "left"
          },
          "hovermode": "closest",
          "mapbox": {
           "style": "light"
          },
          "paper_bgcolor": "white",
          "plot_bgcolor": "#E5ECF6",
          "polar": {
           "angularaxis": {
            "gridcolor": "white",
            "linecolor": "white",
            "ticks": ""
           },
           "bgcolor": "#E5ECF6",
           "radialaxis": {
            "gridcolor": "white",
            "linecolor": "white",
            "ticks": ""
           }
          },
          "scene": {
           "xaxis": {
            "backgroundcolor": "#E5ECF6",
            "gridcolor": "white",
            "gridwidth": 2,
            "linecolor": "white",
            "showbackground": true,
            "ticks": "",
            "zerolinecolor": "white"
           },
           "yaxis": {
            "backgroundcolor": "#E5ECF6",
            "gridcolor": "white",
            "gridwidth": 2,
            "linecolor": "white",
            "showbackground": true,
            "ticks": "",
            "zerolinecolor": "white"
           },
           "zaxis": {
            "backgroundcolor": "#E5ECF6",
            "gridcolor": "white",
            "gridwidth": 2,
            "linecolor": "white",
            "showbackground": true,
            "ticks": "",
            "zerolinecolor": "white"
           }
          },
          "shapedefaults": {
           "line": {
            "color": "#2a3f5f"
           }
          },
          "ternary": {
           "aaxis": {
            "gridcolor": "white",
            "linecolor": "white",
            "ticks": ""
           },
           "baxis": {
            "gridcolor": "white",
            "linecolor": "white",
            "ticks": ""
           },
           "bgcolor": "#E5ECF6",
           "caxis": {
            "gridcolor": "white",
            "linecolor": "white",
            "ticks": ""
           }
          },
          "title": {
           "x": 0.05
          },
          "xaxis": {
           "automargin": true,
           "gridcolor": "white",
           "linecolor": "white",
           "ticks": "",
           "title": {
            "standoff": 15
           },
           "zerolinecolor": "white",
           "zerolinewidth": 2
          },
          "yaxis": {
           "automargin": true,
           "gridcolor": "white",
           "linecolor": "white",
           "ticks": "",
           "title": {
            "standoff": 15
           },
           "zerolinecolor": "white",
           "zerolinewidth": 2
          }
         }
        },
        "title": {
         "text": "Proportion of Missing Data",
         "x": 0.5,
         "y": 0.95
        },
        "width": 800,
        "xaxis": {
         "anchor": "y",
         "constrain": "domain",
         "domain": [
          0,
          1
         ],
         "scaleanchor": "y",
         "title": {
          "text": "Features"
         }
        },
        "yaxis": {
         "anchor": "x",
         "autorange": "reversed",
         "constrain": "domain",
         "domain": [
          0,
          1
         ],
         "title": {
          "text": "Missing Features"
         }
        }
       }
      }
     },
     "metadata": {},
     "output_type": "display_data"
    }
   ],
   "source": [
    "# Calculate the correlation of missingness between indicator columns\n",
    "missing_corr = df[missing_indicator_cols].corr()\n",
    "\n",
    "# Plot using Plotly for better readability\n",
    "fig = px.imshow(missing_corr,\n",
    "                labels=dict(x=\"Features\", y=\"Missing Features\", color=\"Proportion of Missing Features\"),\n",
    "                x=missing_corr.columns,\n",
    "                y=missing_corr.index,\n",
    "                color_continuous_scale=\"Viridis\")\n",
    "\n",
    "fig.update_layout(title='Proportion of Missing Data',\n",
    "                  title_x=0.5, title_y=0.95,\n",
    "                  width=800, height=600)\n",
    "\n",
    "fig.show()\n"
   ]
  },
  {
   "cell_type": "code",
   "execution_count": 20,
   "metadata": {},
   "outputs": [
    {
     "data": {
      "application/vnd.plotly.v1+json": {
       "config": {
        "plotlyServerURL": "https://plot.ly"
       },
       "data": [
        {
         "coloraxis": "coloraxis",
         "hovertemplate": "Features: %{x}<br>Features: %{y}<br>Correlation: %{z}<extra></extra>",
         "name": "0",
         "type": "heatmap",
         "x": [
          "GeneralHealth_missing_indicator",
          "LastCheckupTime_missing_indicator",
          "PhysicalActivities_missing_indicator",
          "RemovedTeeth_missing_indicator",
          "HadHeartAttack_missing_indicator",
          "HadAngina_missing_indicator",
          "HadStroke_missing_indicator",
          "HadAsthma_missing_indicator",
          "HadSkinCancer_missing_indicator",
          "HadCOPD_missing_indicator",
          "HadDepressiveDisorder_missing_indicator",
          "HadKidneyDisease_missing_indicator",
          "HadArthritis_missing_indicator",
          "HadDiabetes_missing_indicator",
          "DeafOrHardOfHearing_missing_indicator",
          "BlindOrVisionDifficulty_missing_indicator",
          "DifficultyConcentrating_missing_indicator",
          "DifficultyWalking_missing_indicator",
          "DifficultyDressingBathing_missing_indicator",
          "DifficultyErrands_missing_indicator",
          "SmokerStatus_missing_indicator",
          "ECigaretteUsage_missing_indicator",
          "RaceEthnicityCategory_missing_indicator",
          "AgeCategory_missing_indicator",
          "ChestScan_missing_indicator",
          "AlcoholDrinkers_missing_indicator",
          "HIVTesting_missing_indicator",
          "FluVaxLast12_missing_indicator",
          "PneumoVaxEver_missing_indicator",
          "TetanusLast10Tdap_missing_indicator",
          "HighRiskLastYear_missing_indicator",
          "CovidPos_missing_indicator"
         ],
         "xaxis": "x",
         "y": [
          "GeneralHealth_missing_indicator",
          "LastCheckupTime_missing_indicator",
          "PhysicalActivities_missing_indicator",
          "RemovedTeeth_missing_indicator",
          "HadHeartAttack_missing_indicator",
          "HadAngina_missing_indicator",
          "HadStroke_missing_indicator",
          "HadAsthma_missing_indicator",
          "HadSkinCancer_missing_indicator",
          "HadCOPD_missing_indicator",
          "HadDepressiveDisorder_missing_indicator",
          "HadKidneyDisease_missing_indicator",
          "HadArthritis_missing_indicator",
          "HadDiabetes_missing_indicator",
          "DeafOrHardOfHearing_missing_indicator",
          "BlindOrVisionDifficulty_missing_indicator",
          "DifficultyConcentrating_missing_indicator",
          "DifficultyWalking_missing_indicator",
          "DifficultyDressingBathing_missing_indicator",
          "DifficultyErrands_missing_indicator",
          "SmokerStatus_missing_indicator",
          "ECigaretteUsage_missing_indicator",
          "RaceEthnicityCategory_missing_indicator",
          "AgeCategory_missing_indicator",
          "ChestScan_missing_indicator",
          "AlcoholDrinkers_missing_indicator",
          "HIVTesting_missing_indicator",
          "FluVaxLast12_missing_indicator",
          "PneumoVaxEver_missing_indicator",
          "TetanusLast10Tdap_missing_indicator",
          "HighRiskLastYear_missing_indicator",
          "CovidPos_missing_indicator"
         ],
         "yaxis": "y",
         "z": [
          [
           1,
           0.048741618109544325,
           0.05199272260907594,
           0.039013301494404504,
           0.04722341599405994,
           0.04313409899284139,
           0.04927261346370415,
           0.04784846399188895,
           0.03769910916083927,
           0.05254164426517979,
           0.041978910615630666,
           0.04563947205272231,
           0.045350034046147125,
           0.04862082344822281,
           0.01742039119679179,
           0.018186972716098496,
           0.01947270904919154,
           0.016977501362150524,
           0.01590077778780693,
           0.016938135985998068,
           0.015003407977157112,
           0.014559269176799668,
           0.03289284763565491,
           0.02635494256409236,
           0.016670696697831913,
           0.01400695892391455,
           0.012853297627906045,
           0.0120301004117919,
           0.00975282840401289,
           0.013781791898051721,
           0.010507013158586556,
           0.010442500846006042
          ],
          [
           0.048741618109544325,
           1,
           0.050346894317545306,
           0.04478255642957277,
           0.041184804850079644,
           0.03120880304875576,
           0.04058283724558992,
           0.03564831066291264,
           0.027482779829697133,
           0.036753688393272095,
           0.0399926870603094,
           0.03778880089244778,
           0.03641173861578345,
           0.0468140623622434,
           0.025711707245808065,
           0.025562216670100384,
           0.029467520386996595,
           0.024458068815756084,
           0.023456941017488398,
           0.026656154999495817,
           0.025941382276831237,
           0.0251585205161278,
           0.03495051179532654,
           0.036771159242238144,
           0.028725340607796686,
           0.02830121817199245,
           0.023327923194018604,
           0.026360508754935213,
           0.03503712154078356,
           0.031149697679763003,
           0.02269676268642989,
           0.02232233894237877
          ],
          [
           0.05199272260907594,
           0.050346894317545306,
           1,
           0.0499890789691024,
           0.05975260636390463,
           0.04793910644295305,
           0.07348366512907208,
           0.06269672703642414,
           0.055100312524427146,
           0.07087105162589413,
           0.06272500970172813,
           0.06961564578317313,
           0.06804215203282409,
           0.0816320049549622,
           0.02840567025544305,
           0.02649405119262167,
           0.02736245451225675,
           0.025982221627050054,
           0.025270739604170013,
           0.02458922658806781,
           0.026370416877604188,
           0.02622187034656419,
           0.03374064595863139,
           0.03279182808103404,
           0.023933681429199907,
           0.024185467609257293,
           0.022493635522365673,
           0.02327036296410737,
           0.017931561205066806,
           0.021041980933142038,
           0.021606380815224275,
           0.019667637360448728
          ],
          [
           0.039013301494404504,
           0.04478255642957277,
           0.0499890789691024,
           1,
           0.046028701578445096,
           0.047489304055310766,
           0.04360722058551482,
           0.03984450788231743,
           0.03983858860681837,
           0.04162277538908991,
           0.04218663235544702,
           0.04433856383980183,
           0.040534610904014126,
           0.04380559082601539,
           0.028266618893536228,
           0.02779134603648403,
           0.030109046805191584,
           0.02909424562884934,
           0.02765928439582036,
           0.029118743001115274,
           0.03589281174978689,
           0.03458899250094358,
           0.03973469829206449,
           0.0538153852846332,
           0.048225288844654955,
           0.03954347344854424,
           0.03738584068778509,
           0.03437904669858135,
           0.019856952153566112,
           0.0365486109703667,
           0.03176760200168509,
           0.029772146730940266
          ],
          [
           0.04722341599405994,
           0.041184804850079644,
           0.05975260636390463,
           0.046028701578445096,
           1,
           0.2148487227215114,
           0.21740677954945362,
           0.13782766205860145,
           0.11452738385138247,
           0.139433848831127,
           0.12594990466215125,
           0.12185688071072104,
           0.10538096098525025,
           0.14441853501027938,
           0.028927484958945333,
           0.028166182736988326,
           0.032960563083498345,
           0.0288319783590434,
           0.02824249118552706,
           0.028608221184987282,
           0.02747847604571395,
           0.026870378682458042,
           0.0400309839503544,
           0.039382928857342146,
           0.030242900185007148,
           0.02781874110121855,
           0.027414556324232075,
           0.027961887402452233,
           0.021305718294857716,
           0.025945447152829107,
           0.024514355391032912,
           0.024315873158047004
          ],
          [
           0.04313409899284139,
           0.03120880304875576,
           0.04793910644295305,
           0.047489304055310766,
           0.2148487227215114,
           1,
           0.17554121970834963,
           0.12366246328440669,
           0.11724552352959468,
           0.13883626143608813,
           0.11194908217128711,
           0.13545323975259746,
           0.10315769198426779,
           0.13249017239133587,
           0.020288480675157858,
           0.01859046111701563,
           0.024461919181000845,
           0.021875615001730662,
           0.017974403823184004,
           0.020003025801133844,
           0.015022487632461466,
           0.013814371906787972,
           0.029497787873819955,
           0.029145962197423405,
           0.02777151930473412,
           0.014406937461214872,
           0.024450130080910695,
           0.014302431087896873,
           0.011753763388977774,
           0.022310178682746918,
           0.010948698036182966,
           0.011550982600563984
          ],
          [
           0.04927261346370415,
           0.04058283724558992,
           0.07348366512907208,
           0.04360722058551482,
           0.21740677954945362,
           0.17554121970834963,
           1,
           0.20107424382412606,
           0.14807447859220024,
           0.1762226610717163,
           0.14935545136796544,
           0.1670413748537334,
           0.14866761706124268,
           0.20605283605242256,
           0.026818042443965937,
           0.026052670162787603,
           0.03064893252291218,
           0.02753730788217357,
           0.027139053732280524,
           0.026403059204337925,
           0.02324357667102947,
           0.021399220124900146,
           0.044474167725084994,
           0.048929088864455204,
           0.02795232053623893,
           0.0220794299609916,
           0.0217605998463539,
           0.021604854772408776,
           0.017927093492951823,
           0.020385913441330773,
           0.020427656349952514,
           0.019743510665005414
          ],
          [
           0.04784846399188895,
           0.03564831066291264,
           0.06269672703642414,
           0.03984450788231743,
           0.13782766205860145,
           0.12366246328440669,
           0.20107424382412606,
           1,
           0.14281414637248283,
           0.19709554551020456,
           0.1515367176178884,
           0.15494548623644364,
           0.14245936696306383,
           0.19997542931461348,
           0.023947978554889626,
           0.021845662704858663,
           0.02703432924529777,
           0.023493980613751093,
           0.023282654285319792,
           0.023301765645510907,
           0.021631717585405545,
           0.019890988731972644,
           0.04171604379980371,
           0.048027739685801984,
           0.02941467732859593,
           0.019577310941516473,
           0.02330531256653183,
           0.019456207837301686,
           0.023100281099038035,
           0.021957540768217116,
           0.016045741610885726,
           0.01663827456291371
          ],
          [
           0.03769910916083927,
           0.027482779829697133,
           0.055100312524427146,
           0.03983858860681837,
           0.11452738385138247,
           0.11724552352959468,
           0.14807447859220024,
           0.14281414637248283,
           1,
           0.14175257280249087,
           0.11913069955053728,
           0.13618092529604425,
           0.11863159682175474,
           0.15669899762852255,
           0.01939693444243405,
           0.01906461228635973,
           0.02220051616749181,
           0.019154278617088544,
           0.01819792953988036,
           0.018147949831471503,
           0.016586857166979208,
           0.014820585076086594,
           0.032243960689816005,
           0.03612082622990551,
           0.023320034089690914,
           0.015601162488694758,
           0.021439103786827486,
           0.01474658756368879,
           0.011843846790915609,
           0.02151318247029519,
           0.010927142905530367,
           0.012605993372621496
          ],
          [
           0.05254164426517979,
           0.036753688393272095,
           0.07087105162589413,
           0.04162277538908991,
           0.139433848831127,
           0.13883626143608813,
           0.1762226610717163,
           0.19709554551020456,
           0.14175257280249087,
           1,
           0.1545197999253479,
           0.1673105972875833,
           0.16128494257956053,
           0.2020829680294486,
           0.02818316186776893,
           0.02722072749534461,
           0.03205259341674795,
           0.02640333444835087,
           0.025670436535051803,
           0.028036704266599762,
           0.025555696462131416,
           0.022545837188248288,
           0.04349291193264796,
           0.04811871389912772,
           0.03323457683097436,
           0.021313324949735667,
           0.026576569358490964,
           0.022063888355319687,
           0.023941878798565845,
           0.027151211579248463,
           0.01942269656776634,
           0.019127337538542687
          ],
          [
           0.041978910615630666,
           0.0399926870603094,
           0.06272500970172813,
           0.04218663235544702,
           0.12594990466215125,
           0.11194908217128711,
           0.14935545136796544,
           0.1515367176178884,
           0.11913069955053728,
           0.1545197999253479,
           1,
           0.14671588036729405,
           0.14870572769306922,
           0.1816431620909025,
           0.024190593409625604,
           0.023986477680233962,
           0.04063757417585246,
           0.026134921544474773,
           0.025252583600630277,
           0.03151003497230074,
           0.023754870497437873,
           0.02262079647162893,
           0.049411814533597456,
           0.0527903707415252,
           0.0301785076015576,
           0.024709942809430733,
           0.023863977433464644,
           0.021769711637190565,
           0.029725389737132592,
           0.02619253756575459,
           0.018669137124141984,
           0.018298743070399727
          ],
          [
           0.04563947205272231,
           0.03778880089244778,
           0.06961564578317313,
           0.04433856383980183,
           0.12185688071072104,
           0.13545323975259746,
           0.1670413748537334,
           0.15494548623644364,
           0.13618092529604425,
           0.1673105972875833,
           0.14671588036729405,
           1,
           0.1671551608875324,
           0.21806766637911285,
           0.02754843095321551,
           0.0273083054249852,
           0.03346979824482623,
           0.027532128245860446,
           0.02688673275923442,
           0.028437369861586227,
           0.024668897961298286,
           0.021968172693134357,
           0.04319707186484201,
           0.046539886613770565,
           0.028304472093887645,
           0.02192839510616153,
           0.025478544445424987,
           0.02054795719835334,
           0.017682839175486326,
           0.023511353829387058,
           0.01989733921545969,
           0.020131312751370034
          ],
          [
           0.045350034046147125,
           0.03641173861578345,
           0.06804215203282409,
           0.040534610904014126,
           0.10538096098525025,
           0.10315769198426779,
           0.14866761706124268,
           0.14245936696306383,
           0.11863159682175474,
           0.16128494257956053,
           0.14870572769306922,
           0.1671551608875324,
           1,
           0.20224080042405895,
           0.026149610399502195,
           0.022814019902559057,
           0.029379398788874456,
           0.024349300034173876,
           0.022905673484229994,
           0.022372815096654328,
           0.02098737208725389,
           0.019183882722738407,
           0.04194015156831927,
           0.04430359030150744,
           0.030075687360654895,
           0.018401659030750767,
           0.022887387714571886,
           0.019621038424981016,
           0.023339917337067927,
           0.027301128490496537,
           0.016081822694022804,
           0.015061628812595002
          ],
          [
           0.04862082344822281,
           0.0468140623622434,
           0.0816320049549622,
           0.04380559082601539,
           0.14441853501027938,
           0.13249017239133587,
           0.20605283605242256,
           0.19997542931461348,
           0.15669899762852255,
           0.2020829680294486,
           0.1816431620909025,
           0.21806766637911285,
           0.20224080042405895,
           1,
           0.03311495712843721,
           0.03238440785028555,
           0.03577008264590674,
           0.0332076775417414,
           0.03352231309910385,
           0.03394972867621021,
           0.0309125727414114,
           0.029910793294677017,
           0.054760060013959465,
           0.0642459782518104,
           0.03236415938993286,
           0.029719191301127025,
           0.0269071205851677,
           0.028922958609005314,
           0.02570958038349881,
           0.027927215582275164,
           0.02536109955360724,
           0.026861812743729212
          ],
          [
           0.01742039119679179,
           0.025711707245808065,
           0.02840567025544305,
           0.028266618893536228,
           0.028927484958945333,
           0.020288480675157858,
           0.026818042443965937,
           0.023947978554889626,
           0.01939693444243405,
           0.02818316186776893,
           0.024190593409625604,
           0.02754843095321551,
           0.026149610399502195,
           0.03311495712843721,
           1,
           0.9058392306274041,
           0.8491759729578934,
           0.8513501405651585,
           0.8523422000842327,
           0.8213505071289049,
           0.6896216209779633,
           0.6882139176575881,
           0.04958099142649902,
           0.06487521746236202,
           0.5365963101779316,
           0.5952353678741995,
           0.4875371406644942,
           0.5903799194454146,
           0.4437807574695441,
           0.4267764008061175,
           0.5663975348129098,
           0.5656249360048297
          ],
          [
           0.018186972716098496,
           0.025562216670100384,
           0.02649405119262167,
           0.02779134603648403,
           0.028166182736988326,
           0.01859046111701563,
           0.026052670162787603,
           0.021845662704858663,
           0.01906461228635973,
           0.02722072749534461,
           0.023986477680233962,
           0.0273083054249852,
           0.022814019902559057,
           0.03238440785028555,
           0.9058392306274041,
           1,
           0.8843222632894079,
           0.8862906220847051,
           0.8870923412405389,
           0.8554071706452328,
           0.7168015185405566,
           0.7150690111399847,
           0.050785162714896366,
           0.06438037867199116,
           0.5577940976174077,
           0.6181979496019456,
           0.5059239003801502,
           0.6135640156963822,
           0.46151461851902714,
           0.44359873531187793,
           0.5890043472277517,
           0.5879980054015113
          ],
          [
           0.01947270904919154,
           0.029467520386996595,
           0.02736245451225675,
           0.030109046805191584,
           0.032960563083498345,
           0.024461919181000845,
           0.03064893252291218,
           0.02703432924529777,
           0.02220051616749181,
           0.03205259341674795,
           0.04063757417585246,
           0.03346979824482623,
           0.029379398788874456,
           0.03577008264590674,
           0.8491759729578934,
           0.8843222632894079,
           1,
           0.8862096582221795,
           0.8854519448500984,
           0.8569342978986768,
           0.7153180754611314,
           0.7126244713072599,
           0.054140162662297944,
           0.06668793470470442,
           0.5595118590928136,
           0.6176407410556621,
           0.5071641027626855,
           0.6122707694188354,
           0.463266370893435,
           0.444999026805452,
           0.5869521290353693,
           0.5859687763223516
          ],
          [
           0.016977501362150524,
           0.024458068815756084,
           0.025982221627050054,
           0.02909424562884934,
           0.0288319783590434,
           0.021875615001730662,
           0.02753730788217357,
           0.023493980613751093,
           0.019154278617088544,
           0.02640333444835087,
           0.026134921544474773,
           0.027532128245860446,
           0.024349300034173876,
           0.0332076775417414,
           0.8513501405651585,
           0.8862906220847051,
           0.8862096582221795,
           1,
           0.9425356462734858,
           0.9074276229839298,
           0.7585736060794847,
           0.7562111970209894,
           0.05017325661629944,
           0.06611551829133916,
           0.5905466019135652,
           0.6533973749933834,
           0.5355969858954304,
           0.6481019991625826,
           0.4875463967417778,
           0.4695786979948309,
           0.6222024806047405,
           0.6214286694326441
          ],
          [
           0.01590077778780693,
           0.023456941017488398,
           0.025270739604170013,
           0.02765928439582036,
           0.02824249118552706,
           0.017974403823184004,
           0.027139053732280524,
           0.023282654285319792,
           0.01819792953988036,
           0.025670436535051803,
           0.025252583600630277,
           0.02688673275923442,
           0.022905673484229994,
           0.03352231309910385,
           0.8523422000842327,
           0.8870923412405389,
           0.8854519448500984,
           0.9425356462734858,
           1,
           0.9406220399452894,
           0.785236292591571,
           0.7836548465477716,
           0.05027329791045265,
           0.06673612665857981,
           0.6101121557631993,
           0.6766923184881904,
           0.553960922826953,
           0.6717973782511818,
           0.5049193222876104,
           0.4853535963019735,
           0.6449862046792706,
           0.6441226874265363
          ],
          [
           0.016938135985998068,
           0.026656154999495817,
           0.02458922658806781,
           0.029118743001115274,
           0.028608221184987282,
           0.020003025801133844,
           0.026403059204337925,
           0.023301765645510907,
           0.018147949831471503,
           0.028036704266599762,
           0.03151003497230074,
           0.028437369861586227,
           0.022372815096654328,
           0.03394972867621021,
           0.8213505071289049,
           0.8554071706452328,
           0.8569342978986768,
           0.9074276229839298,
           0.9406220399452894,
           1,
           0.7936152738741656,
           0.7921137229822973,
           0.05205786662339245,
           0.06855563230262657,
           0.6181268160419312,
           0.6842524066043364,
           0.5602287646056071,
           0.678982561538201,
           0.5116673161342415,
           0.49136688315401794,
           0.6521524330957417,
           0.6507788863626208
          ],
          [
           0.015003407977157112,
           0.025941382276831237,
           0.026370416877604188,
           0.03589281174978689,
           0.02747847604571395,
           0.015022487632461466,
           0.02324357667102947,
           0.021631717585405545,
           0.016586857166979208,
           0.025555696462131416,
           0.023754870497437873,
           0.024668897961298286,
           0.02098737208725389,
           0.0309125727414114,
           0.6896216209779633,
           0.7168015185405566,
           0.7153180754611314,
           0.7585736060794847,
           0.785236292591571,
           0.7936152738741656,
           1,
           0.91054643171819,
           0.056679844598291604,
           0.08197557960984835,
           0.7078372915288828,
           0.786873768686459,
           0.6425834237769014,
           0.7774210390355736,
           0.5857681261827643,
           0.5643414085854102,
           0.7458721119554315,
           0.7443846442807833
          ],
          [
           0.014559269176799668,
           0.0251585205161278,
           0.02622187034656419,
           0.03458899250094358,
           0.026870378682458042,
           0.013814371906787972,
           0.021399220124900146,
           0.019890988731972644,
           0.014820585076086594,
           0.022545837188248288,
           0.02262079647162893,
           0.021968172693134357,
           0.019183882722738407,
           0.029910793294677017,
           0.6882139176575881,
           0.7150690111399847,
           0.7126244713072599,
           0.7562111970209894,
           0.7836548465477716,
           0.7921137229822973,
           0.91054643171819,
           1,
           0.0564285321704061,
           0.0771280300468304,
           0.7417152813268404,
           0.8257020833558111,
           0.6728581521648155,
           0.8164341510481016,
           0.6140553727180903,
           0.5912642855790449,
           0.7845414963286016,
           0.7816487668965741
          ],
          [
           0.03289284763565491,
           0.03495051179532654,
           0.03374064595863139,
           0.03973469829206449,
           0.0400309839503544,
           0.029497787873819955,
           0.044474167725084994,
           0.04171604379980371,
           0.032243960689816005,
           0.04349291193264796,
           0.049411814533597456,
           0.04319707186484201,
           0.04194015156831927,
           0.054760060013959465,
           0.04958099142649902,
           0.050785162714896366,
           0.054140162662297944,
           0.05017325661629944,
           0.05027329791045265,
           0.05205786662339245,
           0.056679844598291604,
           0.0564285321704061,
           1,
           0.1647002309032963,
           0.05080986060629226,
           0.06021665747684448,
           0.050558640386131254,
           0.057385318941200025,
           0.045873270322747406,
           0.047273911532760025,
           0.053514464057541775,
           0.055009836920506386
          ],
          [
           0.02635494256409236,
           0.036771159242238144,
           0.03279182808103404,
           0.0538153852846332,
           0.039382928857342146,
           0.029145962197423405,
           0.048929088864455204,
           0.048027739685801984,
           0.03612082622990551,
           0.04811871389912772,
           0.0527903707415252,
           0.046539886613770565,
           0.04430359030150744,
           0.0642459782518104,
           0.06487521746236202,
           0.06438037867199116,
           0.06668793470470442,
           0.06611551829133916,
           0.06673612665857981,
           0.06855563230262657,
           0.08197557960984835,
           0.0771280300468304,
           0.1647002309032963,
           1,
           0.07254448751827107,
           0.08520764534428307,
           0.06915628282666993,
           0.08025758597157402,
           0.06115824895074479,
           0.06397366820419914,
           0.07554091995215874,
           0.07720864008799116
          ],
          [
           0.016670696697831913,
           0.028725340607796686,
           0.023933681429199907,
           0.048225288844654955,
           0.030242900185007148,
           0.02777151930473412,
           0.02795232053623893,
           0.02941467732859593,
           0.023320034089690914,
           0.03323457683097436,
           0.0301785076015576,
           0.028304472093887645,
           0.030075687360654895,
           0.03236415938993286,
           0.5365963101779316,
           0.5577940976174077,
           0.5595118590928136,
           0.5905466019135652,
           0.6101121557631993,
           0.6181268160419312,
           0.7078372915288828,
           0.7417152813268404,
           0.05080986060629226,
           0.07254448751827107,
           1,
           0.7387081879785082,
           0.621107684993935,
           0.7355232615204382,
           0.5671537075650567,
           0.5531308121795048,
           0.7008696549525215,
           0.7003443867102898
          ],
          [
           0.01400695892391455,
           0.02830121817199245,
           0.024185467609257293,
           0.03954347344854424,
           0.02781874110121855,
           0.014406937461214872,
           0.0220794299609916,
           0.019577310941516473,
           0.015601162488694758,
           0.021313324949735667,
           0.024709942809430733,
           0.02192839510616153,
           0.018401659030750767,
           0.029719191301127025,
           0.5952353678741995,
           0.6181979496019456,
           0.6176407410556621,
           0.6533973749933834,
           0.6766923184881904,
           0.6842524066043364,
           0.786873768686459,
           0.8257020833558111,
           0.06021665747684448,
           0.08520764534428307,
           0.7387081879785082,
           1,
           0.7211748472514546,
           0.8726149870082832,
           0.6563551498571429,
           0.6332668821269162,
           0.8390753430183174,
           0.8368120658573817
          ],
          [
           0.012853297627906045,
           0.023327923194018604,
           0.022493635522365673,
           0.03738584068778509,
           0.027414556324232075,
           0.024450130080910695,
           0.0217605998463539,
           0.02330531256653183,
           0.021439103786827486,
           0.026576569358490964,
           0.023863977433464644,
           0.025478544445424987,
           0.022887387714571886,
           0.0269071205851677,
           0.4875371406644942,
           0.5059239003801502,
           0.5071641027626855,
           0.5355969858954304,
           0.553960922826953,
           0.5602287646056071,
           0.6425834237769014,
           0.6728581521648155,
           0.050558640386131254,
           0.06915628282666993,
           0.621107684993935,
           0.7211748472514546,
           1,
           0.7715575003692695,
           0.6133447178362045,
           0.601770124147878,
           0.7869855913004395,
           0.7851348075152671
          ],
          [
           0.0120301004117919,
           0.026360508754935213,
           0.02327036296410737,
           0.03437904669858135,
           0.027961887402452233,
           0.014302431087896873,
           0.021604854772408776,
           0.019456207837301686,
           0.01474658756368879,
           0.022063888355319687,
           0.021769711637190565,
           0.02054795719835334,
           0.019621038424981016,
           0.028922958609005314,
           0.5903799194454146,
           0.6135640156963822,
           0.6122707694188354,
           0.6481019991625826,
           0.6717973782511818,
           0.678982561538201,
           0.7774210390355736,
           0.8164341510481016,
           0.057385318941200025,
           0.08025758597157402,
           0.7355232615204382,
           0.8726149870082832,
           0.7715575003692695,
           1,
           0.7122107947526825,
           0.679501800465609,
           0.892678623495519,
           0.8944986881759888
          ],
          [
           0.00975282840401289,
           0.03503712154078356,
           0.017931561205066806,
           0.019856952153566112,
           0.021305718294857716,
           0.011753763388977774,
           0.017927093492951823,
           0.023100281099038035,
           0.011843846790915609,
           0.023941878798565845,
           0.029725389737132592,
           0.017682839175486326,
           0.023339917337067927,
           0.02570958038349881,
           0.4437807574695441,
           0.46151461851902714,
           0.463266370893435,
           0.4875463967417778,
           0.5049193222876104,
           0.5116673161342415,
           0.5857681261827643,
           0.6140553727180903,
           0.045873270322747406,
           0.06115824895074479,
           0.5671537075650567,
           0.6563551498571429,
           0.6133447178362045,
           0.7122107947526825,
           1,
           0.5607383754396561,
           0.6900443281231166,
           0.6909773686940152
          ],
          [
           0.013781791898051721,
           0.031149697679763003,
           0.021041980933142038,
           0.0365486109703667,
           0.025945447152829107,
           0.022310178682746918,
           0.020385913441330773,
           0.021957540768217116,
           0.02151318247029519,
           0.027151211579248463,
           0.02619253756575459,
           0.023511353829387058,
           0.027301128490496537,
           0.027927215582275164,
           0.4267764008061175,
           0.44359873531187793,
           0.444999026805452,
           0.4695786979948309,
           0.4853535963019735,
           0.49136688315401794,
           0.5643414085854102,
           0.5912642855790449,
           0.047273911532760025,
           0.06397366820419914,
           0.5531308121795048,
           0.6332668821269162,
           0.601770124147878,
           0.679501800465609,
           0.5607383754396561,
           1,
           0.6739871636747938,
           0.6737494243829099
          ],
          [
           0.010507013158586556,
           0.02269676268642989,
           0.021606380815224275,
           0.03176760200168509,
           0.024514355391032912,
           0.010948698036182966,
           0.020427656349952514,
           0.016045741610885726,
           0.010927142905530367,
           0.01942269656776634,
           0.018669137124141984,
           0.01989733921545969,
           0.016081822694022804,
           0.02536109955360724,
           0.5663975348129098,
           0.5890043472277517,
           0.5869521290353693,
           0.6222024806047405,
           0.6449862046792706,
           0.6521524330957417,
           0.7458721119554315,
           0.7845414963286016,
           0.053514464057541775,
           0.07554091995215874,
           0.7008696549525215,
           0.8390753430183174,
           0.7869855913004395,
           0.892678623495519,
           0.6900443281231166,
           0.6739871636747938,
           1,
           0.964704191205908
          ],
          [
           0.010442500846006042,
           0.02232233894237877,
           0.019667637360448728,
           0.029772146730940266,
           0.024315873158047004,
           0.011550982600563984,
           0.019743510665005414,
           0.01663827456291371,
           0.012605993372621496,
           0.019127337538542687,
           0.018298743070399727,
           0.020131312751370034,
           0.015061628812595002,
           0.026861812743729212,
           0.5656249360048297,
           0.5879980054015113,
           0.5859687763223516,
           0.6214286694326441,
           0.6441226874265363,
           0.6507788863626208,
           0.7443846442807833,
           0.7816487668965741,
           0.055009836920506386,
           0.07720864008799116,
           0.7003443867102898,
           0.8368120658573817,
           0.7851348075152671,
           0.8944986881759888,
           0.6909773686940152,
           0.6737494243829099,
           0.964704191205908,
           1
          ]
         ]
        }
       ],
       "layout": {
        "coloraxis": {
         "cmax": 1,
         "cmin": -1,
         "colorbar": {
          "title": {
           "text": "Correlation"
          }
         },
         "colorscale": [
          [
           0,
           "rgb(5,48,97)"
          ],
          [
           0.1,
           "rgb(33,102,172)"
          ],
          [
           0.2,
           "rgb(67,147,195)"
          ],
          [
           0.3,
           "rgb(146,197,222)"
          ],
          [
           0.4,
           "rgb(209,229,240)"
          ],
          [
           0.5,
           "rgb(247,247,247)"
          ],
          [
           0.6,
           "rgb(253,219,199)"
          ],
          [
           0.7,
           "rgb(244,165,130)"
          ],
          [
           0.8,
           "rgb(214,96,77)"
          ],
          [
           0.9,
           "rgb(178,24,43)"
          ],
          [
           1,
           "rgb(103,0,31)"
          ]
         ]
        },
        "height": 600,
        "margin": {
         "t": 60
        },
        "template": {
         "data": {
          "bar": [
           {
            "error_x": {
             "color": "#2a3f5f"
            },
            "error_y": {
             "color": "#2a3f5f"
            },
            "marker": {
             "line": {
              "color": "#E5ECF6",
              "width": 0.5
             },
             "pattern": {
              "fillmode": "overlay",
              "size": 10,
              "solidity": 0.2
             }
            },
            "type": "bar"
           }
          ],
          "barpolar": [
           {
            "marker": {
             "line": {
              "color": "#E5ECF6",
              "width": 0.5
             },
             "pattern": {
              "fillmode": "overlay",
              "size": 10,
              "solidity": 0.2
             }
            },
            "type": "barpolar"
           }
          ],
          "carpet": [
           {
            "aaxis": {
             "endlinecolor": "#2a3f5f",
             "gridcolor": "white",
             "linecolor": "white",
             "minorgridcolor": "white",
             "startlinecolor": "#2a3f5f"
            },
            "baxis": {
             "endlinecolor": "#2a3f5f",
             "gridcolor": "white",
             "linecolor": "white",
             "minorgridcolor": "white",
             "startlinecolor": "#2a3f5f"
            },
            "type": "carpet"
           }
          ],
          "choropleth": [
           {
            "colorbar": {
             "outlinewidth": 0,
             "ticks": ""
            },
            "type": "choropleth"
           }
          ],
          "contour": [
           {
            "colorbar": {
             "outlinewidth": 0,
             "ticks": ""
            },
            "colorscale": [
             [
              0,
              "#0d0887"
             ],
             [
              0.1111111111111111,
              "#46039f"
             ],
             [
              0.2222222222222222,
              "#7201a8"
             ],
             [
              0.3333333333333333,
              "#9c179e"
             ],
             [
              0.4444444444444444,
              "#bd3786"
             ],
             [
              0.5555555555555556,
              "#d8576b"
             ],
             [
              0.6666666666666666,
              "#ed7953"
             ],
             [
              0.7777777777777778,
              "#fb9f3a"
             ],
             [
              0.8888888888888888,
              "#fdca26"
             ],
             [
              1,
              "#f0f921"
             ]
            ],
            "type": "contour"
           }
          ],
          "contourcarpet": [
           {
            "colorbar": {
             "outlinewidth": 0,
             "ticks": ""
            },
            "type": "contourcarpet"
           }
          ],
          "heatmap": [
           {
            "colorbar": {
             "outlinewidth": 0,
             "ticks": ""
            },
            "colorscale": [
             [
              0,
              "#0d0887"
             ],
             [
              0.1111111111111111,
              "#46039f"
             ],
             [
              0.2222222222222222,
              "#7201a8"
             ],
             [
              0.3333333333333333,
              "#9c179e"
             ],
             [
              0.4444444444444444,
              "#bd3786"
             ],
             [
              0.5555555555555556,
              "#d8576b"
             ],
             [
              0.6666666666666666,
              "#ed7953"
             ],
             [
              0.7777777777777778,
              "#fb9f3a"
             ],
             [
              0.8888888888888888,
              "#fdca26"
             ],
             [
              1,
              "#f0f921"
             ]
            ],
            "type": "heatmap"
           }
          ],
          "heatmapgl": [
           {
            "colorbar": {
             "outlinewidth": 0,
             "ticks": ""
            },
            "colorscale": [
             [
              0,
              "#0d0887"
             ],
             [
              0.1111111111111111,
              "#46039f"
             ],
             [
              0.2222222222222222,
              "#7201a8"
             ],
             [
              0.3333333333333333,
              "#9c179e"
             ],
             [
              0.4444444444444444,
              "#bd3786"
             ],
             [
              0.5555555555555556,
              "#d8576b"
             ],
             [
              0.6666666666666666,
              "#ed7953"
             ],
             [
              0.7777777777777778,
              "#fb9f3a"
             ],
             [
              0.8888888888888888,
              "#fdca26"
             ],
             [
              1,
              "#f0f921"
             ]
            ],
            "type": "heatmapgl"
           }
          ],
          "histogram": [
           {
            "marker": {
             "pattern": {
              "fillmode": "overlay",
              "size": 10,
              "solidity": 0.2
             }
            },
            "type": "histogram"
           }
          ],
          "histogram2d": [
           {
            "colorbar": {
             "outlinewidth": 0,
             "ticks": ""
            },
            "colorscale": [
             [
              0,
              "#0d0887"
             ],
             [
              0.1111111111111111,
              "#46039f"
             ],
             [
              0.2222222222222222,
              "#7201a8"
             ],
             [
              0.3333333333333333,
              "#9c179e"
             ],
             [
              0.4444444444444444,
              "#bd3786"
             ],
             [
              0.5555555555555556,
              "#d8576b"
             ],
             [
              0.6666666666666666,
              "#ed7953"
             ],
             [
              0.7777777777777778,
              "#fb9f3a"
             ],
             [
              0.8888888888888888,
              "#fdca26"
             ],
             [
              1,
              "#f0f921"
             ]
            ],
            "type": "histogram2d"
           }
          ],
          "histogram2dcontour": [
           {
            "colorbar": {
             "outlinewidth": 0,
             "ticks": ""
            },
            "colorscale": [
             [
              0,
              "#0d0887"
             ],
             [
              0.1111111111111111,
              "#46039f"
             ],
             [
              0.2222222222222222,
              "#7201a8"
             ],
             [
              0.3333333333333333,
              "#9c179e"
             ],
             [
              0.4444444444444444,
              "#bd3786"
             ],
             [
              0.5555555555555556,
              "#d8576b"
             ],
             [
              0.6666666666666666,
              "#ed7953"
             ],
             [
              0.7777777777777778,
              "#fb9f3a"
             ],
             [
              0.8888888888888888,
              "#fdca26"
             ],
             [
              1,
              "#f0f921"
             ]
            ],
            "type": "histogram2dcontour"
           }
          ],
          "mesh3d": [
           {
            "colorbar": {
             "outlinewidth": 0,
             "ticks": ""
            },
            "type": "mesh3d"
           }
          ],
          "parcoords": [
           {
            "line": {
             "colorbar": {
              "outlinewidth": 0,
              "ticks": ""
             }
            },
            "type": "parcoords"
           }
          ],
          "pie": [
           {
            "automargin": true,
            "type": "pie"
           }
          ],
          "scatter": [
           {
            "fillpattern": {
             "fillmode": "overlay",
             "size": 10,
             "solidity": 0.2
            },
            "type": "scatter"
           }
          ],
          "scatter3d": [
           {
            "line": {
             "colorbar": {
              "outlinewidth": 0,
              "ticks": ""
             }
            },
            "marker": {
             "colorbar": {
              "outlinewidth": 0,
              "ticks": ""
             }
            },
            "type": "scatter3d"
           }
          ],
          "scattercarpet": [
           {
            "marker": {
             "colorbar": {
              "outlinewidth": 0,
              "ticks": ""
             }
            },
            "type": "scattercarpet"
           }
          ],
          "scattergeo": [
           {
            "marker": {
             "colorbar": {
              "outlinewidth": 0,
              "ticks": ""
             }
            },
            "type": "scattergeo"
           }
          ],
          "scattergl": [
           {
            "marker": {
             "colorbar": {
              "outlinewidth": 0,
              "ticks": ""
             }
            },
            "type": "scattergl"
           }
          ],
          "scattermapbox": [
           {
            "marker": {
             "colorbar": {
              "outlinewidth": 0,
              "ticks": ""
             }
            },
            "type": "scattermapbox"
           }
          ],
          "scatterpolar": [
           {
            "marker": {
             "colorbar": {
              "outlinewidth": 0,
              "ticks": ""
             }
            },
            "type": "scatterpolar"
           }
          ],
          "scatterpolargl": [
           {
            "marker": {
             "colorbar": {
              "outlinewidth": 0,
              "ticks": ""
             }
            },
            "type": "scatterpolargl"
           }
          ],
          "scatterternary": [
           {
            "marker": {
             "colorbar": {
              "outlinewidth": 0,
              "ticks": ""
             }
            },
            "type": "scatterternary"
           }
          ],
          "surface": [
           {
            "colorbar": {
             "outlinewidth": 0,
             "ticks": ""
            },
            "colorscale": [
             [
              0,
              "#0d0887"
             ],
             [
              0.1111111111111111,
              "#46039f"
             ],
             [
              0.2222222222222222,
              "#7201a8"
             ],
             [
              0.3333333333333333,
              "#9c179e"
             ],
             [
              0.4444444444444444,
              "#bd3786"
             ],
             [
              0.5555555555555556,
              "#d8576b"
             ],
             [
              0.6666666666666666,
              "#ed7953"
             ],
             [
              0.7777777777777778,
              "#fb9f3a"
             ],
             [
              0.8888888888888888,
              "#fdca26"
             ],
             [
              1,
              "#f0f921"
             ]
            ],
            "type": "surface"
           }
          ],
          "table": [
           {
            "cells": {
             "fill": {
              "color": "#EBF0F8"
             },
             "line": {
              "color": "white"
             }
            },
            "header": {
             "fill": {
              "color": "#C8D4E3"
             },
             "line": {
              "color": "white"
             }
            },
            "type": "table"
           }
          ]
         },
         "layout": {
          "annotationdefaults": {
           "arrowcolor": "#2a3f5f",
           "arrowhead": 0,
           "arrowwidth": 1
          },
          "autotypenumbers": "strict",
          "coloraxis": {
           "colorbar": {
            "outlinewidth": 0,
            "ticks": ""
           }
          },
          "colorscale": {
           "diverging": [
            [
             0,
             "#8e0152"
            ],
            [
             0.1,
             "#c51b7d"
            ],
            [
             0.2,
             "#de77ae"
            ],
            [
             0.3,
             "#f1b6da"
            ],
            [
             0.4,
             "#fde0ef"
            ],
            [
             0.5,
             "#f7f7f7"
            ],
            [
             0.6,
             "#e6f5d0"
            ],
            [
             0.7,
             "#b8e186"
            ],
            [
             0.8,
             "#7fbc41"
            ],
            [
             0.9,
             "#4d9221"
            ],
            [
             1,
             "#276419"
            ]
           ],
           "sequential": [
            [
             0,
             "#0d0887"
            ],
            [
             0.1111111111111111,
             "#46039f"
            ],
            [
             0.2222222222222222,
             "#7201a8"
            ],
            [
             0.3333333333333333,
             "#9c179e"
            ],
            [
             0.4444444444444444,
             "#bd3786"
            ],
            [
             0.5555555555555556,
             "#d8576b"
            ],
            [
             0.6666666666666666,
             "#ed7953"
            ],
            [
             0.7777777777777778,
             "#fb9f3a"
            ],
            [
             0.8888888888888888,
             "#fdca26"
            ],
            [
             1,
             "#f0f921"
            ]
           ],
           "sequentialminus": [
            [
             0,
             "#0d0887"
            ],
            [
             0.1111111111111111,
             "#46039f"
            ],
            [
             0.2222222222222222,
             "#7201a8"
            ],
            [
             0.3333333333333333,
             "#9c179e"
            ],
            [
             0.4444444444444444,
             "#bd3786"
            ],
            [
             0.5555555555555556,
             "#d8576b"
            ],
            [
             0.6666666666666666,
             "#ed7953"
            ],
            [
             0.7777777777777778,
             "#fb9f3a"
            ],
            [
             0.8888888888888888,
             "#fdca26"
            ],
            [
             1,
             "#f0f921"
            ]
           ]
          },
          "colorway": [
           "#636efa",
           "#EF553B",
           "#00cc96",
           "#ab63fa",
           "#FFA15A",
           "#19d3f3",
           "#FF6692",
           "#B6E880",
           "#FF97FF",
           "#FECB52"
          ],
          "font": {
           "color": "#2a3f5f"
          },
          "geo": {
           "bgcolor": "white",
           "lakecolor": "white",
           "landcolor": "#E5ECF6",
           "showlakes": true,
           "showland": true,
           "subunitcolor": "white"
          },
          "hoverlabel": {
           "align": "left"
          },
          "hovermode": "closest",
          "mapbox": {
           "style": "light"
          },
          "paper_bgcolor": "white",
          "plot_bgcolor": "#E5ECF6",
          "polar": {
           "angularaxis": {
            "gridcolor": "white",
            "linecolor": "white",
            "ticks": ""
           },
           "bgcolor": "#E5ECF6",
           "radialaxis": {
            "gridcolor": "white",
            "linecolor": "white",
            "ticks": ""
           }
          },
          "scene": {
           "xaxis": {
            "backgroundcolor": "#E5ECF6",
            "gridcolor": "white",
            "gridwidth": 2,
            "linecolor": "white",
            "showbackground": true,
            "ticks": "",
            "zerolinecolor": "white"
           },
           "yaxis": {
            "backgroundcolor": "#E5ECF6",
            "gridcolor": "white",
            "gridwidth": 2,
            "linecolor": "white",
            "showbackground": true,
            "ticks": "",
            "zerolinecolor": "white"
           },
           "zaxis": {
            "backgroundcolor": "#E5ECF6",
            "gridcolor": "white",
            "gridwidth": 2,
            "linecolor": "white",
            "showbackground": true,
            "ticks": "",
            "zerolinecolor": "white"
           }
          },
          "shapedefaults": {
           "line": {
            "color": "#2a3f5f"
           }
          },
          "ternary": {
           "aaxis": {
            "gridcolor": "white",
            "linecolor": "white",
            "ticks": ""
           },
           "baxis": {
            "gridcolor": "white",
            "linecolor": "white",
            "ticks": ""
           },
           "bgcolor": "#E5ECF6",
           "caxis": {
            "gridcolor": "white",
            "linecolor": "white",
            "ticks": ""
           }
          },
          "title": {
           "x": 0.05
          },
          "xaxis": {
           "automargin": true,
           "gridcolor": "white",
           "linecolor": "white",
           "ticks": "",
           "title": {
            "standoff": 15
           },
           "zerolinecolor": "white",
           "zerolinewidth": 2
          },
          "yaxis": {
           "automargin": true,
           "gridcolor": "white",
           "linecolor": "white",
           "ticks": "",
           "title": {
            "standoff": 15
           },
           "zerolinecolor": "white",
           "zerolinewidth": 2
          }
         }
        },
        "title": {
         "text": "Correlation of Missingness Between Features",
         "x": 0.5,
         "y": 0.95
        },
        "width": 800,
        "xaxis": {
         "anchor": "y",
         "constrain": "domain",
         "domain": [
          0,
          1
         ],
         "scaleanchor": "y",
         "title": {
          "text": "Features"
         }
        },
        "yaxis": {
         "anchor": "x",
         "autorange": "reversed",
         "constrain": "domain",
         "domain": [
          0,
          1
         ],
         "title": {
          "text": "Features"
         }
        }
       }
      }
     },
     "metadata": {},
     "output_type": "display_data"
    }
   ],
   "source": [
    "# Calculate the correlation of missingness between indicator columns\n",
    "missing_corr = df[missing_indicator_cols].corr()\n",
    "\n",
    "# Plot using Plotly for better readability\n",
    "fig_corr = px.imshow(missing_corr,\n",
    "                     labels=dict(x=\"Features\", y=\"Features\", color=\"Correlation\"),\n",
    "                     x=missing_corr.columns,\n",
    "                     y=missing_corr.index,\n",
    "                     color_continuous_scale=\"RdBu_r\",\n",
    "                     zmin=-1, zmax=1)  # Adjust color range for correlation (-1 to 1)\n",
    "\n",
    "fig_corr.update_layout(title='Correlation of Missingness Between Features',\n",
    "                       title_x=0.5, title_y=0.95,\n",
    "                       width=800, height=600)\n",
    "\n",
    "fig_corr.show()\n"
   ]
  },
  {
   "cell_type": "code",
   "execution_count": 21,
   "metadata": {},
   "outputs": [
    {
     "name": "stdout",
     "output_type": "stream",
     "text": [
      "Missing Health Data by RiskClassification (Transposed):\n",
      "RiskClassification                High  Low  Moderate\n",
      "HadHeartAttack_missing_indicator  1202  610      1248\n",
      "HadAsthma_missing_indicator        596  492       680\n",
      "HadStroke_missing_indicator        655  350       547\n",
      "HadDiabetes_missing_indicator      353  329       400\n",
      "HadCOPD_missing_indicator          887  462       865\n"
     ]
    },
    {
     "data": {
      "application/vnd.plotly.v1+json": {
       "config": {
        "plotlyServerURL": "https://plot.ly"
       },
       "data": [
        {
         "coloraxis": "coloraxis",
         "hovertemplate": "Risk Classification: %{x}<br>Risk Level: %{y}<br>Proportion of Missing Data: %{z}<extra></extra>",
         "name": "0",
         "type": "heatmap",
         "x": [
          "HadHeartAttack_missing_indicator",
          "HadAsthma_missing_indicator",
          "HadStroke_missing_indicator",
          "HadDiabetes_missing_indicator",
          "HadCOPD_missing_indicator"
         ],
         "xaxis": "x",
         "y": [
          "High",
          "Low",
          "Moderate"
         ],
         "yaxis": "y",
         "z": [
          [
           0.3254806390468454,
           0.16138640671540752,
           0.17736257784998646,
           0.09558624424587056,
           0.24018413214189005
          ],
          [
           0.2719572001783326,
           0.21934908604547482,
           0.1560410164957646,
           0.14667855550601872,
           0.2059741417744093
          ],
          [
           0.3336898395721925,
           0.18181818181818182,
           0.14625668449197862,
           0.10695187165775401,
           0.23128342245989306
          ]
         ]
        }
       ],
       "layout": {
        "coloraxis": {
         "colorbar": {
          "title": {
           "text": "Proportion of Missing Data"
          }
         },
         "colorscale": [
          [
           0,
           "#440154"
          ],
          [
           0.1111111111111111,
           "#482878"
          ],
          [
           0.2222222222222222,
           "#3e4989"
          ],
          [
           0.3333333333333333,
           "#31688e"
          ],
          [
           0.4444444444444444,
           "#26828e"
          ],
          [
           0.5555555555555556,
           "#1f9e89"
          ],
          [
           0.6666666666666666,
           "#35b779"
          ],
          [
           0.7777777777777778,
           "#6ece58"
          ],
          [
           0.8888888888888888,
           "#b5de2b"
          ],
          [
           1,
           "#fde725"
          ]
         ]
        },
        "height": 600,
        "margin": {
         "t": 60
        },
        "template": {
         "data": {
          "bar": [
           {
            "error_x": {
             "color": "#2a3f5f"
            },
            "error_y": {
             "color": "#2a3f5f"
            },
            "marker": {
             "line": {
              "color": "#E5ECF6",
              "width": 0.5
             },
             "pattern": {
              "fillmode": "overlay",
              "size": 10,
              "solidity": 0.2
             }
            },
            "type": "bar"
           }
          ],
          "barpolar": [
           {
            "marker": {
             "line": {
              "color": "#E5ECF6",
              "width": 0.5
             },
             "pattern": {
              "fillmode": "overlay",
              "size": 10,
              "solidity": 0.2
             }
            },
            "type": "barpolar"
           }
          ],
          "carpet": [
           {
            "aaxis": {
             "endlinecolor": "#2a3f5f",
             "gridcolor": "white",
             "linecolor": "white",
             "minorgridcolor": "white",
             "startlinecolor": "#2a3f5f"
            },
            "baxis": {
             "endlinecolor": "#2a3f5f",
             "gridcolor": "white",
             "linecolor": "white",
             "minorgridcolor": "white",
             "startlinecolor": "#2a3f5f"
            },
            "type": "carpet"
           }
          ],
          "choropleth": [
           {
            "colorbar": {
             "outlinewidth": 0,
             "ticks": ""
            },
            "type": "choropleth"
           }
          ],
          "contour": [
           {
            "colorbar": {
             "outlinewidth": 0,
             "ticks": ""
            },
            "colorscale": [
             [
              0,
              "#0d0887"
             ],
             [
              0.1111111111111111,
              "#46039f"
             ],
             [
              0.2222222222222222,
              "#7201a8"
             ],
             [
              0.3333333333333333,
              "#9c179e"
             ],
             [
              0.4444444444444444,
              "#bd3786"
             ],
             [
              0.5555555555555556,
              "#d8576b"
             ],
             [
              0.6666666666666666,
              "#ed7953"
             ],
             [
              0.7777777777777778,
              "#fb9f3a"
             ],
             [
              0.8888888888888888,
              "#fdca26"
             ],
             [
              1,
              "#f0f921"
             ]
            ],
            "type": "contour"
           }
          ],
          "contourcarpet": [
           {
            "colorbar": {
             "outlinewidth": 0,
             "ticks": ""
            },
            "type": "contourcarpet"
           }
          ],
          "heatmap": [
           {
            "colorbar": {
             "outlinewidth": 0,
             "ticks": ""
            },
            "colorscale": [
             [
              0,
              "#0d0887"
             ],
             [
              0.1111111111111111,
              "#46039f"
             ],
             [
              0.2222222222222222,
              "#7201a8"
             ],
             [
              0.3333333333333333,
              "#9c179e"
             ],
             [
              0.4444444444444444,
              "#bd3786"
             ],
             [
              0.5555555555555556,
              "#d8576b"
             ],
             [
              0.6666666666666666,
              "#ed7953"
             ],
             [
              0.7777777777777778,
              "#fb9f3a"
             ],
             [
              0.8888888888888888,
              "#fdca26"
             ],
             [
              1,
              "#f0f921"
             ]
            ],
            "type": "heatmap"
           }
          ],
          "heatmapgl": [
           {
            "colorbar": {
             "outlinewidth": 0,
             "ticks": ""
            },
            "colorscale": [
             [
              0,
              "#0d0887"
             ],
             [
              0.1111111111111111,
              "#46039f"
             ],
             [
              0.2222222222222222,
              "#7201a8"
             ],
             [
              0.3333333333333333,
              "#9c179e"
             ],
             [
              0.4444444444444444,
              "#bd3786"
             ],
             [
              0.5555555555555556,
              "#d8576b"
             ],
             [
              0.6666666666666666,
              "#ed7953"
             ],
             [
              0.7777777777777778,
              "#fb9f3a"
             ],
             [
              0.8888888888888888,
              "#fdca26"
             ],
             [
              1,
              "#f0f921"
             ]
            ],
            "type": "heatmapgl"
           }
          ],
          "histogram": [
           {
            "marker": {
             "pattern": {
              "fillmode": "overlay",
              "size": 10,
              "solidity": 0.2
             }
            },
            "type": "histogram"
           }
          ],
          "histogram2d": [
           {
            "colorbar": {
             "outlinewidth": 0,
             "ticks": ""
            },
            "colorscale": [
             [
              0,
              "#0d0887"
             ],
             [
              0.1111111111111111,
              "#46039f"
             ],
             [
              0.2222222222222222,
              "#7201a8"
             ],
             [
              0.3333333333333333,
              "#9c179e"
             ],
             [
              0.4444444444444444,
              "#bd3786"
             ],
             [
              0.5555555555555556,
              "#d8576b"
             ],
             [
              0.6666666666666666,
              "#ed7953"
             ],
             [
              0.7777777777777778,
              "#fb9f3a"
             ],
             [
              0.8888888888888888,
              "#fdca26"
             ],
             [
              1,
              "#f0f921"
             ]
            ],
            "type": "histogram2d"
           }
          ],
          "histogram2dcontour": [
           {
            "colorbar": {
             "outlinewidth": 0,
             "ticks": ""
            },
            "colorscale": [
             [
              0,
              "#0d0887"
             ],
             [
              0.1111111111111111,
              "#46039f"
             ],
             [
              0.2222222222222222,
              "#7201a8"
             ],
             [
              0.3333333333333333,
              "#9c179e"
             ],
             [
              0.4444444444444444,
              "#bd3786"
             ],
             [
              0.5555555555555556,
              "#d8576b"
             ],
             [
              0.6666666666666666,
              "#ed7953"
             ],
             [
              0.7777777777777778,
              "#fb9f3a"
             ],
             [
              0.8888888888888888,
              "#fdca26"
             ],
             [
              1,
              "#f0f921"
             ]
            ],
            "type": "histogram2dcontour"
           }
          ],
          "mesh3d": [
           {
            "colorbar": {
             "outlinewidth": 0,
             "ticks": ""
            },
            "type": "mesh3d"
           }
          ],
          "parcoords": [
           {
            "line": {
             "colorbar": {
              "outlinewidth": 0,
              "ticks": ""
             }
            },
            "type": "parcoords"
           }
          ],
          "pie": [
           {
            "automargin": true,
            "type": "pie"
           }
          ],
          "scatter": [
           {
            "fillpattern": {
             "fillmode": "overlay",
             "size": 10,
             "solidity": 0.2
            },
            "type": "scatter"
           }
          ],
          "scatter3d": [
           {
            "line": {
             "colorbar": {
              "outlinewidth": 0,
              "ticks": ""
             }
            },
            "marker": {
             "colorbar": {
              "outlinewidth": 0,
              "ticks": ""
             }
            },
            "type": "scatter3d"
           }
          ],
          "scattercarpet": [
           {
            "marker": {
             "colorbar": {
              "outlinewidth": 0,
              "ticks": ""
             }
            },
            "type": "scattercarpet"
           }
          ],
          "scattergeo": [
           {
            "marker": {
             "colorbar": {
              "outlinewidth": 0,
              "ticks": ""
             }
            },
            "type": "scattergeo"
           }
          ],
          "scattergl": [
           {
            "marker": {
             "colorbar": {
              "outlinewidth": 0,
              "ticks": ""
             }
            },
            "type": "scattergl"
           }
          ],
          "scattermapbox": [
           {
            "marker": {
             "colorbar": {
              "outlinewidth": 0,
              "ticks": ""
             }
            },
            "type": "scattermapbox"
           }
          ],
          "scatterpolar": [
           {
            "marker": {
             "colorbar": {
              "outlinewidth": 0,
              "ticks": ""
             }
            },
            "type": "scatterpolar"
           }
          ],
          "scatterpolargl": [
           {
            "marker": {
             "colorbar": {
              "outlinewidth": 0,
              "ticks": ""
             }
            },
            "type": "scatterpolargl"
           }
          ],
          "scatterternary": [
           {
            "marker": {
             "colorbar": {
              "outlinewidth": 0,
              "ticks": ""
             }
            },
            "type": "scatterternary"
           }
          ],
          "surface": [
           {
            "colorbar": {
             "outlinewidth": 0,
             "ticks": ""
            },
            "colorscale": [
             [
              0,
              "#0d0887"
             ],
             [
              0.1111111111111111,
              "#46039f"
             ],
             [
              0.2222222222222222,
              "#7201a8"
             ],
             [
              0.3333333333333333,
              "#9c179e"
             ],
             [
              0.4444444444444444,
              "#bd3786"
             ],
             [
              0.5555555555555556,
              "#d8576b"
             ],
             [
              0.6666666666666666,
              "#ed7953"
             ],
             [
              0.7777777777777778,
              "#fb9f3a"
             ],
             [
              0.8888888888888888,
              "#fdca26"
             ],
             [
              1,
              "#f0f921"
             ]
            ],
            "type": "surface"
           }
          ],
          "table": [
           {
            "cells": {
             "fill": {
              "color": "#EBF0F8"
             },
             "line": {
              "color": "white"
             }
            },
            "header": {
             "fill": {
              "color": "#C8D4E3"
             },
             "line": {
              "color": "white"
             }
            },
            "type": "table"
           }
          ]
         },
         "layout": {
          "annotationdefaults": {
           "arrowcolor": "#2a3f5f",
           "arrowhead": 0,
           "arrowwidth": 1
          },
          "autotypenumbers": "strict",
          "coloraxis": {
           "colorbar": {
            "outlinewidth": 0,
            "ticks": ""
           }
          },
          "colorscale": {
           "diverging": [
            [
             0,
             "#8e0152"
            ],
            [
             0.1,
             "#c51b7d"
            ],
            [
             0.2,
             "#de77ae"
            ],
            [
             0.3,
             "#f1b6da"
            ],
            [
             0.4,
             "#fde0ef"
            ],
            [
             0.5,
             "#f7f7f7"
            ],
            [
             0.6,
             "#e6f5d0"
            ],
            [
             0.7,
             "#b8e186"
            ],
            [
             0.8,
             "#7fbc41"
            ],
            [
             0.9,
             "#4d9221"
            ],
            [
             1,
             "#276419"
            ]
           ],
           "sequential": [
            [
             0,
             "#0d0887"
            ],
            [
             0.1111111111111111,
             "#46039f"
            ],
            [
             0.2222222222222222,
             "#7201a8"
            ],
            [
             0.3333333333333333,
             "#9c179e"
            ],
            [
             0.4444444444444444,
             "#bd3786"
            ],
            [
             0.5555555555555556,
             "#d8576b"
            ],
            [
             0.6666666666666666,
             "#ed7953"
            ],
            [
             0.7777777777777778,
             "#fb9f3a"
            ],
            [
             0.8888888888888888,
             "#fdca26"
            ],
            [
             1,
             "#f0f921"
            ]
           ],
           "sequentialminus": [
            [
             0,
             "#0d0887"
            ],
            [
             0.1111111111111111,
             "#46039f"
            ],
            [
             0.2222222222222222,
             "#7201a8"
            ],
            [
             0.3333333333333333,
             "#9c179e"
            ],
            [
             0.4444444444444444,
             "#bd3786"
            ],
            [
             0.5555555555555556,
             "#d8576b"
            ],
            [
             0.6666666666666666,
             "#ed7953"
            ],
            [
             0.7777777777777778,
             "#fb9f3a"
            ],
            [
             0.8888888888888888,
             "#fdca26"
            ],
            [
             1,
             "#f0f921"
            ]
           ]
          },
          "colorway": [
           "#636efa",
           "#EF553B",
           "#00cc96",
           "#ab63fa",
           "#FFA15A",
           "#19d3f3",
           "#FF6692",
           "#B6E880",
           "#FF97FF",
           "#FECB52"
          ],
          "font": {
           "color": "#2a3f5f"
          },
          "geo": {
           "bgcolor": "white",
           "lakecolor": "white",
           "landcolor": "#E5ECF6",
           "showlakes": true,
           "showland": true,
           "subunitcolor": "white"
          },
          "hoverlabel": {
           "align": "left"
          },
          "hovermode": "closest",
          "mapbox": {
           "style": "light"
          },
          "paper_bgcolor": "white",
          "plot_bgcolor": "#E5ECF6",
          "polar": {
           "angularaxis": {
            "gridcolor": "white",
            "linecolor": "white",
            "ticks": ""
           },
           "bgcolor": "#E5ECF6",
           "radialaxis": {
            "gridcolor": "white",
            "linecolor": "white",
            "ticks": ""
           }
          },
          "scene": {
           "xaxis": {
            "backgroundcolor": "#E5ECF6",
            "gridcolor": "white",
            "gridwidth": 2,
            "linecolor": "white",
            "showbackground": true,
            "ticks": "",
            "zerolinecolor": "white"
           },
           "yaxis": {
            "backgroundcolor": "#E5ECF6",
            "gridcolor": "white",
            "gridwidth": 2,
            "linecolor": "white",
            "showbackground": true,
            "ticks": "",
            "zerolinecolor": "white"
           },
           "zaxis": {
            "backgroundcolor": "#E5ECF6",
            "gridcolor": "white",
            "gridwidth": 2,
            "linecolor": "white",
            "showbackground": true,
            "ticks": "",
            "zerolinecolor": "white"
           }
          },
          "shapedefaults": {
           "line": {
            "color": "#2a3f5f"
           }
          },
          "ternary": {
           "aaxis": {
            "gridcolor": "white",
            "linecolor": "white",
            "ticks": ""
           },
           "baxis": {
            "gridcolor": "white",
            "linecolor": "white",
            "ticks": ""
           },
           "bgcolor": "#E5ECF6",
           "caxis": {
            "gridcolor": "white",
            "linecolor": "white",
            "ticks": ""
           }
          },
          "title": {
           "x": 0.05
          },
          "xaxis": {
           "automargin": true,
           "gridcolor": "white",
           "linecolor": "white",
           "ticks": "",
           "title": {
            "standoff": 15
           },
           "zerolinecolor": "white",
           "zerolinewidth": 2
          },
          "yaxis": {
           "automargin": true,
           "gridcolor": "white",
           "linecolor": "white",
           "ticks": "",
           "title": {
            "standoff": 15
           },
           "zerolinecolor": "white",
           "zerolinewidth": 2
          }
         }
        },
        "title": {
         "text": "Proportion of Missing Health Data by Risk Classification",
         "x": 0.5,
         "y": 0.95
        },
        "width": 800,
        "xaxis": {
         "anchor": "y",
         "constrain": "domain",
         "domain": [
          0,
          1
         ],
         "scaleanchor": "y",
         "title": {
          "text": "Risk Classification"
         }
        },
        "yaxis": {
         "anchor": "x",
         "autorange": "reversed",
         "constrain": "domain",
         "domain": [
          0,
          1
         ],
         "title": {
          "text": "Risk Level"
         }
        }
       }
      }
     },
     "metadata": {},
     "output_type": "display_data"
    }
   ],
   "source": [
    "# Investigate missing data in health-related columns by RiskClassification\n",
    "health_columns_missing = [\n",
    "    'HadHeartAttack_missing_indicator', 'HadAsthma_missing_indicator', 'HadStroke_missing_indicator', \n",
    "    'HadDiabetes_missing_indicator', 'HadCOPD_missing_indicator'\n",
    "]\n",
    "\n",
    "# Group by RiskClassification and sum the missing indicators\n",
    "missing_health_data = df.groupby('RiskClassification')[health_columns_missing].sum()\n",
    "\n",
    "# Transpose the DataFrame for easier reading\n",
    "missing_health_data_transposed = missing_health_data.T\n",
    "\n",
    "# Print the transposed DataFrame for better readability\n",
    "print(\"Missing Health Data by RiskClassification (Transposed):\")\n",
    "print(missing_health_data_transposed)\n",
    "\n",
    "\n",
    "# Normalize the missing data by RiskClassification\n",
    "missing_health_data_proportion = missing_health_data.div(missing_health_data.sum(axis=1), axis=0)\n",
    "\n",
    "# Plot the missing data proportions using Plotly\n",
    "fig_health = px.imshow(missing_health_data_proportion,\n",
    "                       labels=dict(x=\"Risk Classification\", y=\"Risk Level\", color=\"Proportion of Missing Data\"),\n",
    "                       x=missing_health_data_proportion.columns,\n",
    "                       y=missing_health_data_proportion.index,\n",
    "                       color_continuous_scale=\"Viridis\")\n",
    "\n",
    "fig_health.update_layout(title='Proportion of Missing Health Data by Risk Classification',\n",
    "                         title_x=0.5, title_y=0.95,\n",
    "                         width=800, height=600)\n",
    "\n",
    "fig_health.show()\n"
   ]
  },
  {
   "cell_type": "code",
   "execution_count": 22,
   "metadata": {},
   "outputs": [
    {
     "name": "stdout",
     "output_type": "stream",
     "text": [
      "Missing Data by Age Category and Sex:\n",
      "                        GeneralHealth_missing_indicator  LastCheckupTime_missing_indicator  PhysicalActivities_missing_indicator  RemovedTeeth_missing_indicator  HadHeartAttack_missing_indicator  HadAngina_missing_indicator  HadStroke_missing_indicator  HadAsthma_missing_indicator  HadSkinCancer_missing_indicator  HadCOPD_missing_indicator  HadDepressiveDisorder_missing_indicator  HadKidneyDisease_missing_indicator  HadArthritis_missing_indicator  HadDiabetes_missing_indicator  DeafOrHardOfHearing_missing_indicator  BlindOrVisionDifficulty_missing_indicator  DifficultyConcentrating_missing_indicator  DifficultyWalking_missing_indicator  DifficultyDressingBathing_missing_indicator  DifficultyErrands_missing_indicator  SmokerStatus_missing_indicator  ECigaretteUsage_missing_indicator  RaceEthnicityCategory_missing_indicator  AgeCategory_missing_indicator  ChestScan_missing_indicator  AlcoholDrinkers_missing_indicator  HIVTesting_missing_indicator  FluVaxLast12_missing_indicator  \\\n",
      "AgeCategory     Sex                                                                                                                                                                                                                                                                                                                                                                                                                                                                                                                                                                                                                                                                                                                                                                                                                                                                                                                                                                                                              \n",
      "age 18 to 24    female                               15                                386                                    31                             107                                47                           31                           19                           72                               27                         43                                      133                                  24                              57                             25                                    621                                        678                                        763                                  724                                          740                                  783                             948                                979                                      189                              0                         1219                               1250                          1775                            1322   \n",
      "                male                                 29                                745                                    27                             177                                96                           65                           31                          105                               38                         70                                      199                                  24                              80                             62                                    766                                        799                                        940                                  885                                          908                                  977                            1076                               1108                                      332                              0                         1606                               1461                          1933                            1599   \n",
      "age 25 to 29    female                               19                                272                                    12                             107                                41                           23                           15                           43                               17                         47                                       76                                  19                              49                             23                                    569                                        599                                        668                                  646                                          657                                  701                             843                                858                                      205                              0                         1114                               1086                          1581                            1108   \n",
      "                male                                 19                                512                                    22                             108                                48                           35                           22                           46                               33                         55                                       91                                  28                              45                             21                                    552                                        583                                        681                                  636                                          650                                  701                             779                                793                                      306                              0                         1235                               1098                          1487                            1179   \n",
      "age 30 to 34    female                               25                                270                                    21                             153                                44                           28                           14                           44                               20                         35                                       95                                  20                              61                             18                                    719                                        754                                        855                                  826                                          844                                  890                            1140                               1199                                      299                              0                         1570                               1483                          2044                            1520   \n",
      "                male                                 32                                517                                    24                             137                                68                           47                           30                           57                               27                         60                                       89                                  25                              54                             29                                    720                                        769                                        866                                  830                                          855                                  923                            1021                               1034                                      409                              0                         1547                               1394                          1823                            1442   \n",
      "age 35 to 39    female                               26                                233                                    16                             159                                57                           47                           30                           34                               38                         27                                       70                                  28                              77                             20                                    770                                        818                                        893                                  891                                          901                                  957                            1218                               1252                                      337                              0                         1725                               1590                          2221                            1646   \n",
      "                male                                 26                                457                                    36                             142                                84                           48                           36                           46                               46                         54                                       91                                  32                              80                             32                                    725                                        754                                        870                                  839                                          866                                  916                            1054                               1064                                      504                              0                         1636                               1452                          1959                            1551   \n",
      "age 40 to 44    female                               16                                227                                    18                             179                                46                           41                           31                           29                               31                         38                                       73                                  34                              56                             19                                    751                                        807                                        889                                  898                                          900                                  963                            1267                               1299                                      346                              0                         1875                               1687                          2317                            1736   \n",
      "                male                                 32                                443                                    25                             168                               104                           69                           37                           49                               45                         57                                       96                                  48                              79                             45                                    825                                        868                                        958                                  934                                          959                                  996                            1173                               1138                                      553                              0                         1761                               1595                          2092                            1637   \n",
      "age 45 to 49    female                               36                                216                                    20                             221                                45                           63                           29                           35                               55                         37                                       68                                  44                              69                             22                                    729                                        777                                        833                                  852                                          862                                  908                            1309                               1347                                      334                              0                         1871                               1692                          2277                            1703   \n",
      "                male                                 20                                318                                    23                             177                                81                           82                           40                           36                               59                         52                                       70                                  32                              72                             33                                    657                                        695                                        782                                  759                                          781                                  831                            1107                               1120                                      462                              0                         1578                               1525                          1933                            1487   \n",
      "age 50 to 54    female                               31                                194                                    33                             303                                80                           84                           51                           42                               77                         51                                       87                                  60                             100                             36                                    779                                        854                                        948                                  929                                          940                                  999                            1480                               1498                                      400                              0                         2244                               1913                          2735                            1949   \n",
      "                male                                 38                                292                                    25                             261                               103                          112                           43                           49                               84                         66                                       91                                  48                              86                             31                                    787                                        820                                        899                                  904                                          897                                  960                            1263                               1276                                      524                              0                         1871                               1709                          2294                            1738   \n",
      "age 55 to 59    female                               37                                197                                    43                             391                                83                          136                           60                           62                              113                         68                                       86                                  69                              95                             25                                    850                                        906                                       1032                                 1032                                         1024                                 1107                            1663                               1686                                      415                              0                         2455                               2089                          2937                            2106   \n",
      "                male                                 41                                234                                    39                             307                               110                          164                           46                           59                              114                        101                                       80                                  56                             106                             35                                    760                                        814                                        921                                  893                                          902                                  962                            1282                               1307                                      490                              0                         1944                               1773                          2437                            1736   \n",
      "age 60 to 64    female                               58                                257                                    38                             588                               118                          186                           65                           67                              128                        101                                      103                                  89                             105                             24                                    973                                       1033                                       1159                                 1137                                         1148                                 1235                            1945                               1949                                      575                              0                         3090                               2463                          3526                            2478   \n",
      "                male                                 68                                285                                    55                             470                               185                          242                           64                           68                              196                        132                                      103                                  88                             133                             53                                    834                                        865                                        981                                  986                                          964                                 1032                            1398                               1442                                      637                              0                         2298                               1976                          2792                            1943   \n",
      "age 65 to 69    female                              114                                475                                   117                            1191                               249                          335                          188                          212                              269                        221                                      267                                 214                             266                            152                                   1540                                       1616                                       1789                                 1791                                         1785                                 1919                            3013                               2956                                     1537                           4975                         4605                               3702                          5044                            3675   \n",
      "                male                                119                                486                                   111                             892                               309                          419                          200                          172                              340                        229                                      250                                 216                             252                            159                                   1402                                       1416                                       1582                                 1581                                         1577                                 1677                            2316                               2289                                     1803                           4094                         3464                               3151                          4292                            3076   \n",
      "age 70 to 74    female                               53                                218                                    59                             881                               119                          280                           83                           83                              152                         94                                       93                                 117                             119                             39                                    802                                        854                                        937                                  986                                          921                                 1001                            1695                               1661                                      563                              0                         3092                               2121                          3181                            2094   \n",
      "                male                                 46                                175                                    42                             660                               154                          300                           61                           62                              254                        102                                      102                                  95                             119                             42                                    709                                        702                                        798                                  793                                          777                                  832                            1220                               1212                                      644                              0                         2139                               1689                          2830                            1686   \n",
      "age 75 to 79    female                               55                                182                                    52                             829                               141                          288                           66                           79                              174                        102                                       98                                 117                             101                             27                                    649                                        674                                        762                                  772                                          728                                  802                            1352                               1310                                      431                              0                         2596                               1686                          2565                            1658   \n",
      "                male                                 41                                114                                    48                             550                               135                          266                           51                           60                              208                         69                                       76                                  74                              80                             29                                    518                                        486                                        566                                  551                                          547                                  580                             882                                883                                      522                              0                         1588                               1219                          2078                            1219   \n",
      "age 80 or older female                              122                                402                                    93                            1496                               299                          562                          148                           91                              303                        162                                      133                                 200                             173                             40                                    908                                        897                                       1068                                 1090                                          987                                 1165                            1833                               1801                                      642                              0                         3903                               2250                          3492                            2296   \n",
      "                male                                 75                                194                                    58                             701                               214                          447                           92                           66                              290                        141                                       87                                 120                             114                             41                                    587                                        581                                        655                                  702                                          650                                  694                            1039                               1053                                      589                              0                         1874                               1374                          2336                            1391   \n",
      "\n",
      "                        PneumoVaxEver_missing_indicator  TetanusLast10Tdap_missing_indicator  HighRiskLastYear_missing_indicator  CovidPos_missing_indicator  \n",
      "AgeCategory     Sex                                                                                                                                           \n",
      "age 18 to 24    female                             3447                                 2672                                1398                        1394  \n",
      "                male                               4530                                 3123                                1676                        1673  \n",
      "age 25 to 29    female                             2713                                 2064                                1206                        1206  \n",
      "                male                               3229                                 2217                                1253                        1260  \n",
      "age 30 to 34    female                             3068                                 2591                                1648                        1659  \n",
      "                male                               3416                                 2436                                1579                        1575  \n",
      "age 35 to 39    female                             3149                                 2778                                1792                        1806  \n",
      "                male                               3299                                 2607                                1690                        1687  \n",
      "age 40 to 44    female                             2929                                 2967                                1887                        1901  \n",
      "                male                               3182                                 2684                                1793                        1798  \n",
      "age 45 to 49    female                             2541                                 2850                                1840                        1842  \n",
      "                male                               2581                                 2473                                1637                        1667  \n",
      "age 50 to 54    female                             2687                                 3363                                2088                        2112  \n",
      "                male                               2719                                 2794                                1881                        1907  \n",
      "age 55 to 59    female                             2697                                 3563                                2217                        2229  \n",
      "                male                               2631                                 2919                                1928                        1915  \n",
      "age 60 to 64    female                             3103                                 4222                                2626                        2658  \n",
      "                male                               2867                                 3334                                2181                        2174  \n",
      "age 65 to 69    female                             4355                                 5985                                3816                        3838  \n",
      "                male                               4089                                 4868                                3256                        3274  \n",
      "age 70 to 74    female                             2489                                 4013                                2217                        2227  \n",
      "                male                               2318                                 3128                                1847                        1838  \n",
      "age 75 to 79    female                             2056                                 3298                                1763                        1768  \n",
      "                male                               1732                                 2381                                1337                        1332  \n",
      "age 80 or older female                             3042                                 4350                                2393                        2359  \n",
      "                male                               2025                                 2690                                1528                        1519  \n"
     ]
    }
   ],
   "source": [
    "# Analyze missingness by AgeCategory and Sex\n",
    "missing_by_age_sex = df.groupby(['AgeCategory', 'Sex'])[missing_indicator_cols].sum()\n",
    "print(\"Missing Data by Age Category and Sex:\")\n",
    "print(missing_by_age_sex)"
   ]
  },
  {
   "cell_type": "code",
   "execution_count": 23,
   "metadata": {},
   "outputs": [
    {
     "name": "stdout",
     "output_type": "stream",
     "text": [
      "Proportion of Missing Data in LastCheckupTime by Age Category:\n",
      "                  sum  count  proportion_missing\n",
      "AgeCategory                                     \n",
      "age 18 to 24     1131  26935                4.20\n",
      "age 25 to 29      784  21990                3.57\n",
      "age 30 to 34      787  25799                3.05\n",
      "age 35 to 39      690  28512                2.42\n",
      "age 40 to 44      670  29928                2.24\n",
      "age 45 to 49      534  28518                1.87\n",
      "age 50 to 54      486  33619                1.45\n",
      "age 55 to 59      431  36804                1.17\n",
      "age 60 to 64      542  44494                1.22\n",
      "age 65 to 69      961  56153                1.71\n",
      "age 70 to 74      393  43467                0.90\n",
      "age 75 to 79      296  32507                0.91\n",
      "age 80 or older   596  36249                1.64\n"
     ]
    }
   ],
   "source": [
    "# Calculate the count of missing values and total rows for each AgeCategory\n",
    "missing_by_time = df.groupby('AgeCategory')['LastCheckupTime_missing_indicator'].agg(['sum', 'count'])\n",
    "\n",
    "# Calculate the proportion of missing data\n",
    "missing_by_time['proportion_missing'] = (missing_by_time['sum'] / missing_by_time['count']) * 100\n",
    "\n",
    "# Display results\n",
    "print(\"Proportion of Missing Data in LastCheckupTime by Age Category:\")\n",
    "print(missing_by_time[['sum', 'count', 'proportion_missing']])\n"
   ]
  },
  {
   "cell_type": "markdown",
   "metadata": {},
   "source": [
    "_Critical age ranges_\n",
    "\n",
    "    age 55 to 59 | 431\n",
    "\n",
    "    age 60 to 64 | 542\n",
    "\n",
    "    age 65 to 69 | 961\n",
    "\n",
    "\n",
    "\n",
    "Slow increase in missing data wrt LastCheckupTime from age 55-59 to age 60-64. Mid-life crisis?\n",
    "\n",
    "Sharp rise noted in missing data regarding LastCheckupTime among individuals aged 65 to 69. "
   ]
  },
  {
   "cell_type": "code",
   "execution_count": 24,
   "metadata": {},
   "outputs": [
    {
     "name": "stdout",
     "output_type": "stream",
     "text": [
      "Missing Data in GeneralHealth by Comorbidity Count:\n",
      "ComorbidityCount\n",
      "0     300\n",
      "1     211\n",
      "2     187\n",
      "3     162\n",
      "4     118\n",
      "5      80\n",
      "6      44\n",
      "7      41\n",
      "8      24\n",
      "9       8\n",
      "10     12\n",
      "11      1\n",
      "12      1\n",
      "13      4\n",
      "14      0\n",
      "15      0\n",
      "16      0\n",
      "Name: GeneralHealth_missing_indicator, dtype: int64\n"
     ]
    }
   ],
   "source": [
    "# Investigate missing data in GeneralHealth and correlate with other features like ComorbidityCount\n",
    "general_health_missing = df.groupby('ComorbidityCount')['GeneralHealth_missing_indicator'].sum()\n",
    "print(\"Missing Data in GeneralHealth by Comorbidity Count:\")\n",
    "print(general_health_missing)\n"
   ]
  },
  {
   "cell_type": "code",
   "execution_count": 25,
   "metadata": {},
   "outputs": [
    {
     "name": "stdout",
     "output_type": "stream",
     "text": [
      "Missing Data in Health-related Features by RiskClassification (as percentages):\n",
      "                    HadHeartAttack_missing_indicator  HadAsthma_missing_indicator  HadStroke_missing_indicator  HadDiabetes_missing_indicator  HadCOPD_missing_indicator\n",
      "RiskClassification                                                                                                                                                      \n",
      "High                                            1.01                         0.50                         0.55                           0.30                       0.75\n",
      "Low                                             0.48                         0.38                         0.27                           0.26                       0.36\n",
      "Moderate                                        0.63                         0.34                         0.28                           0.20                       0.44\n"
     ]
    }
   ],
   "source": [
    "# Investigate missing data in health-related columns by category (e.g., RiskClassification)\n",
    "health_columns_missing = [\n",
    "    'HadHeartAttack_missing_indicator', 'HadAsthma_missing_indicator', 'HadStroke_missing_indicator', \n",
    "    'HadDiabetes_missing_indicator', 'HadCOPD_missing_indicator'\n",
    "]\n",
    "\n",
    "# Group by RiskClassification and calculate missing data sums\n",
    "missing_health_data = df.groupby('RiskClassification')[health_columns_missing].sum()\n",
    "\n",
    "# Calculate the total number of entries per RiskClassification category\n",
    "total_entries = df.groupby('RiskClassification').size()\n",
    "\n",
    "# Calculate the percentage of missing values by dividing the count of missing values by the total entries\n",
    "missing_health_data_percentage = missing_health_data.div(total_entries, axis=0) * 100\n",
    "\n",
    "# Print the result\n",
    "print(\"Missing Data in Health-related Features by RiskClassification (as percentages):\")\n",
    "print(missing_health_data_percentage)\n"
   ]
  },
  {
   "cell_type": "markdown",
   "metadata": {},
   "source": []
  },
  {
   "cell_type": "markdown",
   "metadata": {},
   "source": []
  },
  {
   "cell_type": "markdown",
   "metadata": {},
   "source": [
    "# Investigating the missingness"
   ]
  },
  {
   "cell_type": "code",
   "execution_count": 26,
   "metadata": {},
   "outputs": [
    {
     "data": {
      "application/vnd.plotly.v1+json": {
       "config": {
        "plotlyServerURL": "https://plot.ly"
       },
       "data": [
        {
         "colorbar": {
          "title": {
           "text": "Correlation Coefficient"
          }
         },
         "colorscale": [
          [
           0,
           "#440154"
          ],
          [
           0.1111111111111111,
           "#482878"
          ],
          [
           0.2222222222222222,
           "#3e4989"
          ],
          [
           0.3333333333333333,
           "#31688e"
          ],
          [
           0.4444444444444444,
           "#26828e"
          ],
          [
           0.5555555555555556,
           "#1f9e89"
          ],
          [
           0.6666666666666666,
           "#35b779"
          ],
          [
           0.7777777777777778,
           "#6ece58"
          ],
          [
           0.8888888888888888,
           "#b5de2b"
          ],
          [
           1,
           "#fde725"
          ]
         ],
         "type": "heatmap",
         "x": [
          "GeneralHealth_missing_indicator",
          "LastCheckupTime_missing_indicator",
          "PhysicalActivities_missing_indicator",
          "RemovedTeeth_missing_indicator",
          "HadHeartAttack_missing_indicator",
          "HadAngina_missing_indicator",
          "HadStroke_missing_indicator",
          "HadAsthma_missing_indicator",
          "HadSkinCancer_missing_indicator",
          "HadCOPD_missing_indicator",
          "HadDepressiveDisorder_missing_indicator",
          "HadKidneyDisease_missing_indicator",
          "HadArthritis_missing_indicator",
          "HadDiabetes_missing_indicator",
          "DeafOrHardOfHearing_missing_indicator",
          "BlindOrVisionDifficulty_missing_indicator",
          "DifficultyConcentrating_missing_indicator",
          "DifficultyWalking_missing_indicator",
          "DifficultyDressingBathing_missing_indicator",
          "DifficultyErrands_missing_indicator",
          "SmokerStatus_missing_indicator",
          "ECigaretteUsage_missing_indicator",
          "RaceEthnicityCategory_missing_indicator",
          "AgeCategory_missing_indicator",
          "ChestScan_missing_indicator",
          "AlcoholDrinkers_missing_indicator",
          "HIVTesting_missing_indicator",
          "FluVaxLast12_missing_indicator",
          "PneumoVaxEver_missing_indicator",
          "TetanusLast10Tdap_missing_indicator",
          "HighRiskLastYear_missing_indicator",
          "CovidPos_missing_indicator"
         ],
         "y": [
          "GeneralHealth_missing_indicator",
          "LastCheckupTime_missing_indicator",
          "PhysicalActivities_missing_indicator",
          "RemovedTeeth_missing_indicator",
          "HadHeartAttack_missing_indicator",
          "HadAngina_missing_indicator",
          "HadStroke_missing_indicator",
          "HadAsthma_missing_indicator",
          "HadSkinCancer_missing_indicator",
          "HadCOPD_missing_indicator",
          "HadDepressiveDisorder_missing_indicator",
          "HadKidneyDisease_missing_indicator",
          "HadArthritis_missing_indicator",
          "HadDiabetes_missing_indicator",
          "DeafOrHardOfHearing_missing_indicator",
          "BlindOrVisionDifficulty_missing_indicator",
          "DifficultyConcentrating_missing_indicator",
          "DifficultyWalking_missing_indicator",
          "DifficultyDressingBathing_missing_indicator",
          "DifficultyErrands_missing_indicator",
          "SmokerStatus_missing_indicator",
          "ECigaretteUsage_missing_indicator",
          "RaceEthnicityCategory_missing_indicator",
          "AgeCategory_missing_indicator",
          "ChestScan_missing_indicator",
          "AlcoholDrinkers_missing_indicator",
          "HIVTesting_missing_indicator",
          "FluVaxLast12_missing_indicator",
          "PneumoVaxEver_missing_indicator",
          "TetanusLast10Tdap_missing_indicator",
          "HighRiskLastYear_missing_indicator",
          "CovidPos_missing_indicator"
         ],
         "z": [
          [
           1,
           0.048741618109544325,
           0.05199272260907594,
           0.039013301494404504,
           0.04722341599405994,
           0.04313409899284139,
           0.04927261346370415,
           0.04784846399188895,
           0.03769910916083927,
           0.05254164426517979,
           0.041978910615630666,
           0.04563947205272231,
           0.045350034046147125,
           0.04862082344822281,
           0.01742039119679179,
           0.018186972716098496,
           0.01947270904919154,
           0.016977501362150524,
           0.01590077778780693,
           0.016938135985998068,
           0.015003407977157112,
           0.014559269176799668,
           0.03289284763565491,
           0.02635494256409236,
           0.016670696697831913,
           0.01400695892391455,
           0.012853297627906045,
           0.0120301004117919,
           0.00975282840401289,
           0.013781791898051721,
           0.010507013158586556,
           0.010442500846006042
          ],
          [
           0.048741618109544325,
           1,
           0.050346894317545306,
           0.04478255642957277,
           0.041184804850079644,
           0.03120880304875576,
           0.04058283724558992,
           0.03564831066291264,
           0.027482779829697133,
           0.036753688393272095,
           0.0399926870603094,
           0.03778880089244778,
           0.03641173861578345,
           0.0468140623622434,
           0.025711707245808065,
           0.025562216670100384,
           0.029467520386996595,
           0.024458068815756084,
           0.023456941017488398,
           0.026656154999495817,
           0.025941382276831237,
           0.0251585205161278,
           0.03495051179532654,
           0.036771159242238144,
           0.028725340607796686,
           0.02830121817199245,
           0.023327923194018604,
           0.026360508754935213,
           0.03503712154078356,
           0.031149697679763003,
           0.02269676268642989,
           0.02232233894237877
          ],
          [
           0.05199272260907594,
           0.050346894317545306,
           1,
           0.0499890789691024,
           0.05975260636390463,
           0.04793910644295305,
           0.07348366512907208,
           0.06269672703642414,
           0.055100312524427146,
           0.07087105162589413,
           0.06272500970172813,
           0.06961564578317313,
           0.06804215203282409,
           0.0816320049549622,
           0.02840567025544305,
           0.02649405119262167,
           0.02736245451225675,
           0.025982221627050054,
           0.025270739604170013,
           0.02458922658806781,
           0.026370416877604188,
           0.02622187034656419,
           0.03374064595863139,
           0.03279182808103404,
           0.023933681429199907,
           0.024185467609257293,
           0.022493635522365673,
           0.02327036296410737,
           0.017931561205066806,
           0.021041980933142038,
           0.021606380815224275,
           0.019667637360448728
          ],
          [
           0.039013301494404504,
           0.04478255642957277,
           0.0499890789691024,
           1,
           0.046028701578445096,
           0.047489304055310766,
           0.04360722058551482,
           0.03984450788231743,
           0.03983858860681837,
           0.04162277538908991,
           0.04218663235544702,
           0.04433856383980183,
           0.040534610904014126,
           0.04380559082601539,
           0.028266618893536228,
           0.02779134603648403,
           0.030109046805191584,
           0.02909424562884934,
           0.02765928439582036,
           0.029118743001115274,
           0.03589281174978689,
           0.03458899250094358,
           0.03973469829206449,
           0.0538153852846332,
           0.048225288844654955,
           0.03954347344854424,
           0.03738584068778509,
           0.03437904669858135,
           0.019856952153566112,
           0.0365486109703667,
           0.03176760200168509,
           0.029772146730940266
          ],
          [
           0.04722341599405994,
           0.041184804850079644,
           0.05975260636390463,
           0.046028701578445096,
           1,
           0.2148487227215114,
           0.21740677954945362,
           0.13782766205860145,
           0.11452738385138247,
           0.139433848831127,
           0.12594990466215125,
           0.12185688071072104,
           0.10538096098525025,
           0.14441853501027938,
           0.028927484958945333,
           0.028166182736988326,
           0.032960563083498345,
           0.0288319783590434,
           0.02824249118552706,
           0.028608221184987282,
           0.02747847604571395,
           0.026870378682458042,
           0.0400309839503544,
           0.039382928857342146,
           0.030242900185007148,
           0.02781874110121855,
           0.027414556324232075,
           0.027961887402452233,
           0.021305718294857716,
           0.025945447152829107,
           0.024514355391032912,
           0.024315873158047004
          ],
          [
           0.04313409899284139,
           0.03120880304875576,
           0.04793910644295305,
           0.047489304055310766,
           0.2148487227215114,
           1,
           0.17554121970834963,
           0.12366246328440669,
           0.11724552352959468,
           0.13883626143608813,
           0.11194908217128711,
           0.13545323975259746,
           0.10315769198426779,
           0.13249017239133587,
           0.020288480675157858,
           0.01859046111701563,
           0.024461919181000845,
           0.021875615001730662,
           0.017974403823184004,
           0.020003025801133844,
           0.015022487632461466,
           0.013814371906787972,
           0.029497787873819955,
           0.029145962197423405,
           0.02777151930473412,
           0.014406937461214872,
           0.024450130080910695,
           0.014302431087896873,
           0.011753763388977774,
           0.022310178682746918,
           0.010948698036182966,
           0.011550982600563984
          ],
          [
           0.04927261346370415,
           0.04058283724558992,
           0.07348366512907208,
           0.04360722058551482,
           0.21740677954945362,
           0.17554121970834963,
           1,
           0.20107424382412606,
           0.14807447859220024,
           0.1762226610717163,
           0.14935545136796544,
           0.1670413748537334,
           0.14866761706124268,
           0.20605283605242256,
           0.026818042443965937,
           0.026052670162787603,
           0.03064893252291218,
           0.02753730788217357,
           0.027139053732280524,
           0.026403059204337925,
           0.02324357667102947,
           0.021399220124900146,
           0.044474167725084994,
           0.048929088864455204,
           0.02795232053623893,
           0.0220794299609916,
           0.0217605998463539,
           0.021604854772408776,
           0.017927093492951823,
           0.020385913441330773,
           0.020427656349952514,
           0.019743510665005414
          ],
          [
           0.04784846399188895,
           0.03564831066291264,
           0.06269672703642414,
           0.03984450788231743,
           0.13782766205860145,
           0.12366246328440669,
           0.20107424382412606,
           1,
           0.14281414637248283,
           0.19709554551020456,
           0.1515367176178884,
           0.15494548623644364,
           0.14245936696306383,
           0.19997542931461348,
           0.023947978554889626,
           0.021845662704858663,
           0.02703432924529777,
           0.023493980613751093,
           0.023282654285319792,
           0.023301765645510907,
           0.021631717585405545,
           0.019890988731972644,
           0.04171604379980371,
           0.048027739685801984,
           0.02941467732859593,
           0.019577310941516473,
           0.02330531256653183,
           0.019456207837301686,
           0.023100281099038035,
           0.021957540768217116,
           0.016045741610885726,
           0.01663827456291371
          ],
          [
           0.03769910916083927,
           0.027482779829697133,
           0.055100312524427146,
           0.03983858860681837,
           0.11452738385138247,
           0.11724552352959468,
           0.14807447859220024,
           0.14281414637248283,
           1,
           0.14175257280249087,
           0.11913069955053728,
           0.13618092529604425,
           0.11863159682175474,
           0.15669899762852255,
           0.01939693444243405,
           0.01906461228635973,
           0.02220051616749181,
           0.019154278617088544,
           0.01819792953988036,
           0.018147949831471503,
           0.016586857166979208,
           0.014820585076086594,
           0.032243960689816005,
           0.03612082622990551,
           0.023320034089690914,
           0.015601162488694758,
           0.021439103786827486,
           0.01474658756368879,
           0.011843846790915609,
           0.02151318247029519,
           0.010927142905530367,
           0.012605993372621496
          ],
          [
           0.05254164426517979,
           0.036753688393272095,
           0.07087105162589413,
           0.04162277538908991,
           0.139433848831127,
           0.13883626143608813,
           0.1762226610717163,
           0.19709554551020456,
           0.14175257280249087,
           1,
           0.1545197999253479,
           0.1673105972875833,
           0.16128494257956053,
           0.2020829680294486,
           0.02818316186776893,
           0.02722072749534461,
           0.03205259341674795,
           0.02640333444835087,
           0.025670436535051803,
           0.028036704266599762,
           0.025555696462131416,
           0.022545837188248288,
           0.04349291193264796,
           0.04811871389912772,
           0.03323457683097436,
           0.021313324949735667,
           0.026576569358490964,
           0.022063888355319687,
           0.023941878798565845,
           0.027151211579248463,
           0.01942269656776634,
           0.019127337538542687
          ],
          [
           0.041978910615630666,
           0.0399926870603094,
           0.06272500970172813,
           0.04218663235544702,
           0.12594990466215125,
           0.11194908217128711,
           0.14935545136796544,
           0.1515367176178884,
           0.11913069955053728,
           0.1545197999253479,
           1,
           0.14671588036729405,
           0.14870572769306922,
           0.1816431620909025,
           0.024190593409625604,
           0.023986477680233962,
           0.04063757417585246,
           0.026134921544474773,
           0.025252583600630277,
           0.03151003497230074,
           0.023754870497437873,
           0.02262079647162893,
           0.049411814533597456,
           0.0527903707415252,
           0.0301785076015576,
           0.024709942809430733,
           0.023863977433464644,
           0.021769711637190565,
           0.029725389737132592,
           0.02619253756575459,
           0.018669137124141984,
           0.018298743070399727
          ],
          [
           0.04563947205272231,
           0.03778880089244778,
           0.06961564578317313,
           0.04433856383980183,
           0.12185688071072104,
           0.13545323975259746,
           0.1670413748537334,
           0.15494548623644364,
           0.13618092529604425,
           0.1673105972875833,
           0.14671588036729405,
           1,
           0.1671551608875324,
           0.21806766637911285,
           0.02754843095321551,
           0.0273083054249852,
           0.03346979824482623,
           0.027532128245860446,
           0.02688673275923442,
           0.028437369861586227,
           0.024668897961298286,
           0.021968172693134357,
           0.04319707186484201,
           0.046539886613770565,
           0.028304472093887645,
           0.02192839510616153,
           0.025478544445424987,
           0.02054795719835334,
           0.017682839175486326,
           0.023511353829387058,
           0.01989733921545969,
           0.020131312751370034
          ],
          [
           0.045350034046147125,
           0.03641173861578345,
           0.06804215203282409,
           0.040534610904014126,
           0.10538096098525025,
           0.10315769198426779,
           0.14866761706124268,
           0.14245936696306383,
           0.11863159682175474,
           0.16128494257956053,
           0.14870572769306922,
           0.1671551608875324,
           1,
           0.20224080042405895,
           0.026149610399502195,
           0.022814019902559057,
           0.029379398788874456,
           0.024349300034173876,
           0.022905673484229994,
           0.022372815096654328,
           0.02098737208725389,
           0.019183882722738407,
           0.04194015156831927,
           0.04430359030150744,
           0.030075687360654895,
           0.018401659030750767,
           0.022887387714571886,
           0.019621038424981016,
           0.023339917337067927,
           0.027301128490496537,
           0.016081822694022804,
           0.015061628812595002
          ],
          [
           0.04862082344822281,
           0.0468140623622434,
           0.0816320049549622,
           0.04380559082601539,
           0.14441853501027938,
           0.13249017239133587,
           0.20605283605242256,
           0.19997542931461348,
           0.15669899762852255,
           0.2020829680294486,
           0.1816431620909025,
           0.21806766637911285,
           0.20224080042405895,
           1,
           0.03311495712843721,
           0.03238440785028555,
           0.03577008264590674,
           0.0332076775417414,
           0.03352231309910385,
           0.03394972867621021,
           0.0309125727414114,
           0.029910793294677017,
           0.054760060013959465,
           0.0642459782518104,
           0.03236415938993286,
           0.029719191301127025,
           0.0269071205851677,
           0.028922958609005314,
           0.02570958038349881,
           0.027927215582275164,
           0.02536109955360724,
           0.026861812743729212
          ],
          [
           0.01742039119679179,
           0.025711707245808065,
           0.02840567025544305,
           0.028266618893536228,
           0.028927484958945333,
           0.020288480675157858,
           0.026818042443965937,
           0.023947978554889626,
           0.01939693444243405,
           0.02818316186776893,
           0.024190593409625604,
           0.02754843095321551,
           0.026149610399502195,
           0.03311495712843721,
           1,
           0.9058392306274041,
           0.8491759729578934,
           0.8513501405651585,
           0.8523422000842327,
           0.8213505071289049,
           0.6896216209779633,
           0.6882139176575881,
           0.04958099142649902,
           0.06487521746236202,
           0.5365963101779316,
           0.5952353678741995,
           0.4875371406644942,
           0.5903799194454146,
           0.4437807574695441,
           0.4267764008061175,
           0.5663975348129098,
           0.5656249360048297
          ],
          [
           0.018186972716098496,
           0.025562216670100384,
           0.02649405119262167,
           0.02779134603648403,
           0.028166182736988326,
           0.01859046111701563,
           0.026052670162787603,
           0.021845662704858663,
           0.01906461228635973,
           0.02722072749534461,
           0.023986477680233962,
           0.0273083054249852,
           0.022814019902559057,
           0.03238440785028555,
           0.9058392306274041,
           1,
           0.8843222632894079,
           0.8862906220847051,
           0.8870923412405389,
           0.8554071706452328,
           0.7168015185405566,
           0.7150690111399847,
           0.050785162714896366,
           0.06438037867199116,
           0.5577940976174077,
           0.6181979496019456,
           0.5059239003801502,
           0.6135640156963822,
           0.46151461851902714,
           0.44359873531187793,
           0.5890043472277517,
           0.5879980054015113
          ],
          [
           0.01947270904919154,
           0.029467520386996595,
           0.02736245451225675,
           0.030109046805191584,
           0.032960563083498345,
           0.024461919181000845,
           0.03064893252291218,
           0.02703432924529777,
           0.02220051616749181,
           0.03205259341674795,
           0.04063757417585246,
           0.03346979824482623,
           0.029379398788874456,
           0.03577008264590674,
           0.8491759729578934,
           0.8843222632894079,
           1,
           0.8862096582221795,
           0.8854519448500984,
           0.8569342978986768,
           0.7153180754611314,
           0.7126244713072599,
           0.054140162662297944,
           0.06668793470470442,
           0.5595118590928136,
           0.6176407410556621,
           0.5071641027626855,
           0.6122707694188354,
           0.463266370893435,
           0.444999026805452,
           0.5869521290353693,
           0.5859687763223516
          ],
          [
           0.016977501362150524,
           0.024458068815756084,
           0.025982221627050054,
           0.02909424562884934,
           0.0288319783590434,
           0.021875615001730662,
           0.02753730788217357,
           0.023493980613751093,
           0.019154278617088544,
           0.02640333444835087,
           0.026134921544474773,
           0.027532128245860446,
           0.024349300034173876,
           0.0332076775417414,
           0.8513501405651585,
           0.8862906220847051,
           0.8862096582221795,
           1,
           0.9425356462734858,
           0.9074276229839298,
           0.7585736060794847,
           0.7562111970209894,
           0.05017325661629944,
           0.06611551829133916,
           0.5905466019135652,
           0.6533973749933834,
           0.5355969858954304,
           0.6481019991625826,
           0.4875463967417778,
           0.4695786979948309,
           0.6222024806047405,
           0.6214286694326441
          ],
          [
           0.01590077778780693,
           0.023456941017488398,
           0.025270739604170013,
           0.02765928439582036,
           0.02824249118552706,
           0.017974403823184004,
           0.027139053732280524,
           0.023282654285319792,
           0.01819792953988036,
           0.025670436535051803,
           0.025252583600630277,
           0.02688673275923442,
           0.022905673484229994,
           0.03352231309910385,
           0.8523422000842327,
           0.8870923412405389,
           0.8854519448500984,
           0.9425356462734858,
           1,
           0.9406220399452894,
           0.785236292591571,
           0.7836548465477716,
           0.05027329791045265,
           0.06673612665857981,
           0.6101121557631993,
           0.6766923184881904,
           0.553960922826953,
           0.6717973782511818,
           0.5049193222876104,
           0.4853535963019735,
           0.6449862046792706,
           0.6441226874265363
          ],
          [
           0.016938135985998068,
           0.026656154999495817,
           0.02458922658806781,
           0.029118743001115274,
           0.028608221184987282,
           0.020003025801133844,
           0.026403059204337925,
           0.023301765645510907,
           0.018147949831471503,
           0.028036704266599762,
           0.03151003497230074,
           0.028437369861586227,
           0.022372815096654328,
           0.03394972867621021,
           0.8213505071289049,
           0.8554071706452328,
           0.8569342978986768,
           0.9074276229839298,
           0.9406220399452894,
           1,
           0.7936152738741656,
           0.7921137229822973,
           0.05205786662339245,
           0.06855563230262657,
           0.6181268160419312,
           0.6842524066043364,
           0.5602287646056071,
           0.678982561538201,
           0.5116673161342415,
           0.49136688315401794,
           0.6521524330957417,
           0.6507788863626208
          ],
          [
           0.015003407977157112,
           0.025941382276831237,
           0.026370416877604188,
           0.03589281174978689,
           0.02747847604571395,
           0.015022487632461466,
           0.02324357667102947,
           0.021631717585405545,
           0.016586857166979208,
           0.025555696462131416,
           0.023754870497437873,
           0.024668897961298286,
           0.02098737208725389,
           0.0309125727414114,
           0.6896216209779633,
           0.7168015185405566,
           0.7153180754611314,
           0.7585736060794847,
           0.785236292591571,
           0.7936152738741656,
           1,
           0.91054643171819,
           0.056679844598291604,
           0.08197557960984835,
           0.7078372915288828,
           0.786873768686459,
           0.6425834237769014,
           0.7774210390355736,
           0.5857681261827643,
           0.5643414085854102,
           0.7458721119554315,
           0.7443846442807833
          ],
          [
           0.014559269176799668,
           0.0251585205161278,
           0.02622187034656419,
           0.03458899250094358,
           0.026870378682458042,
           0.013814371906787972,
           0.021399220124900146,
           0.019890988731972644,
           0.014820585076086594,
           0.022545837188248288,
           0.02262079647162893,
           0.021968172693134357,
           0.019183882722738407,
           0.029910793294677017,
           0.6882139176575881,
           0.7150690111399847,
           0.7126244713072599,
           0.7562111970209894,
           0.7836548465477716,
           0.7921137229822973,
           0.91054643171819,
           1,
           0.0564285321704061,
           0.0771280300468304,
           0.7417152813268404,
           0.8257020833558111,
           0.6728581521648155,
           0.8164341510481016,
           0.6140553727180903,
           0.5912642855790449,
           0.7845414963286016,
           0.7816487668965741
          ],
          [
           0.03289284763565491,
           0.03495051179532654,
           0.03374064595863139,
           0.03973469829206449,
           0.0400309839503544,
           0.029497787873819955,
           0.044474167725084994,
           0.04171604379980371,
           0.032243960689816005,
           0.04349291193264796,
           0.049411814533597456,
           0.04319707186484201,
           0.04194015156831927,
           0.054760060013959465,
           0.04958099142649902,
           0.050785162714896366,
           0.054140162662297944,
           0.05017325661629944,
           0.05027329791045265,
           0.05205786662339245,
           0.056679844598291604,
           0.0564285321704061,
           1,
           0.1647002309032963,
           0.05080986060629226,
           0.06021665747684448,
           0.050558640386131254,
           0.057385318941200025,
           0.045873270322747406,
           0.047273911532760025,
           0.053514464057541775,
           0.055009836920506386
          ],
          [
           0.02635494256409236,
           0.036771159242238144,
           0.03279182808103404,
           0.0538153852846332,
           0.039382928857342146,
           0.029145962197423405,
           0.048929088864455204,
           0.048027739685801984,
           0.03612082622990551,
           0.04811871389912772,
           0.0527903707415252,
           0.046539886613770565,
           0.04430359030150744,
           0.0642459782518104,
           0.06487521746236202,
           0.06438037867199116,
           0.06668793470470442,
           0.06611551829133916,
           0.06673612665857981,
           0.06855563230262657,
           0.08197557960984835,
           0.0771280300468304,
           0.1647002309032963,
           1,
           0.07254448751827107,
           0.08520764534428307,
           0.06915628282666993,
           0.08025758597157402,
           0.06115824895074479,
           0.06397366820419914,
           0.07554091995215874,
           0.07720864008799116
          ],
          [
           0.016670696697831913,
           0.028725340607796686,
           0.023933681429199907,
           0.048225288844654955,
           0.030242900185007148,
           0.02777151930473412,
           0.02795232053623893,
           0.02941467732859593,
           0.023320034089690914,
           0.03323457683097436,
           0.0301785076015576,
           0.028304472093887645,
           0.030075687360654895,
           0.03236415938993286,
           0.5365963101779316,
           0.5577940976174077,
           0.5595118590928136,
           0.5905466019135652,
           0.6101121557631993,
           0.6181268160419312,
           0.7078372915288828,
           0.7417152813268404,
           0.05080986060629226,
           0.07254448751827107,
           1,
           0.7387081879785082,
           0.621107684993935,
           0.7355232615204382,
           0.5671537075650567,
           0.5531308121795048,
           0.7008696549525215,
           0.7003443867102898
          ],
          [
           0.01400695892391455,
           0.02830121817199245,
           0.024185467609257293,
           0.03954347344854424,
           0.02781874110121855,
           0.014406937461214872,
           0.0220794299609916,
           0.019577310941516473,
           0.015601162488694758,
           0.021313324949735667,
           0.024709942809430733,
           0.02192839510616153,
           0.018401659030750767,
           0.029719191301127025,
           0.5952353678741995,
           0.6181979496019456,
           0.6176407410556621,
           0.6533973749933834,
           0.6766923184881904,
           0.6842524066043364,
           0.786873768686459,
           0.8257020833558111,
           0.06021665747684448,
           0.08520764534428307,
           0.7387081879785082,
           1,
           0.7211748472514546,
           0.8726149870082832,
           0.6563551498571429,
           0.6332668821269162,
           0.8390753430183174,
           0.8368120658573817
          ],
          [
           0.012853297627906045,
           0.023327923194018604,
           0.022493635522365673,
           0.03738584068778509,
           0.027414556324232075,
           0.024450130080910695,
           0.0217605998463539,
           0.02330531256653183,
           0.021439103786827486,
           0.026576569358490964,
           0.023863977433464644,
           0.025478544445424987,
           0.022887387714571886,
           0.0269071205851677,
           0.4875371406644942,
           0.5059239003801502,
           0.5071641027626855,
           0.5355969858954304,
           0.553960922826953,
           0.5602287646056071,
           0.6425834237769014,
           0.6728581521648155,
           0.050558640386131254,
           0.06915628282666993,
           0.621107684993935,
           0.7211748472514546,
           1,
           0.7715575003692695,
           0.6133447178362045,
           0.601770124147878,
           0.7869855913004395,
           0.7851348075152671
          ],
          [
           0.0120301004117919,
           0.026360508754935213,
           0.02327036296410737,
           0.03437904669858135,
           0.027961887402452233,
           0.014302431087896873,
           0.021604854772408776,
           0.019456207837301686,
           0.01474658756368879,
           0.022063888355319687,
           0.021769711637190565,
           0.02054795719835334,
           0.019621038424981016,
           0.028922958609005314,
           0.5903799194454146,
           0.6135640156963822,
           0.6122707694188354,
           0.6481019991625826,
           0.6717973782511818,
           0.678982561538201,
           0.7774210390355736,
           0.8164341510481016,
           0.057385318941200025,
           0.08025758597157402,
           0.7355232615204382,
           0.8726149870082832,
           0.7715575003692695,
           1,
           0.7122107947526825,
           0.679501800465609,
           0.892678623495519,
           0.8944986881759888
          ],
          [
           0.00975282840401289,
           0.03503712154078356,
           0.017931561205066806,
           0.019856952153566112,
           0.021305718294857716,
           0.011753763388977774,
           0.017927093492951823,
           0.023100281099038035,
           0.011843846790915609,
           0.023941878798565845,
           0.029725389737132592,
           0.017682839175486326,
           0.023339917337067927,
           0.02570958038349881,
           0.4437807574695441,
           0.46151461851902714,
           0.463266370893435,
           0.4875463967417778,
           0.5049193222876104,
           0.5116673161342415,
           0.5857681261827643,
           0.6140553727180903,
           0.045873270322747406,
           0.06115824895074479,
           0.5671537075650567,
           0.6563551498571429,
           0.6133447178362045,
           0.7122107947526825,
           1,
           0.5607383754396561,
           0.6900443281231166,
           0.6909773686940152
          ],
          [
           0.013781791898051721,
           0.031149697679763003,
           0.021041980933142038,
           0.0365486109703667,
           0.025945447152829107,
           0.022310178682746918,
           0.020385913441330773,
           0.021957540768217116,
           0.02151318247029519,
           0.027151211579248463,
           0.02619253756575459,
           0.023511353829387058,
           0.027301128490496537,
           0.027927215582275164,
           0.4267764008061175,
           0.44359873531187793,
           0.444999026805452,
           0.4695786979948309,
           0.4853535963019735,
           0.49136688315401794,
           0.5643414085854102,
           0.5912642855790449,
           0.047273911532760025,
           0.06397366820419914,
           0.5531308121795048,
           0.6332668821269162,
           0.601770124147878,
           0.679501800465609,
           0.5607383754396561,
           1,
           0.6739871636747938,
           0.6737494243829099
          ],
          [
           0.010507013158586556,
           0.02269676268642989,
           0.021606380815224275,
           0.03176760200168509,
           0.024514355391032912,
           0.010948698036182966,
           0.020427656349952514,
           0.016045741610885726,
           0.010927142905530367,
           0.01942269656776634,
           0.018669137124141984,
           0.01989733921545969,
           0.016081822694022804,
           0.02536109955360724,
           0.5663975348129098,
           0.5890043472277517,
           0.5869521290353693,
           0.6222024806047405,
           0.6449862046792706,
           0.6521524330957417,
           0.7458721119554315,
           0.7845414963286016,
           0.053514464057541775,
           0.07554091995215874,
           0.7008696549525215,
           0.8390753430183174,
           0.7869855913004395,
           0.892678623495519,
           0.6900443281231166,
           0.6739871636747938,
           1,
           0.964704191205908
          ],
          [
           0.010442500846006042,
           0.02232233894237877,
           0.019667637360448728,
           0.029772146730940266,
           0.024315873158047004,
           0.011550982600563984,
           0.019743510665005414,
           0.01663827456291371,
           0.012605993372621496,
           0.019127337538542687,
           0.018298743070399727,
           0.020131312751370034,
           0.015061628812595002,
           0.026861812743729212,
           0.5656249360048297,
           0.5879980054015113,
           0.5859687763223516,
           0.6214286694326441,
           0.6441226874265363,
           0.6507788863626208,
           0.7443846442807833,
           0.7816487668965741,
           0.055009836920506386,
           0.07720864008799116,
           0.7003443867102898,
           0.8368120658573817,
           0.7851348075152671,
           0.8944986881759888,
           0.6909773686940152,
           0.6737494243829099,
           0.964704191205908,
           1
          ]
         ]
        }
       ],
       "layout": {
        "autosize": true,
        "height": 600,
        "template": {
         "data": {
          "bar": [
           {
            "error_x": {
             "color": "#2a3f5f"
            },
            "error_y": {
             "color": "#2a3f5f"
            },
            "marker": {
             "line": {
              "color": "#E5ECF6",
              "width": 0.5
             },
             "pattern": {
              "fillmode": "overlay",
              "size": 10,
              "solidity": 0.2
             }
            },
            "type": "bar"
           }
          ],
          "barpolar": [
           {
            "marker": {
             "line": {
              "color": "#E5ECF6",
              "width": 0.5
             },
             "pattern": {
              "fillmode": "overlay",
              "size": 10,
              "solidity": 0.2
             }
            },
            "type": "barpolar"
           }
          ],
          "carpet": [
           {
            "aaxis": {
             "endlinecolor": "#2a3f5f",
             "gridcolor": "white",
             "linecolor": "white",
             "minorgridcolor": "white",
             "startlinecolor": "#2a3f5f"
            },
            "baxis": {
             "endlinecolor": "#2a3f5f",
             "gridcolor": "white",
             "linecolor": "white",
             "minorgridcolor": "white",
             "startlinecolor": "#2a3f5f"
            },
            "type": "carpet"
           }
          ],
          "choropleth": [
           {
            "colorbar": {
             "outlinewidth": 0,
             "ticks": ""
            },
            "type": "choropleth"
           }
          ],
          "contour": [
           {
            "colorbar": {
             "outlinewidth": 0,
             "ticks": ""
            },
            "colorscale": [
             [
              0,
              "#0d0887"
             ],
             [
              0.1111111111111111,
              "#46039f"
             ],
             [
              0.2222222222222222,
              "#7201a8"
             ],
             [
              0.3333333333333333,
              "#9c179e"
             ],
             [
              0.4444444444444444,
              "#bd3786"
             ],
             [
              0.5555555555555556,
              "#d8576b"
             ],
             [
              0.6666666666666666,
              "#ed7953"
             ],
             [
              0.7777777777777778,
              "#fb9f3a"
             ],
             [
              0.8888888888888888,
              "#fdca26"
             ],
             [
              1,
              "#f0f921"
             ]
            ],
            "type": "contour"
           }
          ],
          "contourcarpet": [
           {
            "colorbar": {
             "outlinewidth": 0,
             "ticks": ""
            },
            "type": "contourcarpet"
           }
          ],
          "heatmap": [
           {
            "colorbar": {
             "outlinewidth": 0,
             "ticks": ""
            },
            "colorscale": [
             [
              0,
              "#0d0887"
             ],
             [
              0.1111111111111111,
              "#46039f"
             ],
             [
              0.2222222222222222,
              "#7201a8"
             ],
             [
              0.3333333333333333,
              "#9c179e"
             ],
             [
              0.4444444444444444,
              "#bd3786"
             ],
             [
              0.5555555555555556,
              "#d8576b"
             ],
             [
              0.6666666666666666,
              "#ed7953"
             ],
             [
              0.7777777777777778,
              "#fb9f3a"
             ],
             [
              0.8888888888888888,
              "#fdca26"
             ],
             [
              1,
              "#f0f921"
             ]
            ],
            "type": "heatmap"
           }
          ],
          "heatmapgl": [
           {
            "colorbar": {
             "outlinewidth": 0,
             "ticks": ""
            },
            "colorscale": [
             [
              0,
              "#0d0887"
             ],
             [
              0.1111111111111111,
              "#46039f"
             ],
             [
              0.2222222222222222,
              "#7201a8"
             ],
             [
              0.3333333333333333,
              "#9c179e"
             ],
             [
              0.4444444444444444,
              "#bd3786"
             ],
             [
              0.5555555555555556,
              "#d8576b"
             ],
             [
              0.6666666666666666,
              "#ed7953"
             ],
             [
              0.7777777777777778,
              "#fb9f3a"
             ],
             [
              0.8888888888888888,
              "#fdca26"
             ],
             [
              1,
              "#f0f921"
             ]
            ],
            "type": "heatmapgl"
           }
          ],
          "histogram": [
           {
            "marker": {
             "pattern": {
              "fillmode": "overlay",
              "size": 10,
              "solidity": 0.2
             }
            },
            "type": "histogram"
           }
          ],
          "histogram2d": [
           {
            "colorbar": {
             "outlinewidth": 0,
             "ticks": ""
            },
            "colorscale": [
             [
              0,
              "#0d0887"
             ],
             [
              0.1111111111111111,
              "#46039f"
             ],
             [
              0.2222222222222222,
              "#7201a8"
             ],
             [
              0.3333333333333333,
              "#9c179e"
             ],
             [
              0.4444444444444444,
              "#bd3786"
             ],
             [
              0.5555555555555556,
              "#d8576b"
             ],
             [
              0.6666666666666666,
              "#ed7953"
             ],
             [
              0.7777777777777778,
              "#fb9f3a"
             ],
             [
              0.8888888888888888,
              "#fdca26"
             ],
             [
              1,
              "#f0f921"
             ]
            ],
            "type": "histogram2d"
           }
          ],
          "histogram2dcontour": [
           {
            "colorbar": {
             "outlinewidth": 0,
             "ticks": ""
            },
            "colorscale": [
             [
              0,
              "#0d0887"
             ],
             [
              0.1111111111111111,
              "#46039f"
             ],
             [
              0.2222222222222222,
              "#7201a8"
             ],
             [
              0.3333333333333333,
              "#9c179e"
             ],
             [
              0.4444444444444444,
              "#bd3786"
             ],
             [
              0.5555555555555556,
              "#d8576b"
             ],
             [
              0.6666666666666666,
              "#ed7953"
             ],
             [
              0.7777777777777778,
              "#fb9f3a"
             ],
             [
              0.8888888888888888,
              "#fdca26"
             ],
             [
              1,
              "#f0f921"
             ]
            ],
            "type": "histogram2dcontour"
           }
          ],
          "mesh3d": [
           {
            "colorbar": {
             "outlinewidth": 0,
             "ticks": ""
            },
            "type": "mesh3d"
           }
          ],
          "parcoords": [
           {
            "line": {
             "colorbar": {
              "outlinewidth": 0,
              "ticks": ""
             }
            },
            "type": "parcoords"
           }
          ],
          "pie": [
           {
            "automargin": true,
            "type": "pie"
           }
          ],
          "scatter": [
           {
            "fillpattern": {
             "fillmode": "overlay",
             "size": 10,
             "solidity": 0.2
            },
            "type": "scatter"
           }
          ],
          "scatter3d": [
           {
            "line": {
             "colorbar": {
              "outlinewidth": 0,
              "ticks": ""
             }
            },
            "marker": {
             "colorbar": {
              "outlinewidth": 0,
              "ticks": ""
             }
            },
            "type": "scatter3d"
           }
          ],
          "scattercarpet": [
           {
            "marker": {
             "colorbar": {
              "outlinewidth": 0,
              "ticks": ""
             }
            },
            "type": "scattercarpet"
           }
          ],
          "scattergeo": [
           {
            "marker": {
             "colorbar": {
              "outlinewidth": 0,
              "ticks": ""
             }
            },
            "type": "scattergeo"
           }
          ],
          "scattergl": [
           {
            "marker": {
             "colorbar": {
              "outlinewidth": 0,
              "ticks": ""
             }
            },
            "type": "scattergl"
           }
          ],
          "scattermapbox": [
           {
            "marker": {
             "colorbar": {
              "outlinewidth": 0,
              "ticks": ""
             }
            },
            "type": "scattermapbox"
           }
          ],
          "scatterpolar": [
           {
            "marker": {
             "colorbar": {
              "outlinewidth": 0,
              "ticks": ""
             }
            },
            "type": "scatterpolar"
           }
          ],
          "scatterpolargl": [
           {
            "marker": {
             "colorbar": {
              "outlinewidth": 0,
              "ticks": ""
             }
            },
            "type": "scatterpolargl"
           }
          ],
          "scatterternary": [
           {
            "marker": {
             "colorbar": {
              "outlinewidth": 0,
              "ticks": ""
             }
            },
            "type": "scatterternary"
           }
          ],
          "surface": [
           {
            "colorbar": {
             "outlinewidth": 0,
             "ticks": ""
            },
            "colorscale": [
             [
              0,
              "#0d0887"
             ],
             [
              0.1111111111111111,
              "#46039f"
             ],
             [
              0.2222222222222222,
              "#7201a8"
             ],
             [
              0.3333333333333333,
              "#9c179e"
             ],
             [
              0.4444444444444444,
              "#bd3786"
             ],
             [
              0.5555555555555556,
              "#d8576b"
             ],
             [
              0.6666666666666666,
              "#ed7953"
             ],
             [
              0.7777777777777778,
              "#fb9f3a"
             ],
             [
              0.8888888888888888,
              "#fdca26"
             ],
             [
              1,
              "#f0f921"
             ]
            ],
            "type": "surface"
           }
          ],
          "table": [
           {
            "cells": {
             "fill": {
              "color": "#EBF0F8"
             },
             "line": {
              "color": "white"
             }
            },
            "header": {
             "fill": {
              "color": "#C8D4E3"
             },
             "line": {
              "color": "white"
             }
            },
            "type": "table"
           }
          ]
         },
         "layout": {
          "annotationdefaults": {
           "arrowcolor": "#2a3f5f",
           "arrowhead": 0,
           "arrowwidth": 1
          },
          "autotypenumbers": "strict",
          "coloraxis": {
           "colorbar": {
            "outlinewidth": 0,
            "ticks": ""
           }
          },
          "colorscale": {
           "diverging": [
            [
             0,
             "#8e0152"
            ],
            [
             0.1,
             "#c51b7d"
            ],
            [
             0.2,
             "#de77ae"
            ],
            [
             0.3,
             "#f1b6da"
            ],
            [
             0.4,
             "#fde0ef"
            ],
            [
             0.5,
             "#f7f7f7"
            ],
            [
             0.6,
             "#e6f5d0"
            ],
            [
             0.7,
             "#b8e186"
            ],
            [
             0.8,
             "#7fbc41"
            ],
            [
             0.9,
             "#4d9221"
            ],
            [
             1,
             "#276419"
            ]
           ],
           "sequential": [
            [
             0,
             "#0d0887"
            ],
            [
             0.1111111111111111,
             "#46039f"
            ],
            [
             0.2222222222222222,
             "#7201a8"
            ],
            [
             0.3333333333333333,
             "#9c179e"
            ],
            [
             0.4444444444444444,
             "#bd3786"
            ],
            [
             0.5555555555555556,
             "#d8576b"
            ],
            [
             0.6666666666666666,
             "#ed7953"
            ],
            [
             0.7777777777777778,
             "#fb9f3a"
            ],
            [
             0.8888888888888888,
             "#fdca26"
            ],
            [
             1,
             "#f0f921"
            ]
           ],
           "sequentialminus": [
            [
             0,
             "#0d0887"
            ],
            [
             0.1111111111111111,
             "#46039f"
            ],
            [
             0.2222222222222222,
             "#7201a8"
            ],
            [
             0.3333333333333333,
             "#9c179e"
            ],
            [
             0.4444444444444444,
             "#bd3786"
            ],
            [
             0.5555555555555556,
             "#d8576b"
            ],
            [
             0.6666666666666666,
             "#ed7953"
            ],
            [
             0.7777777777777778,
             "#fb9f3a"
            ],
            [
             0.8888888888888888,
             "#fdca26"
            ],
            [
             1,
             "#f0f921"
            ]
           ]
          },
          "colorway": [
           "#636efa",
           "#EF553B",
           "#00cc96",
           "#ab63fa",
           "#FFA15A",
           "#19d3f3",
           "#FF6692",
           "#B6E880",
           "#FF97FF",
           "#FECB52"
          ],
          "font": {
           "color": "#2a3f5f"
          },
          "geo": {
           "bgcolor": "white",
           "lakecolor": "white",
           "landcolor": "#E5ECF6",
           "showlakes": true,
           "showland": true,
           "subunitcolor": "white"
          },
          "hoverlabel": {
           "align": "left"
          },
          "hovermode": "closest",
          "mapbox": {
           "style": "light"
          },
          "paper_bgcolor": "white",
          "plot_bgcolor": "#E5ECF6",
          "polar": {
           "angularaxis": {
            "gridcolor": "white",
            "linecolor": "white",
            "ticks": ""
           },
           "bgcolor": "#E5ECF6",
           "radialaxis": {
            "gridcolor": "white",
            "linecolor": "white",
            "ticks": ""
           }
          },
          "scene": {
           "xaxis": {
            "backgroundcolor": "#E5ECF6",
            "gridcolor": "white",
            "gridwidth": 2,
            "linecolor": "white",
            "showbackground": true,
            "ticks": "",
            "zerolinecolor": "white"
           },
           "yaxis": {
            "backgroundcolor": "#E5ECF6",
            "gridcolor": "white",
            "gridwidth": 2,
            "linecolor": "white",
            "showbackground": true,
            "ticks": "",
            "zerolinecolor": "white"
           },
           "zaxis": {
            "backgroundcolor": "#E5ECF6",
            "gridcolor": "white",
            "gridwidth": 2,
            "linecolor": "white",
            "showbackground": true,
            "ticks": "",
            "zerolinecolor": "white"
           }
          },
          "shapedefaults": {
           "line": {
            "color": "#2a3f5f"
           }
          },
          "ternary": {
           "aaxis": {
            "gridcolor": "white",
            "linecolor": "white",
            "ticks": ""
           },
           "baxis": {
            "gridcolor": "white",
            "linecolor": "white",
            "ticks": ""
           },
           "bgcolor": "#E5ECF6",
           "caxis": {
            "gridcolor": "white",
            "linecolor": "white",
            "ticks": ""
           }
          },
          "title": {
           "x": 0.05
          },
          "xaxis": {
           "automargin": true,
           "gridcolor": "white",
           "linecolor": "white",
           "ticks": "",
           "title": {
            "standoff": 15
           },
           "zerolinecolor": "white",
           "zerolinewidth": 2
          },
          "yaxis": {
           "automargin": true,
           "gridcolor": "white",
           "linecolor": "white",
           "ticks": "",
           "title": {
            "standoff": 15
           },
           "zerolinecolor": "white",
           "zerolinewidth": 2
          }
         }
        },
        "title": {
         "text": "Correlation of Missing Data Across Columns"
        },
        "xaxis": {
         "tickmode": "array",
         "ticktext": [
          "GeneralHealth_missing_indicator",
          "LastCheckupTime_missing_indicator",
          "PhysicalActivities_missing_indicator",
          "RemovedTeeth_missing_indicator",
          "HadHeartAttack_missing_indicator",
          "HadAngina_missing_indicator",
          "HadStroke_missing_indicator",
          "HadAsthma_missing_indicator",
          "HadSkinCancer_missing_indicator",
          "HadCOPD_missing_indicator",
          "HadDepressiveDisorder_missing_indicator",
          "HadKidneyDisease_missing_indicator",
          "HadArthritis_missing_indicator",
          "HadDiabetes_missing_indicator",
          "DeafOrHardOfHearing_missing_indicator",
          "BlindOrVisionDifficulty_missing_indicator",
          "DifficultyConcentrating_missing_indicator",
          "DifficultyWalking_missing_indicator",
          "DifficultyDressingBathing_missing_indicator",
          "DifficultyErrands_missing_indicator",
          "SmokerStatus_missing_indicator",
          "ECigaretteUsage_missing_indicator",
          "RaceEthnicityCategory_missing_indicator",
          "AgeCategory_missing_indicator",
          "ChestScan_missing_indicator",
          "AlcoholDrinkers_missing_indicator",
          "HIVTesting_missing_indicator",
          "FluVaxLast12_missing_indicator",
          "PneumoVaxEver_missing_indicator",
          "TetanusLast10Tdap_missing_indicator",
          "HighRiskLastYear_missing_indicator",
          "CovidPos_missing_indicator"
         ],
         "tickvals": [
          0,
          1,
          2,
          3,
          4,
          5,
          6,
          7,
          8,
          9,
          10,
          11,
          12,
          13,
          14,
          15,
          16,
          17,
          18,
          19,
          20,
          21,
          22,
          23,
          24,
          25,
          26,
          27,
          28,
          29,
          30,
          31
         ],
         "title": {
          "text": "Columns"
         }
        },
        "yaxis": {
         "tickmode": "array",
         "ticktext": [
          "GeneralHealth_missing_indicator",
          "LastCheckupTime_missing_indicator",
          "PhysicalActivities_missing_indicator",
          "RemovedTeeth_missing_indicator",
          "HadHeartAttack_missing_indicator",
          "HadAngina_missing_indicator",
          "HadStroke_missing_indicator",
          "HadAsthma_missing_indicator",
          "HadSkinCancer_missing_indicator",
          "HadCOPD_missing_indicator",
          "HadDepressiveDisorder_missing_indicator",
          "HadKidneyDisease_missing_indicator",
          "HadArthritis_missing_indicator",
          "HadDiabetes_missing_indicator",
          "DeafOrHardOfHearing_missing_indicator",
          "BlindOrVisionDifficulty_missing_indicator",
          "DifficultyConcentrating_missing_indicator",
          "DifficultyWalking_missing_indicator",
          "DifficultyDressingBathing_missing_indicator",
          "DifficultyErrands_missing_indicator",
          "SmokerStatus_missing_indicator",
          "ECigaretteUsage_missing_indicator",
          "RaceEthnicityCategory_missing_indicator",
          "AgeCategory_missing_indicator",
          "ChestScan_missing_indicator",
          "AlcoholDrinkers_missing_indicator",
          "HIVTesting_missing_indicator",
          "FluVaxLast12_missing_indicator",
          "PneumoVaxEver_missing_indicator",
          "TetanusLast10Tdap_missing_indicator",
          "HighRiskLastYear_missing_indicator",
          "CovidPos_missing_indicator"
         ],
         "tickvals": [
          0,
          1,
          2,
          3,
          4,
          5,
          6,
          7,
          8,
          9,
          10,
          11,
          12,
          13,
          14,
          15,
          16,
          17,
          18,
          19,
          20,
          21,
          22,
          23,
          24,
          25,
          26,
          27,
          28,
          29,
          30,
          31
         ],
         "title": {
          "text": "Columns"
         }
        }
       }
      }
     },
     "metadata": {},
     "output_type": "display_data"
    }
   ],
   "source": [
    "# Create a correlation matrix for missing data\n",
    "missing_corr = df[missing_indicator_cols].corr()\n",
    "\n",
    "# Create the heatmap using Plotly\n",
    "fig = go.Figure(data=go.Heatmap(\n",
    "    z=missing_corr.values,\n",
    "    x=missing_corr.columns,\n",
    "    y=missing_corr.index,\n",
    "    colorscale='Viridis',\n",
    "    colorbar=dict(title=\"Correlation Coefficient\"),\n",
    "))\n",
    "\n",
    "# Update layout for better styling\n",
    "fig.update_layout(\n",
    "    title=\"Correlation of Missing Data Across Columns\",\n",
    "    xaxis_title=\"Columns\",\n",
    "    yaxis_title=\"Columns\",\n",
    "    xaxis=dict(tickmode='array', tickvals=np.arange(len(missing_corr.columns)), ticktext=missing_corr.columns),\n",
    "    yaxis=dict(tickmode='array', tickvals=np.arange(len(missing_corr.index)), ticktext=missing_corr.index),\n",
    "    autosize=True,\n",
    "    height=600\n",
    ")\n",
    "\n",
    "# Show the plot\n",
    "fig.show()"
   ]
  },
  {
   "cell_type": "markdown",
   "metadata": {},
   "source": [
    "note how the missingness is not random. the heatmap has structure a sort of clustered missingness suggesting mb MAR or MNAR. "
   ]
  },
  {
   "cell_type": "markdown",
   "metadata": {},
   "source": []
  },
  {
   "cell_type": "markdown",
   "metadata": {},
   "source": []
  },
  {
   "cell_type": "code",
   "execution_count": 27,
   "metadata": {},
   "outputs": [],
   "source": [
    "df.to_csv('./dataset/Heart_explored.csv', index=False)"
   ]
  }
 ],
 "metadata": {
  "kernelspec": {
   "display_name": ".venv",
   "language": "python",
   "name": "python3"
  },
  "language_info": {
   "codemirror_mode": {
    "name": "ipython",
    "version": 3
   },
   "file_extension": ".py",
   "mimetype": "text/x-python",
   "name": "python",
   "nbconvert_exporter": "python",
   "pygments_lexer": "ipython3",
   "version": "3.12.4"
  }
 },
 "nbformat": 4,
 "nbformat_minor": 2
}
