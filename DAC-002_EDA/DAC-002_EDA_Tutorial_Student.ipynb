{
 "cells": [
  {
   "cell_type": "markdown",
   "metadata": {},
   "source": [
    "# EDA TUTORIAL STUDENT COPY"
   ]
  },
  {
   "cell_type": "markdown",
   "metadata": {},
   "source": [
    "## 1. Read CSV"
   ]
  },
  {
   "cell_type": "markdown",
   "metadata": {},
   "source": [
    "### Import libraries and .CSV file"
   ]
  },
  {
   "cell_type": "code",
   "execution_count": 1,
   "metadata": {},
   "outputs": [],
   "source": [
    "# ONLY if your Python Kernal does not have the relevant libraries installed\n",
    "# For MacOS, use !pip3\n",
    "# For Windows, use !pip or %pip\n",
    "\n",
    "# !pip3 install pandas\n",
    "# !pip3 install numpy\n",
    "# !pip3 install matplotlib.pyplot\n",
    "# !pip3 install seaborn"
   ]
  },
  {
   "cell_type": "code",
   "execution_count": 2,
   "metadata": {},
   "outputs": [],
   "source": [
    "# Import libraries\n",
    "import pandas as pd\n",
    "import numpy as np\n",
    "import matplotlib.pyplot as plt\n",
    "import seaborn as sns"
   ]
  },
  {
   "cell_type": "code",
   "execution_count": 3,
   "metadata": {},
   "outputs": [],
   "source": [
    "## Connect to your Netflix_Userbase.csv file on your Desktop / location you have saved the file at\n",
    "df = pd.read_csv('/Users/celestinesheum/Downloads/Netflix_Userbase.csv')"
   ]
  },
  {
   "cell_type": "markdown",
   "metadata": {},
   "source": [
    "### Preliminary checks on Dataframe"
   ]
  },
  {
   "cell_type": "code",
   "execution_count": 4,
   "metadata": {},
   "outputs": [
    {
     "data": {
      "text/html": [
       "<div>\n",
       "<style scoped>\n",
       "    .dataframe tbody tr th:only-of-type {\n",
       "        vertical-align: middle;\n",
       "    }\n",
       "\n",
       "    .dataframe tbody tr th {\n",
       "        vertical-align: top;\n",
       "    }\n",
       "\n",
       "    .dataframe thead th {\n",
       "        text-align: right;\n",
       "    }\n",
       "</style>\n",
       "<table border=\"1\" class=\"dataframe\">\n",
       "  <thead>\n",
       "    <tr style=\"text-align: right;\">\n",
       "      <th></th>\n",
       "      <th>User ID</th>\n",
       "      <th>Subscription Type</th>\n",
       "      <th>Monthly Revenue</th>\n",
       "      <th>Join Date</th>\n",
       "      <th>Last Payment Date</th>\n",
       "      <th>Country</th>\n",
       "      <th>Age</th>\n",
       "      <th>Gender</th>\n",
       "      <th>Device</th>\n",
       "      <th>Plan Duration</th>\n",
       "    </tr>\n",
       "  </thead>\n",
       "  <tbody>\n",
       "    <tr>\n",
       "      <th>0</th>\n",
       "      <td>1</td>\n",
       "      <td>Basic</td>\n",
       "      <td>10</td>\n",
       "      <td>15-01-22</td>\n",
       "      <td>10-06-23</td>\n",
       "      <td>United States</td>\n",
       "      <td>28</td>\n",
       "      <td>Male</td>\n",
       "      <td>Smartphone</td>\n",
       "      <td>1 Month</td>\n",
       "    </tr>\n",
       "    <tr>\n",
       "      <th>1</th>\n",
       "      <td>2</td>\n",
       "      <td>Premium</td>\n",
       "      <td>15</td>\n",
       "      <td>05-09-21</td>\n",
       "      <td>22-06-23</td>\n",
       "      <td>Canada</td>\n",
       "      <td>35</td>\n",
       "      <td>Female</td>\n",
       "      <td>Tablet</td>\n",
       "      <td>1 Month</td>\n",
       "    </tr>\n",
       "    <tr>\n",
       "      <th>2</th>\n",
       "      <td>3</td>\n",
       "      <td>Standard</td>\n",
       "      <td>12</td>\n",
       "      <td>28-02-23</td>\n",
       "      <td>27-06-23</td>\n",
       "      <td>United Kingdom</td>\n",
       "      <td>42</td>\n",
       "      <td>Male</td>\n",
       "      <td>Smart TV</td>\n",
       "      <td>1 Month</td>\n",
       "    </tr>\n",
       "    <tr>\n",
       "      <th>3</th>\n",
       "      <td>4</td>\n",
       "      <td>Standard</td>\n",
       "      <td>12</td>\n",
       "      <td>10-07-22</td>\n",
       "      <td>26-06-23</td>\n",
       "      <td>Australia</td>\n",
       "      <td>51</td>\n",
       "      <td>Female</td>\n",
       "      <td>Laptop</td>\n",
       "      <td>1 Month</td>\n",
       "    </tr>\n",
       "    <tr>\n",
       "      <th>4</th>\n",
       "      <td>5</td>\n",
       "      <td>Basic</td>\n",
       "      <td>10</td>\n",
       "      <td>01-05-23</td>\n",
       "      <td>28-06-23</td>\n",
       "      <td>Germany</td>\n",
       "      <td>33</td>\n",
       "      <td>Male</td>\n",
       "      <td>Smartphone</td>\n",
       "      <td>1 Month</td>\n",
       "    </tr>\n",
       "  </tbody>\n",
       "</table>\n",
       "</div>"
      ],
      "text/plain": [
       "   User ID Subscription Type  Monthly Revenue Join Date Last Payment Date  \\\n",
       "0        1             Basic               10  15-01-22          10-06-23   \n",
       "1        2           Premium               15  05-09-21          22-06-23   \n",
       "2        3          Standard               12  28-02-23          27-06-23   \n",
       "3        4          Standard               12  10-07-22          26-06-23   \n",
       "4        5             Basic               10  01-05-23          28-06-23   \n",
       "\n",
       "          Country  Age  Gender      Device Plan Duration  \n",
       "0   United States   28    Male  Smartphone       1 Month  \n",
       "1          Canada   35  Female      Tablet       1 Month  \n",
       "2  United Kingdom   42    Male    Smart TV       1 Month  \n",
       "3       Australia   51  Female      Laptop       1 Month  \n",
       "4         Germany   33    Male  Smartphone       1 Month  "
      ]
     },
     "execution_count": 4,
     "metadata": {},
     "output_type": "execute_result"
    }
   ],
   "source": [
    "## Check the first 5 rows\n",
    "df.head()"
   ]
  },
  {
   "cell_type": "code",
   "execution_count": 6,
   "metadata": {},
   "outputs": [
    {
     "data": {
      "text/html": [
       "<div>\n",
       "<style scoped>\n",
       "    .dataframe tbody tr th:only-of-type {\n",
       "        vertical-align: middle;\n",
       "    }\n",
       "\n",
       "    .dataframe tbody tr th {\n",
       "        vertical-align: top;\n",
       "    }\n",
       "\n",
       "    .dataframe thead th {\n",
       "        text-align: right;\n",
       "    }\n",
       "</style>\n",
       "<table border=\"1\" class=\"dataframe\">\n",
       "  <thead>\n",
       "    <tr style=\"text-align: right;\">\n",
       "      <th></th>\n",
       "      <th>User ID</th>\n",
       "      <th>Subscription Type</th>\n",
       "      <th>Monthly Revenue</th>\n",
       "      <th>Join Date</th>\n",
       "      <th>Last Payment Date</th>\n",
       "      <th>Country</th>\n",
       "      <th>Age</th>\n",
       "      <th>Gender</th>\n",
       "      <th>Device</th>\n",
       "      <th>Plan Duration</th>\n",
       "    </tr>\n",
       "  </thead>\n",
       "  <tbody>\n",
       "    <tr>\n",
       "      <th>2490</th>\n",
       "      <td>2491</td>\n",
       "      <td>Premium</td>\n",
       "      <td>13</td>\n",
       "      <td>18-07-22</td>\n",
       "      <td>11-07-23</td>\n",
       "      <td>France</td>\n",
       "      <td>41</td>\n",
       "      <td>Female</td>\n",
       "      <td>Smartphone</td>\n",
       "      <td>1 Month</td>\n",
       "    </tr>\n",
       "    <tr>\n",
       "      <th>2491</th>\n",
       "      <td>2492</td>\n",
       "      <td>Basic</td>\n",
       "      <td>14</td>\n",
       "      <td>19-07-22</td>\n",
       "      <td>12-07-23</td>\n",
       "      <td>Brazil</td>\n",
       "      <td>29</td>\n",
       "      <td>Female</td>\n",
       "      <td>Laptop</td>\n",
       "      <td>1 Month</td>\n",
       "    </tr>\n",
       "    <tr>\n",
       "      <th>2492</th>\n",
       "      <td>2493</td>\n",
       "      <td>Standard</td>\n",
       "      <td>11</td>\n",
       "      <td>20-07-22</td>\n",
       "      <td>11-07-23</td>\n",
       "      <td>Mexico</td>\n",
       "      <td>33</td>\n",
       "      <td>Male</td>\n",
       "      <td>Smart TV</td>\n",
       "      <td>1 Month</td>\n",
       "    </tr>\n",
       "    <tr>\n",
       "      <th>2493</th>\n",
       "      <td>2494</td>\n",
       "      <td>Premium</td>\n",
       "      <td>12</td>\n",
       "      <td>21-07-22</td>\n",
       "      <td>15-07-23</td>\n",
       "      <td>Spain</td>\n",
       "      <td>36</td>\n",
       "      <td>Male</td>\n",
       "      <td>Smart TV</td>\n",
       "      <td>1 Month</td>\n",
       "    </tr>\n",
       "    <tr>\n",
       "      <th>2494</th>\n",
       "      <td>2495</td>\n",
       "      <td>Basic</td>\n",
       "      <td>15</td>\n",
       "      <td>23-07-22</td>\n",
       "      <td>12-07-23</td>\n",
       "      <td>Italy</td>\n",
       "      <td>43</td>\n",
       "      <td>Female</td>\n",
       "      <td>Laptop</td>\n",
       "      <td>1 Month</td>\n",
       "    </tr>\n",
       "    <tr>\n",
       "      <th>2495</th>\n",
       "      <td>2496</td>\n",
       "      <td>Premium</td>\n",
       "      <td>14</td>\n",
       "      <td>25-07-22</td>\n",
       "      <td>12-07-23</td>\n",
       "      <td>Spain</td>\n",
       "      <td>28</td>\n",
       "      <td>Female</td>\n",
       "      <td>Smart TV</td>\n",
       "      <td>1 Month</td>\n",
       "    </tr>\n",
       "    <tr>\n",
       "      <th>2496</th>\n",
       "      <td>2497</td>\n",
       "      <td>Basic</td>\n",
       "      <td>15</td>\n",
       "      <td>04-08-22</td>\n",
       "      <td>14-07-23</td>\n",
       "      <td>Spain</td>\n",
       "      <td>33</td>\n",
       "      <td>Female</td>\n",
       "      <td>Smart TV</td>\n",
       "      <td>1 Month</td>\n",
       "    </tr>\n",
       "    <tr>\n",
       "      <th>2497</th>\n",
       "      <td>2498</td>\n",
       "      <td>Standard</td>\n",
       "      <td>12</td>\n",
       "      <td>09-08-22</td>\n",
       "      <td>15-07-23</td>\n",
       "      <td>United States</td>\n",
       "      <td>38</td>\n",
       "      <td>Male</td>\n",
       "      <td>Laptop</td>\n",
       "      <td>1 Month</td>\n",
       "    </tr>\n",
       "    <tr>\n",
       "      <th>2498</th>\n",
       "      <td>2499</td>\n",
       "      <td>Standard</td>\n",
       "      <td>13</td>\n",
       "      <td>12-08-22</td>\n",
       "      <td>12-07-23</td>\n",
       "      <td>Canada</td>\n",
       "      <td>48</td>\n",
       "      <td>Female</td>\n",
       "      <td>Tablet</td>\n",
       "      <td>1 Month</td>\n",
       "    </tr>\n",
       "    <tr>\n",
       "      <th>2499</th>\n",
       "      <td>2500</td>\n",
       "      <td>Basic</td>\n",
       "      <td>15</td>\n",
       "      <td>13-08-22</td>\n",
       "      <td>12-07-23</td>\n",
       "      <td>United States</td>\n",
       "      <td>35</td>\n",
       "      <td>Female</td>\n",
       "      <td>Smart TV</td>\n",
       "      <td>1 Month</td>\n",
       "    </tr>\n",
       "  </tbody>\n",
       "</table>\n",
       "</div>"
      ],
      "text/plain": [
       "      User ID Subscription Type  Monthly Revenue Join Date Last Payment Date  \\\n",
       "2490     2491           Premium               13  18-07-22          11-07-23   \n",
       "2491     2492             Basic               14  19-07-22          12-07-23   \n",
       "2492     2493          Standard               11  20-07-22          11-07-23   \n",
       "2493     2494           Premium               12  21-07-22          15-07-23   \n",
       "2494     2495             Basic               15  23-07-22          12-07-23   \n",
       "2495     2496           Premium               14  25-07-22          12-07-23   \n",
       "2496     2497             Basic               15  04-08-22          14-07-23   \n",
       "2497     2498          Standard               12  09-08-22          15-07-23   \n",
       "2498     2499          Standard               13  12-08-22          12-07-23   \n",
       "2499     2500             Basic               15  13-08-22          12-07-23   \n",
       "\n",
       "            Country  Age  Gender      Device Plan Duration  \n",
       "2490         France   41  Female  Smartphone       1 Month  \n",
       "2491         Brazil   29  Female      Laptop       1 Month  \n",
       "2492         Mexico   33    Male    Smart TV       1 Month  \n",
       "2493          Spain   36    Male    Smart TV       1 Month  \n",
       "2494          Italy   43  Female      Laptop       1 Month  \n",
       "2495          Spain   28  Female    Smart TV       1 Month  \n",
       "2496          Spain   33  Female    Smart TV       1 Month  \n",
       "2497  United States   38    Male      Laptop       1 Month  \n",
       "2498         Canada   48  Female      Tablet       1 Month  \n",
       "2499  United States   35  Female    Smart TV       1 Month  "
      ]
     },
     "execution_count": 6,
     "metadata": {},
     "output_type": "execute_result"
    }
   ],
   "source": [
    "## Check the last 10 rows (default .tail() without value inside will return last 5 rows)\n",
    "df.tail(10)"
   ]
  },
  {
   "cell_type": "code",
   "execution_count": 7,
   "metadata": {},
   "outputs": [
    {
     "name": "stdout",
     "output_type": "stream",
     "text": [
      "Index(['User ID', 'Subscription Type', 'Monthly Revenue', 'Join Date',\n",
      "       'Last Payment Date', 'Country', 'Age', 'Gender', 'Device',\n",
      "       'Plan Duration'],\n",
      "      dtype='object')\n"
     ]
    }
   ],
   "source": [
    "## Check what columns are in DataFrame (useful for large datasets with too many columns)\n",
    "print(df.columns)"
   ]
  },
  {
   "cell_type": "markdown",
   "metadata": {},
   "source": [
    "## 2. Read Data"
   ]
  },
  {
   "cell_type": "code",
   "execution_count": 8,
   "metadata": {},
   "outputs": [
    {
     "name": "stdout",
     "output_type": "stream",
     "text": [
      "['Basic' 'Premium' 'Standard']\n"
     ]
    }
   ],
   "source": [
    "## To see what types of subscriptions are available\n",
    "print(df['Subscription Type'].unique())"
   ]
  },
  {
   "cell_type": "code",
   "execution_count": 9,
   "metadata": {},
   "outputs": [
    {
     "name": "stdout",
     "output_type": "stream",
     "text": [
      "['1 Month']\n"
     ]
    }
   ],
   "source": [
    "## Monthly subscription? Yearly? \n",
    "print(df['Plan Duration'].unique())"
   ]
  },
  {
   "cell_type": "code",
   "execution_count": 10,
   "metadata": {},
   "outputs": [
    {
     "name": "stdout",
     "output_type": "stream",
     "text": [
      "[10 15 12 13 11 14]\n"
     ]
    }
   ],
   "source": [
    "## To see different subscription prices\n",
    "print(df['Monthly Revenue'].unique())"
   ]
  },
  {
   "cell_type": "code",
   "execution_count": 11,
   "metadata": {},
   "outputs": [
    {
     "name": "stdout",
     "output_type": "stream",
     "text": [
      "['United States' 'Canada' 'United Kingdom' 'Australia' 'Germany' 'France'\n",
      " 'Brazil' 'Mexico' 'Spain' 'Italy']\n"
     ]
    }
   ],
   "source": [
    "## Which countries are we looking at?\n",
    "print(df['Country'].unique())"
   ]
  },
  {
   "cell_type": "code",
   "execution_count": 12,
   "metadata": {},
   "outputs": [
    {
     "data": {
      "text/plain": [
       "User ID               int64\n",
       "Subscription Type    object\n",
       "Monthly Revenue       int64\n",
       "Join Date            object\n",
       "Last Payment Date    object\n",
       "Country              object\n",
       "Age                   int64\n",
       "Gender               object\n",
       "Device               object\n",
       "Plan Duration        object\n",
       "dtype: object"
      ]
     },
     "execution_count": 12,
     "metadata": {},
     "output_type": "execute_result"
    }
   ],
   "source": [
    "# Check what type of values are stored in the Dataframe columns\n",
    "df.dtypes"
   ]
  },
  {
   "cell_type": "code",
   "execution_count": 13,
   "metadata": {},
   "outputs": [
    {
     "data": {
      "text/plain": [
       "(2500, 10)"
      ]
     },
     "execution_count": 13,
     "metadata": {},
     "output_type": "execute_result"
    }
   ],
   "source": [
    "# Number of rows VS columns\n",
    "df.shape"
   ]
  },
  {
   "cell_type": "code",
   "execution_count": 15,
   "metadata": {},
   "outputs": [
    {
     "data": {
      "text/html": [
       "<div>\n",
       "<style scoped>\n",
       "    .dataframe tbody tr th:only-of-type {\n",
       "        vertical-align: middle;\n",
       "    }\n",
       "\n",
       "    .dataframe tbody tr th {\n",
       "        vertical-align: top;\n",
       "    }\n",
       "\n",
       "    .dataframe thead th {\n",
       "        text-align: right;\n",
       "    }\n",
       "</style>\n",
       "<table border=\"1\" class=\"dataframe\">\n",
       "  <thead>\n",
       "    <tr style=\"text-align: right;\">\n",
       "      <th></th>\n",
       "      <th>User ID</th>\n",
       "      <th>Monthly Revenue</th>\n",
       "      <th>Age</th>\n",
       "    </tr>\n",
       "  </thead>\n",
       "  <tbody>\n",
       "    <tr>\n",
       "      <th>count</th>\n",
       "      <td>2500.000</td>\n",
       "      <td>2500.000</td>\n",
       "      <td>2500.000</td>\n",
       "    </tr>\n",
       "    <tr>\n",
       "      <th>mean</th>\n",
       "      <td>1250.500</td>\n",
       "      <td>12.508</td>\n",
       "      <td>38.796</td>\n",
       "    </tr>\n",
       "    <tr>\n",
       "      <th>std</th>\n",
       "      <td>721.832</td>\n",
       "      <td>1.687</td>\n",
       "      <td>7.172</td>\n",
       "    </tr>\n",
       "    <tr>\n",
       "      <th>min</th>\n",
       "      <td>1.000</td>\n",
       "      <td>10.000</td>\n",
       "      <td>26.000</td>\n",
       "    </tr>\n",
       "    <tr>\n",
       "      <th>25%</th>\n",
       "      <td>625.750</td>\n",
       "      <td>11.000</td>\n",
       "      <td>32.000</td>\n",
       "    </tr>\n",
       "    <tr>\n",
       "      <th>50%</th>\n",
       "      <td>1250.500</td>\n",
       "      <td>12.000</td>\n",
       "      <td>39.000</td>\n",
       "    </tr>\n",
       "    <tr>\n",
       "      <th>75%</th>\n",
       "      <td>1875.250</td>\n",
       "      <td>14.000</td>\n",
       "      <td>45.000</td>\n",
       "    </tr>\n",
       "    <tr>\n",
       "      <th>max</th>\n",
       "      <td>2500.000</td>\n",
       "      <td>15.000</td>\n",
       "      <td>51.000</td>\n",
       "    </tr>\n",
       "  </tbody>\n",
       "</table>\n",
       "</div>"
      ],
      "text/plain": [
       "       User ID  Monthly Revenue      Age\n",
       "count 2500.000         2500.000 2500.000\n",
       "mean  1250.500           12.508   38.796\n",
       "std    721.832            1.687    7.172\n",
       "min      1.000           10.000   26.000\n",
       "25%    625.750           11.000   32.000\n",
       "50%   1250.500           12.000   39.000\n",
       "75%   1875.250           14.000   45.000\n",
       "max   2500.000           15.000   51.000"
      ]
     },
     "execution_count": 15,
     "metadata": {},
     "output_type": "execute_result"
    }
   ],
   "source": [
    "# Set the display options\n",
    "pd.options.display.float_format = '{:.3f}'.format # 3dp only\n",
    "\n",
    "## Utilise the built-in statistics tool .describe()\n",
    "df.describe()"
   ]
  },
  {
   "cell_type": "markdown",
   "metadata": {},
   "source": [
    "## 3. Clean Data"
   ]
  },
  {
   "cell_type": "code",
   "execution_count": 16,
   "metadata": {},
   "outputs": [
    {
     "data": {
      "text/plain": [
       "User ID              0\n",
       "Subscription Type    0\n",
       "Monthly Revenue      0\n",
       "Join Date            0\n",
       "Last Payment Date    0\n",
       "Country              0\n",
       "Age                  0\n",
       "Gender               0\n",
       "Device               0\n",
       "Plan Duration        0\n",
       "dtype: int64"
      ]
     },
     "execution_count": 16,
     "metadata": {},
     "output_type": "execute_result"
    }
   ],
   "source": [
    "## Check for null values i.e. empty cells in each column\n",
    "df.isnull().sum()"
   ]
  },
  {
   "cell_type": "code",
   "execution_count": 17,
   "metadata": {},
   "outputs": [
    {
     "name": "stdout",
     "output_type": "stream",
     "text": [
      "Number of duplicate rows:  (0, 10)\n"
     ]
    }
   ],
   "source": [
    "# Check the number of duplicate rows\n",
    "duplicate_rows_df = df[df.duplicated()]\n",
    "print(\"Number of duplicate rows: \", duplicate_rows_df.shape)"
   ]
  },
  {
   "cell_type": "markdown",
   "metadata": {},
   "source": [
    "So we have no null or duplicated data!"
   ]
  },
  {
   "cell_type": "markdown",
   "metadata": {},
   "source": [
    "### Reformatting the columns in our DataFrame"
   ]
  },
  {
   "cell_type": "code",
   "execution_count": 18,
   "metadata": {},
   "outputs": [
    {
     "data": {
      "text/html": [
       "<div>\n",
       "<style scoped>\n",
       "    .dataframe tbody tr th:only-of-type {\n",
       "        vertical-align: middle;\n",
       "    }\n",
       "\n",
       "    .dataframe tbody tr th {\n",
       "        vertical-align: top;\n",
       "    }\n",
       "\n",
       "    .dataframe thead th {\n",
       "        text-align: right;\n",
       "    }\n",
       "</style>\n",
       "<table border=\"1\" class=\"dataframe\">\n",
       "  <thead>\n",
       "    <tr style=\"text-align: right;\">\n",
       "      <th></th>\n",
       "      <th>User ID</th>\n",
       "      <th>Subscription Type</th>\n",
       "      <th>Monthly Revenue</th>\n",
       "      <th>Join Date</th>\n",
       "      <th>Last Payment Date</th>\n",
       "      <th>Country</th>\n",
       "      <th>Age</th>\n",
       "      <th>Gender</th>\n",
       "      <th>Device</th>\n",
       "      <th>Plan Duration</th>\n",
       "    </tr>\n",
       "  </thead>\n",
       "  <tbody>\n",
       "    <tr>\n",
       "      <th>0</th>\n",
       "      <td>1</td>\n",
       "      <td>Basic</td>\n",
       "      <td>10</td>\n",
       "      <td>15-01-22</td>\n",
       "      <td>10-06-23</td>\n",
       "      <td>United States</td>\n",
       "      <td>28</td>\n",
       "      <td>Male</td>\n",
       "      <td>Smartphone</td>\n",
       "      <td>1 Month</td>\n",
       "    </tr>\n",
       "    <tr>\n",
       "      <th>1</th>\n",
       "      <td>2</td>\n",
       "      <td>Premium</td>\n",
       "      <td>15</td>\n",
       "      <td>05-09-21</td>\n",
       "      <td>22-06-23</td>\n",
       "      <td>Canada</td>\n",
       "      <td>35</td>\n",
       "      <td>Female</td>\n",
       "      <td>Tablet</td>\n",
       "      <td>1 Month</td>\n",
       "    </tr>\n",
       "    <tr>\n",
       "      <th>2</th>\n",
       "      <td>3</td>\n",
       "      <td>Standard</td>\n",
       "      <td>12</td>\n",
       "      <td>28-02-23</td>\n",
       "      <td>27-06-23</td>\n",
       "      <td>United Kingdom</td>\n",
       "      <td>42</td>\n",
       "      <td>Male</td>\n",
       "      <td>Smart TV</td>\n",
       "      <td>1 Month</td>\n",
       "    </tr>\n",
       "    <tr>\n",
       "      <th>3</th>\n",
       "      <td>4</td>\n",
       "      <td>Standard</td>\n",
       "      <td>12</td>\n",
       "      <td>10-07-22</td>\n",
       "      <td>26-06-23</td>\n",
       "      <td>Australia</td>\n",
       "      <td>51</td>\n",
       "      <td>Female</td>\n",
       "      <td>Laptop</td>\n",
       "      <td>1 Month</td>\n",
       "    </tr>\n",
       "    <tr>\n",
       "      <th>4</th>\n",
       "      <td>5</td>\n",
       "      <td>Basic</td>\n",
       "      <td>10</td>\n",
       "      <td>01-05-23</td>\n",
       "      <td>28-06-23</td>\n",
       "      <td>Germany</td>\n",
       "      <td>33</td>\n",
       "      <td>Male</td>\n",
       "      <td>Smartphone</td>\n",
       "      <td>1 Month</td>\n",
       "    </tr>\n",
       "  </tbody>\n",
       "</table>\n",
       "</div>"
      ],
      "text/plain": [
       "   User ID Subscription Type  Monthly Revenue Join Date Last Payment Date  \\\n",
       "0        1             Basic               10  15-01-22          10-06-23   \n",
       "1        2           Premium               15  05-09-21          22-06-23   \n",
       "2        3          Standard               12  28-02-23          27-06-23   \n",
       "3        4          Standard               12  10-07-22          26-06-23   \n",
       "4        5             Basic               10  01-05-23          28-06-23   \n",
       "\n",
       "          Country  Age  Gender      Device Plan Duration  \n",
       "0   United States   28    Male  Smartphone       1 Month  \n",
       "1          Canada   35  Female      Tablet       1 Month  \n",
       "2  United Kingdom   42    Male    Smart TV       1 Month  \n",
       "3       Australia   51  Female      Laptop       1 Month  \n",
       "4         Germany   33    Male  Smartphone       1 Month  "
      ]
     },
     "execution_count": 18,
     "metadata": {},
     "output_type": "execute_result"
    }
   ],
   "source": [
    "# Check first 5 rows (for before/after comparison)\n",
    "df.head()"
   ]
  },
  {
   "cell_type": "code",
   "execution_count": 20,
   "metadata": {},
   "outputs": [],
   "source": [
    "# Convert ['... Date'] into YYYY-MM-DD format -> More uniform data -> Easier plotting -> Better analysis\n",
    "## Utilise the .to_datetime() function to format 'Join Date' & 'Last Payment Date' into YYYY-MM-DD datetime value\n",
    "df['Join Date'] = pd.to_datetime(df['Join Date'], format = '%d-%m-%y')\n",
    "df['Last Payment Date'] = pd.to_datetime(df['Last Payment Date'], format = '%d-%m-%y')\n",
    "\n",
    "# The 'format' argument shows how to intepret the date strings we provided\n",
    "# Pandas always stores the date internally as YYYY-MM-DD once date is stored as datetimelike value"
   ]
  },
  {
   "cell_type": "code",
   "execution_count": 21,
   "metadata": {},
   "outputs": [
    {
     "data": {
      "text/html": [
       "<div>\n",
       "<style scoped>\n",
       "    .dataframe tbody tr th:only-of-type {\n",
       "        vertical-align: middle;\n",
       "    }\n",
       "\n",
       "    .dataframe tbody tr th {\n",
       "        vertical-align: top;\n",
       "    }\n",
       "\n",
       "    .dataframe thead th {\n",
       "        text-align: right;\n",
       "    }\n",
       "</style>\n",
       "<table border=\"1\" class=\"dataframe\">\n",
       "  <thead>\n",
       "    <tr style=\"text-align: right;\">\n",
       "      <th></th>\n",
       "      <th>User ID</th>\n",
       "      <th>Subscription Type</th>\n",
       "      <th>Monthly Revenue</th>\n",
       "      <th>Join Date</th>\n",
       "      <th>Last Payment Date</th>\n",
       "      <th>Country</th>\n",
       "      <th>Age</th>\n",
       "      <th>Gender</th>\n",
       "      <th>Device</th>\n",
       "      <th>Plan Duration</th>\n",
       "    </tr>\n",
       "  </thead>\n",
       "  <tbody>\n",
       "    <tr>\n",
       "      <th>0</th>\n",
       "      <td>1</td>\n",
       "      <td>Basic</td>\n",
       "      <td>10</td>\n",
       "      <td>2022-01-15</td>\n",
       "      <td>2023-06-10</td>\n",
       "      <td>United States</td>\n",
       "      <td>28</td>\n",
       "      <td>Male</td>\n",
       "      <td>Smartphone</td>\n",
       "      <td>1 Month</td>\n",
       "    </tr>\n",
       "    <tr>\n",
       "      <th>1</th>\n",
       "      <td>2</td>\n",
       "      <td>Premium</td>\n",
       "      <td>15</td>\n",
       "      <td>2021-09-05</td>\n",
       "      <td>2023-06-22</td>\n",
       "      <td>Canada</td>\n",
       "      <td>35</td>\n",
       "      <td>Female</td>\n",
       "      <td>Tablet</td>\n",
       "      <td>1 Month</td>\n",
       "    </tr>\n",
       "    <tr>\n",
       "      <th>2</th>\n",
       "      <td>3</td>\n",
       "      <td>Standard</td>\n",
       "      <td>12</td>\n",
       "      <td>2023-02-28</td>\n",
       "      <td>2023-06-27</td>\n",
       "      <td>United Kingdom</td>\n",
       "      <td>42</td>\n",
       "      <td>Male</td>\n",
       "      <td>Smart TV</td>\n",
       "      <td>1 Month</td>\n",
       "    </tr>\n",
       "    <tr>\n",
       "      <th>3</th>\n",
       "      <td>4</td>\n",
       "      <td>Standard</td>\n",
       "      <td>12</td>\n",
       "      <td>2022-07-10</td>\n",
       "      <td>2023-06-26</td>\n",
       "      <td>Australia</td>\n",
       "      <td>51</td>\n",
       "      <td>Female</td>\n",
       "      <td>Laptop</td>\n",
       "      <td>1 Month</td>\n",
       "    </tr>\n",
       "    <tr>\n",
       "      <th>4</th>\n",
       "      <td>5</td>\n",
       "      <td>Basic</td>\n",
       "      <td>10</td>\n",
       "      <td>2023-05-01</td>\n",
       "      <td>2023-06-28</td>\n",
       "      <td>Germany</td>\n",
       "      <td>33</td>\n",
       "      <td>Male</td>\n",
       "      <td>Smartphone</td>\n",
       "      <td>1 Month</td>\n",
       "    </tr>\n",
       "  </tbody>\n",
       "</table>\n",
       "</div>"
      ],
      "text/plain": [
       "   User ID Subscription Type  Monthly Revenue  Join Date Last Payment Date  \\\n",
       "0        1             Basic               10 2022-01-15        2023-06-10   \n",
       "1        2           Premium               15 2021-09-05        2023-06-22   \n",
       "2        3          Standard               12 2023-02-28        2023-06-27   \n",
       "3        4          Standard               12 2022-07-10        2023-06-26   \n",
       "4        5             Basic               10 2023-05-01        2023-06-28   \n",
       "\n",
       "          Country  Age  Gender      Device Plan Duration  \n",
       "0   United States   28    Male  Smartphone       1 Month  \n",
       "1          Canada   35  Female      Tablet       1 Month  \n",
       "2  United Kingdom   42    Male    Smart TV       1 Month  \n",
       "3       Australia   51  Female      Laptop       1 Month  \n",
       "4         Germany   33    Male  Smartphone       1 Month  "
      ]
     },
     "execution_count": 21,
     "metadata": {},
     "output_type": "execute_result"
    }
   ],
   "source": [
    "# Check Dataframe if 'Join Date' and 'Last Payment Date' columns were reformatted\n",
    "df.head()"
   ]
  },
  {
   "cell_type": "markdown",
   "metadata": {},
   "source": [
    "## 4. Visualise Data"
   ]
  },
  {
   "cell_type": "markdown",
   "metadata": {},
   "source": [
    "### 4a. Sales per Month"
   ]
  },
  {
   "cell_type": "code",
   "execution_count": 23,
   "metadata": {},
   "outputs": [
    {
     "data": {
      "text/html": [
       "<div>\n",
       "<style scoped>\n",
       "    .dataframe tbody tr th:only-of-type {\n",
       "        vertical-align: middle;\n",
       "    }\n",
       "\n",
       "    .dataframe tbody tr th {\n",
       "        vertical-align: top;\n",
       "    }\n",
       "\n",
       "    .dataframe thead th {\n",
       "        text-align: right;\n",
       "    }\n",
       "</style>\n",
       "<table border=\"1\" class=\"dataframe\">\n",
       "  <thead>\n",
       "    <tr style=\"text-align: right;\">\n",
       "      <th></th>\n",
       "      <th>User ID</th>\n",
       "      <th>Subscription Type</th>\n",
       "      <th>Monthly Revenue</th>\n",
       "      <th>Join Date</th>\n",
       "      <th>Last Payment Date</th>\n",
       "      <th>Country</th>\n",
       "      <th>Age</th>\n",
       "      <th>Gender</th>\n",
       "      <th>Device</th>\n",
       "      <th>Plan Duration</th>\n",
       "      <th>Payment Year-Month</th>\n",
       "    </tr>\n",
       "  </thead>\n",
       "  <tbody>\n",
       "    <tr>\n",
       "      <th>0</th>\n",
       "      <td>1</td>\n",
       "      <td>Basic</td>\n",
       "      <td>10</td>\n",
       "      <td>2022-01-15</td>\n",
       "      <td>2023-06-10</td>\n",
       "      <td>United States</td>\n",
       "      <td>28</td>\n",
       "      <td>Male</td>\n",
       "      <td>Smartphone</td>\n",
       "      <td>1 Month</td>\n",
       "      <td>2023-06</td>\n",
       "    </tr>\n",
       "    <tr>\n",
       "      <th>1</th>\n",
       "      <td>2</td>\n",
       "      <td>Premium</td>\n",
       "      <td>15</td>\n",
       "      <td>2021-09-05</td>\n",
       "      <td>2023-06-22</td>\n",
       "      <td>Canada</td>\n",
       "      <td>35</td>\n",
       "      <td>Female</td>\n",
       "      <td>Tablet</td>\n",
       "      <td>1 Month</td>\n",
       "      <td>2023-06</td>\n",
       "    </tr>\n",
       "    <tr>\n",
       "      <th>2</th>\n",
       "      <td>3</td>\n",
       "      <td>Standard</td>\n",
       "      <td>12</td>\n",
       "      <td>2023-02-28</td>\n",
       "      <td>2023-06-27</td>\n",
       "      <td>United Kingdom</td>\n",
       "      <td>42</td>\n",
       "      <td>Male</td>\n",
       "      <td>Smart TV</td>\n",
       "      <td>1 Month</td>\n",
       "      <td>2023-06</td>\n",
       "    </tr>\n",
       "    <tr>\n",
       "      <th>3</th>\n",
       "      <td>4</td>\n",
       "      <td>Standard</td>\n",
       "      <td>12</td>\n",
       "      <td>2022-07-10</td>\n",
       "      <td>2023-06-26</td>\n",
       "      <td>Australia</td>\n",
       "      <td>51</td>\n",
       "      <td>Female</td>\n",
       "      <td>Laptop</td>\n",
       "      <td>1 Month</td>\n",
       "      <td>2023-06</td>\n",
       "    </tr>\n",
       "    <tr>\n",
       "      <th>4</th>\n",
       "      <td>5</td>\n",
       "      <td>Basic</td>\n",
       "      <td>10</td>\n",
       "      <td>2023-05-01</td>\n",
       "      <td>2023-06-28</td>\n",
       "      <td>Germany</td>\n",
       "      <td>33</td>\n",
       "      <td>Male</td>\n",
       "      <td>Smartphone</td>\n",
       "      <td>1 Month</td>\n",
       "      <td>2023-06</td>\n",
       "    </tr>\n",
       "  </tbody>\n",
       "</table>\n",
       "</div>"
      ],
      "text/plain": [
       "   User ID Subscription Type  Monthly Revenue  Join Date Last Payment Date  \\\n",
       "0        1             Basic               10 2022-01-15        2023-06-10   \n",
       "1        2           Premium               15 2021-09-05        2023-06-22   \n",
       "2        3          Standard               12 2023-02-28        2023-06-27   \n",
       "3        4          Standard               12 2022-07-10        2023-06-26   \n",
       "4        5             Basic               10 2023-05-01        2023-06-28   \n",
       "\n",
       "          Country  Age  Gender      Device Plan Duration Payment Year-Month  \n",
       "0   United States   28    Male  Smartphone       1 Month            2023-06  \n",
       "1          Canada   35  Female      Tablet       1 Month            2023-06  \n",
       "2  United Kingdom   42    Male    Smart TV       1 Month            2023-06  \n",
       "3       Australia   51  Female      Laptop       1 Month            2023-06  \n",
       "4         Germany   33    Male  Smartphone       1 Month            2023-06  "
      ]
     },
     "execution_count": 23,
     "metadata": {},
     "output_type": "execute_result"
    }
   ],
   "source": [
    "## Create a 'Payment Year-Month' column from 'Last Payment Date' column\n",
    "df['Payment Year-Month'] = df['Last Payment Date'].dt.to_period('M').astype(str)    # .dt.to_period('M') : show format until month\n",
    "df.head()"
   ]
  },
  {
   "cell_type": "code",
   "execution_count": 25,
   "metadata": {},
   "outputs": [
    {
     "data": {
      "image/png": "[encoded data removed]",
      "text/plain": [
       "<Figure size 1200x600 with 1 Axes>"
      ]
     },
     "metadata": {},
     "output_type": "display_data"
    }
   ],
   "source": [
    "## Group by 'Payment Year-Month' and sum the revenue\n",
    "monthly_revenue = df.groupby('Payment Year-Month')['Monthly Revenue'].sum().reset_index()\n",
    "\n",
    "## Convert 'Payment Year-Month' back to string for plotting purposes\n",
    "monthly_revenue['Payment Year-Month'] = monthly_revenue['Payment Year-Month'].astype(str)\n",
    "\n",
    "# Plotting the line chart for revenue over time\n",
    "plt.figure(figsize = (12, 6))\n",
    "sns.lineplot(x = 'Payment Year-Month', y = 'Monthly Revenue', data = monthly_revenue, marker = 'o', color = 'b')\n",
    "plt.title('Monthly Revenue Over Time', fontsize = 16)\n",
    "plt.xlabel('Year-Month of Payment', fontsize = 12)\n",
    "plt.ylabel('Total Monthly Revenue', fontsize = 12)\n",
    "plt.xticks(rotation = 45)  # Rotate x-axis labels for better readability\n",
    "plt.grid(True)\n",
    "plt.show()\n"
   ]
  },
  {
   "cell_type": "code",
   "execution_count": 26,
   "metadata": {},
   "outputs": [
    {
     "data": {
      "text/html": [
       "<div>\n",
       "<style scoped>\n",
       "    .dataframe tbody tr th:only-of-type {\n",
       "        vertical-align: middle;\n",
       "    }\n",
       "\n",
       "    .dataframe tbody tr th {\n",
       "        vertical-align: top;\n",
       "    }\n",
       "\n",
       "    .dataframe thead th {\n",
       "        text-align: right;\n",
       "    }\n",
       "</style>\n",
       "<table border=\"1\" class=\"dataframe\">\n",
       "  <thead>\n",
       "    <tr style=\"text-align: right;\">\n",
       "      <th></th>\n",
       "      <th>User ID</th>\n",
       "      <th>Subscription Type</th>\n",
       "      <th>Monthly Revenue</th>\n",
       "      <th>Join Date</th>\n",
       "      <th>Last Payment Date</th>\n",
       "      <th>Country</th>\n",
       "      <th>Age</th>\n",
       "      <th>Gender</th>\n",
       "      <th>Device</th>\n",
       "      <th>Plan Duration</th>\n",
       "      <th>Payment Year-Month</th>\n",
       "      <th>Join Year-Month</th>\n",
       "    </tr>\n",
       "  </thead>\n",
       "  <tbody>\n",
       "    <tr>\n",
       "      <th>0</th>\n",
       "      <td>1</td>\n",
       "      <td>Basic</td>\n",
       "      <td>10</td>\n",
       "      <td>2022-01-15</td>\n",
       "      <td>2023-06-10</td>\n",
       "      <td>United States</td>\n",
       "      <td>28</td>\n",
       "      <td>Male</td>\n",
       "      <td>Smartphone</td>\n",
       "      <td>1 Month</td>\n",
       "      <td>2023-06</td>\n",
       "      <td>2022-01</td>\n",
       "    </tr>\n",
       "    <tr>\n",
       "      <th>1</th>\n",
       "      <td>2</td>\n",
       "      <td>Premium</td>\n",
       "      <td>15</td>\n",
       "      <td>2021-09-05</td>\n",
       "      <td>2023-06-22</td>\n",
       "      <td>Canada</td>\n",
       "      <td>35</td>\n",
       "      <td>Female</td>\n",
       "      <td>Tablet</td>\n",
       "      <td>1 Month</td>\n",
       "      <td>2023-06</td>\n",
       "      <td>2021-09</td>\n",
       "    </tr>\n",
       "    <tr>\n",
       "      <th>2</th>\n",
       "      <td>3</td>\n",
       "      <td>Standard</td>\n",
       "      <td>12</td>\n",
       "      <td>2023-02-28</td>\n",
       "      <td>2023-06-27</td>\n",
       "      <td>United Kingdom</td>\n",
       "      <td>42</td>\n",
       "      <td>Male</td>\n",
       "      <td>Smart TV</td>\n",
       "      <td>1 Month</td>\n",
       "      <td>2023-06</td>\n",
       "      <td>2023-02</td>\n",
       "    </tr>\n",
       "    <tr>\n",
       "      <th>3</th>\n",
       "      <td>4</td>\n",
       "      <td>Standard</td>\n",
       "      <td>12</td>\n",
       "      <td>2022-07-10</td>\n",
       "      <td>2023-06-26</td>\n",
       "      <td>Australia</td>\n",
       "      <td>51</td>\n",
       "      <td>Female</td>\n",
       "      <td>Laptop</td>\n",
       "      <td>1 Month</td>\n",
       "      <td>2023-06</td>\n",
       "      <td>2022-07</td>\n",
       "    </tr>\n",
       "    <tr>\n",
       "      <th>4</th>\n",
       "      <td>5</td>\n",
       "      <td>Basic</td>\n",
       "      <td>10</td>\n",
       "      <td>2023-05-01</td>\n",
       "      <td>2023-06-28</td>\n",
       "      <td>Germany</td>\n",
       "      <td>33</td>\n",
       "      <td>Male</td>\n",
       "      <td>Smartphone</td>\n",
       "      <td>1 Month</td>\n",
       "      <td>2023-06</td>\n",
       "      <td>2023-05</td>\n",
       "    </tr>\n",
       "  </tbody>\n",
       "</table>\n",
       "</div>"
      ],
      "text/plain": [
       "   User ID Subscription Type  Monthly Revenue  Join Date Last Payment Date  \\\n",
       "0        1             Basic               10 2022-01-15        2023-06-10   \n",
       "1        2           Premium               15 2021-09-05        2023-06-22   \n",
       "2        3          Standard               12 2023-02-28        2023-06-27   \n",
       "3        4          Standard               12 2022-07-10        2023-06-26   \n",
       "4        5             Basic               10 2023-05-01        2023-06-28   \n",
       "\n",
       "          Country  Age  Gender      Device Plan Duration Payment Year-Month  \\\n",
       "0   United States   28    Male  Smartphone       1 Month            2023-06   \n",
       "1          Canada   35  Female      Tablet       1 Month            2023-06   \n",
       "2  United Kingdom   42    Male    Smart TV       1 Month            2023-06   \n",
       "3       Australia   51  Female      Laptop       1 Month            2023-06   \n",
       "4         Germany   33    Male  Smartphone       1 Month            2023-06   \n",
       "\n",
       "  Join Year-Month  \n",
       "0         2022-01  \n",
       "1         2021-09  \n",
       "2         2023-02  \n",
       "3         2022-07  \n",
       "4         2023-05  "
      ]
     },
     "execution_count": 26,
     "metadata": {},
     "output_type": "execute_result"
    }
   ],
   "source": [
    "## Create a 'Join Year-Month' column from 'Join Date' column\n",
    "df['Join Year-Month'] = df['Join Date'].dt.to_period('M').astype(str)\n",
    "df.head()"
   ]
  },
  {
   "cell_type": "code",
   "execution_count": 28,
   "metadata": {},
   "outputs": [
    {
     "data": {
      "image/png": "[encoded data removed]",
      "text/plain": [
       "<Figure size 1200x600 with 1 Axes>"
      ]
     },
     "metadata": {},
     "output_type": "display_data"
    }
   ],
   "source": [
    "## Group by 'Join Year-Month' and count the number of joins\n",
    "monthly_joins = df.groupby('Join Year-Month').size().reset_index(name = 'Number of Joins')\n",
    "\n",
    "# Convert 'Join Year-Month' back to string for plotting purposes\n",
    "monthly_joins['Join Year-Month'] = monthly_joins['Join Year-Month'].astype(str)\n",
    "\n",
    "# Plotting the Line Chart for User Joins over time\n",
    "plt.figure(figsize = (12, 6))\n",
    "sns.lineplot(x = 'Join Year-Month', y = 'Number of Joins', data = monthly_joins, marker = 'o', color = 'g')\n",
    "\n",
    "# Set the labels\n",
    "plt.title('User Joining Trend Over Time', fontsize = 16)\n",
    "plt.xlabel('Year-Month', fontsize = 12)\n",
    "plt.ylabel('Number of Joins', fontsize = 12)\n",
    "plt.xticks(rotation = 45)  # Rotate x-axis labels for better readability\n",
    "plt.grid(True)\n",
    "plt.show()\n"
   ]
  },
  {
   "cell_type": "markdown",
   "metadata": {},
   "source": [
    "### 4b. Most Popular Subscription Type"
   ]
  },
  {
   "cell_type": "code",
   "execution_count": 30,
   "metadata": {},
   "outputs": [
    {
     "data": {
      "image/png": "[encoded data removed]",
      "text/plain": [
       "<Figure size 800x500 with 1 Axes>"
      ]
     },
     "metadata": {},
     "output_type": "display_data"
    }
   ],
   "source": [
    "## Count of each Subscription Type\n",
    "subscription_counts = df['Subscription Type'].value_counts()\n",
    "\n",
    "# Bar Plot of the distribution\n",
    "plt.figure(figsize = (8,5))\n",
    "sns.barplot(x = subscription_counts.index, y = subscription_counts.values, hue = subscription_counts.values, palette = \"pastel\")\n",
    "# You may exclude the hue field, seaborn will auto assign your x variable to be your hue\n",
    "\n",
    "# Set the labels\n",
    "plt.title('Distribution of Subscription Types')\n",
    "plt.xlabel('Subscription Type')\n",
    "plt.ylabel('Count')\n",
    "plt.show()"
   ]
  },
  {
   "cell_type": "markdown",
   "metadata": {},
   "source": [
    "### 4c. Gender vs Subscription Type\n",
    "Which Gender prefers which Subscription -> How can we market our product towards the specific Gender?"
   ]
  },
  {
   "cell_type": "code",
   "execution_count": 32,
   "metadata": {},
   "outputs": [
    {
     "data": {
      "image/png": "[encoded data removed]",
      "text/plain": [
       "<Figure size 800x500 with 1 Axes>"
      ]
     },
     "metadata": {},
     "output_type": "display_data"
    }
   ],
   "source": [
    "## Count Plot of Subscription Type by Gender\n",
    "plt.figure(figsize = (8,5))\n",
    "sns.countplot(x = 'Subscription Type', hue = 'Gender', data = df, palette = 'Set3')\n",
    "\n",
    "# Set the labels\n",
    "plt.title('Subscription Type Distribution by Gender')\n",
    "plt.xlabel('Subscription Type')\n",
    "plt.ylabel('Count of Gender')\n",
    "plt.show()\n"
   ]
  },
  {
   "cell_type": "markdown",
   "metadata": {},
   "source": [
    "### 4d. Which Country uses Netflix more?"
   ]
  },
  {
   "cell_type": "code",
   "execution_count": 33,
   "metadata": {},
   "outputs": [
    {
     "data": {
      "image/png": "[encoded data removed]",
      "text/plain": [
       "<Figure size 800x800 with 1 Axes>"
      ]
     },
     "metadata": {},
     "output_type": "display_data"
    }
   ],
   "source": [
    "## Count the number of users per Country\n",
    "country_counts = df['Country'].value_counts()\n",
    "\n",
    "# Plot the Pie chart\n",
    "plt.figure(figsize = (8,8))\n",
    "plt.pie(country_counts, labels = country_counts.index, autopct = '%1.1f%%', startangle = 90, colors = sns.color_palette(\"Set3\", len(country_counts)))\n",
    "\n",
    "# Equal aspect ratio ensures that pie is drawn as a circle.\n",
    "plt.title('Proportion of Users by Country')\n",
    "plt.axis('equal')  \n",
    "plt.show()\n"
   ]
  },
  {
   "cell_type": "markdown",
   "metadata": {},
   "source": [
    "### 4d. Alternative Visualisation"
   ]
  },
  {
   "cell_type": "code",
   "execution_count": 34,
   "metadata": {},
   "outputs": [
    {
     "data": {
      "image/png": "[encoded data removed]",
      "text/plain": [
       "<Figure size 1200x600 with 1 Axes>"
      ]
     },
     "metadata": {},
     "output_type": "display_data"
    }
   ],
   "source": [
    "# Create a variable 'sum_users_by_country', grouping them by their 'Country' label, and counting the no. of User IDs\n",
    "sum_users_by_country = df.groupby('Country')['User ID'].count().reset_index()\n",
    "sum_users_by_country.rename(columns = {'User ID': 'User Count'}, inplace = True)\n",
    "\n",
    "# Plot the bar graph\n",
    "plt.figure(figsize = (12,6))\n",
    "sns.barplot(x = 'Country', y = 'User Count', data = sum_users_by_country, hue = 'Country', palette = 'Blues_d')\n",
    "\n",
    "# Set the labels\n",
    "plt.title('Sum of Users by Country')\n",
    "plt.xlabel('Country')\n",
    "plt.ylabel('Number of Users')\n",
    "plt.xticks(rotation=30) # Rotate the labels by 30 degrees\n",
    "plt.show()"
   ]
  },
  {
   "cell_type": "markdown",
   "metadata": {},
   "source": [
    "## 5. Additional Analysis: How much did we earn in Revenue?"
   ]
  },
  {
   "cell_type": "markdown",
   "metadata": {},
   "source": [
    "### Recall: What does our df DataFrame look like?"
   ]
  },
  {
   "cell_type": "code",
   "execution_count": 35,
   "metadata": {},
   "outputs": [
    {
     "data": {
      "text/html": [
       "<div>\n",
       "<style scoped>\n",
       "    .dataframe tbody tr th:only-of-type {\n",
       "        vertical-align: middle;\n",
       "    }\n",
       "\n",
       "    .dataframe tbody tr th {\n",
       "        vertical-align: top;\n",
       "    }\n",
       "\n",
       "    .dataframe thead th {\n",
       "        text-align: right;\n",
       "    }\n",
       "</style>\n",
       "<table border=\"1\" class=\"dataframe\">\n",
       "  <thead>\n",
       "    <tr style=\"text-align: right;\">\n",
       "      <th></th>\n",
       "      <th>User ID</th>\n",
       "      <th>Subscription Type</th>\n",
       "      <th>Monthly Revenue</th>\n",
       "      <th>Join Date</th>\n",
       "      <th>Last Payment Date</th>\n",
       "      <th>Country</th>\n",
       "      <th>Age</th>\n",
       "      <th>Gender</th>\n",
       "      <th>Device</th>\n",
       "      <th>Plan Duration</th>\n",
       "      <th>Payment Year-Month</th>\n",
       "      <th>Join Year-Month</th>\n",
       "    </tr>\n",
       "  </thead>\n",
       "  <tbody>\n",
       "    <tr>\n",
       "      <th>0</th>\n",
       "      <td>1</td>\n",
       "      <td>Basic</td>\n",
       "      <td>10</td>\n",
       "      <td>2022-01-15</td>\n",
       "      <td>2023-06-10</td>\n",
       "      <td>United States</td>\n",
       "      <td>28</td>\n",
       "      <td>Male</td>\n",
       "      <td>Smartphone</td>\n",
       "      <td>1 Month</td>\n",
       "      <td>2023-06</td>\n",
       "      <td>2022-01</td>\n",
       "    </tr>\n",
       "    <tr>\n",
       "      <th>1</th>\n",
       "      <td>2</td>\n",
       "      <td>Premium</td>\n",
       "      <td>15</td>\n",
       "      <td>2021-09-05</td>\n",
       "      <td>2023-06-22</td>\n",
       "      <td>Canada</td>\n",
       "      <td>35</td>\n",
       "      <td>Female</td>\n",
       "      <td>Tablet</td>\n",
       "      <td>1 Month</td>\n",
       "      <td>2023-06</td>\n",
       "      <td>2021-09</td>\n",
       "    </tr>\n",
       "    <tr>\n",
       "      <th>2</th>\n",
       "      <td>3</td>\n",
       "      <td>Standard</td>\n",
       "      <td>12</td>\n",
       "      <td>2023-02-28</td>\n",
       "      <td>2023-06-27</td>\n",
       "      <td>United Kingdom</td>\n",
       "      <td>42</td>\n",
       "      <td>Male</td>\n",
       "      <td>Smart TV</td>\n",
       "      <td>1 Month</td>\n",
       "      <td>2023-06</td>\n",
       "      <td>2023-02</td>\n",
       "    </tr>\n",
       "    <tr>\n",
       "      <th>3</th>\n",
       "      <td>4</td>\n",
       "      <td>Standard</td>\n",
       "      <td>12</td>\n",
       "      <td>2022-07-10</td>\n",
       "      <td>2023-06-26</td>\n",
       "      <td>Australia</td>\n",
       "      <td>51</td>\n",
       "      <td>Female</td>\n",
       "      <td>Laptop</td>\n",
       "      <td>1 Month</td>\n",
       "      <td>2023-06</td>\n",
       "      <td>2022-07</td>\n",
       "    </tr>\n",
       "    <tr>\n",
       "      <th>4</th>\n",
       "      <td>5</td>\n",
       "      <td>Basic</td>\n",
       "      <td>10</td>\n",
       "      <td>2023-05-01</td>\n",
       "      <td>2023-06-28</td>\n",
       "      <td>Germany</td>\n",
       "      <td>33</td>\n",
       "      <td>Male</td>\n",
       "      <td>Smartphone</td>\n",
       "      <td>1 Month</td>\n",
       "      <td>2023-06</td>\n",
       "      <td>2023-05</td>\n",
       "    </tr>\n",
       "  </tbody>\n",
       "</table>\n",
       "</div>"
      ],
      "text/plain": [
       "   User ID Subscription Type  Monthly Revenue  Join Date Last Payment Date  \\\n",
       "0        1             Basic               10 2022-01-15        2023-06-10   \n",
       "1        2           Premium               15 2021-09-05        2023-06-22   \n",
       "2        3          Standard               12 2023-02-28        2023-06-27   \n",
       "3        4          Standard               12 2022-07-10        2023-06-26   \n",
       "4        5             Basic               10 2023-05-01        2023-06-28   \n",
       "\n",
       "          Country  Age  Gender      Device Plan Duration Payment Year-Month  \\\n",
       "0   United States   28    Male  Smartphone       1 Month            2023-06   \n",
       "1          Canada   35  Female      Tablet       1 Month            2023-06   \n",
       "2  United Kingdom   42    Male    Smart TV       1 Month            2023-06   \n",
       "3       Australia   51  Female      Laptop       1 Month            2023-06   \n",
       "4         Germany   33    Male  Smartphone       1 Month            2023-06   \n",
       "\n",
       "  Join Year-Month  \n",
       "0         2022-01  \n",
       "1         2021-09  \n",
       "2         2023-02  \n",
       "3         2022-07  \n",
       "4         2023-05  "
      ]
     },
     "execution_count": 35,
     "metadata": {},
     "output_type": "execute_result"
    }
   ],
   "source": [
    "## Show first 5 rows of DataFrame\n",
    "df.head()\n"
   ]
  },
  {
   "cell_type": "markdown",
   "metadata": {},
   "source": [
    "### 5a. How much is our Total Revenue?"
   ]
  },
  {
   "cell_type": "code",
   "execution_count": 36,
   "metadata": {},
   "outputs": [
    {
     "name": "stdout",
     "output_type": "stream",
     "text": [
      "Total Revenue: $31271.00\n"
     ]
    }
   ],
   "source": [
    "# Assuming df is your DataFrame containing the relevant data\n",
    "total_revenue = df['Monthly Revenue'].sum()\n",
    "\n",
    "# Print Total Revenue to 2 decimal places\n",
    "print(f'Total Revenue: ${total_revenue:.2f}')"
   ]
  },
  {
   "cell_type": "markdown",
   "metadata": {},
   "source": [
    "### 5b. How much is our Monthly Revenue?"
   ]
  },
  {
   "cell_type": "code",
   "execution_count": 37,
   "metadata": {},
   "outputs": [
    {
     "name": "stdout",
     "output_type": "stream",
     "text": [
      "  Payment Year-Month  Monthly Revenue\n",
      "0            2023-06            10829\n",
      "1            2023-07            20442\n"
     ]
    }
   ],
   "source": [
    "# Group by 'Payment Year-Month' and sum the Revenue\n",
    "monthly_revenue = df.groupby('Payment Year-Month')['Monthly Revenue'].sum().reset_index()\n",
    "\n",
    "# Display the Monthly Revenue\n",
    "print(monthly_revenue)"
   ]
  },
  {
   "cell_type": "markdown",
   "metadata": {},
   "source": [
    "### 5c. Revenue per Subscription Pricing Tier\n",
    "Display in (1) a Text Table, or (2) a Bar Plot"
   ]
  },
  {
   "cell_type": "markdown",
   "metadata": {},
   "source": [
    "#### Method 1: Text Table"
   ]
  },
  {
   "cell_type": "code",
   "execution_count": 38,
   "metadata": {},
   "outputs": [
    {
     "data": {
      "text/html": [
       "<div>\n",
       "<style scoped>\n",
       "    .dataframe tbody tr th:only-of-type {\n",
       "        vertical-align: middle;\n",
       "    }\n",
       "\n",
       "    .dataframe tbody tr th {\n",
       "        vertical-align: top;\n",
       "    }\n",
       "\n",
       "    .dataframe thead th {\n",
       "        text-align: right;\n",
       "    }\n",
       "</style>\n",
       "<table border=\"1\" class=\"dataframe\">\n",
       "  <thead>\n",
       "    <tr style=\"text-align: right;\">\n",
       "      <th></th>\n",
       "      <th>Monthly Revenue</th>\n",
       "      <th>count</th>\n",
       "    </tr>\n",
       "  </thead>\n",
       "  <tbody>\n",
       "    <tr>\n",
       "      <th>0</th>\n",
       "      <td>12</td>\n",
       "      <td>455</td>\n",
       "    </tr>\n",
       "    <tr>\n",
       "      <th>1</th>\n",
       "      <td>14</td>\n",
       "      <td>431</td>\n",
       "    </tr>\n",
       "    <tr>\n",
       "      <th>2</th>\n",
       "      <td>13</td>\n",
       "      <td>418</td>\n",
       "    </tr>\n",
       "    <tr>\n",
       "      <th>3</th>\n",
       "      <td>10</td>\n",
       "      <td>409</td>\n",
       "    </tr>\n",
       "    <tr>\n",
       "      <th>4</th>\n",
       "      <td>15</td>\n",
       "      <td>399</td>\n",
       "    </tr>\n",
       "    <tr>\n",
       "      <th>5</th>\n",
       "      <td>11</td>\n",
       "      <td>388</td>\n",
       "    </tr>\n",
       "  </tbody>\n",
       "</table>\n",
       "</div>"
      ],
      "text/plain": [
       "   Monthly Revenue  count\n",
       "0               12    455\n",
       "1               14    431\n",
       "2               13    418\n",
       "3               10    409\n",
       "4               15    399\n",
       "5               11    388"
      ]
     },
     "execution_count": 38,
     "metadata": {},
     "output_type": "execute_result"
    }
   ],
   "source": [
    "# Create a variable called 'revenues', and utilise the functions .value_counts()\n",
    "revenues = df['Monthly Revenue'].value_counts().reset_index()\n",
    "\n",
    "# Call the function directly\n",
    "revenues"
   ]
  },
  {
   "cell_type": "markdown",
   "metadata": {},
   "source": [
    "#### Method 2: Bar Plot"
   ]
  },
  {
   "cell_type": "code",
   "execution_count": 39,
   "metadata": {},
   "outputs": [
    {
     "data": {
      "image/png": "[encoded data removed]",
      "text/plain": [
       "<Figure size 640x480 with 1 Axes>"
      ]
     },
     "metadata": {},
     "output_type": "display_data"
    }
   ],
   "source": [
    "# Set up a Bar Plot using Seaborn\n",
    "sns.barplot(\n",
    "    x = 'Monthly Revenue',  # Utilising the Column 'Monthly Revenue'\n",
    "    y = 'count',    # Kernals running Python 3.11 might throw an error here; switch to Python 3.9.6 or Python 3.12\n",
    "    data = revenues\n",
    ")\n",
    "\n",
    "barplot = sns.barplot()\n",
    "\n",
    "# Set the labels\n",
    "plt.xlabel('Revenue Pricing Tier')\n",
    "plt.ylabel('Number of Subcriptions')\n",
    "plt.title('Number of Subscriptons / Pricing Tier')\n",
    "\n",
    "# Add the exact total count above each bar\n",
    "for p in barplot.patches:\n",
    "    barplot.annotate(f'{int(p.get_height())}',  # Annotate with the height value\n",
    "                     (p.get_x() + p.get_width()/2., p.get_height()),  # Position on top of the bar\n",
    "                     ha = 'center', va = 'bottom',  # Center the text horizontally and place it just above the bar\n",
    "                     fontsize = 7, color = 'black',  # Set font size and color\n",
    "                     xytext = (0, 2),  # Offset the text slightly above the bar\n",
    "                     textcoords = 'offset points')\n",
    "\n",
    "plt.show()"
   ]
  },
  {
   "cell_type": "markdown",
   "metadata": {},
   "source": [
    "### Alternative to 5b. Monthly Revenue (Comment In/Out)"
   ]
  },
  {
   "cell_type": "code",
   "execution_count": 40,
   "metadata": {},
   "outputs": [
    {
     "name": "stdout",
     "output_type": "stream",
     "text": [
      "  Year-Month  Monthly Revenue\n",
      "0    2023-06            10829\n",
      "1    2023-07            20442\n"
     ]
    }
   ],
   "source": [
    "# # Ensure 'Last Payment Date' is in datetime format\n",
    "df['Last Payment Date'] = pd.to_datetime(df['Last Payment Date'])\n",
    "\n",
    "# # Create a new column for Year-Month (YYYY-MM)\n",
    "df['Year-Month'] = df['Last Payment Date'].dt.to_period('M')\n",
    "\n",
    "# # Group by 'Year-Month' and sum the revenue\n",
    "monthly_revenue = df.groupby('Year-Month')['Monthly Revenue'].sum().reset_index()\n",
    "\n",
    "# # Display the monthly revenue\n",
    "print(monthly_revenue)"
   ]
  }
 ],
 "metadata": {
  "kernelspec": {
   "display_name": "Python 3",
   "language": "python",
   "name": "python3"
  },
  "language_info": {
   "codemirror_mode": {
    "name": "ipython",
    "version": 3
   },
   "file_extension": ".py",
   "mimetype": "text/x-python",
   "name": "python",
   "nbconvert_exporter": "python",
   "pygments_lexer": "ipython3",
   "version": "3.12.4"
  }
 },
 "nbformat": 4,
 "nbformat_minor": 2
}
